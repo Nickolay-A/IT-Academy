{
 "cells": [
  {
   "cell_type": "code",
   "execution_count": 1,
   "id": "3349dbd2",
   "metadata": {},
   "outputs": [],
   "source": [
    "import numpy as np\n",
    "import pandas as pd\n",
    "import matplotlib.pyplot as plt\n",
    "import seaborn as sns\n",
    "\n",
    "from typing import Tuple, List, Set, Iterable, Dict, Any, Optional, Union, Callable\n",
    "from collections import Counter\n",
    "\n",
    "sns.set_style(\"darkgrid\")"
   ]
  },
  {
   "cell_type": "markdown",
   "id": "57a51149",
   "metadata": {},
   "source": [
    "# Data"
   ]
  },
  {
   "cell_type": "code",
   "execution_count": 2,
   "id": "1b1444a5",
   "metadata": {},
   "outputs": [
    {
     "data": {
      "text/html": [
       "<div>\n",
       "<style scoped>\n",
       "    .dataframe tbody tr th:only-of-type {\n",
       "        vertical-align: middle;\n",
       "    }\n",
       "\n",
       "    .dataframe tbody tr th {\n",
       "        vertical-align: top;\n",
       "    }\n",
       "\n",
       "    .dataframe thead th {\n",
       "        text-align: right;\n",
       "    }\n",
       "</style>\n",
       "<table border=\"1\" class=\"dataframe\">\n",
       "  <thead>\n",
       "    <tr style=\"text-align: right;\">\n",
       "      <th></th>\n",
       "      <th>id</th>\n",
       "      <th>customer_id</th>\n",
       "      <th>month</th>\n",
       "      <th>name</th>\n",
       "      <th>age</th>\n",
       "      <th>ssn</th>\n",
       "      <th>occupation</th>\n",
       "      <th>annual_income</th>\n",
       "      <th>monthly_inhand_salary</th>\n",
       "      <th>num_bank_accounts</th>\n",
       "      <th>...</th>\n",
       "      <th>credit_mix</th>\n",
       "      <th>outstanding_debt</th>\n",
       "      <th>credit_utilization_ratio</th>\n",
       "      <th>credit_history_age</th>\n",
       "      <th>payment_of_min_amount</th>\n",
       "      <th>total_emi_per_month</th>\n",
       "      <th>amount_invested_monthly</th>\n",
       "      <th>payment_behaviour</th>\n",
       "      <th>monthly_balance</th>\n",
       "      <th>credit_score</th>\n",
       "    </tr>\n",
       "  </thead>\n",
       "  <tbody>\n",
       "    <tr>\n",
       "      <th>0</th>\n",
       "      <td>0x1602</td>\n",
       "      <td>CUS_0xd40</td>\n",
       "      <td>January</td>\n",
       "      <td>Aaron Maashoh</td>\n",
       "      <td>23</td>\n",
       "      <td>821-00-0265</td>\n",
       "      <td>Scientist</td>\n",
       "      <td>19114.12</td>\n",
       "      <td>1824.843333</td>\n",
       "      <td>3</td>\n",
       "      <td>...</td>\n",
       "      <td>_</td>\n",
       "      <td>809.98</td>\n",
       "      <td>26.82262</td>\n",
       "      <td>22 Years and 1 Months</td>\n",
       "      <td>No</td>\n",
       "      <td>49.574949</td>\n",
       "      <td>80.41529543900253</td>\n",
       "      <td>High_spent_Small_value_payments</td>\n",
       "      <td>312.49408867943663</td>\n",
       "      <td>Good</td>\n",
       "    </tr>\n",
       "    <tr>\n",
       "      <th>1</th>\n",
       "      <td>0x1603</td>\n",
       "      <td>CUS_0xd40</td>\n",
       "      <td>February</td>\n",
       "      <td>Aaron Maashoh</td>\n",
       "      <td>23</td>\n",
       "      <td>821-00-0265</td>\n",
       "      <td>Scientist</td>\n",
       "      <td>19114.12</td>\n",
       "      <td>NaN</td>\n",
       "      <td>3</td>\n",
       "      <td>...</td>\n",
       "      <td>Good</td>\n",
       "      <td>809.98</td>\n",
       "      <td>31.94496</td>\n",
       "      <td>NaN</td>\n",
       "      <td>No</td>\n",
       "      <td>49.574949</td>\n",
       "      <td>118.28022162236736</td>\n",
       "      <td>Low_spent_Large_value_payments</td>\n",
       "      <td>284.62916249607184</td>\n",
       "      <td>Good</td>\n",
       "    </tr>\n",
       "  </tbody>\n",
       "</table>\n",
       "<p>2 rows × 28 columns</p>\n",
       "</div>"
      ],
      "text/plain": [
       "       id customer_id     month           name age          ssn occupation  \\\n",
       "0  0x1602   CUS_0xd40   January  Aaron Maashoh  23  821-00-0265  Scientist   \n",
       "1  0x1603   CUS_0xd40  February  Aaron Maashoh  23  821-00-0265  Scientist   \n",
       "\n",
       "  annual_income  monthly_inhand_salary  num_bank_accounts  ...  credit_mix  \\\n",
       "0      19114.12            1824.843333                  3  ...           _   \n",
       "1      19114.12                    NaN                  3  ...        Good   \n",
       "\n",
       "   outstanding_debt credit_utilization_ratio     credit_history_age  \\\n",
       "0            809.98                 26.82262  22 Years and 1 Months   \n",
       "1            809.98                 31.94496                    NaN   \n",
       "\n",
       "   payment_of_min_amount total_emi_per_month amount_invested_monthly  \\\n",
       "0                     No           49.574949       80.41529543900253   \n",
       "1                     No           49.574949      118.28022162236736   \n",
       "\n",
       "                 payment_behaviour     monthly_balance credit_score  \n",
       "0  High_spent_Small_value_payments  312.49408867943663         Good  \n",
       "1   Low_spent_Large_value_payments  284.62916249607184         Good  \n",
       "\n",
       "[2 rows x 28 columns]"
      ]
     },
     "execution_count": 2,
     "metadata": {},
     "output_type": "execute_result"
    }
   ],
   "source": [
    "df = pd.read_csv(\"data/credit_score.csv\", low_memory=False)\n",
    "df.columns = map(str.lower, df.columns)\n",
    "df.head(2)"
   ]
  },
  {
   "cell_type": "markdown",
   "id": "f4fe673f",
   "metadata": {},
   "source": [
    "---"
   ]
  },
  {
   "cell_type": "markdown",
   "id": "0e4f05b2",
   "metadata": {},
   "source": [
    "<div class=\"alert alert-info\">\n",
    "  <h1><center>Введение в `scikit-learn`</center></h1></div>"
   ]
  },
  {
   "cell_type": "markdown",
   "id": "73e6ea35",
   "metadata": {},
   "source": [
    "**Scikit-learn** - это библиотека, которая предоставляет богатый набор инструментов для подготовки данных и  решения широкого спектра задач машинного обучения.  \n",
    "  \n",
    "Основными преимуществами Scikit-learn являются:\n",
    "- Простота использования и понимания: библиотека имеет простой и понятный интерфейс, ставший де-факто стандартом в индустрии машинного обучения\n",
    "- Широкие возможности для предобработки данных: библиотека содержит инструменты для работы с различными типами данных и выполнения предварительной обработки данных перед обучением модели\n",
    "- Разнообразие алгоритмов: библиотека предоставляет широкий спектр алгоритмов машинного обучения, таких как SVM, деревья решений, KNN, KMeans и другие\n",
    "- Гибкость: Scikit-learn позволяет пользователю настроить параметры алгоритмов, что позволяет улучшить результаты модели\n",
    "- Оптимизированность: в большинстве случаев базовые настройки алгоритмов обеспечивают высокую стартовую эффективность\n",
    "- Высокая производительность: Scikit-learn использует библиотеки NumPy и SciPy, что обеспечивает быстрое выполнение вычислений\n",
    "- Мобильность: натренированные модели легко сохранять и загружать из файлов, что позволяет создавать модели в одной среде и разворачивать её в других окружениях"
   ]
  },
  {
   "cell_type": "markdown",
   "id": "e57a8e47",
   "metadata": {},
   "source": [
    "## Основные типы конструкций в `scikit-learn`:"
   ]
  },
  {
   "cell_type": "markdown",
   "id": "14c4d972",
   "metadata": {},
   "source": [
    "Большинство конструкций в `scikit-learn` наследуют от одного или нескольких из следующих классов:"
   ]
  },
  {
   "cell_type": "markdown",
   "id": "0de7bd72",
   "metadata": {},
   "source": [
    "- **Estimator**: озачает, что данный класс \"оценивает\" данные, т.е. умеет извлечь новую информацию из предоставленных данных. Данный этап реализуется при помощи метода **fit**, который принимает на вход аргументы *X*, *y* (опционально) и дополнительные параметры при необходимости:"
   ]
  },
  {
   "cell_type": "markdown",
   "id": "15733609",
   "metadata": {},
   "source": [
    "![numerical](images/estimator.png)"
   ]
  },
  {
   "cell_type": "markdown",
   "id": "4b0c4f4e",
   "metadata": {},
   "source": [
    "- **Transformer**: озачает, что данный класс преобразует входящие данные, и возвращает датасет того же или модифицированного размера (может измениться количество столбцов, изменение количества строк категорически не приветствуется).\n",
    "  \n",
    "Данный этап реализуется при помощи метода **transform**, который принимает на вход аргументы *X*, *y* (опционально) и дополнительные параметры при необходимости:"
   ]
  },
  {
   "cell_type": "markdown",
   "id": "d9b37b38",
   "metadata": {},
   "source": [
    "![numerical](images/transformer.png)"
   ]
  },
  {
   "cell_type": "markdown",
   "id": "60567bd8",
   "metadata": {},
   "source": [
    "- **Predictor**: озачает, что данный класс способен \"делать выводы\" из предоставленных данных.\n",
    "  \n",
    "Данный этап реализуется при помощи метода **predict**, который принимает на вход аргумент *X* и дополнительные параметры при необходимости. Также возможно (для задач классификации) вернуть не \"предсказания\", а вероятности для каждого из возможных классов:"
   ]
  },
  {
   "cell_type": "markdown",
   "id": "cfb678ee",
   "metadata": {},
   "source": [
    "![numerical](images/predictor.png)"
   ]
  },
  {
   "cell_type": "markdown",
   "id": "0366ad7d",
   "metadata": {},
   "source": [
    "Есть ещё множество дополнительных конструкций, которые дополняют и формируют структуру данной библиотеки.  \n",
    "  \n",
    "Также важно отметить, что множество из реализованных моделей являются комбинацией этих конструкций.  \n",
    "  \n",
    "Так, например, модель дерева решений сперва должна \"научится\" и построить дерево из предоставленных данных при помощи метода **fit** (и, таким образом, она будет являться `Estimator`), а на этапе **predict** она будет применять полученные \"знания\" на новых данных (значит, эта модель также является `Predictor`)."
   ]
  },
  {
   "cell_type": "markdown",
   "id": "4e433859",
   "metadata": {},
   "source": [
    "---"
   ]
  },
  {
   "cell_type": "markdown",
   "id": "b1543a03",
   "metadata": {},
   "source": [
    "<div class=\"alert alert-info\">\n",
    "  <h1><center>Feature Engineering</center></h1></div>"
   ]
  },
  {
   "cell_type": "markdown",
   "id": "03067ba6",
   "metadata": {},
   "source": [
    "# <center>Nones</center>"
   ]
  },
  {
   "cell_type": "markdown",
   "id": "3b6727d4",
   "metadata": {},
   "source": [
    "![numerical](images/nones.png)"
   ]
  },
  {
   "cell_type": "code",
   "execution_count": null,
   "id": "cd9c2564",
   "metadata": {},
   "outputs": [],
   "source": []
  },
  {
   "cell_type": "markdown",
   "id": "1bc62ea2",
   "metadata": {},
   "source": [
    "# Interpolation"
   ]
  },
  {
   "cell_type": "code",
   "execution_count": 8,
   "id": "8c8462e4",
   "metadata": {},
   "outputs": [
    {
     "data": {
      "text/html": [
       "<div>\n",
       "<style scoped>\n",
       "    .dataframe tbody tr th:only-of-type {\n",
       "        vertical-align: middle;\n",
       "    }\n",
       "\n",
       "    .dataframe tbody tr th {\n",
       "        vertical-align: top;\n",
       "    }\n",
       "\n",
       "    .dataframe thead th {\n",
       "        text-align: right;\n",
       "    }\n",
       "</style>\n",
       "<table border=\"1\" class=\"dataframe\">\n",
       "  <thead>\n",
       "    <tr style=\"text-align: right;\">\n",
       "      <th></th>\n",
       "      <th>monthly_inhand_salary</th>\n",
       "      <th>num_credit_inquiries</th>\n",
       "    </tr>\n",
       "  </thead>\n",
       "  <tbody>\n",
       "    <tr>\n",
       "      <th>0</th>\n",
       "      <td>1824.843333</td>\n",
       "      <td>4.0</td>\n",
       "    </tr>\n",
       "    <tr>\n",
       "      <th>1</th>\n",
       "      <td>NaN</td>\n",
       "      <td>4.0</td>\n",
       "    </tr>\n",
       "  </tbody>\n",
       "</table>\n",
       "</div>"
      ],
      "text/plain": [
       "   monthly_inhand_salary  num_credit_inquiries\n",
       "0            1824.843333                   4.0\n",
       "1                    NaN                   4.0"
      ]
     },
     "execution_count": 8,
     "metadata": {},
     "output_type": "execute_result"
    }
   ],
   "source": [
    "df[[\"monthly_inhand_salary\", \"num_credit_inquiries\"]].head(2)"
   ]
  },
  {
   "cell_type": "markdown",
   "id": "3b6b636e",
   "metadata": {},
   "source": [
    "#### Самостоятельная реализация"
   ]
  },
  {
   "cell_type": "code",
   "execution_count": 10,
   "id": "b3733220",
   "metadata": {},
   "outputs": [],
   "source": [
    "class InterpolationImputer:\n",
    "\n",
    "    def __init__(self, method: 'str' = 'linear'):\n",
    "        self.method = method\n",
    "\n",
    "    def fit(self, X: pd.DataFrame, **params):\n",
    "        return self\n",
    "\n",
    "    def transform(self, X: pd.DataFrame, **params) -> pd.DataFrame:\n",
    "        X = X.copy()\n",
    "        X = pd.concat(\n",
    "                        [\n",
    "                            feature_values.interpolate(method=self.method, limit_area=None)\n",
    "                            for feature_name, feature_values\n",
    "                            in  X.items()\n",
    "                        ],\n",
    "                        axis=1\n",
    "                    )\n",
    "        return X\n"
   ]
  },
  {
   "cell_type": "code",
   "execution_count": 12,
   "id": "886ee61f",
   "metadata": {},
   "outputs": [
    {
     "data": {
      "text/html": [
       "<div>\n",
       "<style scoped>\n",
       "    .dataframe tbody tr th:only-of-type {\n",
       "        vertical-align: middle;\n",
       "    }\n",
       "\n",
       "    .dataframe tbody tr th {\n",
       "        vertical-align: top;\n",
       "    }\n",
       "\n",
       "    .dataframe thead th {\n",
       "        text-align: right;\n",
       "    }\n",
       "</style>\n",
       "<table border=\"1\" class=\"dataframe\">\n",
       "  <thead>\n",
       "    <tr style=\"text-align: right;\">\n",
       "      <th></th>\n",
       "      <th>monthly_inhand_salary</th>\n",
       "      <th>num_credit_inquiries</th>\n",
       "    </tr>\n",
       "  </thead>\n",
       "  <tbody>\n",
       "    <tr>\n",
       "      <th>0</th>\n",
       "      <td>1824.843333</td>\n",
       "      <td>4.0</td>\n",
       "    </tr>\n",
       "    <tr>\n",
       "      <th>1</th>\n",
       "      <td>1824.843333</td>\n",
       "      <td>4.0</td>\n",
       "    </tr>\n",
       "  </tbody>\n",
       "</table>\n",
       "</div>"
      ],
      "text/plain": [
       "   monthly_inhand_salary  num_credit_inquiries\n",
       "0            1824.843333                   4.0\n",
       "1            1824.843333                   4.0"
      ]
     },
     "execution_count": 12,
     "metadata": {},
     "output_type": "execute_result"
    }
   ],
   "source": [
    "ii = InterpolationImputer()\n",
    "ii.transform(df[[\"monthly_inhand_salary\", \"num_credit_inquiries\"]]).head(2)"
   ]
  },
  {
   "cell_type": "markdown",
   "id": "5ae89d2a",
   "metadata": {},
   "source": [
    "#### Тот же трансформер, но работающий отдельно по каждой группе `groupby`:"
   ]
  },
  {
   "cell_type": "code",
   "execution_count": 26,
   "id": "887585f6",
   "metadata": {},
   "outputs": [],
   "source": [
    "class GroupbyInterpolationImputer:\n",
    "\n",
    "    def __init__(self, by: str, method: 'str' = 'linear'):\n",
    "        self.by = by\n",
    "        self.method = method\n",
    "\n",
    "    def fit(self, X: pd.DataFrame, **params):\n",
    "        return self\n",
    "\n",
    "    def transform(self, X: pd.DataFrame, **params) -> pd.DataFrame:\n",
    "        return pd.concat([\n",
    "                            InterpolationImputer(method=self.method).transform(X=group_df, **params)\n",
    "                            for group_name, group_df\n",
    "                            in  X.groupby(self.by, group_keys=False)\n",
    "                        ]).loc[X.index]\n"
   ]
  },
  {
   "cell_type": "code",
   "execution_count": 29,
   "id": "ff38bf13",
   "metadata": {},
   "outputs": [],
   "source": [
    "X = df[[\"customer_id\", \"monthly_inhand_salary\", \"num_credit_inquiries\"]]"
   ]
  },
  {
   "cell_type": "code",
   "execution_count": 30,
   "id": "4240b0e6",
   "metadata": {},
   "outputs": [
    {
     "data": {
      "text/html": [
       "<div>\n",
       "<style scoped>\n",
       "    .dataframe tbody tr th:only-of-type {\n",
       "        vertical-align: middle;\n",
       "    }\n",
       "\n",
       "    .dataframe tbody tr th {\n",
       "        vertical-align: top;\n",
       "    }\n",
       "\n",
       "    .dataframe thead th {\n",
       "        text-align: right;\n",
       "    }\n",
       "</style>\n",
       "<table border=\"1\" class=\"dataframe\">\n",
       "  <thead>\n",
       "    <tr style=\"text-align: right;\">\n",
       "      <th></th>\n",
       "      <th>customer_id</th>\n",
       "      <th>monthly_inhand_salary</th>\n",
       "      <th>num_credit_inquiries</th>\n",
       "    </tr>\n",
       "  </thead>\n",
       "  <tbody>\n",
       "    <tr>\n",
       "      <th>0</th>\n",
       "      <td>CUS_0xd40</td>\n",
       "      <td>1824.843333</td>\n",
       "      <td>4.0</td>\n",
       "    </tr>\n",
       "    <tr>\n",
       "      <th>1</th>\n",
       "      <td>CUS_0xd40</td>\n",
       "      <td>1824.843333</td>\n",
       "      <td>4.0</td>\n",
       "    </tr>\n",
       "  </tbody>\n",
       "</table>\n",
       "</div>"
      ],
      "text/plain": [
       "  customer_id  monthly_inhand_salary  num_credit_inquiries\n",
       "0   CUS_0xd40            1824.843333                   4.0\n",
       "1   CUS_0xd40            1824.843333                   4.0"
      ]
     },
     "execution_count": 30,
     "metadata": {},
     "output_type": "execute_result"
    }
   ],
   "source": [
    "gii = GroupbyInterpolationImputer(by=\"customer_id\")\n",
    "gii.transform(X).head(2)"
   ]
  },
  {
   "cell_type": "markdown",
   "id": "afa77dda",
   "metadata": {},
   "source": [
    "---"
   ]
  },
  {
   "cell_type": "markdown",
   "id": "e6357f5e",
   "metadata": {},
   "source": [
    "# <center>Extreme values</center>"
   ]
  },
  {
   "cell_type": "markdown",
   "id": "f9acea8f",
   "metadata": {},
   "source": [
    "![numerical](images/extreme.png)"
   ]
  },
  {
   "cell_type": "code",
   "execution_count": null,
   "id": "cdb37b6b",
   "metadata": {},
   "outputs": [],
   "source": []
  },
  {
   "cell_type": "markdown",
   "id": "6170ea9a",
   "metadata": {},
   "source": [
    "---"
   ]
  },
  {
   "cell_type": "markdown",
   "id": "588d24e6",
   "metadata": {},
   "source": [
    "# <center>Numerical Features</center>"
   ]
  },
  {
   "cell_type": "markdown",
   "id": "e7e7e3f6",
   "metadata": {},
   "source": [
    "![numerical](images/distribution.png)"
   ]
  },
  {
   "cell_type": "markdown",
   "id": "50466e5d",
   "metadata": {},
   "source": [
    "# Normalization (Min-Max scaler)"
   ]
  },
  {
   "cell_type": "code",
   "execution_count": 28,
   "id": "71824687",
   "metadata": {
    "scrolled": true
   },
   "outputs": [
    {
     "data": {
      "text/html": [
       "<div>\n",
       "<style scoped>\n",
       "    .dataframe tbody tr th:only-of-type {\n",
       "        vertical-align: middle;\n",
       "    }\n",
       "\n",
       "    .dataframe tbody tr th {\n",
       "        vertical-align: top;\n",
       "    }\n",
       "\n",
       "    .dataframe thead th {\n",
       "        text-align: right;\n",
       "    }\n",
       "</style>\n",
       "<table border=\"1\" class=\"dataframe\">\n",
       "  <thead>\n",
       "    <tr style=\"text-align: right;\">\n",
       "      <th></th>\n",
       "      <th>credit_utilization_ratio</th>\n",
       "      <th>monthly_inhand_salary</th>\n",
       "    </tr>\n",
       "  </thead>\n",
       "  <tbody>\n",
       "    <tr>\n",
       "      <th>0</th>\n",
       "      <td>26.82262</td>\n",
       "      <td>1824.843333</td>\n",
       "    </tr>\n",
       "    <tr>\n",
       "      <th>1</th>\n",
       "      <td>31.94496</td>\n",
       "      <td>NaN</td>\n",
       "    </tr>\n",
       "  </tbody>\n",
       "</table>\n",
       "</div>"
      ],
      "text/plain": [
       "   credit_utilization_ratio  monthly_inhand_salary\n",
       "0                  26.82262            1824.843333\n",
       "1                  31.94496                    NaN"
      ]
     },
     "execution_count": 28,
     "metadata": {},
     "output_type": "execute_result"
    }
   ],
   "source": [
    "df[[\"credit_utilization_ratio\", \"monthly_inhand_salary\"]].head(2)"
   ]
  },
  {
   "cell_type": "markdown",
   "id": "5f61f99b",
   "metadata": {},
   "source": [
    "#### Самостоятельная реализация"
   ]
  },
  {
   "cell_type": "code",
   "execution_count": 30,
   "id": "d4c6cdcc",
   "metadata": {},
   "outputs": [],
   "source": [
    "class CustomMinMaxScaler:\n",
    "\n",
    "    def __init__(self):\n",
    "        self.mins: pd.Series\n",
    "        self.maxs: pd.Series\n",
    "\n",
    "    def fit(self, X: pd.DataFrame, y=None, **params):\n",
    "        self.mins = X.min(axis=0)\n",
    "        self.maxs = X.max(axis=0)\n",
    "        return self\n",
    "\n",
    "    def transform(self, X: pd.DataFrame, **params) -> pd.DataFrame:\n",
    "        X = X.copy()\n",
    "        X = (X - self.mins) / (self.maxs - self.mins)\n",
    "        return X\n",
    "        \n",
    "    def fit_transform(self, X: pd.DataFrame, y=None, **params) -> pd.DataFrame:\n",
    "        return self.fit(X, y, **params).transform(X, **params)"
   ]
  },
  {
   "cell_type": "code",
   "execution_count": 31,
   "id": "351a628c",
   "metadata": {},
   "outputs": [
    {
     "data": {
      "text/html": [
       "<div>\n",
       "<style scoped>\n",
       "    .dataframe tbody tr th:only-of-type {\n",
       "        vertical-align: middle;\n",
       "    }\n",
       "\n",
       "    .dataframe tbody tr th {\n",
       "        vertical-align: top;\n",
       "    }\n",
       "\n",
       "    .dataframe thead th {\n",
       "        text-align: right;\n",
       "    }\n",
       "</style>\n",
       "<table border=\"1\" class=\"dataframe\">\n",
       "  <thead>\n",
       "    <tr style=\"text-align: right;\">\n",
       "      <th></th>\n",
       "      <th>credit_utilization_ratio</th>\n",
       "      <th>monthly_inhand_salary</th>\n",
       "    </tr>\n",
       "  </thead>\n",
       "  <tbody>\n",
       "    <tr>\n",
       "      <th>0</th>\n",
       "      <td>0.223586</td>\n",
       "      <td>0.0</td>\n",
       "    </tr>\n",
       "    <tr>\n",
       "      <th>1</th>\n",
       "      <td>0.490862</td>\n",
       "      <td>NaN</td>\n",
       "    </tr>\n",
       "  </tbody>\n",
       "</table>\n",
       "</div>"
      ],
      "text/plain": [
       "   credit_utilization_ratio  monthly_inhand_salary\n",
       "0                  0.223586                    0.0\n",
       "1                  0.490862                    NaN"
      ]
     },
     "execution_count": 31,
     "metadata": {},
     "output_type": "execute_result"
    }
   ],
   "source": [
    "custom_mms = CustomMinMaxScaler()\n",
    "custom_mms.fit(df[[\"credit_utilization_ratio\", \"monthly_inhand_salary\"]].head(30))\n",
    "custom_mms.transform(df[[\"credit_utilization_ratio\", \"monthly_inhand_salary\"]]).head(2)"
   ]
  },
  {
   "cell_type": "markdown",
   "id": "339a8bf1",
   "metadata": {},
   "source": [
    "#### Класс scikit-learn"
   ]
  },
  {
   "cell_type": "code",
   "execution_count": 32,
   "id": "29b119ac",
   "metadata": {},
   "outputs": [],
   "source": [
    "from sklearn.preprocessing import MinMaxScaler"
   ]
  },
  {
   "cell_type": "code",
   "execution_count": 33,
   "id": "4c562871",
   "metadata": {},
   "outputs": [],
   "source": [
    "mms = MinMaxScaler(feature_range=(0, 1), clip=True).set_output(transform=\"pandas\")"
   ]
  },
  {
   "cell_type": "code",
   "execution_count": 35,
   "id": "b316ccd8",
   "metadata": {},
   "outputs": [
    {
     "data": {
      "text/html": [
       "<div>\n",
       "<style scoped>\n",
       "    .dataframe tbody tr th:only-of-type {\n",
       "        vertical-align: middle;\n",
       "    }\n",
       "\n",
       "    .dataframe tbody tr th {\n",
       "        vertical-align: top;\n",
       "    }\n",
       "\n",
       "    .dataframe thead th {\n",
       "        text-align: right;\n",
       "    }\n",
       "</style>\n",
       "<table border=\"1\" class=\"dataframe\">\n",
       "  <thead>\n",
       "    <tr style=\"text-align: right;\">\n",
       "      <th></th>\n",
       "      <th>credit_utilization_ratio</th>\n",
       "      <th>monthly_inhand_salary</th>\n",
       "    </tr>\n",
       "  </thead>\n",
       "  <tbody>\n",
       "    <tr>\n",
       "      <th>0</th>\n",
       "      <td>0.223586</td>\n",
       "      <td>0.0</td>\n",
       "    </tr>\n",
       "    <tr>\n",
       "      <th>1</th>\n",
       "      <td>0.490862</td>\n",
       "      <td>NaN</td>\n",
       "    </tr>\n",
       "  </tbody>\n",
       "</table>\n",
       "</div>"
      ],
      "text/plain": [
       "   credit_utilization_ratio  monthly_inhand_salary\n",
       "0                  0.223586                    0.0\n",
       "1                  0.490862                    NaN"
      ]
     },
     "execution_count": 35,
     "metadata": {},
     "output_type": "execute_result"
    }
   ],
   "source": [
    "mms.fit_transform(df[[\"credit_utilization_ratio\", \"monthly_inhand_salary\"]].head(30)).head(2)"
   ]
  },
  {
   "cell_type": "markdown",
   "id": "921f3770",
   "metadata": {},
   "source": [
    "Атрибуты, выученные на этапе `fit`:"
   ]
  },
  {
   "cell_type": "code",
   "execution_count": 38,
   "id": "1653b87c",
   "metadata": {},
   "outputs": [
    {
     "data": {
      "text/plain": [
       "(array([   19.16498039, 10362.37666667]),\n",
       " array([  22.53759303, 1824.84333333]),\n",
       " array([   41.70257342, 12187.22      ]))"
      ]
     },
     "execution_count": 38,
     "metadata": {},
     "output_type": "execute_result"
    }
   ],
   "source": [
    "mms.data_range_, mms.data_min_, mms.data_max_"
   ]
  },
  {
   "cell_type": "markdown",
   "id": "e76e9d2f",
   "metadata": {},
   "source": [
    "---"
   ]
  },
  {
   "cell_type": "markdown",
   "id": "a4c0f111",
   "metadata": {},
   "source": [
    "# <center>Categorical Features</center>"
   ]
  },
  {
   "cell_type": "markdown",
   "id": "995cd0a7",
   "metadata": {},
   "source": [
    "![numerical](images/encoding.png)"
   ]
  },
  {
   "cell_type": "markdown",
   "id": "1fe088db",
   "metadata": {},
   "source": [
    "## One-Hot encoding"
   ]
  },
  {
   "cell_type": "code",
   "execution_count": 10,
   "id": "7df951ce",
   "metadata": {
    "scrolled": true
   },
   "outputs": [
    {
     "data": {
      "text/html": [
       "<div>\n",
       "<style scoped>\n",
       "    .dataframe tbody tr th:only-of-type {\n",
       "        vertical-align: middle;\n",
       "    }\n",
       "\n",
       "    .dataframe tbody tr th {\n",
       "        vertical-align: top;\n",
       "    }\n",
       "\n",
       "    .dataframe thead th {\n",
       "        text-align: right;\n",
       "    }\n",
       "</style>\n",
       "<table border=\"1\" class=\"dataframe\">\n",
       "  <thead>\n",
       "    <tr style=\"text-align: right;\">\n",
       "      <th></th>\n",
       "      <th>occupation</th>\n",
       "      <th>credit_score</th>\n",
       "    </tr>\n",
       "  </thead>\n",
       "  <tbody>\n",
       "    <tr>\n",
       "      <th>0</th>\n",
       "      <td>Scientist</td>\n",
       "      <td>Good</td>\n",
       "    </tr>\n",
       "    <tr>\n",
       "      <th>1</th>\n",
       "      <td>Scientist</td>\n",
       "      <td>Good</td>\n",
       "    </tr>\n",
       "  </tbody>\n",
       "</table>\n",
       "</div>"
      ],
      "text/plain": [
       "  occupation credit_score\n",
       "0  Scientist         Good\n",
       "1  Scientist         Good"
      ]
     },
     "execution_count": 10,
     "metadata": {},
     "output_type": "execute_result"
    }
   ],
   "source": [
    "df[[\"occupation\", \"credit_score\"]].head(2)"
   ]
  },
  {
   "cell_type": "markdown",
   "id": "9653f9a7",
   "metadata": {},
   "source": [
    "#### Самостоятельная реализация"
   ]
  },
  {
   "cell_type": "code",
   "execution_count": 17,
   "id": "a62e8c50",
   "metadata": {},
   "outputs": [],
   "source": [
    "class CustomOneHotEncoder:\n",
    "\n",
    "    def __init__(self, dummy_na: bool = True):\n",
    "        self.dummy_na = dummy_na\n",
    "        self.columns_ : List[str]\n",
    "\n",
    "    def fit(self, X: pd.DataFrame, y=None, **params):\n",
    "        # Запоминаем, какие признаки будут получены на этапе трансформации:\n",
    "        self.columns_ = pd.get_dummies(X).columns\n",
    "        return self\n",
    "\n",
    "    def transform(self, X: pd.DataFrame, **params) -> pd.DataFrame:\n",
    "        X = X.copy()\n",
    "        # Кодируем значения в виде бинарных признаков:\n",
    "        transformed = pd.get_dummies(X, dummy_na=self.dummy_na)\n",
    "        # Заполняем отсутствующие кодировки:\n",
    "        missing_catergories = set(self.columns_).difference(transformed.columns)\n",
    "        for missing_catergory in missing_catergories:\n",
    "            transformed.insert(0, missing_catergory, 0)\n",
    "        # Возвращаем только те признаки, которые были выучены на этапе `fit`\n",
    "        return transformed.loc[:, self.columns_]\n"
   ]
  },
  {
   "cell_type": "code",
   "execution_count": 19,
   "id": "3a423f45",
   "metadata": {},
   "outputs": [
    {
     "data": {
      "text/html": [
       "<div>\n",
       "<style scoped>\n",
       "    .dataframe tbody tr th:only-of-type {\n",
       "        vertical-align: middle;\n",
       "    }\n",
       "\n",
       "    .dataframe tbody tr th {\n",
       "        vertical-align: top;\n",
       "    }\n",
       "\n",
       "    .dataframe thead th {\n",
       "        text-align: right;\n",
       "    }\n",
       "</style>\n",
       "<table border=\"1\" class=\"dataframe\">\n",
       "  <thead>\n",
       "    <tr style=\"text-align: right;\">\n",
       "      <th></th>\n",
       "      <th>occupation_Engineer</th>\n",
       "      <th>occupation_Entrepreneur</th>\n",
       "      <th>occupation_Scientist</th>\n",
       "      <th>occupation_Teacher</th>\n",
       "      <th>occupation________</th>\n",
       "      <th>credit_score_Good</th>\n",
       "      <th>credit_score_Standard</th>\n",
       "    </tr>\n",
       "  </thead>\n",
       "  <tbody>\n",
       "    <tr>\n",
       "      <th>0</th>\n",
       "      <td>0</td>\n",
       "      <td>0</td>\n",
       "      <td>1</td>\n",
       "      <td>0</td>\n",
       "      <td>0</td>\n",
       "      <td>1</td>\n",
       "      <td>0</td>\n",
       "    </tr>\n",
       "    <tr>\n",
       "      <th>1</th>\n",
       "      <td>0</td>\n",
       "      <td>0</td>\n",
       "      <td>1</td>\n",
       "      <td>0</td>\n",
       "      <td>0</td>\n",
       "      <td>1</td>\n",
       "      <td>0</td>\n",
       "    </tr>\n",
       "  </tbody>\n",
       "</table>\n",
       "</div>"
      ],
      "text/plain": [
       "   occupation_Engineer  occupation_Entrepreneur  occupation_Scientist  \\\n",
       "0                    0                        0                     1   \n",
       "1                    0                        0                     1   \n",
       "\n",
       "   occupation_Teacher  occupation________  credit_score_Good  \\\n",
       "0                   0                   0                  1   \n",
       "1                   0                   0                  1   \n",
       "\n",
       "   credit_score_Standard  \n",
       "0                      0  \n",
       "1                      0  "
      ]
     },
     "execution_count": 19,
     "metadata": {},
     "output_type": "execute_result"
    }
   ],
   "source": [
    "custom_ohe = CustomOneHotEncoder()\n",
    "custom_ohe.fit(df[[\"occupation\", \"credit_score\"]].head(30))\n",
    "custom_ohe.transform(df[[\"occupation\", \"credit_score\"]]).head(2)"
   ]
  },
  {
   "cell_type": "markdown",
   "id": "6c5e853e",
   "metadata": {},
   "source": [
    "#### Класс scikit-learn"
   ]
  },
  {
   "cell_type": "code",
   "execution_count": 5,
   "id": "0289d66f",
   "metadata": {},
   "outputs": [],
   "source": [
    "from sklearn.preprocessing import OneHotEncoder"
   ]
  },
  {
   "cell_type": "code",
   "execution_count": 23,
   "id": "95a44ae1",
   "metadata": {},
   "outputs": [],
   "source": [
    "ohe = OneHotEncoder(sparse_output=False, handle_unknown=\"ignore\").set_output(transform=\"pandas\")"
   ]
  },
  {
   "cell_type": "code",
   "execution_count": 24,
   "id": "54926229",
   "metadata": {},
   "outputs": [
    {
     "data": {
      "text/html": [
       "<div>\n",
       "<style scoped>\n",
       "    .dataframe tbody tr th:only-of-type {\n",
       "        vertical-align: middle;\n",
       "    }\n",
       "\n",
       "    .dataframe tbody tr th {\n",
       "        vertical-align: top;\n",
       "    }\n",
       "\n",
       "    .dataframe thead th {\n",
       "        text-align: right;\n",
       "    }\n",
       "</style>\n",
       "<table border=\"1\" class=\"dataframe\">\n",
       "  <thead>\n",
       "    <tr style=\"text-align: right;\">\n",
       "      <th></th>\n",
       "      <th>occupation_Engineer</th>\n",
       "      <th>occupation_Entrepreneur</th>\n",
       "      <th>occupation_Scientist</th>\n",
       "      <th>occupation_Teacher</th>\n",
       "      <th>occupation________</th>\n",
       "      <th>credit_score_Good</th>\n",
       "      <th>credit_score_Standard</th>\n",
       "    </tr>\n",
       "  </thead>\n",
       "  <tbody>\n",
       "    <tr>\n",
       "      <th>0</th>\n",
       "      <td>0.0</td>\n",
       "      <td>0.0</td>\n",
       "      <td>1.0</td>\n",
       "      <td>0.0</td>\n",
       "      <td>0.0</td>\n",
       "      <td>1.0</td>\n",
       "      <td>0.0</td>\n",
       "    </tr>\n",
       "    <tr>\n",
       "      <th>1</th>\n",
       "      <td>0.0</td>\n",
       "      <td>0.0</td>\n",
       "      <td>1.0</td>\n",
       "      <td>0.0</td>\n",
       "      <td>0.0</td>\n",
       "      <td>1.0</td>\n",
       "      <td>0.0</td>\n",
       "    </tr>\n",
       "  </tbody>\n",
       "</table>\n",
       "</div>"
      ],
      "text/plain": [
       "   occupation_Engineer  occupation_Entrepreneur  occupation_Scientist  \\\n",
       "0                  0.0                      0.0                   1.0   \n",
       "1                  0.0                      0.0                   1.0   \n",
       "\n",
       "   occupation_Teacher  occupation________  credit_score_Good  \\\n",
       "0                 0.0                 0.0                1.0   \n",
       "1                 0.0                 0.0                1.0   \n",
       "\n",
       "   credit_score_Standard  \n",
       "0                    0.0  \n",
       "1                    0.0  "
      ]
     },
     "execution_count": 24,
     "metadata": {},
     "output_type": "execute_result"
    }
   ],
   "source": [
    "ohe.fit(df[[\"occupation\", \"credit_score\"]].head(30)).transform(df[[\"occupation\", \"credit_score\"]]).head(2)"
   ]
  },
  {
   "cell_type": "markdown",
   "id": "3afefa99",
   "metadata": {},
   "source": [
    "Атрибуты, выученные на этапе `fit`:"
   ]
  },
  {
   "cell_type": "code",
   "execution_count": 15,
   "id": "ab8e16e5",
   "metadata": {},
   "outputs": [
    {
     "data": {
      "text/plain": [
       "array(['occupation', 'credit_score'], dtype=object)"
      ]
     },
     "execution_count": 15,
     "metadata": {},
     "output_type": "execute_result"
    }
   ],
   "source": [
    "ohe.feature_names_in_"
   ]
  },
  {
   "cell_type": "code",
   "execution_count": 14,
   "id": "aefdc4c8",
   "metadata": {
    "scrolled": true
   },
   "outputs": [
    {
     "data": {
      "text/plain": [
       "[array(['Accountant', 'Architect', 'Developer', 'Doctor', 'Engineer',\n",
       "        'Entrepreneur', 'Journalist', 'Lawyer', 'Manager', 'Mechanic',\n",
       "        'Media_Manager', 'Musician', 'Scientist', 'Teacher', 'Writer',\n",
       "        '_______'], dtype=object),\n",
       " array(['Good', 'Poor', 'Standard'], dtype=object)]"
      ]
     },
     "execution_count": 14,
     "metadata": {},
     "output_type": "execute_result"
    }
   ],
   "source": [
    "ohe.categories_"
   ]
  },
  {
   "cell_type": "markdown",
   "id": "a65bf47c",
   "metadata": {},
   "source": [
    "---"
   ]
  },
  {
   "cell_type": "markdown",
   "id": "7e9c07bb",
   "metadata": {},
   "source": [
    "## Multi-Label encoding"
   ]
  },
  {
   "cell_type": "code",
   "execution_count": 40,
   "id": "3cf687fa",
   "metadata": {
    "scrolled": true
   },
   "outputs": [
    {
     "data": {
      "text/plain": [
       "0    [Auto, Credit-Builder, Personal, Home Equity]\n",
       "1    [Auto, Credit-Builder, Personal, Home Equity]\n",
       "Name: type_of_loan, dtype: object"
      ]
     },
     "execution_count": 40,
     "metadata": {},
     "output_type": "execute_result"
    }
   ],
   "source": [
    "loans = df[\"type_of_loan\"].str.replace(pat=r\"\\sLoan|\\sand\", repl=\"\", case=False, regex=True).str.split(\", \")\n",
    "loans.head(2)"
   ]
  },
  {
   "cell_type": "markdown",
   "id": "43668c78",
   "metadata": {},
   "source": [
    "#### Самостоятельная реализация"
   ]
  },
  {
   "cell_type": "code",
   "execution_count": 47,
   "id": "eaef8374",
   "metadata": {},
   "outputs": [],
   "source": [
    "class CustomMultiLabelEncoder:\n",
    "\n",
    "    MISSING_CODE = \"<missing>\"\n",
    "\n",
    "    def __init__(self, encode_missing: bool = True):\n",
    "        self.encode_missing = encode_missing\n",
    "        self.features_ : List[str]\n",
    "\n",
    "    def fit(self, X: pd.Series):\n",
    "        self.features_ = sorted(set.union(*X.dropna().apply(set).values))\n",
    "        return self\n",
    "\n",
    "    def transform(self, X: pd.Series) -> pd.DataFrame:\n",
    "        count_dict = X.apply(lambda val: Counter(val) if isinstance(val, list) else Counter()).to_dict()\n",
    "        count_df = pd.DataFrame.from_dict(count_dict, orient=\"index\")\n",
    "        # Выравниваем по столбцам и по строкам:\n",
    "        target_df = count_df.align(pd.DataFrame(0, index=X.index, columns=self.features_), fill_value=0)[0]\n",
    "        # Убираем лишние столбцы:\n",
    "        target_df = target_df.loc[:, self.features_].fillna(0).astype(int)\n",
    "        # Добавляем колонку для индикации отсутствующих значений:\n",
    "        if self.encode_missing:\n",
    "            target_df[self.MISSING_CODE] = X.isna().astype(int)\n",
    "        # Добавляем префикс:\n",
    "        target_df = target_df.add_prefix(f\"{X.name}_\")\n",
    "        return target_df"
   ]
  },
  {
   "cell_type": "code",
   "execution_count": 48,
   "id": "e033b23c",
   "metadata": {},
   "outputs": [
    {
     "data": {
      "text/plain": [
       "<__main__.CustomMultiLabelEncoder at 0x207b7af1ca0>"
      ]
     },
     "execution_count": 48,
     "metadata": {},
     "output_type": "execute_result"
    }
   ],
   "source": [
    "custom_mle = CustomMultiLabelEncoder()\n",
    "custom_mle.fit(loans)"
   ]
  },
  {
   "cell_type": "code",
   "execution_count": 49,
   "id": "64179235",
   "metadata": {},
   "outputs": [
    {
     "data": {
      "text/plain": [
       "['Auto',\n",
       " 'Credit-Builder',\n",
       " 'Debt Consolidation',\n",
       " 'Home Equity',\n",
       " 'Mortgage',\n",
       " 'Not Specified',\n",
       " 'Payday',\n",
       " 'Personal',\n",
       " 'Student']"
      ]
     },
     "execution_count": 49,
     "metadata": {},
     "output_type": "execute_result"
    }
   ],
   "source": [
    "custom_mle.features_"
   ]
  },
  {
   "cell_type": "code",
   "execution_count": 51,
   "id": "e4d0cb4b",
   "metadata": {},
   "outputs": [
    {
     "data": {
      "text/html": [
       "<div>\n",
       "<style scoped>\n",
       "    .dataframe tbody tr th:only-of-type {\n",
       "        vertical-align: middle;\n",
       "    }\n",
       "\n",
       "    .dataframe tbody tr th {\n",
       "        vertical-align: top;\n",
       "    }\n",
       "\n",
       "    .dataframe thead th {\n",
       "        text-align: right;\n",
       "    }\n",
       "</style>\n",
       "<table border=\"1\" class=\"dataframe\">\n",
       "  <thead>\n",
       "    <tr style=\"text-align: right;\">\n",
       "      <th></th>\n",
       "      <th>type_of_loan_Auto</th>\n",
       "      <th>type_of_loan_Credit-Builder</th>\n",
       "      <th>type_of_loan_Debt Consolidation</th>\n",
       "      <th>type_of_loan_Home Equity</th>\n",
       "      <th>type_of_loan_Mortgage</th>\n",
       "      <th>type_of_loan_Not Specified</th>\n",
       "      <th>type_of_loan_Payday</th>\n",
       "      <th>type_of_loan_Personal</th>\n",
       "      <th>type_of_loan_Student</th>\n",
       "      <th>type_of_loan_&lt;missing&gt;</th>\n",
       "    </tr>\n",
       "  </thead>\n",
       "  <tbody>\n",
       "    <tr>\n",
       "      <th>0</th>\n",
       "      <td>1</td>\n",
       "      <td>1</td>\n",
       "      <td>0</td>\n",
       "      <td>1</td>\n",
       "      <td>0</td>\n",
       "      <td>0</td>\n",
       "      <td>0</td>\n",
       "      <td>1</td>\n",
       "      <td>0</td>\n",
       "      <td>0</td>\n",
       "    </tr>\n",
       "    <tr>\n",
       "      <th>1</th>\n",
       "      <td>1</td>\n",
       "      <td>1</td>\n",
       "      <td>0</td>\n",
       "      <td>1</td>\n",
       "      <td>0</td>\n",
       "      <td>0</td>\n",
       "      <td>0</td>\n",
       "      <td>1</td>\n",
       "      <td>0</td>\n",
       "      <td>0</td>\n",
       "    </tr>\n",
       "  </tbody>\n",
       "</table>\n",
       "</div>"
      ],
      "text/plain": [
       "   type_of_loan_Auto  type_of_loan_Credit-Builder  \\\n",
       "0                  1                            1   \n",
       "1                  1                            1   \n",
       "\n",
       "   type_of_loan_Debt Consolidation  type_of_loan_Home Equity  \\\n",
       "0                                0                         1   \n",
       "1                                0                         1   \n",
       "\n",
       "   type_of_loan_Mortgage  type_of_loan_Not Specified  type_of_loan_Payday  \\\n",
       "0                      0                           0                    0   \n",
       "1                      0                           0                    0   \n",
       "\n",
       "   type_of_loan_Personal  type_of_loan_Student  type_of_loan_<missing>  \n",
       "0                      1                     0                       0  \n",
       "1                      1                     0                       0  "
      ]
     },
     "execution_count": 51,
     "metadata": {},
     "output_type": "execute_result"
    }
   ],
   "source": [
    "custom_mle.transform(loans).head(2)"
   ]
  },
  {
   "cell_type": "markdown",
   "id": "7bc9ba76",
   "metadata": {},
   "source": [
    "#### Класс scikit-learn"
   ]
  },
  {
   "cell_type": "code",
   "execution_count": 52,
   "id": "4c433e66",
   "metadata": {},
   "outputs": [],
   "source": [
    "from sklearn.preprocessing import MultiLabelBinarizer"
   ]
  },
  {
   "cell_type": "markdown",
   "id": "a6ec5234",
   "metadata": {},
   "source": [
    "`MultiLabelBinarizer` не умеет работать с отсутствующими значениями, поэтому для демонстрации мы их выкинем:"
   ]
  },
  {
   "cell_type": "code",
   "execution_count": 53,
   "id": "282aab70",
   "metadata": {},
   "outputs": [
    {
     "data": {
      "text/html": [
       "<style>#sk-container-id-1 {color: black;background-color: white;}#sk-container-id-1 pre{padding: 0;}#sk-container-id-1 div.sk-toggleable {background-color: white;}#sk-container-id-1 label.sk-toggleable__label {cursor: pointer;display: block;width: 100%;margin-bottom: 0;padding: 0.3em;box-sizing: border-box;text-align: center;}#sk-container-id-1 label.sk-toggleable__label-arrow:before {content: \"▸\";float: left;margin-right: 0.25em;color: #696969;}#sk-container-id-1 label.sk-toggleable__label-arrow:hover:before {color: black;}#sk-container-id-1 div.sk-estimator:hover label.sk-toggleable__label-arrow:before {color: black;}#sk-container-id-1 div.sk-toggleable__content {max-height: 0;max-width: 0;overflow: hidden;text-align: left;background-color: #f0f8ff;}#sk-container-id-1 div.sk-toggleable__content pre {margin: 0.2em;color: black;border-radius: 0.25em;background-color: #f0f8ff;}#sk-container-id-1 input.sk-toggleable__control:checked~div.sk-toggleable__content {max-height: 200px;max-width: 100%;overflow: auto;}#sk-container-id-1 input.sk-toggleable__control:checked~label.sk-toggleable__label-arrow:before {content: \"▾\";}#sk-container-id-1 div.sk-estimator input.sk-toggleable__control:checked~label.sk-toggleable__label {background-color: #d4ebff;}#sk-container-id-1 div.sk-label input.sk-toggleable__control:checked~label.sk-toggleable__label {background-color: #d4ebff;}#sk-container-id-1 input.sk-hidden--visually {border: 0;clip: rect(1px 1px 1px 1px);clip: rect(1px, 1px, 1px, 1px);height: 1px;margin: -1px;overflow: hidden;padding: 0;position: absolute;width: 1px;}#sk-container-id-1 div.sk-estimator {font-family: monospace;background-color: #f0f8ff;border: 1px dotted black;border-radius: 0.25em;box-sizing: border-box;margin-bottom: 0.5em;}#sk-container-id-1 div.sk-estimator:hover {background-color: #d4ebff;}#sk-container-id-1 div.sk-parallel-item::after {content: \"\";width: 100%;border-bottom: 1px solid gray;flex-grow: 1;}#sk-container-id-1 div.sk-label:hover label.sk-toggleable__label {background-color: #d4ebff;}#sk-container-id-1 div.sk-serial::before {content: \"\";position: absolute;border-left: 1px solid gray;box-sizing: border-box;top: 0;bottom: 0;left: 50%;z-index: 0;}#sk-container-id-1 div.sk-serial {display: flex;flex-direction: column;align-items: center;background-color: white;padding-right: 0.2em;padding-left: 0.2em;position: relative;}#sk-container-id-1 div.sk-item {position: relative;z-index: 1;}#sk-container-id-1 div.sk-parallel {display: flex;align-items: stretch;justify-content: center;background-color: white;position: relative;}#sk-container-id-1 div.sk-item::before, #sk-container-id-1 div.sk-parallel-item::before {content: \"\";position: absolute;border-left: 1px solid gray;box-sizing: border-box;top: 0;bottom: 0;left: 50%;z-index: -1;}#sk-container-id-1 div.sk-parallel-item {display: flex;flex-direction: column;z-index: 1;position: relative;background-color: white;}#sk-container-id-1 div.sk-parallel-item:first-child::after {align-self: flex-end;width: 50%;}#sk-container-id-1 div.sk-parallel-item:last-child::after {align-self: flex-start;width: 50%;}#sk-container-id-1 div.sk-parallel-item:only-child::after {width: 0;}#sk-container-id-1 div.sk-dashed-wrapped {border: 1px dashed gray;margin: 0 0.4em 0.5em 0.4em;box-sizing: border-box;padding-bottom: 0.4em;background-color: white;}#sk-container-id-1 div.sk-label label {font-family: monospace;font-weight: bold;display: inline-block;line-height: 1.2em;}#sk-container-id-1 div.sk-label-container {text-align: center;}#sk-container-id-1 div.sk-container {/* jupyter's `normalize.less` sets `[hidden] { display: none; }` but bootstrap.min.css set `[hidden] { display: none !important; }` so we also need the `!important` here to be able to override the default hidden behavior on the sphinx rendered scikit-learn.org. See: https://github.com/scikit-learn/scikit-learn/issues/21755 */display: inline-block !important;position: relative;}#sk-container-id-1 div.sk-text-repr-fallback {display: none;}</style><div id=\"sk-container-id-1\" class=\"sk-top-container\"><div class=\"sk-text-repr-fallback\"><pre>MultiLabelBinarizer()</pre><b>In a Jupyter environment, please rerun this cell to show the HTML representation or trust the notebook. <br />On GitHub, the HTML representation is unable to render, please try loading this page with nbviewer.org.</b></div><div class=\"sk-container\" hidden><div class=\"sk-item\"><div class=\"sk-estimator sk-toggleable\"><input class=\"sk-toggleable__control sk-hidden--visually\" id=\"sk-estimator-id-1\" type=\"checkbox\" checked><label for=\"sk-estimator-id-1\" class=\"sk-toggleable__label sk-toggleable__label-arrow\">MultiLabelBinarizer</label><div class=\"sk-toggleable__content\"><pre>MultiLabelBinarizer()</pre></div></div></div></div></div>"
      ],
      "text/plain": [
       "MultiLabelBinarizer()"
      ]
     },
     "execution_count": 53,
     "metadata": {},
     "output_type": "execute_result"
    }
   ],
   "source": [
    "mle = MultiLabelBinarizer()\n",
    "mle.fit(loans.dropna())"
   ]
  },
  {
   "cell_type": "code",
   "execution_count": 54,
   "id": "77f6c160",
   "metadata": {},
   "outputs": [
    {
     "data": {
      "text/plain": [
       "array(['Auto', 'Credit-Builder', 'Debt Consolidation', 'Home Equity',\n",
       "       'Mortgage', 'Not Specified', 'Payday', 'Personal', 'Student'],\n",
       "      dtype=object)"
      ]
     },
     "execution_count": 54,
     "metadata": {},
     "output_type": "execute_result"
    }
   ],
   "source": [
    "mle.classes_"
   ]
  },
  {
   "cell_type": "markdown",
   "id": "d22202d9",
   "metadata": {},
   "source": [
    "Также, `MultiLabelBinarizer` не имеет встроенной возможности возвращать **pd.DataFrame**, поэтому это придётся делать вручную:"
   ]
  },
  {
   "cell_type": "code",
   "execution_count": 56,
   "id": "7b29985b",
   "metadata": {},
   "outputs": [
    {
     "data": {
      "text/html": [
       "<div>\n",
       "<style scoped>\n",
       "    .dataframe tbody tr th:only-of-type {\n",
       "        vertical-align: middle;\n",
       "    }\n",
       "\n",
       "    .dataframe tbody tr th {\n",
       "        vertical-align: top;\n",
       "    }\n",
       "\n",
       "    .dataframe thead th {\n",
       "        text-align: right;\n",
       "    }\n",
       "</style>\n",
       "<table border=\"1\" class=\"dataframe\">\n",
       "  <thead>\n",
       "    <tr style=\"text-align: right;\">\n",
       "      <th></th>\n",
       "      <th>Auto</th>\n",
       "      <th>Credit-Builder</th>\n",
       "      <th>Debt Consolidation</th>\n",
       "      <th>Home Equity</th>\n",
       "      <th>Mortgage</th>\n",
       "      <th>Not Specified</th>\n",
       "      <th>Payday</th>\n",
       "      <th>Personal</th>\n",
       "      <th>Student</th>\n",
       "    </tr>\n",
       "  </thead>\n",
       "  <tbody>\n",
       "    <tr>\n",
       "      <th>0</th>\n",
       "      <td>1</td>\n",
       "      <td>1</td>\n",
       "      <td>0</td>\n",
       "      <td>1</td>\n",
       "      <td>0</td>\n",
       "      <td>0</td>\n",
       "      <td>0</td>\n",
       "      <td>1</td>\n",
       "      <td>0</td>\n",
       "    </tr>\n",
       "    <tr>\n",
       "      <th>1</th>\n",
       "      <td>1</td>\n",
       "      <td>1</td>\n",
       "      <td>0</td>\n",
       "      <td>1</td>\n",
       "      <td>0</td>\n",
       "      <td>0</td>\n",
       "      <td>0</td>\n",
       "      <td>1</td>\n",
       "      <td>0</td>\n",
       "    </tr>\n",
       "  </tbody>\n",
       "</table>\n",
       "</div>"
      ],
      "text/plain": [
       "   Auto  Credit-Builder  Debt Consolidation  Home Equity  Mortgage  \\\n",
       "0     1               1                   0            1         0   \n",
       "1     1               1                   0            1         0   \n",
       "\n",
       "   Not Specified  Payday  Personal  Student  \n",
       "0              0       0         1        0  \n",
       "1              0       0         1        0  "
      ]
     },
     "execution_count": 56,
     "metadata": {},
     "output_type": "execute_result"
    }
   ],
   "source": [
    "pd.DataFrame(data=mle.transform(loans.dropna()), index=loans.dropna().index, columns=mle.classes_).head(2)"
   ]
  },
  {
   "cell_type": "markdown",
   "id": "2b34964d",
   "metadata": {},
   "source": [
    "#### Самостоятельная реализация трансформера, который умеет обрабатывать сразу несколько признаков:"
   ]
  },
  {
   "cell_type": "code",
   "execution_count": 57,
   "id": "36e869a2",
   "metadata": {},
   "outputs": [],
   "source": [
    "class MultilabelColumnEncoder:\n",
    "\n",
    "    MISSING_INDICATOR = \"<missing>\"\n",
    "    \n",
    "    def __init__(self, encode_missing: bool = True):\n",
    "        self.encode_missing = encode_missing\n",
    "        self.encoders_ : Dict[str, MultiLabelBinarizer]\n",
    "\n",
    "    def fit(self, X: pd.DataFrame, **params):\n",
    "        # Создаём пустой словарь, где будем хранить трансформеры для каждого признака:\n",
    "        self.encoders_ = {}\n",
    "        # Перебираем каждый признак, создаём и обучаем транформер для него:\n",
    "        for feature_name, feature_values in X.items():\n",
    "            feature_binarizer = MultiLabelBinarizer()\n",
    "            feature_binarizer.fit(feature_values.dropna())\n",
    "            self.encoders_[feature_name] = feature_binarizer\n",
    "        return self\n",
    "\n",
    "    def transform(self, X: pd.DataFrame, **params) -> pd.DataFrame:\n",
    "        return pd.concat(\n",
    "                            [\n",
    "                                self._apply_binarizer(\n",
    "                                                        feature_name   = feature_name,\n",
    "                                                        feature_values = feature_values\n",
    "                                                    )\n",
    "                                for feature_name, feature_values\n",
    "                                in  X.items()\n",
    "                            ],\n",
    "                            axis = 1\n",
    "                        ).loc[X.index]\n",
    "\n",
    "    def _apply_binarizer(self, feature_name: str, feature_values: pd.Series) -> pd.DataFrame:\n",
    "        # Извлекаем трансформер для заданного признака:\n",
    "        binarizer = self.encoders_[feature_name]\n",
    "        # Временно удаляем пустые значения:\n",
    "        y = feature_values.dropna()\n",
    "        # Создаём массив с кодированными значениями:\n",
    "        data = binarizer.transform(y)\n",
    "        # Преобразовываем массив в датафрейм:\n",
    "        df = pd.DataFrame(data=data, index=y.index, columns=binarizer.classes_)\n",
    "        # Восстанавливаем пропущенные строки\n",
    "        df = df.align(feature_values, axis=\"index\", join=\"right\")[0].fillna(0).astype(int)\n",
    "        # Добавляем (если задано) индикатор пропущенных значений:\n",
    "        if self.encode_missing:\n",
    "            df[self.MISSING_INDICATOR] = feature_values.isna().astype(int)\n",
    "        # Добавляем префикс и возвращаем результат:\n",
    "        df = df.add_prefix(f\"{feature_name}_\")\n",
    "        return df.loc[feature_values.index]\n"
   ]
  },
  {
   "cell_type": "code",
   "execution_count": 63,
   "id": "6b556edf",
   "metadata": {},
   "outputs": [
    {
     "data": {
      "text/html": [
       "<div>\n",
       "<style scoped>\n",
       "    .dataframe tbody tr th:only-of-type {\n",
       "        vertical-align: middle;\n",
       "    }\n",
       "\n",
       "    .dataframe tbody tr th {\n",
       "        vertical-align: top;\n",
       "    }\n",
       "\n",
       "    .dataframe thead th {\n",
       "        text-align: right;\n",
       "    }\n",
       "</style>\n",
       "<table border=\"1\" class=\"dataframe\">\n",
       "  <thead>\n",
       "    <tr style=\"text-align: right;\">\n",
       "      <th></th>\n",
       "      <th>type_of_loan_Auto</th>\n",
       "      <th>type_of_loan_Credit-Builder</th>\n",
       "      <th>type_of_loan_Debt Consolidation</th>\n",
       "      <th>type_of_loan_Home Equity</th>\n",
       "      <th>type_of_loan_Mortgage</th>\n",
       "      <th>type_of_loan_Not Specified</th>\n",
       "      <th>type_of_loan_Payday</th>\n",
       "      <th>type_of_loan_Personal</th>\n",
       "      <th>type_of_loan_Student</th>\n",
       "      <th>type_of_loan_&lt;missing&gt;</th>\n",
       "    </tr>\n",
       "  </thead>\n",
       "  <tbody>\n",
       "    <tr>\n",
       "      <th>0</th>\n",
       "      <td>1</td>\n",
       "      <td>1</td>\n",
       "      <td>0</td>\n",
       "      <td>1</td>\n",
       "      <td>0</td>\n",
       "      <td>0</td>\n",
       "      <td>0</td>\n",
       "      <td>1</td>\n",
       "      <td>0</td>\n",
       "      <td>0</td>\n",
       "    </tr>\n",
       "    <tr>\n",
       "      <th>1</th>\n",
       "      <td>1</td>\n",
       "      <td>1</td>\n",
       "      <td>0</td>\n",
       "      <td>1</td>\n",
       "      <td>0</td>\n",
       "      <td>0</td>\n",
       "      <td>0</td>\n",
       "      <td>1</td>\n",
       "      <td>0</td>\n",
       "      <td>0</td>\n",
       "    </tr>\n",
       "  </tbody>\n",
       "</table>\n",
       "</div>"
      ],
      "text/plain": [
       "   type_of_loan_Auto  type_of_loan_Credit-Builder  \\\n",
       "0                  1                            1   \n",
       "1                  1                            1   \n",
       "\n",
       "   type_of_loan_Debt Consolidation  type_of_loan_Home Equity  \\\n",
       "0                                0                         1   \n",
       "1                                0                         1   \n",
       "\n",
       "   type_of_loan_Mortgage  type_of_loan_Not Specified  type_of_loan_Payday  \\\n",
       "0                      0                           0                    0   \n",
       "1                      0                           0                    0   \n",
       "\n",
       "   type_of_loan_Personal  type_of_loan_Student  type_of_loan_<missing>  \n",
       "0                      1                     0                       0  \n",
       "1                      1                     0                       0  "
      ]
     },
     "execution_count": 63,
     "metadata": {},
     "output_type": "execute_result"
    }
   ],
   "source": [
    "mce = MultilabelColumnEncoder()\n",
    "mce.fit(loans.to_frame())\n",
    "mce.transform(loans.to_frame()).head(2)"
   ]
  }
 ],
 "metadata": {
  "kernelspec": {
   "display_name": "Python 3 (ipykernel)",
   "language": "python",
   "name": "python3"
  },
  "language_info": {
   "codemirror_mode": {
    "name": "ipython",
    "version": 3
   },
   "file_extension": ".py",
   "mimetype": "text/x-python",
   "name": "python",
   "nbconvert_exporter": "python",
   "pygments_lexer": "ipython3",
   "version": "3.9.15"
  }
 },
 "nbformat": 4,
 "nbformat_minor": 5
}
