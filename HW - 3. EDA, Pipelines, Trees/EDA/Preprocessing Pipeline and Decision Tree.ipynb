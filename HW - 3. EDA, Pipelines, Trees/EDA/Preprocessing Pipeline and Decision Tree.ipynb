{
 "cells": [
  {
   "cell_type": "code",
   "execution_count": 1,
   "id": "77a5daf6",
   "metadata": {},
   "outputs": [],
   "source": [
    "import sys\n",
    "import datetime as dt\n",
    "import numpy    as np\n",
    "import pandas   as pd\n",
    "import seaborn  as sns\n",
    "import matplotlib.pyplot as plt\n",
    "\n",
    "from typing                import Tuple, List, Set, Iterable, Dict, Any, Optional, Union, Callable\n",
    "from collections           import Counter\n",
    "\n",
    "from sklearn.preprocessing import OneHotEncoder, OrdinalEncoder, LabelEncoder\n",
    "from sklearn.impute        import SimpleImputer\n",
    "from sklearn.compose       import ColumnTransformer, make_column_selector\n",
    "from sklearn.pipeline      import Pipeline\n",
    "\n",
    "sns.set_style(\"darkgrid\")"
   ]
  },
  {
   "cell_type": "code",
   "execution_count": 2,
   "id": "0327a0ab",
   "metadata": {},
   "outputs": [],
   "source": [
    "sys.path.insert(0, \"../../\")  # Добавляем родительскую директорию в `path`, чтобы python смог найти наши модули"
   ]
  },
  {
   "cell_type": "code",
   "execution_count": 3,
   "id": "fe805777",
   "metadata": {},
   "outputs": [],
   "source": [
    "from modules.preprocessing import MultilabelEncoder, RegexTransformer\n",
    "from modules.base          import CustomTransformer\n",
    "from modules.compose       import GroupByTransformer\n",
    "from modules.outliers      import RangeOutlierDetector, DeltaFromMedianOutlierDetector\n",
    "from modules.impute        import InterpolationImputer"
   ]
  },
  {
   "cell_type": "markdown",
   "id": "6d1f0bb8",
   "metadata": {},
   "source": [
    "<div class=\"alert alert-info\">\n",
    "  <h1><center>Data</center></h1></div>"
   ]
  },
  {
   "cell_type": "code",
   "execution_count": 4,
   "id": "f9a5379a",
   "metadata": {},
   "outputs": [
    {
     "data": {
      "text/html": [
       "<div>\n",
       "<style scoped>\n",
       "    .dataframe tbody tr th:only-of-type {\n",
       "        vertical-align: middle;\n",
       "    }\n",
       "\n",
       "    .dataframe tbody tr th {\n",
       "        vertical-align: top;\n",
       "    }\n",
       "\n",
       "    .dataframe thead th {\n",
       "        text-align: right;\n",
       "    }\n",
       "</style>\n",
       "<table border=\"1\" class=\"dataframe\">\n",
       "  <thead>\n",
       "    <tr style=\"text-align: right;\">\n",
       "      <th></th>\n",
       "      <th></th>\n",
       "      <th>age</th>\n",
       "      <th>occupation</th>\n",
       "      <th>annual_income</th>\n",
       "      <th>monthly_inhand_salary</th>\n",
       "      <th>num_bank_accounts</th>\n",
       "      <th>num_credit_card</th>\n",
       "      <th>interest_rate</th>\n",
       "      <th>num_of_loan</th>\n",
       "      <th>type_of_loan</th>\n",
       "      <th>delay_from_due_date</th>\n",
       "      <th>...</th>\n",
       "      <th>outstanding_debt</th>\n",
       "      <th>credit_utilization_ratio</th>\n",
       "      <th>payment_of_min_amount</th>\n",
       "      <th>total_emi_per_month</th>\n",
       "      <th>amount_invested_monthly</th>\n",
       "      <th>payment_behaviour</th>\n",
       "      <th>monthly_balance</th>\n",
       "      <th>credit_score</th>\n",
       "      <th>credit_history_age_in_months</th>\n",
       "      <th>credit_history_age_in_years</th>\n",
       "    </tr>\n",
       "    <tr>\n",
       "      <th>customer_id</th>\n",
       "      <th>month</th>\n",
       "      <th></th>\n",
       "      <th></th>\n",
       "      <th></th>\n",
       "      <th></th>\n",
       "      <th></th>\n",
       "      <th></th>\n",
       "      <th></th>\n",
       "      <th></th>\n",
       "      <th></th>\n",
       "      <th></th>\n",
       "      <th></th>\n",
       "      <th></th>\n",
       "      <th></th>\n",
       "      <th></th>\n",
       "      <th></th>\n",
       "      <th></th>\n",
       "      <th></th>\n",
       "      <th></th>\n",
       "      <th></th>\n",
       "      <th></th>\n",
       "      <th></th>\n",
       "    </tr>\n",
       "  </thead>\n",
       "  <tbody>\n",
       "    <tr>\n",
       "      <th rowspan=\"2\" valign=\"top\">CUS_0x1000</th>\n",
       "      <th>1</th>\n",
       "      <td>17</td>\n",
       "      <td>Lawyer</td>\n",
       "      <td>30625.94</td>\n",
       "      <td>2706.161667</td>\n",
       "      <td>6</td>\n",
       "      <td>5</td>\n",
       "      <td>27</td>\n",
       "      <td>2</td>\n",
       "      <td>Credit-Builder Loan, and Home Equity Loan</td>\n",
       "      <td>62</td>\n",
       "      <td>...</td>\n",
       "      <td>1562.91</td>\n",
       "      <td>26.612093</td>\n",
       "      <td>Yes</td>\n",
       "      <td>42.94109</td>\n",
       "      <td>244.75028300769162</td>\n",
       "      <td>Low_spent_Large_value_payments</td>\n",
       "      <td>252.9247932365056</td>\n",
       "      <td>Standard</td>\n",
       "      <td>10 Years and 2 Months</td>\n",
       "      <td>10 Years and 2 Months</td>\n",
       "    </tr>\n",
       "    <tr>\n",
       "      <th>2</th>\n",
       "      <td>17</td>\n",
       "      <td>Lawyer</td>\n",
       "      <td>30625.94</td>\n",
       "      <td>NaN</td>\n",
       "      <td>6</td>\n",
       "      <td>5</td>\n",
       "      <td>27</td>\n",
       "      <td>2</td>\n",
       "      <td>Credit-Builder Loan, and Home Equity Loan</td>\n",
       "      <td>62</td>\n",
       "      <td>...</td>\n",
       "      <td>1562.91</td>\n",
       "      <td>29.439759</td>\n",
       "      <td>Yes</td>\n",
       "      <td>42.94109</td>\n",
       "      <td>176.13256665597928</td>\n",
       "      <td>High_spent_Small_value_payments</td>\n",
       "      <td>311.542509588218</td>\n",
       "      <td>Poor</td>\n",
       "      <td>10 Years and 3 Months</td>\n",
       "      <td>10 Years and 3 Months</td>\n",
       "    </tr>\n",
       "  </tbody>\n",
       "</table>\n",
       "<p>2 rows × 24 columns</p>\n",
       "</div>"
      ],
      "text/plain": [
       "                  age occupation annual_income  monthly_inhand_salary  \\\n",
       "customer_id month                                                       \n",
       "CUS_0x1000  1      17     Lawyer      30625.94            2706.161667   \n",
       "            2      17     Lawyer      30625.94                    NaN   \n",
       "\n",
       "                   num_bank_accounts  num_credit_card  interest_rate  \\\n",
       "customer_id month                                                      \n",
       "CUS_0x1000  1                      6                5             27   \n",
       "            2                      6                5             27   \n",
       "\n",
       "                  num_of_loan                               type_of_loan  \\\n",
       "customer_id month                                                          \n",
       "CUS_0x1000  1               2  Credit-Builder Loan, and Home Equity Loan   \n",
       "            2               2  Credit-Builder Loan, and Home Equity Loan   \n",
       "\n",
       "                   delay_from_due_date  ... outstanding_debt  \\\n",
       "customer_id month                       ...                    \n",
       "CUS_0x1000  1                       62  ...          1562.91   \n",
       "            2                       62  ...          1562.91   \n",
       "\n",
       "                  credit_utilization_ratio  payment_of_min_amount  \\\n",
       "customer_id month                                                   \n",
       "CUS_0x1000  1                    26.612093                    Yes   \n",
       "            2                    29.439759                    Yes   \n",
       "\n",
       "                  total_emi_per_month amount_invested_monthly  \\\n",
       "customer_id month                                               \n",
       "CUS_0x1000  1                42.94109      244.75028300769162   \n",
       "            2                42.94109      176.13256665597928   \n",
       "\n",
       "                                 payment_behaviour    monthly_balance  \\\n",
       "customer_id month                                                       \n",
       "CUS_0x1000  1       Low_spent_Large_value_payments  252.9247932365056   \n",
       "            2      High_spent_Small_value_payments   311.542509588218   \n",
       "\n",
       "                   credit_score credit_history_age_in_months  \\\n",
       "customer_id month                                              \n",
       "CUS_0x1000  1          Standard        10 Years and 2 Months   \n",
       "            2              Poor        10 Years and 3 Months   \n",
       "\n",
       "                  credit_history_age_in_years  \n",
       "customer_id month                              \n",
       "CUS_0x1000  1           10 Years and 2 Months  \n",
       "            2           10 Years and 3 Months  \n",
       "\n",
       "[2 rows x 24 columns]"
      ]
     },
     "execution_count": 4,
     "metadata": {},
     "output_type": "execute_result"
    }
   ],
   "source": [
    "df = pd.read_csv(\"../data/credit_score.csv\", low_memory=False)\n",
    "df.columns = map(str.lower, df.columns)\n",
    "df[\"month\"] = df[\"month\"].apply(lambda val: dt.datetime.strptime(val, \"%B\").month)\n",
    "df[\"credit_history_age_in_months\"] = df[\"credit_history_age\"]\n",
    "df[\"credit_history_age_in_years\"]  = df[\"credit_history_age\"]\n",
    "df = df.set_index([\"customer_id\", \"month\"]).sort_index()\n",
    "df = df.drop(columns=[\"credit_history_age\", \"name\", \"ssn\", \"id\"])\n",
    "df.head(2)"
   ]
  },
  {
   "cell_type": "code",
   "execution_count": 5,
   "id": "116afc58",
   "metadata": {},
   "outputs": [],
   "source": [
    "X = df.drop(columns=[\"credit_score\"])\n",
    "y = df[\"credit_score\"]"
   ]
  },
  {
   "cell_type": "markdown",
   "id": "21ae7942",
   "metadata": {},
   "source": [
    "---"
   ]
  },
  {
   "cell_type": "markdown",
   "id": "e22a3fee",
   "metadata": {},
   "source": [
    "### Train-Test split"
   ]
  },
  {
   "cell_type": "code",
   "execution_count": 6,
   "id": "eaf1bced",
   "metadata": {},
   "outputs": [],
   "source": [
    "from sklearn.model_selection import train_test_split"
   ]
  },
  {
   "cell_type": "code",
   "execution_count": 7,
   "id": "cb685771",
   "metadata": {},
   "outputs": [],
   "source": [
    "cids = sorted(set(y.index.get_level_values(\"customer_id\")))"
   ]
  },
  {
   "cell_type": "code",
   "execution_count": 8,
   "id": "90d2c3cc",
   "metadata": {},
   "outputs": [],
   "source": [
    "train_cids, test_cids = train_test_split(cids, test_size=0.2, random_state=42)"
   ]
  },
  {
   "cell_type": "code",
   "execution_count": 9,
   "id": "f29069e5",
   "metadata": {},
   "outputs": [],
   "source": [
    "ind_train = X.index.get_level_values(\"customer_id\").isin(train_cids)\n",
    "ind_test  = X.index.get_level_values(\"customer_id\").isin(test_cids)"
   ]
  },
  {
   "cell_type": "code",
   "execution_count": 10,
   "id": "d00288ad",
   "metadata": {},
   "outputs": [],
   "source": [
    "X_train = X.loc[ind_train]\n",
    "y_train = y.loc[ind_train]\n",
    "X_test  = X.loc[ind_test]\n",
    "y_test  = y.loc[ind_test]"
   ]
  },
  {
   "cell_type": "code",
   "execution_count": 11,
   "id": "338708ed",
   "metadata": {},
   "outputs": [
    {
     "data": {
      "text/html": [
       "<div>\n",
       "<style scoped>\n",
       "    .dataframe tbody tr th:only-of-type {\n",
       "        vertical-align: middle;\n",
       "    }\n",
       "\n",
       "    .dataframe tbody tr th {\n",
       "        vertical-align: top;\n",
       "    }\n",
       "\n",
       "    .dataframe thead th {\n",
       "        text-align: right;\n",
       "    }\n",
       "</style>\n",
       "<table border=\"1\" class=\"dataframe\">\n",
       "  <thead>\n",
       "    <tr style=\"text-align: right;\">\n",
       "      <th></th>\n",
       "      <th>train</th>\n",
       "      <th>test</th>\n",
       "    </tr>\n",
       "  </thead>\n",
       "  <tbody>\n",
       "    <tr>\n",
       "      <th>Standard</th>\n",
       "      <td>0.532425</td>\n",
       "      <td>0.5290</td>\n",
       "    </tr>\n",
       "    <tr>\n",
       "      <th>Poor</th>\n",
       "      <td>0.290900</td>\n",
       "      <td>0.2863</td>\n",
       "    </tr>\n",
       "    <tr>\n",
       "      <th>Good</th>\n",
       "      <td>0.176675</td>\n",
       "      <td>0.1847</td>\n",
       "    </tr>\n",
       "  </tbody>\n",
       "</table>\n",
       "</div>"
      ],
      "text/plain": [
       "             train    test\n",
       "Standard  0.532425  0.5290\n",
       "Poor      0.290900  0.2863\n",
       "Good      0.176675  0.1847"
      ]
     },
     "execution_count": 11,
     "metadata": {},
     "output_type": "execute_result"
    }
   ],
   "source": [
    "pd.DataFrame({\"train\": y_train.value_counts(normalize=True), \"test\": y_test.value_counts(normalize=True)})"
   ]
  },
  {
   "cell_type": "markdown",
   "id": "5a574f1b",
   "metadata": {},
   "source": [
    "<div class=\"alert alert-info\">\n",
    "  <h1><center>Pipeline</center></h1></div>"
   ]
  },
  {
   "cell_type": "markdown",
   "id": "e55b92da",
   "metadata": {},
   "source": [
    "### CustomTransformer"
   ]
  },
  {
   "cell_type": "code",
   "execution_count": 12,
   "id": "f80fb257",
   "metadata": {},
   "outputs": [],
   "source": [
    "from typing import List\n",
    "from sklearn.base import BaseEstimator, TransformerMixin\n",
    "from sklearn.utils.validation import check_is_fitted\n",
    "\n",
    "\n",
    "class CustomTransformer(BaseEstimator, TransformerMixin):\n",
    "\n",
    "    def __init__(self) -> None:\n",
    "        self.feature_names_in_: List[str]\n",
    "        self.n_features_ : int\n",
    "        self.is_fitted_: bool\n",
    "\n",
    "    def fit(self, X, y=None, **params) -> 'CustomTransformer':\n",
    "        self.feature_names_in_ = list(X.columns)\n",
    "        self.n_features_ = X.shape[1]\n",
    "        self.is_fitted_ = True\n",
    "        return self\n",
    "\n",
    "    def transform(self, X, copy: bool = False, **params):\n",
    "        check_is_fitted(self, 'is_fitted_')\n",
    "        if copy:\n",
    "            X = X.copy()\n",
    "        return X\n",
    "\n",
    "    def get_feature_names_out(self, input_features=None) -> List[str]:\n",
    "        return self.feature_names_in_"
   ]
  },
  {
   "cell_type": "markdown",
   "id": "a9be4695",
   "metadata": {},
   "source": [
    "### RegexTransformer"
   ]
  },
  {
   "cell_type": "code",
   "execution_count": 13,
   "id": "cb2b39f7",
   "metadata": {},
   "outputs": [],
   "source": [
    "import warnings\n",
    "import numpy as np\n",
    "import pandas as pd\n",
    "from typing import List, Dict, Any, Optional\n",
    "from itertools import chain"
   ]
  },
  {
   "cell_type": "code",
   "execution_count": 26,
   "id": "112053b2",
   "metadata": {},
   "outputs": [],
   "source": [
    "class RegexTransformer(CustomTransformer):\n",
    "\n",
    "    def __init__(\n",
    "            self,\n",
    "            replace      : Optional[Dict[str, Optional[str]]] = None,\n",
    "            find         : Optional[str] = None,\n",
    "            split        : Optional[str] = None,\n",
    "            target_dtype : Optional[type] = None,\n",
    "            get_first    : bool = True,\n",
    "        ):\n",
    "        self.replace = replace\n",
    "        self.find = find\n",
    "        self.split = split\n",
    "        self.target_dtype = target_dtype\n",
    "        self.get_first = get_first\n",
    "\n",
    "    def transform(self, X: pd.DataFrame, **params):\n",
    "        X = super().transform(X)\n",
    "        X = pd.concat(\n",
    "                        [\n",
    "                            self._process_series(column_values)\n",
    "                            for _, column_values\n",
    "                            in X.items()\n",
    "                        ],\n",
    "                        axis=1\n",
    "                    )\n",
    "        return X.values\n",
    "\n",
    "    def _process_series(self, series: pd.Series) -> pd.Series:\n",
    "        if self.replace is not None:\n",
    "            for pat, repl in self.replace.items():\n",
    "                if repl is None:\n",
    "                    repl = lambda val: np.nan\n",
    "                series = series.str.replace(pat, repl, case=False, regex=True)\n",
    "        if self.find is not None:\n",
    "            series = series.str.findall(self.find)\n",
    "        if self.split is not None:\n",
    "            series = series.str.split(self.split, regex=True)\n",
    "        if self.get_first:\n",
    "            series = series.str[0]\n",
    "        if self.target_dtype is not None:\n",
    "            series = series.astype(self.target_dtype)\n",
    "        return series"
   ]
  },
  {
   "cell_type": "code",
   "execution_count": 27,
   "id": "5c300be4",
   "metadata": {},
   "outputs": [
    {
     "data": {
      "text/html": [
       "<style>#sk-container-id-6 {color: black;background-color: white;}#sk-container-id-6 pre{padding: 0;}#sk-container-id-6 div.sk-toggleable {background-color: white;}#sk-container-id-6 label.sk-toggleable__label {cursor: pointer;display: block;width: 100%;margin-bottom: 0;padding: 0.3em;box-sizing: border-box;text-align: center;}#sk-container-id-6 label.sk-toggleable__label-arrow:before {content: \"▸\";float: left;margin-right: 0.25em;color: #696969;}#sk-container-id-6 label.sk-toggleable__label-arrow:hover:before {color: black;}#sk-container-id-6 div.sk-estimator:hover label.sk-toggleable__label-arrow:before {color: black;}#sk-container-id-6 div.sk-toggleable__content {max-height: 0;max-width: 0;overflow: hidden;text-align: left;background-color: #f0f8ff;}#sk-container-id-6 div.sk-toggleable__content pre {margin: 0.2em;color: black;border-radius: 0.25em;background-color: #f0f8ff;}#sk-container-id-6 input.sk-toggleable__control:checked~div.sk-toggleable__content {max-height: 200px;max-width: 100%;overflow: auto;}#sk-container-id-6 input.sk-toggleable__control:checked~label.sk-toggleable__label-arrow:before {content: \"▾\";}#sk-container-id-6 div.sk-estimator input.sk-toggleable__control:checked~label.sk-toggleable__label {background-color: #d4ebff;}#sk-container-id-6 div.sk-label input.sk-toggleable__control:checked~label.sk-toggleable__label {background-color: #d4ebff;}#sk-container-id-6 input.sk-hidden--visually {border: 0;clip: rect(1px 1px 1px 1px);clip: rect(1px, 1px, 1px, 1px);height: 1px;margin: -1px;overflow: hidden;padding: 0;position: absolute;width: 1px;}#sk-container-id-6 div.sk-estimator {font-family: monospace;background-color: #f0f8ff;border: 1px dotted black;border-radius: 0.25em;box-sizing: border-box;margin-bottom: 0.5em;}#sk-container-id-6 div.sk-estimator:hover {background-color: #d4ebff;}#sk-container-id-6 div.sk-parallel-item::after {content: \"\";width: 100%;border-bottom: 1px solid gray;flex-grow: 1;}#sk-container-id-6 div.sk-label:hover label.sk-toggleable__label {background-color: #d4ebff;}#sk-container-id-6 div.sk-serial::before {content: \"\";position: absolute;border-left: 1px solid gray;box-sizing: border-box;top: 0;bottom: 0;left: 50%;z-index: 0;}#sk-container-id-6 div.sk-serial {display: flex;flex-direction: column;align-items: center;background-color: white;padding-right: 0.2em;padding-left: 0.2em;position: relative;}#sk-container-id-6 div.sk-item {position: relative;z-index: 1;}#sk-container-id-6 div.sk-parallel {display: flex;align-items: stretch;justify-content: center;background-color: white;position: relative;}#sk-container-id-6 div.sk-item::before, #sk-container-id-6 div.sk-parallel-item::before {content: \"\";position: absolute;border-left: 1px solid gray;box-sizing: border-box;top: 0;bottom: 0;left: 50%;z-index: -1;}#sk-container-id-6 div.sk-parallel-item {display: flex;flex-direction: column;z-index: 1;position: relative;background-color: white;}#sk-container-id-6 div.sk-parallel-item:first-child::after {align-self: flex-end;width: 50%;}#sk-container-id-6 div.sk-parallel-item:last-child::after {align-self: flex-start;width: 50%;}#sk-container-id-6 div.sk-parallel-item:only-child::after {width: 0;}#sk-container-id-6 div.sk-dashed-wrapped {border: 1px dashed gray;margin: 0 0.4em 0.5em 0.4em;box-sizing: border-box;padding-bottom: 0.4em;background-color: white;}#sk-container-id-6 div.sk-label label {font-family: monospace;font-weight: bold;display: inline-block;line-height: 1.2em;}#sk-container-id-6 div.sk-label-container {text-align: center;}#sk-container-id-6 div.sk-container {/* jupyter's `normalize.less` sets `[hidden] { display: none; }` but bootstrap.min.css set `[hidden] { display: none !important; }` so we also need the `!important` here to be able to override the default hidden behavior on the sphinx rendered scikit-learn.org. See: https://github.com/scikit-learn/scikit-learn/issues/21755 */display: inline-block !important;position: relative;}#sk-container-id-6 div.sk-text-repr-fallback {display: none;}</style><div id=\"sk-container-id-6\" class=\"sk-top-container\"><div class=\"sk-text-repr-fallback\"><pre>RegexTransformer(find=&#x27;[a-zA-Z]+\\\\_?\\\\w+&#x27;, replace={&#x27;_{2,}&#x27;: &#x27;&#x27;})</pre><b>In a Jupyter environment, please rerun this cell to show the HTML representation or trust the notebook. <br />On GitHub, the HTML representation is unable to render, please try loading this page with nbviewer.org.</b></div><div class=\"sk-container\" hidden><div class=\"sk-item\"><div class=\"sk-estimator sk-toggleable\"><input class=\"sk-toggleable__control sk-hidden--visually\" id=\"sk-estimator-id-36\" type=\"checkbox\" checked><label for=\"sk-estimator-id-36\" class=\"sk-toggleable__label sk-toggleable__label-arrow\">RegexTransformer</label><div class=\"sk-toggleable__content\"><pre>RegexTransformer(find=&#x27;[a-zA-Z]+\\\\_?\\\\w+&#x27;, replace={&#x27;_{2,}&#x27;: &#x27;&#x27;})</pre></div></div></div></div></div>"
      ],
      "text/plain": [
       "RegexTransformer(find='[a-zA-Z]+\\\\_?\\\\w+', replace={'_{2,}': ''})"
      ]
     },
     "execution_count": 27,
     "metadata": {},
     "output_type": "execute_result"
    }
   ],
   "source": [
    "rt = RegexTransformer(find=\"[a-zA-Z]+\\_?\\w+\", replace={\"_{2,}\": \"\"})\n",
    "rt.set_output(transform=\"pandas\")"
   ]
  },
  {
   "cell_type": "code",
   "execution_count": 28,
   "id": "187fa970",
   "metadata": {},
   "outputs": [
    {
     "data": {
      "text/plain": [
       "customer_id  month\n",
       "CUS_0x1000   1           Lawyer\n",
       "             2           Lawyer\n",
       "             3           Lawyer\n",
       "             4           Lawyer\n",
       "             5           Lawyer\n",
       "                        ...    \n",
       "CUS_0xffd    4        Scientist\n",
       "             5              NaN\n",
       "             6        Scientist\n",
       "             7        Scientist\n",
       "             8        Scientist\n",
       "Name: occupation, Length: 100000, dtype: object"
      ]
     },
     "execution_count": 28,
     "metadata": {},
     "output_type": "execute_result"
    }
   ],
   "source": [
    "X[\"occupation\"].str.replace(\"_{2,}\", \"\", case=False, regex=True)\\\n",
    ".str.findall(\"[a-zA-Z]+\\_?\\w+\")\\\n",
    ".str[0]"
   ]
  },
  {
   "cell_type": "markdown",
   "id": "99645bdf",
   "metadata": {},
   "source": [
    "### Data Types Normalization"
   ]
  },
  {
   "cell_type": "code",
   "execution_count": 29,
   "id": "071ad5c6",
   "metadata": {},
   "outputs": [],
   "source": [
    "from typing import List, Tuple\n",
    "\n",
    "class CustomColumnTransformer(CustomTransformer):\n",
    "\n",
    "    def __init__(self, transformers: List[Tuple[str, TransformerMixin, List[str]]]):\n",
    "        super().__init__()\n",
    "        self.transformers = transformers\n",
    "\n",
    "    def fit(self, X: pd.DataFrame, y=None, **params):\n",
    "        super().fit(X=X, y=y, **params)\n",
    "        for name, transformer, columns in self.transformers:\n",
    "            transformer.fit(X[columns])\n",
    "        return self\n",
    "\n",
    "    def transform(self, X: pd.DataFrame, **params):\n",
    "        super().transform(X=X, **params)\n",
    "        results = []\n",
    "        \n",
    "        for name, transformer, columns in self.transformers:\n",
    "            transformer_result = transformer.transform(X=X[columns], **params)\n",
    "            results.append(transformer_result)\n",
    "        \n",
    "        return np.concatenate(results, axis=1)\n",
    "        "
   ]
  },
  {
   "cell_type": "code",
   "execution_count": 30,
   "id": "a1280846",
   "metadata": {},
   "outputs": [
    {
     "data": {
      "text/html": [
       "<style>#sk-container-id-7 {color: black;background-color: white;}#sk-container-id-7 pre{padding: 0;}#sk-container-id-7 div.sk-toggleable {background-color: white;}#sk-container-id-7 label.sk-toggleable__label {cursor: pointer;display: block;width: 100%;margin-bottom: 0;padding: 0.3em;box-sizing: border-box;text-align: center;}#sk-container-id-7 label.sk-toggleable__label-arrow:before {content: \"▸\";float: left;margin-right: 0.25em;color: #696969;}#sk-container-id-7 label.sk-toggleable__label-arrow:hover:before {color: black;}#sk-container-id-7 div.sk-estimator:hover label.sk-toggleable__label-arrow:before {color: black;}#sk-container-id-7 div.sk-toggleable__content {max-height: 0;max-width: 0;overflow: hidden;text-align: left;background-color: #f0f8ff;}#sk-container-id-7 div.sk-toggleable__content pre {margin: 0.2em;color: black;border-radius: 0.25em;background-color: #f0f8ff;}#sk-container-id-7 input.sk-toggleable__control:checked~div.sk-toggleable__content {max-height: 200px;max-width: 100%;overflow: auto;}#sk-container-id-7 input.sk-toggleable__control:checked~label.sk-toggleable__label-arrow:before {content: \"▾\";}#sk-container-id-7 div.sk-estimator input.sk-toggleable__control:checked~label.sk-toggleable__label {background-color: #d4ebff;}#sk-container-id-7 div.sk-label input.sk-toggleable__control:checked~label.sk-toggleable__label {background-color: #d4ebff;}#sk-container-id-7 input.sk-hidden--visually {border: 0;clip: rect(1px 1px 1px 1px);clip: rect(1px, 1px, 1px, 1px);height: 1px;margin: -1px;overflow: hidden;padding: 0;position: absolute;width: 1px;}#sk-container-id-7 div.sk-estimator {font-family: monospace;background-color: #f0f8ff;border: 1px dotted black;border-radius: 0.25em;box-sizing: border-box;margin-bottom: 0.5em;}#sk-container-id-7 div.sk-estimator:hover {background-color: #d4ebff;}#sk-container-id-7 div.sk-parallel-item::after {content: \"\";width: 100%;border-bottom: 1px solid gray;flex-grow: 1;}#sk-container-id-7 div.sk-label:hover label.sk-toggleable__label {background-color: #d4ebff;}#sk-container-id-7 div.sk-serial::before {content: \"\";position: absolute;border-left: 1px solid gray;box-sizing: border-box;top: 0;bottom: 0;left: 50%;z-index: 0;}#sk-container-id-7 div.sk-serial {display: flex;flex-direction: column;align-items: center;background-color: white;padding-right: 0.2em;padding-left: 0.2em;position: relative;}#sk-container-id-7 div.sk-item {position: relative;z-index: 1;}#sk-container-id-7 div.sk-parallel {display: flex;align-items: stretch;justify-content: center;background-color: white;position: relative;}#sk-container-id-7 div.sk-item::before, #sk-container-id-7 div.sk-parallel-item::before {content: \"\";position: absolute;border-left: 1px solid gray;box-sizing: border-box;top: 0;bottom: 0;left: 50%;z-index: -1;}#sk-container-id-7 div.sk-parallel-item {display: flex;flex-direction: column;z-index: 1;position: relative;background-color: white;}#sk-container-id-7 div.sk-parallel-item:first-child::after {align-self: flex-end;width: 50%;}#sk-container-id-7 div.sk-parallel-item:last-child::after {align-self: flex-start;width: 50%;}#sk-container-id-7 div.sk-parallel-item:only-child::after {width: 0;}#sk-container-id-7 div.sk-dashed-wrapped {border: 1px dashed gray;margin: 0 0.4em 0.5em 0.4em;box-sizing: border-box;padding-bottom: 0.4em;background-color: white;}#sk-container-id-7 div.sk-label label {font-family: monospace;font-weight: bold;display: inline-block;line-height: 1.2em;}#sk-container-id-7 div.sk-label-container {text-align: center;}#sk-container-id-7 div.sk-container {/* jupyter's `normalize.less` sets `[hidden] { display: none; }` but bootstrap.min.css set `[hidden] { display: none !important; }` so we also need the `!important` here to be able to override the default hidden behavior on the sphinx rendered scikit-learn.org. See: https://github.com/scikit-learn/scikit-learn/issues/21755 */display: inline-block !important;position: relative;}#sk-container-id-7 div.sk-text-repr-fallback {display: none;}</style><div id=\"sk-container-id-7\" class=\"sk-top-container\"><div class=\"sk-text-repr-fallback\"><pre>CustomColumnTransformer(transformers=[(&#x27;integers&#x27;,\n",
       "                                       RegexTransformer(find=&#x27;-?\\\\d+&#x27;,\n",
       "                                                        target_dtype=&lt;class &#x27;float&#x27;&gt;),\n",
       "                                       [&#x27;age&#x27;, &#x27;num_of_delayed_payment&#x27;,\n",
       "                                        &#x27;num_of_loan&#x27;]),\n",
       "                                      (&#x27;floats&#x27;,\n",
       "                                       RegexTransformer(find=&#x27;-?[\\\\d\\\\.]+&#x27;,\n",
       "                                                        target_dtype=&lt;class &#x27;float&#x27;&gt;),\n",
       "                                       [&#x27;annual_income&#x27;,\n",
       "                                        &#x27;amount_invested_monthly&#x27;,\n",
       "                                        &#x27;changed_credit_limit&#x27;,\n",
       "                                        &#x27;monthly_balance&#x27;,\n",
       "                                        &#x27;outstanding_debt&#x27;])])</pre><b>In a Jupyter environment, please rerun this cell to show the HTML representation or trust the notebook. <br />On GitHub, the HTML representation is unable to render, please try loading this page with nbviewer.org.</b></div><div class=\"sk-container\" hidden><div class=\"sk-item\"><div class=\"sk-estimator sk-toggleable\"><input class=\"sk-toggleable__control sk-hidden--visually\" id=\"sk-estimator-id-37\" type=\"checkbox\" checked><label for=\"sk-estimator-id-37\" class=\"sk-toggleable__label sk-toggleable__label-arrow\">CustomColumnTransformer</label><div class=\"sk-toggleable__content\"><pre>CustomColumnTransformer(transformers=[(&#x27;integers&#x27;,\n",
       "                                       RegexTransformer(find=&#x27;-?\\\\d+&#x27;,\n",
       "                                                        target_dtype=&lt;class &#x27;float&#x27;&gt;),\n",
       "                                       [&#x27;age&#x27;, &#x27;num_of_delayed_payment&#x27;,\n",
       "                                        &#x27;num_of_loan&#x27;]),\n",
       "                                      (&#x27;floats&#x27;,\n",
       "                                       RegexTransformer(find=&#x27;-?[\\\\d\\\\.]+&#x27;,\n",
       "                                                        target_dtype=&lt;class &#x27;float&#x27;&gt;),\n",
       "                                       [&#x27;annual_income&#x27;,\n",
       "                                        &#x27;amount_invested_monthly&#x27;,\n",
       "                                        &#x27;changed_credit_limit&#x27;,\n",
       "                                        &#x27;monthly_balance&#x27;,\n",
       "                                        &#x27;outstanding_debt&#x27;])])</pre></div></div></div></div></div>"
      ],
      "text/plain": [
       "CustomColumnTransformer(transformers=[('integers',\n",
       "                                       RegexTransformer(find='-?\\\\d+',\n",
       "                                                        target_dtype=<class 'float'>),\n",
       "                                       ['age', 'num_of_delayed_payment',\n",
       "                                        'num_of_loan']),\n",
       "                                      ('floats',\n",
       "                                       RegexTransformer(find='-?[\\\\d\\\\.]+',\n",
       "                                                        target_dtype=<class 'float'>),\n",
       "                                       ['annual_income',\n",
       "                                        'amount_invested_monthly',\n",
       "                                        'changed_credit_limit',\n",
       "                                        'monthly_balance',\n",
       "                                        'outstanding_debt'])])"
      ]
     },
     "execution_count": 30,
     "metadata": {},
     "output_type": "execute_result"
    }
   ],
   "source": [
    "cct = CustomColumnTransformer(\n",
    "    transformers=[\n",
    "        (\n",
    "            \"integers\",\n",
    "            RegexTransformer(find=\"-?\\d+\", target_dtype=float),\n",
    "            [\"age\", \"num_of_delayed_payment\", \"num_of_loan\", ]\n",
    "        ),\n",
    "        (\n",
    "            \"floats\",\n",
    "            RegexTransformer(find=\"-?[\\d\\.]+\", target_dtype=float),\n",
    "            [\"annual_income\", \"amount_invested_monthly\", \"changed_credit_limit\", \"monthly_balance\", \"outstanding_debt\"]\n",
    "        ),]\n",
    ")\n",
    "cct.set_output(transform=\"pandas\")"
   ]
  },
  {
   "cell_type": "code",
   "execution_count": 31,
   "id": "b7d552b0",
   "metadata": {},
   "outputs": [
    {
     "data": {
      "text/html": [
       "<div>\n",
       "<style scoped>\n",
       "    .dataframe tbody tr th:only-of-type {\n",
       "        vertical-align: middle;\n",
       "    }\n",
       "\n",
       "    .dataframe tbody tr th {\n",
       "        vertical-align: top;\n",
       "    }\n",
       "\n",
       "    .dataframe thead th {\n",
       "        text-align: right;\n",
       "    }\n",
       "</style>\n",
       "<table border=\"1\" class=\"dataframe\">\n",
       "  <thead>\n",
       "    <tr style=\"text-align: right;\">\n",
       "      <th></th>\n",
       "      <th></th>\n",
       "      <th>age</th>\n",
       "      <th>num_of_delayed_payment</th>\n",
       "      <th>num_of_loan</th>\n",
       "      <th>annual_income</th>\n",
       "      <th>amount_invested_monthly</th>\n",
       "      <th>changed_credit_limit</th>\n",
       "      <th>monthly_balance</th>\n",
       "      <th>outstanding_debt</th>\n",
       "    </tr>\n",
       "    <tr>\n",
       "      <th>customer_id</th>\n",
       "      <th>month</th>\n",
       "      <th></th>\n",
       "      <th></th>\n",
       "      <th></th>\n",
       "      <th></th>\n",
       "      <th></th>\n",
       "      <th></th>\n",
       "      <th></th>\n",
       "      <th></th>\n",
       "    </tr>\n",
       "  </thead>\n",
       "  <tbody>\n",
       "    <tr>\n",
       "      <th rowspan=\"5\" valign=\"top\">CUS_0x1000</th>\n",
       "      <th>1</th>\n",
       "      <td>17.0</td>\n",
       "      <td>25.0</td>\n",
       "      <td>2.0</td>\n",
       "      <td>30625.94</td>\n",
       "      <td>244.750283</td>\n",
       "      <td>1.63</td>\n",
       "      <td>252.924793</td>\n",
       "      <td>1562.91</td>\n",
       "    </tr>\n",
       "    <tr>\n",
       "      <th>2</th>\n",
       "      <td>17.0</td>\n",
       "      <td>23.0</td>\n",
       "      <td>2.0</td>\n",
       "      <td>30625.94</td>\n",
       "      <td>176.132567</td>\n",
       "      <td>1.63</td>\n",
       "      <td>311.542510</td>\n",
       "      <td>1562.91</td>\n",
       "    </tr>\n",
       "    <tr>\n",
       "      <th>3</th>\n",
       "      <td>17.0</td>\n",
       "      <td>28.0</td>\n",
       "      <td>2.0</td>\n",
       "      <td>30625.94</td>\n",
       "      <td>109.056519</td>\n",
       "      <td>1.63</td>\n",
       "      <td>368.618557</td>\n",
       "      <td>1562.91</td>\n",
       "    </tr>\n",
       "    <tr>\n",
       "      <th>4</th>\n",
       "      <td>17.0</td>\n",
       "      <td>25.0</td>\n",
       "      <td>2.0</td>\n",
       "      <td>30625.94</td>\n",
       "      <td>87.909909</td>\n",
       "      <td>1.63</td>\n",
       "      <td>419.765167</td>\n",
       "      <td>1562.91</td>\n",
       "    </tr>\n",
       "    <tr>\n",
       "      <th>5</th>\n",
       "      <td>17.0</td>\n",
       "      <td>25.0</td>\n",
       "      <td>2.0</td>\n",
       "      <td>30625.94</td>\n",
       "      <td>191.834767</td>\n",
       "      <td>2.63</td>\n",
       "      <td>305.840309</td>\n",
       "      <td>1562.91</td>\n",
       "    </tr>\n",
       "    <tr>\n",
       "      <th>...</th>\n",
       "      <th>...</th>\n",
       "      <td>...</td>\n",
       "      <td>...</td>\n",
       "      <td>...</td>\n",
       "      <td>...</td>\n",
       "      <td>...</td>\n",
       "      <td>...</td>\n",
       "      <td>...</td>\n",
       "      <td>...</td>\n",
       "    </tr>\n",
       "    <tr>\n",
       "      <th rowspan=\"5\" valign=\"top\">CUS_0xffd</th>\n",
       "      <th>4</th>\n",
       "      <td>29.0</td>\n",
       "      <td>12.0</td>\n",
       "      <td>-100.0</td>\n",
       "      <td>41398.44</td>\n",
       "      <td>234.354940</td>\n",
       "      <td>10.07</td>\n",
       "      <td>247.655411</td>\n",
       "      <td>1701.88</td>\n",
       "    </tr>\n",
       "    <tr>\n",
       "      <th>5</th>\n",
       "      <td>29.0</td>\n",
       "      <td>NaN</td>\n",
       "      <td>6.0</td>\n",
       "      <td>41398.44</td>\n",
       "      <td>104.629474</td>\n",
       "      <td>10.07</td>\n",
       "      <td>337.380877</td>\n",
       "      <td>1701.88</td>\n",
       "    </tr>\n",
       "    <tr>\n",
       "      <th>6</th>\n",
       "      <td>29.0</td>\n",
       "      <td>12.0</td>\n",
       "      <td>6.0</td>\n",
       "      <td>41398.44</td>\n",
       "      <td>47.007379</td>\n",
       "      <td>10.07</td>\n",
       "      <td>395.002972</td>\n",
       "      <td>1701.88</td>\n",
       "    </tr>\n",
       "    <tr>\n",
       "      <th>7</th>\n",
       "      <td>30.0</td>\n",
       "      <td>12.0</td>\n",
       "      <td>6.0</td>\n",
       "      <td>41398.44</td>\n",
       "      <td>257.989694</td>\n",
       "      <td>10.07</td>\n",
       "      <td>194.020657</td>\n",
       "      <td>1701.88</td>\n",
       "    </tr>\n",
       "    <tr>\n",
       "      <th>8</th>\n",
       "      <td>30.0</td>\n",
       "      <td>11.0</td>\n",
       "      <td>6.0</td>\n",
       "      <td>41398.44</td>\n",
       "      <td>42.575720</td>\n",
       "      <td>12.07</td>\n",
       "      <td>389.434631</td>\n",
       "      <td>1701.88</td>\n",
       "    </tr>\n",
       "  </tbody>\n",
       "</table>\n",
       "<p>100000 rows × 8 columns</p>\n",
       "</div>"
      ],
      "text/plain": [
       "                    age  num_of_delayed_payment  num_of_loan  annual_income  \\\n",
       "customer_id month                                                             \n",
       "CUS_0x1000  1      17.0                    25.0          2.0       30625.94   \n",
       "            2      17.0                    23.0          2.0       30625.94   \n",
       "            3      17.0                    28.0          2.0       30625.94   \n",
       "            4      17.0                    25.0          2.0       30625.94   \n",
       "            5      17.0                    25.0          2.0       30625.94   \n",
       "...                 ...                     ...          ...            ...   \n",
       "CUS_0xffd   4      29.0                    12.0       -100.0       41398.44   \n",
       "            5      29.0                     NaN          6.0       41398.44   \n",
       "            6      29.0                    12.0          6.0       41398.44   \n",
       "            7      30.0                    12.0          6.0       41398.44   \n",
       "            8      30.0                    11.0          6.0       41398.44   \n",
       "\n",
       "                   amount_invested_monthly  changed_credit_limit  \\\n",
       "customer_id month                                                  \n",
       "CUS_0x1000  1                   244.750283                  1.63   \n",
       "            2                   176.132567                  1.63   \n",
       "            3                   109.056519                  1.63   \n",
       "            4                    87.909909                  1.63   \n",
       "            5                   191.834767                  2.63   \n",
       "...                                    ...                   ...   \n",
       "CUS_0xffd   4                   234.354940                 10.07   \n",
       "            5                   104.629474                 10.07   \n",
       "            6                    47.007379                 10.07   \n",
       "            7                   257.989694                 10.07   \n",
       "            8                    42.575720                 12.07   \n",
       "\n",
       "                   monthly_balance  outstanding_debt  \n",
       "customer_id month                                     \n",
       "CUS_0x1000  1           252.924793           1562.91  \n",
       "            2           311.542510           1562.91  \n",
       "            3           368.618557           1562.91  \n",
       "            4           419.765167           1562.91  \n",
       "            5           305.840309           1562.91  \n",
       "...                            ...               ...  \n",
       "CUS_0xffd   4           247.655411           1701.88  \n",
       "            5           337.380877           1701.88  \n",
       "            6           395.002972           1701.88  \n",
       "            7           194.020657           1701.88  \n",
       "            8           389.434631           1701.88  \n",
       "\n",
       "[100000 rows x 8 columns]"
      ]
     },
     "execution_count": 31,
     "metadata": {},
     "output_type": "execute_result"
    }
   ],
   "source": [
    "cct.fit_transform(X=X[[\"age\", \"num_of_delayed_payment\", \"num_of_loan\", \"annual_income\", \"amount_invested_monthly\", \"changed_credit_limit\", \"monthly_balance\", \"outstanding_debt\"]])"
   ]
  },
  {
   "cell_type": "code",
   "execution_count": 32,
   "id": "3a07011a",
   "metadata": {},
   "outputs": [
    {
     "data": {
      "text/html": [
       "<style>#sk-container-id-8 {color: black;background-color: white;}#sk-container-id-8 pre{padding: 0;}#sk-container-id-8 div.sk-toggleable {background-color: white;}#sk-container-id-8 label.sk-toggleable__label {cursor: pointer;display: block;width: 100%;margin-bottom: 0;padding: 0.3em;box-sizing: border-box;text-align: center;}#sk-container-id-8 label.sk-toggleable__label-arrow:before {content: \"▸\";float: left;margin-right: 0.25em;color: #696969;}#sk-container-id-8 label.sk-toggleable__label-arrow:hover:before {color: black;}#sk-container-id-8 div.sk-estimator:hover label.sk-toggleable__label-arrow:before {color: black;}#sk-container-id-8 div.sk-toggleable__content {max-height: 0;max-width: 0;overflow: hidden;text-align: left;background-color: #f0f8ff;}#sk-container-id-8 div.sk-toggleable__content pre {margin: 0.2em;color: black;border-radius: 0.25em;background-color: #f0f8ff;}#sk-container-id-8 input.sk-toggleable__control:checked~div.sk-toggleable__content {max-height: 200px;max-width: 100%;overflow: auto;}#sk-container-id-8 input.sk-toggleable__control:checked~label.sk-toggleable__label-arrow:before {content: \"▾\";}#sk-container-id-8 div.sk-estimator input.sk-toggleable__control:checked~label.sk-toggleable__label {background-color: #d4ebff;}#sk-container-id-8 div.sk-label input.sk-toggleable__control:checked~label.sk-toggleable__label {background-color: #d4ebff;}#sk-container-id-8 input.sk-hidden--visually {border: 0;clip: rect(1px 1px 1px 1px);clip: rect(1px, 1px, 1px, 1px);height: 1px;margin: -1px;overflow: hidden;padding: 0;position: absolute;width: 1px;}#sk-container-id-8 div.sk-estimator {font-family: monospace;background-color: #f0f8ff;border: 1px dotted black;border-radius: 0.25em;box-sizing: border-box;margin-bottom: 0.5em;}#sk-container-id-8 div.sk-estimator:hover {background-color: #d4ebff;}#sk-container-id-8 div.sk-parallel-item::after {content: \"\";width: 100%;border-bottom: 1px solid gray;flex-grow: 1;}#sk-container-id-8 div.sk-label:hover label.sk-toggleable__label {background-color: #d4ebff;}#sk-container-id-8 div.sk-serial::before {content: \"\";position: absolute;border-left: 1px solid gray;box-sizing: border-box;top: 0;bottom: 0;left: 50%;z-index: 0;}#sk-container-id-8 div.sk-serial {display: flex;flex-direction: column;align-items: center;background-color: white;padding-right: 0.2em;padding-left: 0.2em;position: relative;}#sk-container-id-8 div.sk-item {position: relative;z-index: 1;}#sk-container-id-8 div.sk-parallel {display: flex;align-items: stretch;justify-content: center;background-color: white;position: relative;}#sk-container-id-8 div.sk-item::before, #sk-container-id-8 div.sk-parallel-item::before {content: \"\";position: absolute;border-left: 1px solid gray;box-sizing: border-box;top: 0;bottom: 0;left: 50%;z-index: -1;}#sk-container-id-8 div.sk-parallel-item {display: flex;flex-direction: column;z-index: 1;position: relative;background-color: white;}#sk-container-id-8 div.sk-parallel-item:first-child::after {align-self: flex-end;width: 50%;}#sk-container-id-8 div.sk-parallel-item:last-child::after {align-self: flex-start;width: 50%;}#sk-container-id-8 div.sk-parallel-item:only-child::after {width: 0;}#sk-container-id-8 div.sk-dashed-wrapped {border: 1px dashed gray;margin: 0 0.4em 0.5em 0.4em;box-sizing: border-box;padding-bottom: 0.4em;background-color: white;}#sk-container-id-8 div.sk-label label {font-family: monospace;font-weight: bold;display: inline-block;line-height: 1.2em;}#sk-container-id-8 div.sk-label-container {text-align: center;}#sk-container-id-8 div.sk-container {/* jupyter's `normalize.less` sets `[hidden] { display: none; }` but bootstrap.min.css set `[hidden] { display: none !important; }` so we also need the `!important` here to be able to override the default hidden behavior on the sphinx rendered scikit-learn.org. See: https://github.com/scikit-learn/scikit-learn/issues/21755 */display: inline-block !important;position: relative;}#sk-container-id-8 div.sk-text-repr-fallback {display: none;}</style><div id=\"sk-container-id-8\" class=\"sk-top-container\"><div class=\"sk-text-repr-fallback\"><pre>ColumnTransformer(remainder=&#x27;passthrough&#x27;,\n",
       "                  transformers=[(&#x27;integers&#x27;,\n",
       "                                 RegexTransformer(find=&#x27;-?\\\\d+&#x27;,\n",
       "                                                  target_dtype=&lt;class &#x27;float&#x27;&gt;),\n",
       "                                 [&#x27;age&#x27;, &#x27;num_of_delayed_payment&#x27;,\n",
       "                                  &#x27;num_of_loan&#x27;]),\n",
       "                                (&#x27;floats&#x27;,\n",
       "                                 RegexTransformer(find=&#x27;-?[\\\\d\\\\.]+&#x27;,\n",
       "                                                  target_dtype=&lt;class &#x27;float&#x27;&gt;),\n",
       "                                 [&#x27;annual_income&#x27;, &#x27;amount_invested_monthly&#x27;,\n",
       "                                  &#x27;changed_credit_limit&#x27;, &#x27;monthly_balance&#x27;,\n",
       "                                  &#x27;outstanding_de...\n",
       "                                (&#x27;credit_history_months&#x27;,\n",
       "                                 RegexTransformer(find=&#x27;\\\\d+(?=\\\\sMonth)&#x27;,\n",
       "                                                  target_dtype=&lt;class &#x27;float&#x27;&gt;),\n",
       "                                 [&#x27;credit_history_age_in_months&#x27;]),\n",
       "                                (&#x27;payment_behaviour&#x27;,\n",
       "                                 RegexTransformer(get_first=False,\n",
       "                                                  replace={&#x27;!@9#%8&#x27;: None}),\n",
       "                                 [&#x27;payment_behaviour&#x27;]),\n",
       "                                (&#x27;type_of_loan&#x27;,\n",
       "                                 RegexTransformer(get_first=False,\n",
       "                                                  replace={&#x27;\\\\sLoan|\\\\sand&#x27;: &#x27;&#x27;}),\n",
       "                                 [&#x27;type_of_loan&#x27;])],\n",
       "                  verbose_feature_names_out=False)</pre><b>In a Jupyter environment, please rerun this cell to show the HTML representation or trust the notebook. <br />On GitHub, the HTML representation is unable to render, please try loading this page with nbviewer.org.</b></div><div class=\"sk-container\" hidden><div class=\"sk-item sk-dashed-wrapped\"><div class=\"sk-label-container\"><div class=\"sk-label sk-toggleable\"><input class=\"sk-toggleable__control sk-hidden--visually\" id=\"sk-estimator-id-38\" type=\"checkbox\" ><label for=\"sk-estimator-id-38\" class=\"sk-toggleable__label sk-toggleable__label-arrow\">ColumnTransformer</label><div class=\"sk-toggleable__content\"><pre>ColumnTransformer(remainder=&#x27;passthrough&#x27;,\n",
       "                  transformers=[(&#x27;integers&#x27;,\n",
       "                                 RegexTransformer(find=&#x27;-?\\\\d+&#x27;,\n",
       "                                                  target_dtype=&lt;class &#x27;float&#x27;&gt;),\n",
       "                                 [&#x27;age&#x27;, &#x27;num_of_delayed_payment&#x27;,\n",
       "                                  &#x27;num_of_loan&#x27;]),\n",
       "                                (&#x27;floats&#x27;,\n",
       "                                 RegexTransformer(find=&#x27;-?[\\\\d\\\\.]+&#x27;,\n",
       "                                                  target_dtype=&lt;class &#x27;float&#x27;&gt;),\n",
       "                                 [&#x27;annual_income&#x27;, &#x27;amount_invested_monthly&#x27;,\n",
       "                                  &#x27;changed_credit_limit&#x27;, &#x27;monthly_balance&#x27;,\n",
       "                                  &#x27;outstanding_de...\n",
       "                                (&#x27;credit_history_months&#x27;,\n",
       "                                 RegexTransformer(find=&#x27;\\\\d+(?=\\\\sMonth)&#x27;,\n",
       "                                                  target_dtype=&lt;class &#x27;float&#x27;&gt;),\n",
       "                                 [&#x27;credit_history_age_in_months&#x27;]),\n",
       "                                (&#x27;payment_behaviour&#x27;,\n",
       "                                 RegexTransformer(get_first=False,\n",
       "                                                  replace={&#x27;!@9#%8&#x27;: None}),\n",
       "                                 [&#x27;payment_behaviour&#x27;]),\n",
       "                                (&#x27;type_of_loan&#x27;,\n",
       "                                 RegexTransformer(get_first=False,\n",
       "                                                  replace={&#x27;\\\\sLoan|\\\\sand&#x27;: &#x27;&#x27;}),\n",
       "                                 [&#x27;type_of_loan&#x27;])],\n",
       "                  verbose_feature_names_out=False)</pre></div></div></div><div class=\"sk-parallel\"><div class=\"sk-parallel-item\"><div class=\"sk-item\"><div class=\"sk-label-container\"><div class=\"sk-label sk-toggleable\"><input class=\"sk-toggleable__control sk-hidden--visually\" id=\"sk-estimator-id-39\" type=\"checkbox\" ><label for=\"sk-estimator-id-39\" class=\"sk-toggleable__label sk-toggleable__label-arrow\">integers</label><div class=\"sk-toggleable__content\"><pre>[&#x27;age&#x27;, &#x27;num_of_delayed_payment&#x27;, &#x27;num_of_loan&#x27;]</pre></div></div></div><div class=\"sk-serial\"><div class=\"sk-item\"><div class=\"sk-estimator sk-toggleable\"><input class=\"sk-toggleable__control sk-hidden--visually\" id=\"sk-estimator-id-40\" type=\"checkbox\" ><label for=\"sk-estimator-id-40\" class=\"sk-toggleable__label sk-toggleable__label-arrow\">RegexTransformer</label><div class=\"sk-toggleable__content\"><pre>RegexTransformer(find=&#x27;-?\\\\d+&#x27;, target_dtype=&lt;class &#x27;float&#x27;&gt;)</pre></div></div></div></div></div></div><div class=\"sk-parallel-item\"><div class=\"sk-item\"><div class=\"sk-label-container\"><div class=\"sk-label sk-toggleable\"><input class=\"sk-toggleable__control sk-hidden--visually\" id=\"sk-estimator-id-41\" type=\"checkbox\" ><label for=\"sk-estimator-id-41\" class=\"sk-toggleable__label sk-toggleable__label-arrow\">floats</label><div class=\"sk-toggleable__content\"><pre>[&#x27;annual_income&#x27;, &#x27;amount_invested_monthly&#x27;, &#x27;changed_credit_limit&#x27;, &#x27;monthly_balance&#x27;, &#x27;outstanding_debt&#x27;]</pre></div></div></div><div class=\"sk-serial\"><div class=\"sk-item\"><div class=\"sk-estimator sk-toggleable\"><input class=\"sk-toggleable__control sk-hidden--visually\" id=\"sk-estimator-id-42\" type=\"checkbox\" ><label for=\"sk-estimator-id-42\" class=\"sk-toggleable__label sk-toggleable__label-arrow\">RegexTransformer</label><div class=\"sk-toggleable__content\"><pre>RegexTransformer(find=&#x27;-?[\\\\d\\\\.]+&#x27;, target_dtype=&lt;class &#x27;float&#x27;&gt;)</pre></div></div></div></div></div></div><div class=\"sk-parallel-item\"><div class=\"sk-item\"><div class=\"sk-label-container\"><div class=\"sk-label sk-toggleable\"><input class=\"sk-toggleable__control sk-hidden--visually\" id=\"sk-estimator-id-43\" type=\"checkbox\" ><label for=\"sk-estimator-id-43\" class=\"sk-toggleable__label sk-toggleable__label-arrow\">strings</label><div class=\"sk-toggleable__content\"><pre>[&#x27;credit_mix&#x27;, &#x27;occupation&#x27;]</pre></div></div></div><div class=\"sk-serial\"><div class=\"sk-item\"><div class=\"sk-estimator sk-toggleable\"><input class=\"sk-toggleable__control sk-hidden--visually\" id=\"sk-estimator-id-44\" type=\"checkbox\" ><label for=\"sk-estimator-id-44\" class=\"sk-toggleable__label sk-toggleable__label-arrow\">RegexTransformer</label><div class=\"sk-toggleable__content\"><pre>RegexTransformer(find=&#x27;\\\\w+\\\\_?\\\\w+&#x27;, replace={&#x27;_{2,}&#x27;: &#x27;&#x27;},\n",
       "                 target_dtype=&lt;class &#x27;str&#x27;&gt;)</pre></div></div></div></div></div></div><div class=\"sk-parallel-item\"><div class=\"sk-item\"><div class=\"sk-label-container\"><div class=\"sk-label sk-toggleable\"><input class=\"sk-toggleable__control sk-hidden--visually\" id=\"sk-estimator-id-45\" type=\"checkbox\" ><label for=\"sk-estimator-id-45\" class=\"sk-toggleable__label sk-toggleable__label-arrow\">credit_history_years</label><div class=\"sk-toggleable__content\"><pre>[&#x27;credit_history_age_in_years&#x27;]</pre></div></div></div><div class=\"sk-serial\"><div class=\"sk-item\"><div class=\"sk-estimator sk-toggleable\"><input class=\"sk-toggleable__control sk-hidden--visually\" id=\"sk-estimator-id-46\" type=\"checkbox\" ><label for=\"sk-estimator-id-46\" class=\"sk-toggleable__label sk-toggleable__label-arrow\">RegexTransformer</label><div class=\"sk-toggleable__content\"><pre>RegexTransformer(find=&#x27;\\\\d+(?=\\\\sYear)&#x27;, target_dtype=&lt;class &#x27;float&#x27;&gt;)</pre></div></div></div></div></div></div><div class=\"sk-parallel-item\"><div class=\"sk-item\"><div class=\"sk-label-container\"><div class=\"sk-label sk-toggleable\"><input class=\"sk-toggleable__control sk-hidden--visually\" id=\"sk-estimator-id-47\" type=\"checkbox\" ><label for=\"sk-estimator-id-47\" class=\"sk-toggleable__label sk-toggleable__label-arrow\">credit_history_months</label><div class=\"sk-toggleable__content\"><pre>[&#x27;credit_history_age_in_months&#x27;]</pre></div></div></div><div class=\"sk-serial\"><div class=\"sk-item\"><div class=\"sk-estimator sk-toggleable\"><input class=\"sk-toggleable__control sk-hidden--visually\" id=\"sk-estimator-id-48\" type=\"checkbox\" ><label for=\"sk-estimator-id-48\" class=\"sk-toggleable__label sk-toggleable__label-arrow\">RegexTransformer</label><div class=\"sk-toggleable__content\"><pre>RegexTransformer(find=&#x27;\\\\d+(?=\\\\sMonth)&#x27;, target_dtype=&lt;class &#x27;float&#x27;&gt;)</pre></div></div></div></div></div></div><div class=\"sk-parallel-item\"><div class=\"sk-item\"><div class=\"sk-label-container\"><div class=\"sk-label sk-toggleable\"><input class=\"sk-toggleable__control sk-hidden--visually\" id=\"sk-estimator-id-49\" type=\"checkbox\" ><label for=\"sk-estimator-id-49\" class=\"sk-toggleable__label sk-toggleable__label-arrow\">payment_behaviour</label><div class=\"sk-toggleable__content\"><pre>[&#x27;payment_behaviour&#x27;]</pre></div></div></div><div class=\"sk-serial\"><div class=\"sk-item\"><div class=\"sk-estimator sk-toggleable\"><input class=\"sk-toggleable__control sk-hidden--visually\" id=\"sk-estimator-id-50\" type=\"checkbox\" ><label for=\"sk-estimator-id-50\" class=\"sk-toggleable__label sk-toggleable__label-arrow\">RegexTransformer</label><div class=\"sk-toggleable__content\"><pre>RegexTransformer(get_first=False, replace={&#x27;!@9#%8&#x27;: None})</pre></div></div></div></div></div></div><div class=\"sk-parallel-item\"><div class=\"sk-item\"><div class=\"sk-label-container\"><div class=\"sk-label sk-toggleable\"><input class=\"sk-toggleable__control sk-hidden--visually\" id=\"sk-estimator-id-51\" type=\"checkbox\" ><label for=\"sk-estimator-id-51\" class=\"sk-toggleable__label sk-toggleable__label-arrow\">type_of_loan</label><div class=\"sk-toggleable__content\"><pre>[&#x27;type_of_loan&#x27;]</pre></div></div></div><div class=\"sk-serial\"><div class=\"sk-item\"><div class=\"sk-estimator sk-toggleable\"><input class=\"sk-toggleable__control sk-hidden--visually\" id=\"sk-estimator-id-52\" type=\"checkbox\" ><label for=\"sk-estimator-id-52\" class=\"sk-toggleable__label sk-toggleable__label-arrow\">RegexTransformer</label><div class=\"sk-toggleable__content\"><pre>RegexTransformer(get_first=False, replace={&#x27;\\\\sLoan|\\\\sand&#x27;: &#x27;&#x27;})</pre></div></div></div></div></div></div><div class=\"sk-parallel-item\"><div class=\"sk-item\"><div class=\"sk-label-container\"><div class=\"sk-label sk-toggleable\"><input class=\"sk-toggleable__control sk-hidden--visually\" id=\"sk-estimator-id-53\" type=\"checkbox\" ><label for=\"sk-estimator-id-53\" class=\"sk-toggleable__label sk-toggleable__label-arrow\">remainder</label><div class=\"sk-toggleable__content\"><pre></pre></div></div></div><div class=\"sk-serial\"><div class=\"sk-item\"><div class=\"sk-estimator sk-toggleable\"><input class=\"sk-toggleable__control sk-hidden--visually\" id=\"sk-estimator-id-54\" type=\"checkbox\" ><label for=\"sk-estimator-id-54\" class=\"sk-toggleable__label sk-toggleable__label-arrow\">passthrough</label><div class=\"sk-toggleable__content\"><pre>passthrough</pre></div></div></div></div></div></div></div></div></div></div>"
      ],
      "text/plain": [
       "ColumnTransformer(remainder='passthrough',\n",
       "                  transformers=[('integers',\n",
       "                                 RegexTransformer(find='-?\\\\d+',\n",
       "                                                  target_dtype=<class 'float'>),\n",
       "                                 ['age', 'num_of_delayed_payment',\n",
       "                                  'num_of_loan']),\n",
       "                                ('floats',\n",
       "                                 RegexTransformer(find='-?[\\\\d\\\\.]+',\n",
       "                                                  target_dtype=<class 'float'>),\n",
       "                                 ['annual_income', 'amount_invested_monthly',\n",
       "                                  'changed_credit_limit', 'monthly_balance',\n",
       "                                  'outstanding_de...\n",
       "                                ('credit_history_months',\n",
       "                                 RegexTransformer(find='\\\\d+(?=\\\\sMonth)',\n",
       "                                                  target_dtype=<class 'float'>),\n",
       "                                 ['credit_history_age_in_months']),\n",
       "                                ('payment_behaviour',\n",
       "                                 RegexTransformer(get_first=False,\n",
       "                                                  replace={'!@9#%8': None}),\n",
       "                                 ['payment_behaviour']),\n",
       "                                ('type_of_loan',\n",
       "                                 RegexTransformer(get_first=False,\n",
       "                                                  replace={'\\\\sLoan|\\\\sand': ''}),\n",
       "                                 ['type_of_loan'])],\n",
       "                  verbose_feature_names_out=False)"
      ]
     },
     "execution_count": 32,
     "metadata": {},
     "output_type": "execute_result"
    }
   ],
   "source": [
    "dtype_transformer = ColumnTransformer(\n",
    "    transformers=[\n",
    "        (\n",
    "            \"integers\",\n",
    "            RegexTransformer(find=\"-?\\d+\", target_dtype=float),\n",
    "            [\"age\", \"num_of_delayed_payment\", \"num_of_loan\", ]\n",
    "        ),\n",
    "        (\n",
    "            \"floats\",\n",
    "            RegexTransformer(find=\"-?[\\d\\.]+\", target_dtype=float),\n",
    "            [\"annual_income\", \"amount_invested_monthly\", \"changed_credit_limit\", \"monthly_balance\", \"outstanding_debt\"]\n",
    "        ),\n",
    "        (\n",
    "            \"strings\",\n",
    "            RegexTransformer(find=\"\\w+\\_?\\w+\", replace={\"_{2,}\": \"\"}, target_dtype=str),\n",
    "            [\"credit_mix\", \"occupation\",]\n",
    "        ),\n",
    "        (\n",
    "            \"credit_history_years\",\n",
    "            RegexTransformer(find=r\"\\d+(?=\\sYear)\", target_dtype=float),\n",
    "            [\"credit_history_age_in_years\"]\n",
    "        ),\n",
    "        (\n",
    "            \"credit_history_months\",\n",
    "            RegexTransformer(find=r\"\\d+(?=\\sMonth)\", target_dtype=float),\n",
    "            [\"credit_history_age_in_months\"]\n",
    "        ),\n",
    "        (\n",
    "            \"payment_behaviour\",\n",
    "            RegexTransformer(replace={\"!@9#%8\": None}, get_first=False),\n",
    "            [\"payment_behaviour\"]\n",
    "        ),\n",
    "        (\n",
    "            \"type_of_loan\",\n",
    "            RegexTransformer(replace={r\"\\sLoan|\\sand\":\"\"}, get_first=False),\n",
    "            [\"type_of_loan\"]\n",
    "        ),\n",
    "    ],\n",
    "    remainder=\"passthrough\",\n",
    "    verbose_feature_names_out=False\n",
    ")\n",
    "\n",
    "dtype_transformer.set_output(transform=\"pandas\")"
   ]
  },
  {
   "cell_type": "code",
   "execution_count": 33,
   "id": "4a4e3c43",
   "metadata": {},
   "outputs": [],
   "source": [
    "X_dtype = dtype_transformer.fit_transform(X)"
   ]
  },
  {
   "cell_type": "markdown",
   "id": "5664a021",
   "metadata": {},
   "source": [
    "### Preprocessing"
   ]
  },
  {
   "cell_type": "markdown",
   "id": "886ba1d1",
   "metadata": {},
   "source": [
    "#### Categorical Encoding"
   ]
  },
  {
   "cell_type": "code",
   "execution_count": 34,
   "id": "4cb30017",
   "metadata": {},
   "outputs": [
    {
     "data": {
      "text/html": [
       "<style>#sk-container-id-9 {color: black;background-color: white;}#sk-container-id-9 pre{padding: 0;}#sk-container-id-9 div.sk-toggleable {background-color: white;}#sk-container-id-9 label.sk-toggleable__label {cursor: pointer;display: block;width: 100%;margin-bottom: 0;padding: 0.3em;box-sizing: border-box;text-align: center;}#sk-container-id-9 label.sk-toggleable__label-arrow:before {content: \"▸\";float: left;margin-right: 0.25em;color: #696969;}#sk-container-id-9 label.sk-toggleable__label-arrow:hover:before {color: black;}#sk-container-id-9 div.sk-estimator:hover label.sk-toggleable__label-arrow:before {color: black;}#sk-container-id-9 div.sk-toggleable__content {max-height: 0;max-width: 0;overflow: hidden;text-align: left;background-color: #f0f8ff;}#sk-container-id-9 div.sk-toggleable__content pre {margin: 0.2em;color: black;border-radius: 0.25em;background-color: #f0f8ff;}#sk-container-id-9 input.sk-toggleable__control:checked~div.sk-toggleable__content {max-height: 200px;max-width: 100%;overflow: auto;}#sk-container-id-9 input.sk-toggleable__control:checked~label.sk-toggleable__label-arrow:before {content: \"▾\";}#sk-container-id-9 div.sk-estimator input.sk-toggleable__control:checked~label.sk-toggleable__label {background-color: #d4ebff;}#sk-container-id-9 div.sk-label input.sk-toggleable__control:checked~label.sk-toggleable__label {background-color: #d4ebff;}#sk-container-id-9 input.sk-hidden--visually {border: 0;clip: rect(1px 1px 1px 1px);clip: rect(1px, 1px, 1px, 1px);height: 1px;margin: -1px;overflow: hidden;padding: 0;position: absolute;width: 1px;}#sk-container-id-9 div.sk-estimator {font-family: monospace;background-color: #f0f8ff;border: 1px dotted black;border-radius: 0.25em;box-sizing: border-box;margin-bottom: 0.5em;}#sk-container-id-9 div.sk-estimator:hover {background-color: #d4ebff;}#sk-container-id-9 div.sk-parallel-item::after {content: \"\";width: 100%;border-bottom: 1px solid gray;flex-grow: 1;}#sk-container-id-9 div.sk-label:hover label.sk-toggleable__label {background-color: #d4ebff;}#sk-container-id-9 div.sk-serial::before {content: \"\";position: absolute;border-left: 1px solid gray;box-sizing: border-box;top: 0;bottom: 0;left: 50%;z-index: 0;}#sk-container-id-9 div.sk-serial {display: flex;flex-direction: column;align-items: center;background-color: white;padding-right: 0.2em;padding-left: 0.2em;position: relative;}#sk-container-id-9 div.sk-item {position: relative;z-index: 1;}#sk-container-id-9 div.sk-parallel {display: flex;align-items: stretch;justify-content: center;background-color: white;position: relative;}#sk-container-id-9 div.sk-item::before, #sk-container-id-9 div.sk-parallel-item::before {content: \"\";position: absolute;border-left: 1px solid gray;box-sizing: border-box;top: 0;bottom: 0;left: 50%;z-index: -1;}#sk-container-id-9 div.sk-parallel-item {display: flex;flex-direction: column;z-index: 1;position: relative;background-color: white;}#sk-container-id-9 div.sk-parallel-item:first-child::after {align-self: flex-end;width: 50%;}#sk-container-id-9 div.sk-parallel-item:last-child::after {align-self: flex-start;width: 50%;}#sk-container-id-9 div.sk-parallel-item:only-child::after {width: 0;}#sk-container-id-9 div.sk-dashed-wrapped {border: 1px dashed gray;margin: 0 0.4em 0.5em 0.4em;box-sizing: border-box;padding-bottom: 0.4em;background-color: white;}#sk-container-id-9 div.sk-label label {font-family: monospace;font-weight: bold;display: inline-block;line-height: 1.2em;}#sk-container-id-9 div.sk-label-container {text-align: center;}#sk-container-id-9 div.sk-container {/* jupyter's `normalize.less` sets `[hidden] { display: none; }` but bootstrap.min.css set `[hidden] { display: none !important; }` so we also need the `!important` here to be able to override the default hidden behavior on the sphinx rendered scikit-learn.org. See: https://github.com/scikit-learn/scikit-learn/issues/21755 */display: inline-block !important;position: relative;}#sk-container-id-9 div.sk-text-repr-fallback {display: none;}</style><div id=\"sk-container-id-9\" class=\"sk-top-container\"><div class=\"sk-text-repr-fallback\"><pre>ColumnTransformer(transformers=[(&#x27;ordinal&#x27;,\n",
       "                                 OrdinalEncoder(categories=[[&#x27;Bad&#x27;, &#x27;Standard&#x27;,\n",
       "                                                             &#x27;Good&#x27;]],\n",
       "                                                handle_unknown=&#x27;use_encoded_value&#x27;,\n",
       "                                                unknown_value=-1),\n",
       "                                 [&#x27;credit_mix&#x27;]),\n",
       "                                (&#x27;onehot&#x27;,\n",
       "                                 OneHotEncoder(handle_unknown=&#x27;ignore&#x27;,\n",
       "                                               sparse_output=False),\n",
       "                                 [&#x27;occupation&#x27;, &#x27;payment_of_min_amount&#x27;]),\n",
       "                                (&#x27;payment_behaviour&#x27;,\n",
       "                                 MultilabelEncoder(split_by=&#x27;(?&lt;=spent)\\\\_&#x27;),\n",
       "                                 [&#x27;payment_behaviour&#x27;]),\n",
       "                                (&#x27;type_of_loan&#x27;,\n",
       "                                 MultilabelEncoder(split_by=&#x27;, &#x27;),\n",
       "                                 [&#x27;type_of_loan&#x27;])],\n",
       "                  verbose_feature_names_out=False)</pre><b>In a Jupyter environment, please rerun this cell to show the HTML representation or trust the notebook. <br />On GitHub, the HTML representation is unable to render, please try loading this page with nbviewer.org.</b></div><div class=\"sk-container\" hidden><div class=\"sk-item sk-dashed-wrapped\"><div class=\"sk-label-container\"><div class=\"sk-label sk-toggleable\"><input class=\"sk-toggleable__control sk-hidden--visually\" id=\"sk-estimator-id-55\" type=\"checkbox\" ><label for=\"sk-estimator-id-55\" class=\"sk-toggleable__label sk-toggleable__label-arrow\">ColumnTransformer</label><div class=\"sk-toggleable__content\"><pre>ColumnTransformer(transformers=[(&#x27;ordinal&#x27;,\n",
       "                                 OrdinalEncoder(categories=[[&#x27;Bad&#x27;, &#x27;Standard&#x27;,\n",
       "                                                             &#x27;Good&#x27;]],\n",
       "                                                handle_unknown=&#x27;use_encoded_value&#x27;,\n",
       "                                                unknown_value=-1),\n",
       "                                 [&#x27;credit_mix&#x27;]),\n",
       "                                (&#x27;onehot&#x27;,\n",
       "                                 OneHotEncoder(handle_unknown=&#x27;ignore&#x27;,\n",
       "                                               sparse_output=False),\n",
       "                                 [&#x27;occupation&#x27;, &#x27;payment_of_min_amount&#x27;]),\n",
       "                                (&#x27;payment_behaviour&#x27;,\n",
       "                                 MultilabelEncoder(split_by=&#x27;(?&lt;=spent)\\\\_&#x27;),\n",
       "                                 [&#x27;payment_behaviour&#x27;]),\n",
       "                                (&#x27;type_of_loan&#x27;,\n",
       "                                 MultilabelEncoder(split_by=&#x27;, &#x27;),\n",
       "                                 [&#x27;type_of_loan&#x27;])],\n",
       "                  verbose_feature_names_out=False)</pre></div></div></div><div class=\"sk-parallel\"><div class=\"sk-parallel-item\"><div class=\"sk-item\"><div class=\"sk-label-container\"><div class=\"sk-label sk-toggleable\"><input class=\"sk-toggleable__control sk-hidden--visually\" id=\"sk-estimator-id-56\" type=\"checkbox\" ><label for=\"sk-estimator-id-56\" class=\"sk-toggleable__label sk-toggleable__label-arrow\">ordinal</label><div class=\"sk-toggleable__content\"><pre>[&#x27;credit_mix&#x27;]</pre></div></div></div><div class=\"sk-serial\"><div class=\"sk-item\"><div class=\"sk-estimator sk-toggleable\"><input class=\"sk-toggleable__control sk-hidden--visually\" id=\"sk-estimator-id-57\" type=\"checkbox\" ><label for=\"sk-estimator-id-57\" class=\"sk-toggleable__label sk-toggleable__label-arrow\">OrdinalEncoder</label><div class=\"sk-toggleable__content\"><pre>OrdinalEncoder(categories=[[&#x27;Bad&#x27;, &#x27;Standard&#x27;, &#x27;Good&#x27;]],\n",
       "               handle_unknown=&#x27;use_encoded_value&#x27;, unknown_value=-1)</pre></div></div></div></div></div></div><div class=\"sk-parallel-item\"><div class=\"sk-item\"><div class=\"sk-label-container\"><div class=\"sk-label sk-toggleable\"><input class=\"sk-toggleable__control sk-hidden--visually\" id=\"sk-estimator-id-58\" type=\"checkbox\" ><label for=\"sk-estimator-id-58\" class=\"sk-toggleable__label sk-toggleable__label-arrow\">onehot</label><div class=\"sk-toggleable__content\"><pre>[&#x27;occupation&#x27;, &#x27;payment_of_min_amount&#x27;]</pre></div></div></div><div class=\"sk-serial\"><div class=\"sk-item\"><div class=\"sk-estimator sk-toggleable\"><input class=\"sk-toggleable__control sk-hidden--visually\" id=\"sk-estimator-id-59\" type=\"checkbox\" ><label for=\"sk-estimator-id-59\" class=\"sk-toggleable__label sk-toggleable__label-arrow\">OneHotEncoder</label><div class=\"sk-toggleable__content\"><pre>OneHotEncoder(handle_unknown=&#x27;ignore&#x27;, sparse_output=False)</pre></div></div></div></div></div></div><div class=\"sk-parallel-item\"><div class=\"sk-item\"><div class=\"sk-label-container\"><div class=\"sk-label sk-toggleable\"><input class=\"sk-toggleable__control sk-hidden--visually\" id=\"sk-estimator-id-60\" type=\"checkbox\" ><label for=\"sk-estimator-id-60\" class=\"sk-toggleable__label sk-toggleable__label-arrow\">payment_behaviour</label><div class=\"sk-toggleable__content\"><pre>[&#x27;payment_behaviour&#x27;]</pre></div></div></div><div class=\"sk-serial\"><div class=\"sk-item\"><div class=\"sk-estimator sk-toggleable\"><input class=\"sk-toggleable__control sk-hidden--visually\" id=\"sk-estimator-id-61\" type=\"checkbox\" ><label for=\"sk-estimator-id-61\" class=\"sk-toggleable__label sk-toggleable__label-arrow\">MultilabelEncoder</label><div class=\"sk-toggleable__content\"><pre>MultilabelEncoder(split_by=&#x27;(?&lt;=spent)\\\\_&#x27;)</pre></div></div></div></div></div></div><div class=\"sk-parallel-item\"><div class=\"sk-item\"><div class=\"sk-label-container\"><div class=\"sk-label sk-toggleable\"><input class=\"sk-toggleable__control sk-hidden--visually\" id=\"sk-estimator-id-62\" type=\"checkbox\" ><label for=\"sk-estimator-id-62\" class=\"sk-toggleable__label sk-toggleable__label-arrow\">type_of_loan</label><div class=\"sk-toggleable__content\"><pre>[&#x27;type_of_loan&#x27;]</pre></div></div></div><div class=\"sk-serial\"><div class=\"sk-item\"><div class=\"sk-estimator sk-toggleable\"><input class=\"sk-toggleable__control sk-hidden--visually\" id=\"sk-estimator-id-63\" type=\"checkbox\" ><label for=\"sk-estimator-id-63\" class=\"sk-toggleable__label sk-toggleable__label-arrow\">MultilabelEncoder</label><div class=\"sk-toggleable__content\"><pre>MultilabelEncoder(split_by=&#x27;, &#x27;)</pre></div></div></div></div></div></div></div></div></div></div>"
      ],
      "text/plain": [
       "ColumnTransformer(transformers=[('ordinal',\n",
       "                                 OrdinalEncoder(categories=[['Bad', 'Standard',\n",
       "                                                             'Good']],\n",
       "                                                handle_unknown='use_encoded_value',\n",
       "                                                unknown_value=-1),\n",
       "                                 ['credit_mix']),\n",
       "                                ('onehot',\n",
       "                                 OneHotEncoder(handle_unknown='ignore',\n",
       "                                               sparse_output=False),\n",
       "                                 ['occupation', 'payment_of_min_amount']),\n",
       "                                ('payment_behaviour',\n",
       "                                 MultilabelEncoder(split_by='(?<=spent)\\\\_'),\n",
       "                                 ['payment_behaviour']),\n",
       "                                ('type_of_loan',\n",
       "                                 MultilabelEncoder(split_by=', '),\n",
       "                                 ['type_of_loan'])],\n",
       "                  verbose_feature_names_out=False)"
      ]
     },
     "execution_count": 34,
     "metadata": {},
     "output_type": "execute_result"
    }
   ],
   "source": [
    "categorical_transformer = ColumnTransformer(\n",
    "    transformers=[\n",
    "        (\n",
    "            \"ordinal\",\n",
    "            OrdinalEncoder(categories=[[\"Bad\", \"Standard\", \"Good\"]], handle_unknown=\"use_encoded_value\", unknown_value=-1),\n",
    "            [\"credit_mix\"]\n",
    "        ),\n",
    "        (\n",
    "            \"onehot\",\n",
    "            OneHotEncoder(sparse_output=False, handle_unknown=\"ignore\"),\n",
    "            [\"occupation\", \"payment_of_min_amount\"]\n",
    "        ),\n",
    "        (\n",
    "            \"payment_behaviour\",\n",
    "            MultilabelEncoder(split_by=r\"(?<=spent)\\_\"),\n",
    "            [\"payment_behaviour\"]\n",
    "        ),\n",
    "        (\n",
    "            \"type_of_loan\",\n",
    "            MultilabelEncoder(split_by=\", \"),\n",
    "            [\"type_of_loan\"]\n",
    "        ),\n",
    "    ],\n",
    "    remainder=\"drop\",\n",
    "    verbose_feature_names_out=False,\n",
    ")\n",
    "\n",
    "categorical_transformer"
   ]
  },
  {
   "cell_type": "markdown",
   "id": "9fd3b7d6",
   "metadata": {},
   "source": [
    "#### Numerical: Outliers and Missing Values"
   ]
  },
  {
   "cell_type": "code",
   "execution_count": 35,
   "id": "3e7ec460",
   "metadata": {},
   "outputs": [
    {
     "data": {
      "text/html": [
       "<style>#sk-container-id-10 {color: black;background-color: white;}#sk-container-id-10 pre{padding: 0;}#sk-container-id-10 div.sk-toggleable {background-color: white;}#sk-container-id-10 label.sk-toggleable__label {cursor: pointer;display: block;width: 100%;margin-bottom: 0;padding: 0.3em;box-sizing: border-box;text-align: center;}#sk-container-id-10 label.sk-toggleable__label-arrow:before {content: \"▸\";float: left;margin-right: 0.25em;color: #696969;}#sk-container-id-10 label.sk-toggleable__label-arrow:hover:before {color: black;}#sk-container-id-10 div.sk-estimator:hover label.sk-toggleable__label-arrow:before {color: black;}#sk-container-id-10 div.sk-toggleable__content {max-height: 0;max-width: 0;overflow: hidden;text-align: left;background-color: #f0f8ff;}#sk-container-id-10 div.sk-toggleable__content pre {margin: 0.2em;color: black;border-radius: 0.25em;background-color: #f0f8ff;}#sk-container-id-10 input.sk-toggleable__control:checked~div.sk-toggleable__content {max-height: 200px;max-width: 100%;overflow: auto;}#sk-container-id-10 input.sk-toggleable__control:checked~label.sk-toggleable__label-arrow:before {content: \"▾\";}#sk-container-id-10 div.sk-estimator input.sk-toggleable__control:checked~label.sk-toggleable__label {background-color: #d4ebff;}#sk-container-id-10 div.sk-label input.sk-toggleable__control:checked~label.sk-toggleable__label {background-color: #d4ebff;}#sk-container-id-10 input.sk-hidden--visually {border: 0;clip: rect(1px 1px 1px 1px);clip: rect(1px, 1px, 1px, 1px);height: 1px;margin: -1px;overflow: hidden;padding: 0;position: absolute;width: 1px;}#sk-container-id-10 div.sk-estimator {font-family: monospace;background-color: #f0f8ff;border: 1px dotted black;border-radius: 0.25em;box-sizing: border-box;margin-bottom: 0.5em;}#sk-container-id-10 div.sk-estimator:hover {background-color: #d4ebff;}#sk-container-id-10 div.sk-parallel-item::after {content: \"\";width: 100%;border-bottom: 1px solid gray;flex-grow: 1;}#sk-container-id-10 div.sk-label:hover label.sk-toggleable__label {background-color: #d4ebff;}#sk-container-id-10 div.sk-serial::before {content: \"\";position: absolute;border-left: 1px solid gray;box-sizing: border-box;top: 0;bottom: 0;left: 50%;z-index: 0;}#sk-container-id-10 div.sk-serial {display: flex;flex-direction: column;align-items: center;background-color: white;padding-right: 0.2em;padding-left: 0.2em;position: relative;}#sk-container-id-10 div.sk-item {position: relative;z-index: 1;}#sk-container-id-10 div.sk-parallel {display: flex;align-items: stretch;justify-content: center;background-color: white;position: relative;}#sk-container-id-10 div.sk-item::before, #sk-container-id-10 div.sk-parallel-item::before {content: \"\";position: absolute;border-left: 1px solid gray;box-sizing: border-box;top: 0;bottom: 0;left: 50%;z-index: -1;}#sk-container-id-10 div.sk-parallel-item {display: flex;flex-direction: column;z-index: 1;position: relative;background-color: white;}#sk-container-id-10 div.sk-parallel-item:first-child::after {align-self: flex-end;width: 50%;}#sk-container-id-10 div.sk-parallel-item:last-child::after {align-self: flex-start;width: 50%;}#sk-container-id-10 div.sk-parallel-item:only-child::after {width: 0;}#sk-container-id-10 div.sk-dashed-wrapped {border: 1px dashed gray;margin: 0 0.4em 0.5em 0.4em;box-sizing: border-box;padding-bottom: 0.4em;background-color: white;}#sk-container-id-10 div.sk-label label {font-family: monospace;font-weight: bold;display: inline-block;line-height: 1.2em;}#sk-container-id-10 div.sk-label-container {text-align: center;}#sk-container-id-10 div.sk-container {/* jupyter's `normalize.less` sets `[hidden] { display: none; }` but bootstrap.min.css set `[hidden] { display: none !important; }` so we also need the `!important` here to be able to override the default hidden behavior on the sphinx rendered scikit-learn.org. See: https://github.com/scikit-learn/scikit-learn/issues/21755 */display: inline-block !important;position: relative;}#sk-container-id-10 div.sk-text-repr-fallback {display: none;}</style><div id=\"sk-container-id-10\" class=\"sk-top-container\"><div class=\"sk-text-repr-fallback\"><pre>ColumnTransformer(remainder=&#x27;passthrough&#x27;,\n",
       "                  transformers=[(&#x27;range_0_100&#x27;,\n",
       "                                 RangeOutlierDetector(max_value=100,\n",
       "                                                      min_value=0),\n",
       "                                 [&#x27;age&#x27;, &#x27;num_of_delayed_payment&#x27;,\n",
       "                                  &#x27;num_of_loan&#x27;]),\n",
       "                                (&#x27;changed_credit_limit&#x27;,\n",
       "                                 RangeOutlierDetector(max_value=37,\n",
       "                                                      min_value=-10),\n",
       "                                 [&#x27;changed_credit_limit&#x27;]),\n",
       "                                (&#x27;delta&#x27;, DeltaFromMedianOutlierDetector(),\n",
       "                                 [&#x27;annual_income&#x27;, &#x27;amount_invested_monthly&#x27;,\n",
       "                                  &#x27;monthly_balance&#x27;, &#x27;monthly_inhand_salary&#x27;,\n",
       "                                  &#x27;total_emi_per_month&#x27;]),\n",
       "                                (&#x27;range_0_10_clip&#x27;,\n",
       "                                 RangeOutlierDetector(clip=True, max_value=40,\n",
       "                                                      min_value=0),\n",
       "                                 [&#x27;num_bank_accounts&#x27;, &#x27;num_credit_card&#x27;,\n",
       "                                  &#x27;interest_rate&#x27;, &#x27;num_credit_inquiries&#x27;])],\n",
       "                  verbose_feature_names_out=False)</pre><b>In a Jupyter environment, please rerun this cell to show the HTML representation or trust the notebook. <br />On GitHub, the HTML representation is unable to render, please try loading this page with nbviewer.org.</b></div><div class=\"sk-container\" hidden><div class=\"sk-item sk-dashed-wrapped\"><div class=\"sk-label-container\"><div class=\"sk-label sk-toggleable\"><input class=\"sk-toggleable__control sk-hidden--visually\" id=\"sk-estimator-id-64\" type=\"checkbox\" ><label for=\"sk-estimator-id-64\" class=\"sk-toggleable__label sk-toggleable__label-arrow\">ColumnTransformer</label><div class=\"sk-toggleable__content\"><pre>ColumnTransformer(remainder=&#x27;passthrough&#x27;,\n",
       "                  transformers=[(&#x27;range_0_100&#x27;,\n",
       "                                 RangeOutlierDetector(max_value=100,\n",
       "                                                      min_value=0),\n",
       "                                 [&#x27;age&#x27;, &#x27;num_of_delayed_payment&#x27;,\n",
       "                                  &#x27;num_of_loan&#x27;]),\n",
       "                                (&#x27;changed_credit_limit&#x27;,\n",
       "                                 RangeOutlierDetector(max_value=37,\n",
       "                                                      min_value=-10),\n",
       "                                 [&#x27;changed_credit_limit&#x27;]),\n",
       "                                (&#x27;delta&#x27;, DeltaFromMedianOutlierDetector(),\n",
       "                                 [&#x27;annual_income&#x27;, &#x27;amount_invested_monthly&#x27;,\n",
       "                                  &#x27;monthly_balance&#x27;, &#x27;monthly_inhand_salary&#x27;,\n",
       "                                  &#x27;total_emi_per_month&#x27;]),\n",
       "                                (&#x27;range_0_10_clip&#x27;,\n",
       "                                 RangeOutlierDetector(clip=True, max_value=40,\n",
       "                                                      min_value=0),\n",
       "                                 [&#x27;num_bank_accounts&#x27;, &#x27;num_credit_card&#x27;,\n",
       "                                  &#x27;interest_rate&#x27;, &#x27;num_credit_inquiries&#x27;])],\n",
       "                  verbose_feature_names_out=False)</pre></div></div></div><div class=\"sk-parallel\"><div class=\"sk-parallel-item\"><div class=\"sk-item\"><div class=\"sk-label-container\"><div class=\"sk-label sk-toggleable\"><input class=\"sk-toggleable__control sk-hidden--visually\" id=\"sk-estimator-id-65\" type=\"checkbox\" ><label for=\"sk-estimator-id-65\" class=\"sk-toggleable__label sk-toggleable__label-arrow\">range_0_100</label><div class=\"sk-toggleable__content\"><pre>[&#x27;age&#x27;, &#x27;num_of_delayed_payment&#x27;, &#x27;num_of_loan&#x27;]</pre></div></div></div><div class=\"sk-serial\"><div class=\"sk-item\"><div class=\"sk-estimator sk-toggleable\"><input class=\"sk-toggleable__control sk-hidden--visually\" id=\"sk-estimator-id-66\" type=\"checkbox\" ><label for=\"sk-estimator-id-66\" class=\"sk-toggleable__label sk-toggleable__label-arrow\">RangeOutlierDetector</label><div class=\"sk-toggleable__content\"><pre>RangeOutlierDetector(max_value=100, min_value=0)</pre></div></div></div></div></div></div><div class=\"sk-parallel-item\"><div class=\"sk-item\"><div class=\"sk-label-container\"><div class=\"sk-label sk-toggleable\"><input class=\"sk-toggleable__control sk-hidden--visually\" id=\"sk-estimator-id-67\" type=\"checkbox\" ><label for=\"sk-estimator-id-67\" class=\"sk-toggleable__label sk-toggleable__label-arrow\">changed_credit_limit</label><div class=\"sk-toggleable__content\"><pre>[&#x27;changed_credit_limit&#x27;]</pre></div></div></div><div class=\"sk-serial\"><div class=\"sk-item\"><div class=\"sk-estimator sk-toggleable\"><input class=\"sk-toggleable__control sk-hidden--visually\" id=\"sk-estimator-id-68\" type=\"checkbox\" ><label for=\"sk-estimator-id-68\" class=\"sk-toggleable__label sk-toggleable__label-arrow\">RangeOutlierDetector</label><div class=\"sk-toggleable__content\"><pre>RangeOutlierDetector(max_value=37, min_value=-10)</pre></div></div></div></div></div></div><div class=\"sk-parallel-item\"><div class=\"sk-item\"><div class=\"sk-label-container\"><div class=\"sk-label sk-toggleable\"><input class=\"sk-toggleable__control sk-hidden--visually\" id=\"sk-estimator-id-69\" type=\"checkbox\" ><label for=\"sk-estimator-id-69\" class=\"sk-toggleable__label sk-toggleable__label-arrow\">delta</label><div class=\"sk-toggleable__content\"><pre>[&#x27;annual_income&#x27;, &#x27;amount_invested_monthly&#x27;, &#x27;monthly_balance&#x27;, &#x27;monthly_inhand_salary&#x27;, &#x27;total_emi_per_month&#x27;]</pre></div></div></div><div class=\"sk-serial\"><div class=\"sk-item\"><div class=\"sk-estimator sk-toggleable\"><input class=\"sk-toggleable__control sk-hidden--visually\" id=\"sk-estimator-id-70\" type=\"checkbox\" ><label for=\"sk-estimator-id-70\" class=\"sk-toggleable__label sk-toggleable__label-arrow\">DeltaFromMedianOutlierDetector</label><div class=\"sk-toggleable__content\"><pre>DeltaFromMedianOutlierDetector()</pre></div></div></div></div></div></div><div class=\"sk-parallel-item\"><div class=\"sk-item\"><div class=\"sk-label-container\"><div class=\"sk-label sk-toggleable\"><input class=\"sk-toggleable__control sk-hidden--visually\" id=\"sk-estimator-id-71\" type=\"checkbox\" ><label for=\"sk-estimator-id-71\" class=\"sk-toggleable__label sk-toggleable__label-arrow\">range_0_10_clip</label><div class=\"sk-toggleable__content\"><pre>[&#x27;num_bank_accounts&#x27;, &#x27;num_credit_card&#x27;, &#x27;interest_rate&#x27;, &#x27;num_credit_inquiries&#x27;]</pre></div></div></div><div class=\"sk-serial\"><div class=\"sk-item\"><div class=\"sk-estimator sk-toggleable\"><input class=\"sk-toggleable__control sk-hidden--visually\" id=\"sk-estimator-id-72\" type=\"checkbox\" ><label for=\"sk-estimator-id-72\" class=\"sk-toggleable__label sk-toggleable__label-arrow\">RangeOutlierDetector</label><div class=\"sk-toggleable__content\"><pre>RangeOutlierDetector(clip=True, max_value=40, min_value=0)</pre></div></div></div></div></div></div><div class=\"sk-parallel-item\"><div class=\"sk-item\"><div class=\"sk-label-container\"><div class=\"sk-label sk-toggleable\"><input class=\"sk-toggleable__control sk-hidden--visually\" id=\"sk-estimator-id-73\" type=\"checkbox\" ><label for=\"sk-estimator-id-73\" class=\"sk-toggleable__label sk-toggleable__label-arrow\">remainder</label><div class=\"sk-toggleable__content\"><pre></pre></div></div></div><div class=\"sk-serial\"><div class=\"sk-item\"><div class=\"sk-estimator sk-toggleable\"><input class=\"sk-toggleable__control sk-hidden--visually\" id=\"sk-estimator-id-74\" type=\"checkbox\" ><label for=\"sk-estimator-id-74\" class=\"sk-toggleable__label sk-toggleable__label-arrow\">passthrough</label><div class=\"sk-toggleable__content\"><pre>passthrough</pre></div></div></div></div></div></div></div></div></div></div>"
      ],
      "text/plain": [
       "ColumnTransformer(remainder='passthrough',\n",
       "                  transformers=[('range_0_100',\n",
       "                                 RangeOutlierDetector(max_value=100,\n",
       "                                                      min_value=0),\n",
       "                                 ['age', 'num_of_delayed_payment',\n",
       "                                  'num_of_loan']),\n",
       "                                ('changed_credit_limit',\n",
       "                                 RangeOutlierDetector(max_value=37,\n",
       "                                                      min_value=-10),\n",
       "                                 ['changed_credit_limit']),\n",
       "                                ('delta', DeltaFromMedianOutlierDetector(),\n",
       "                                 ['annual_income', 'amount_invested_monthly',\n",
       "                                  'monthly_balance', 'monthly_inhand_salary',\n",
       "                                  'total_emi_per_month']),\n",
       "                                ('range_0_10_clip',\n",
       "                                 RangeOutlierDetector(clip=True, max_value=40,\n",
       "                                                      min_value=0),\n",
       "                                 ['num_bank_accounts', 'num_credit_card',\n",
       "                                  'interest_rate', 'num_credit_inquiries'])],\n",
       "                  verbose_feature_names_out=False)"
      ]
     },
     "execution_count": 35,
     "metadata": {},
     "output_type": "execute_result"
    }
   ],
   "source": [
    "outlier_transformer = ColumnTransformer(\n",
    "    transformers=[\n",
    "        (\n",
    "            \"range_0_100\",\n",
    "            RangeOutlierDetector(0, 100),\n",
    "            [\"age\", \"num_of_delayed_payment\", \"num_of_loan\"]\n",
    "        ),\n",
    "        (\n",
    "            \"changed_credit_limit\",\n",
    "            RangeOutlierDetector(-10, 37),\n",
    "            [\"changed_credit_limit\", ]\n",
    "        ),\n",
    "        (\n",
    "            \"delta\",\n",
    "            DeltaFromMedianOutlierDetector(delta=3),\n",
    "            [\"annual_income\", \"amount_invested_monthly\", \"monthly_balance\", \"monthly_inhand_salary\", \"total_emi_per_month\"]\n",
    "        ),\n",
    "        (\n",
    "            \"range_0_10_clip\",\n",
    "            RangeOutlierDetector(0, 40, clip=True),\n",
    "            [\"num_bank_accounts\", \"num_credit_card\", \"interest_rate\", \"num_credit_inquiries\"]\n",
    "        ),\n",
    "    ],\n",
    "    remainder=\"passthrough\",\n",
    "    verbose_feature_names_out=False\n",
    ")\n",
    "\n",
    "outlier_transformer.set_output(transform=\"pandas\")"
   ]
  },
  {
   "cell_type": "code",
   "execution_count": 36,
   "id": "7a1972e7",
   "metadata": {},
   "outputs": [
    {
     "data": {
      "text/html": [
       "<style>#sk-container-id-11 {color: black;background-color: white;}#sk-container-id-11 pre{padding: 0;}#sk-container-id-11 div.sk-toggleable {background-color: white;}#sk-container-id-11 label.sk-toggleable__label {cursor: pointer;display: block;width: 100%;margin-bottom: 0;padding: 0.3em;box-sizing: border-box;text-align: center;}#sk-container-id-11 label.sk-toggleable__label-arrow:before {content: \"▸\";float: left;margin-right: 0.25em;color: #696969;}#sk-container-id-11 label.sk-toggleable__label-arrow:hover:before {color: black;}#sk-container-id-11 div.sk-estimator:hover label.sk-toggleable__label-arrow:before {color: black;}#sk-container-id-11 div.sk-toggleable__content {max-height: 0;max-width: 0;overflow: hidden;text-align: left;background-color: #f0f8ff;}#sk-container-id-11 div.sk-toggleable__content pre {margin: 0.2em;color: black;border-radius: 0.25em;background-color: #f0f8ff;}#sk-container-id-11 input.sk-toggleable__control:checked~div.sk-toggleable__content {max-height: 200px;max-width: 100%;overflow: auto;}#sk-container-id-11 input.sk-toggleable__control:checked~label.sk-toggleable__label-arrow:before {content: \"▾\";}#sk-container-id-11 div.sk-estimator input.sk-toggleable__control:checked~label.sk-toggleable__label {background-color: #d4ebff;}#sk-container-id-11 div.sk-label input.sk-toggleable__control:checked~label.sk-toggleable__label {background-color: #d4ebff;}#sk-container-id-11 input.sk-hidden--visually {border: 0;clip: rect(1px 1px 1px 1px);clip: rect(1px, 1px, 1px, 1px);height: 1px;margin: -1px;overflow: hidden;padding: 0;position: absolute;width: 1px;}#sk-container-id-11 div.sk-estimator {font-family: monospace;background-color: #f0f8ff;border: 1px dotted black;border-radius: 0.25em;box-sizing: border-box;margin-bottom: 0.5em;}#sk-container-id-11 div.sk-estimator:hover {background-color: #d4ebff;}#sk-container-id-11 div.sk-parallel-item::after {content: \"\";width: 100%;border-bottom: 1px solid gray;flex-grow: 1;}#sk-container-id-11 div.sk-label:hover label.sk-toggleable__label {background-color: #d4ebff;}#sk-container-id-11 div.sk-serial::before {content: \"\";position: absolute;border-left: 1px solid gray;box-sizing: border-box;top: 0;bottom: 0;left: 50%;z-index: 0;}#sk-container-id-11 div.sk-serial {display: flex;flex-direction: column;align-items: center;background-color: white;padding-right: 0.2em;padding-left: 0.2em;position: relative;}#sk-container-id-11 div.sk-item {position: relative;z-index: 1;}#sk-container-id-11 div.sk-parallel {display: flex;align-items: stretch;justify-content: center;background-color: white;position: relative;}#sk-container-id-11 div.sk-item::before, #sk-container-id-11 div.sk-parallel-item::before {content: \"\";position: absolute;border-left: 1px solid gray;box-sizing: border-box;top: 0;bottom: 0;left: 50%;z-index: -1;}#sk-container-id-11 div.sk-parallel-item {display: flex;flex-direction: column;z-index: 1;position: relative;background-color: white;}#sk-container-id-11 div.sk-parallel-item:first-child::after {align-self: flex-end;width: 50%;}#sk-container-id-11 div.sk-parallel-item:last-child::after {align-self: flex-start;width: 50%;}#sk-container-id-11 div.sk-parallel-item:only-child::after {width: 0;}#sk-container-id-11 div.sk-dashed-wrapped {border: 1px dashed gray;margin: 0 0.4em 0.5em 0.4em;box-sizing: border-box;padding-bottom: 0.4em;background-color: white;}#sk-container-id-11 div.sk-label label {font-family: monospace;font-weight: bold;display: inline-block;line-height: 1.2em;}#sk-container-id-11 div.sk-label-container {text-align: center;}#sk-container-id-11 div.sk-container {/* jupyter's `normalize.less` sets `[hidden] { display: none; }` but bootstrap.min.css set `[hidden] { display: none !important; }` so we also need the `!important` here to be able to override the default hidden behavior on the sphinx rendered scikit-learn.org. See: https://github.com/scikit-learn/scikit-learn/issues/21755 */display: inline-block !important;position: relative;}#sk-container-id-11 div.sk-text-repr-fallback {display: none;}</style><div id=\"sk-container-id-11\" class=\"sk-top-container\"><div class=\"sk-text-repr-fallback\"><pre>ColumnTransformer(remainder=InterpolationImputer(),\n",
       "                  transformers=[(&#x27;zero_values&#x27;,\n",
       "                                 SimpleImputer(fill_value=0,\n",
       "                                               strategy=&#x27;constant&#x27;),\n",
       "                                 [&#x27;credit_history_age_in_years&#x27;,\n",
       "                                  &#x27;credit_history_age_in_months&#x27;])],\n",
       "                  verbose_feature_names_out=False)</pre><b>In a Jupyter environment, please rerun this cell to show the HTML representation or trust the notebook. <br />On GitHub, the HTML representation is unable to render, please try loading this page with nbviewer.org.</b></div><div class=\"sk-container\" hidden><div class=\"sk-item sk-dashed-wrapped\"><div class=\"sk-label-container\"><div class=\"sk-label sk-toggleable\"><input class=\"sk-toggleable__control sk-hidden--visually\" id=\"sk-estimator-id-75\" type=\"checkbox\" ><label for=\"sk-estimator-id-75\" class=\"sk-toggleable__label sk-toggleable__label-arrow\">ColumnTransformer</label><div class=\"sk-toggleable__content\"><pre>ColumnTransformer(remainder=InterpolationImputer(),\n",
       "                  transformers=[(&#x27;zero_values&#x27;,\n",
       "                                 SimpleImputer(fill_value=0,\n",
       "                                               strategy=&#x27;constant&#x27;),\n",
       "                                 [&#x27;credit_history_age_in_years&#x27;,\n",
       "                                  &#x27;credit_history_age_in_months&#x27;])],\n",
       "                  verbose_feature_names_out=False)</pre></div></div></div><div class=\"sk-parallel\"><div class=\"sk-parallel-item\"><div class=\"sk-item\"><div class=\"sk-label-container\"><div class=\"sk-label sk-toggleable\"><input class=\"sk-toggleable__control sk-hidden--visually\" id=\"sk-estimator-id-76\" type=\"checkbox\" ><label for=\"sk-estimator-id-76\" class=\"sk-toggleable__label sk-toggleable__label-arrow\">zero_values</label><div class=\"sk-toggleable__content\"><pre>[&#x27;credit_history_age_in_years&#x27;, &#x27;credit_history_age_in_months&#x27;]</pre></div></div></div><div class=\"sk-serial\"><div class=\"sk-item\"><div class=\"sk-estimator sk-toggleable\"><input class=\"sk-toggleable__control sk-hidden--visually\" id=\"sk-estimator-id-77\" type=\"checkbox\" ><label for=\"sk-estimator-id-77\" class=\"sk-toggleable__label sk-toggleable__label-arrow\">SimpleImputer</label><div class=\"sk-toggleable__content\"><pre>SimpleImputer(fill_value=0, strategy=&#x27;constant&#x27;)</pre></div></div></div></div></div></div><div class=\"sk-parallel-item\"><div class=\"sk-item\"><div class=\"sk-label-container\"><div class=\"sk-label sk-toggleable\"><input class=\"sk-toggleable__control sk-hidden--visually\" id=\"sk-estimator-id-78\" type=\"checkbox\" ><label for=\"sk-estimator-id-78\" class=\"sk-toggleable__label sk-toggleable__label-arrow\">remainder</label><div class=\"sk-toggleable__content\"><pre></pre></div></div></div><div class=\"sk-serial\"><div class=\"sk-item\"><div class=\"sk-estimator sk-toggleable\"><input class=\"sk-toggleable__control sk-hidden--visually\" id=\"sk-estimator-id-79\" type=\"checkbox\" ><label for=\"sk-estimator-id-79\" class=\"sk-toggleable__label sk-toggleable__label-arrow\">InterpolationImputer</label><div class=\"sk-toggleable__content\"><pre>InterpolationImputer()</pre></div></div></div></div></div></div></div></div></div></div>"
      ],
      "text/plain": [
       "ColumnTransformer(remainder=InterpolationImputer(),\n",
       "                  transformers=[('zero_values',\n",
       "                                 SimpleImputer(fill_value=0,\n",
       "                                               strategy='constant'),\n",
       "                                 ['credit_history_age_in_years',\n",
       "                                  'credit_history_age_in_months'])],\n",
       "                  verbose_feature_names_out=False)"
      ]
     },
     "execution_count": 36,
     "metadata": {},
     "output_type": "execute_result"
    }
   ],
   "source": [
    "imputer_transformer = ColumnTransformer(\n",
    "    transformers=[\n",
    "        (\n",
    "            \"zero_values\",\n",
    "            SimpleImputer(strategy=\"constant\", fill_value=0),\n",
    "            [\"credit_history_age_in_years\", \"credit_history_age_in_months\"]\n",
    "        )\n",
    "    ],\n",
    "    remainder=InterpolationImputer(),\n",
    "    verbose_feature_names_out=False,\n",
    ")\n",
    "\n",
    "imputer_transformer.set_output(transform=\"pandas\")"
   ]
  },
  {
   "cell_type": "code",
   "execution_count": 37,
   "id": "6ab4a81f",
   "metadata": {},
   "outputs": [
    {
     "data": {
      "text/html": [
       "<style>#sk-container-id-12 {color: black;background-color: white;}#sk-container-id-12 pre{padding: 0;}#sk-container-id-12 div.sk-toggleable {background-color: white;}#sk-container-id-12 label.sk-toggleable__label {cursor: pointer;display: block;width: 100%;margin-bottom: 0;padding: 0.3em;box-sizing: border-box;text-align: center;}#sk-container-id-12 label.sk-toggleable__label-arrow:before {content: \"▸\";float: left;margin-right: 0.25em;color: #696969;}#sk-container-id-12 label.sk-toggleable__label-arrow:hover:before {color: black;}#sk-container-id-12 div.sk-estimator:hover label.sk-toggleable__label-arrow:before {color: black;}#sk-container-id-12 div.sk-toggleable__content {max-height: 0;max-width: 0;overflow: hidden;text-align: left;background-color: #f0f8ff;}#sk-container-id-12 div.sk-toggleable__content pre {margin: 0.2em;color: black;border-radius: 0.25em;background-color: #f0f8ff;}#sk-container-id-12 input.sk-toggleable__control:checked~div.sk-toggleable__content {max-height: 200px;max-width: 100%;overflow: auto;}#sk-container-id-12 input.sk-toggleable__control:checked~label.sk-toggleable__label-arrow:before {content: \"▾\";}#sk-container-id-12 div.sk-estimator input.sk-toggleable__control:checked~label.sk-toggleable__label {background-color: #d4ebff;}#sk-container-id-12 div.sk-label input.sk-toggleable__control:checked~label.sk-toggleable__label {background-color: #d4ebff;}#sk-container-id-12 input.sk-hidden--visually {border: 0;clip: rect(1px 1px 1px 1px);clip: rect(1px, 1px, 1px, 1px);height: 1px;margin: -1px;overflow: hidden;padding: 0;position: absolute;width: 1px;}#sk-container-id-12 div.sk-estimator {font-family: monospace;background-color: #f0f8ff;border: 1px dotted black;border-radius: 0.25em;box-sizing: border-box;margin-bottom: 0.5em;}#sk-container-id-12 div.sk-estimator:hover {background-color: #d4ebff;}#sk-container-id-12 div.sk-parallel-item::after {content: \"\";width: 100%;border-bottom: 1px solid gray;flex-grow: 1;}#sk-container-id-12 div.sk-label:hover label.sk-toggleable__label {background-color: #d4ebff;}#sk-container-id-12 div.sk-serial::before {content: \"\";position: absolute;border-left: 1px solid gray;box-sizing: border-box;top: 0;bottom: 0;left: 50%;z-index: 0;}#sk-container-id-12 div.sk-serial {display: flex;flex-direction: column;align-items: center;background-color: white;padding-right: 0.2em;padding-left: 0.2em;position: relative;}#sk-container-id-12 div.sk-item {position: relative;z-index: 1;}#sk-container-id-12 div.sk-parallel {display: flex;align-items: stretch;justify-content: center;background-color: white;position: relative;}#sk-container-id-12 div.sk-item::before, #sk-container-id-12 div.sk-parallel-item::before {content: \"\";position: absolute;border-left: 1px solid gray;box-sizing: border-box;top: 0;bottom: 0;left: 50%;z-index: -1;}#sk-container-id-12 div.sk-parallel-item {display: flex;flex-direction: column;z-index: 1;position: relative;background-color: white;}#sk-container-id-12 div.sk-parallel-item:first-child::after {align-self: flex-end;width: 50%;}#sk-container-id-12 div.sk-parallel-item:last-child::after {align-self: flex-start;width: 50%;}#sk-container-id-12 div.sk-parallel-item:only-child::after {width: 0;}#sk-container-id-12 div.sk-dashed-wrapped {border: 1px dashed gray;margin: 0 0.4em 0.5em 0.4em;box-sizing: border-box;padding-bottom: 0.4em;background-color: white;}#sk-container-id-12 div.sk-label label {font-family: monospace;font-weight: bold;display: inline-block;line-height: 1.2em;}#sk-container-id-12 div.sk-label-container {text-align: center;}#sk-container-id-12 div.sk-container {/* jupyter's `normalize.less` sets `[hidden] { display: none; }` but bootstrap.min.css set `[hidden] { display: none !important; }` so we also need the `!important` here to be able to override the default hidden behavior on the sphinx rendered scikit-learn.org. See: https://github.com/scikit-learn/scikit-learn/issues/21755 */display: inline-block !important;position: relative;}#sk-container-id-12 div.sk-text-repr-fallback {display: none;}</style><div id=\"sk-container-id-12\" class=\"sk-top-container\"><div class=\"sk-text-repr-fallback\"><pre>ColumnTransformer(remainder=&#x27;passthrough&#x27;,\n",
       "                  transformers=[(&#x27;range_0_100&#x27;,\n",
       "                                 RangeOutlierDetector(max_value=100,\n",
       "                                                      min_value=0),\n",
       "                                 [&#x27;age&#x27;, &#x27;num_of_delayed_payment&#x27;,\n",
       "                                  &#x27;num_of_loan&#x27;]),\n",
       "                                (&#x27;changed_credit_limit&#x27;,\n",
       "                                 RangeOutlierDetector(max_value=37,\n",
       "                                                      min_value=-10),\n",
       "                                 [&#x27;changed_credit_limit&#x27;]),\n",
       "                                (&#x27;delta&#x27;, DeltaFromMedianOutlierDetector(),\n",
       "                                 [&#x27;annual_income&#x27;, &#x27;amount_invested_monthly&#x27;,\n",
       "                                  &#x27;monthly_balance&#x27;, &#x27;monthly_inhand_salary&#x27;,\n",
       "                                  &#x27;total_emi_per_month&#x27;]),\n",
       "                                (&#x27;range_0_10_clip&#x27;,\n",
       "                                 RangeOutlierDetector(clip=True, max_value=40,\n",
       "                                                      min_value=0),\n",
       "                                 [&#x27;num_bank_accounts&#x27;, &#x27;num_credit_card&#x27;,\n",
       "                                  &#x27;interest_rate&#x27;, &#x27;num_credit_inquiries&#x27;])],\n",
       "                  verbose_feature_names_out=False)</pre><b>In a Jupyter environment, please rerun this cell to show the HTML representation or trust the notebook. <br />On GitHub, the HTML representation is unable to render, please try loading this page with nbviewer.org.</b></div><div class=\"sk-container\" hidden><div class=\"sk-item sk-dashed-wrapped\"><div class=\"sk-label-container\"><div class=\"sk-label sk-toggleable\"><input class=\"sk-toggleable__control sk-hidden--visually\" id=\"sk-estimator-id-80\" type=\"checkbox\" ><label for=\"sk-estimator-id-80\" class=\"sk-toggleable__label sk-toggleable__label-arrow\">ColumnTransformer</label><div class=\"sk-toggleable__content\"><pre>ColumnTransformer(remainder=&#x27;passthrough&#x27;,\n",
       "                  transformers=[(&#x27;range_0_100&#x27;,\n",
       "                                 RangeOutlierDetector(max_value=100,\n",
       "                                                      min_value=0),\n",
       "                                 [&#x27;age&#x27;, &#x27;num_of_delayed_payment&#x27;,\n",
       "                                  &#x27;num_of_loan&#x27;]),\n",
       "                                (&#x27;changed_credit_limit&#x27;,\n",
       "                                 RangeOutlierDetector(max_value=37,\n",
       "                                                      min_value=-10),\n",
       "                                 [&#x27;changed_credit_limit&#x27;]),\n",
       "                                (&#x27;delta&#x27;, DeltaFromMedianOutlierDetector(),\n",
       "                                 [&#x27;annual_income&#x27;, &#x27;amount_invested_monthly&#x27;,\n",
       "                                  &#x27;monthly_balance&#x27;, &#x27;monthly_inhand_salary&#x27;,\n",
       "                                  &#x27;total_emi_per_month&#x27;]),\n",
       "                                (&#x27;range_0_10_clip&#x27;,\n",
       "                                 RangeOutlierDetector(clip=True, max_value=40,\n",
       "                                                      min_value=0),\n",
       "                                 [&#x27;num_bank_accounts&#x27;, &#x27;num_credit_card&#x27;,\n",
       "                                  &#x27;interest_rate&#x27;, &#x27;num_credit_inquiries&#x27;])],\n",
       "                  verbose_feature_names_out=False)</pre></div></div></div><div class=\"sk-parallel\"><div class=\"sk-parallel-item\"><div class=\"sk-item\"><div class=\"sk-label-container\"><div class=\"sk-label sk-toggleable\"><input class=\"sk-toggleable__control sk-hidden--visually\" id=\"sk-estimator-id-81\" type=\"checkbox\" ><label for=\"sk-estimator-id-81\" class=\"sk-toggleable__label sk-toggleable__label-arrow\">range_0_100</label><div class=\"sk-toggleable__content\"><pre>[&#x27;age&#x27;, &#x27;num_of_delayed_payment&#x27;, &#x27;num_of_loan&#x27;]</pre></div></div></div><div class=\"sk-serial\"><div class=\"sk-item\"><div class=\"sk-estimator sk-toggleable\"><input class=\"sk-toggleable__control sk-hidden--visually\" id=\"sk-estimator-id-82\" type=\"checkbox\" ><label for=\"sk-estimator-id-82\" class=\"sk-toggleable__label sk-toggleable__label-arrow\">RangeOutlierDetector</label><div class=\"sk-toggleable__content\"><pre>RangeOutlierDetector(max_value=100, min_value=0)</pre></div></div></div></div></div></div><div class=\"sk-parallel-item\"><div class=\"sk-item\"><div class=\"sk-label-container\"><div class=\"sk-label sk-toggleable\"><input class=\"sk-toggleable__control sk-hidden--visually\" id=\"sk-estimator-id-83\" type=\"checkbox\" ><label for=\"sk-estimator-id-83\" class=\"sk-toggleable__label sk-toggleable__label-arrow\">changed_credit_limit</label><div class=\"sk-toggleable__content\"><pre>[&#x27;changed_credit_limit&#x27;]</pre></div></div></div><div class=\"sk-serial\"><div class=\"sk-item\"><div class=\"sk-estimator sk-toggleable\"><input class=\"sk-toggleable__control sk-hidden--visually\" id=\"sk-estimator-id-84\" type=\"checkbox\" ><label for=\"sk-estimator-id-84\" class=\"sk-toggleable__label sk-toggleable__label-arrow\">RangeOutlierDetector</label><div class=\"sk-toggleable__content\"><pre>RangeOutlierDetector(max_value=37, min_value=-10)</pre></div></div></div></div></div></div><div class=\"sk-parallel-item\"><div class=\"sk-item\"><div class=\"sk-label-container\"><div class=\"sk-label sk-toggleable\"><input class=\"sk-toggleable__control sk-hidden--visually\" id=\"sk-estimator-id-85\" type=\"checkbox\" ><label for=\"sk-estimator-id-85\" class=\"sk-toggleable__label sk-toggleable__label-arrow\">delta</label><div class=\"sk-toggleable__content\"><pre>[&#x27;annual_income&#x27;, &#x27;amount_invested_monthly&#x27;, &#x27;monthly_balance&#x27;, &#x27;monthly_inhand_salary&#x27;, &#x27;total_emi_per_month&#x27;]</pre></div></div></div><div class=\"sk-serial\"><div class=\"sk-item\"><div class=\"sk-estimator sk-toggleable\"><input class=\"sk-toggleable__control sk-hidden--visually\" id=\"sk-estimator-id-86\" type=\"checkbox\" ><label for=\"sk-estimator-id-86\" class=\"sk-toggleable__label sk-toggleable__label-arrow\">DeltaFromMedianOutlierDetector</label><div class=\"sk-toggleable__content\"><pre>DeltaFromMedianOutlierDetector()</pre></div></div></div></div></div></div><div class=\"sk-parallel-item\"><div class=\"sk-item\"><div class=\"sk-label-container\"><div class=\"sk-label sk-toggleable\"><input class=\"sk-toggleable__control sk-hidden--visually\" id=\"sk-estimator-id-87\" type=\"checkbox\" ><label for=\"sk-estimator-id-87\" class=\"sk-toggleable__label sk-toggleable__label-arrow\">range_0_10_clip</label><div class=\"sk-toggleable__content\"><pre>[&#x27;num_bank_accounts&#x27;, &#x27;num_credit_card&#x27;, &#x27;interest_rate&#x27;, &#x27;num_credit_inquiries&#x27;]</pre></div></div></div><div class=\"sk-serial\"><div class=\"sk-item\"><div class=\"sk-estimator sk-toggleable\"><input class=\"sk-toggleable__control sk-hidden--visually\" id=\"sk-estimator-id-88\" type=\"checkbox\" ><label for=\"sk-estimator-id-88\" class=\"sk-toggleable__label sk-toggleable__label-arrow\">RangeOutlierDetector</label><div class=\"sk-toggleable__content\"><pre>RangeOutlierDetector(clip=True, max_value=40, min_value=0)</pre></div></div></div></div></div></div><div class=\"sk-parallel-item\"><div class=\"sk-item\"><div class=\"sk-label-container\"><div class=\"sk-label sk-toggleable\"><input class=\"sk-toggleable__control sk-hidden--visually\" id=\"sk-estimator-id-89\" type=\"checkbox\" ><label for=\"sk-estimator-id-89\" class=\"sk-toggleable__label sk-toggleable__label-arrow\">remainder</label><div class=\"sk-toggleable__content\"><pre>[&#x27;outstanding_debt&#x27;, &#x27;credit_history_age_in_years&#x27;, &#x27;credit_history_age_in_months&#x27;, &#x27;delay_from_due_date&#x27;, &#x27;credit_utilization_ratio&#x27;]</pre></div></div></div><div class=\"sk-serial\"><div class=\"sk-item\"><div class=\"sk-estimator sk-toggleable\"><input class=\"sk-toggleable__control sk-hidden--visually\" id=\"sk-estimator-id-90\" type=\"checkbox\" ><label for=\"sk-estimator-id-90\" class=\"sk-toggleable__label sk-toggleable__label-arrow\">passthrough</label><div class=\"sk-toggleable__content\"><pre>passthrough</pre></div></div></div></div></div></div></div></div></div></div>"
      ],
      "text/plain": [
       "ColumnTransformer(remainder='passthrough',\n",
       "                  transformers=[('range_0_100',\n",
       "                                 RangeOutlierDetector(max_value=100,\n",
       "                                                      min_value=0),\n",
       "                                 ['age', 'num_of_delayed_payment',\n",
       "                                  'num_of_loan']),\n",
       "                                ('changed_credit_limit',\n",
       "                                 RangeOutlierDetector(max_value=37,\n",
       "                                                      min_value=-10),\n",
       "                                 ['changed_credit_limit']),\n",
       "                                ('delta', DeltaFromMedianOutlierDetector(),\n",
       "                                 ['annual_income', 'amount_invested_monthly',\n",
       "                                  'monthly_balance', 'monthly_inhand_salary',\n",
       "                                  'total_emi_per_month']),\n",
       "                                ('range_0_10_clip',\n",
       "                                 RangeOutlierDetector(clip=True, max_value=40,\n",
       "                                                      min_value=0),\n",
       "                                 ['num_bank_accounts', 'num_credit_card',\n",
       "                                  'interest_rate', 'num_credit_inquiries'])],\n",
       "                  verbose_feature_names_out=False)"
      ]
     },
     "execution_count": 37,
     "metadata": {},
     "output_type": "execute_result"
    }
   ],
   "source": [
    "outlier_transformer.fit(X_dtype.select_dtypes(np.number).head(1000))"
   ]
  },
  {
   "cell_type": "code",
   "execution_count": 38,
   "id": "993b1a7e",
   "metadata": {},
   "outputs": [
    {
     "data": {
      "text/html": [
       "<div>\n",
       "<style scoped>\n",
       "    .dataframe tbody tr th:only-of-type {\n",
       "        vertical-align: middle;\n",
       "    }\n",
       "\n",
       "    .dataframe tbody tr th {\n",
       "        vertical-align: top;\n",
       "    }\n",
       "\n",
       "    .dataframe thead th {\n",
       "        text-align: right;\n",
       "    }\n",
       "</style>\n",
       "<table border=\"1\" class=\"dataframe\">\n",
       "  <thead>\n",
       "    <tr style=\"text-align: right;\">\n",
       "      <th></th>\n",
       "      <th></th>\n",
       "      <th>age</th>\n",
       "      <th>num_of_delayed_payment</th>\n",
       "      <th>num_of_loan</th>\n",
       "      <th>changed_credit_limit</th>\n",
       "      <th>annual_income</th>\n",
       "      <th>amount_invested_monthly</th>\n",
       "      <th>monthly_balance</th>\n",
       "      <th>monthly_inhand_salary</th>\n",
       "      <th>total_emi_per_month</th>\n",
       "      <th>num_bank_accounts</th>\n",
       "      <th>num_credit_card</th>\n",
       "      <th>interest_rate</th>\n",
       "      <th>num_credit_inquiries</th>\n",
       "      <th>outstanding_debt</th>\n",
       "      <th>credit_history_age_in_years</th>\n",
       "      <th>credit_history_age_in_months</th>\n",
       "      <th>delay_from_due_date</th>\n",
       "      <th>credit_utilization_ratio</th>\n",
       "    </tr>\n",
       "    <tr>\n",
       "      <th>customer_id</th>\n",
       "      <th>month</th>\n",
       "      <th></th>\n",
       "      <th></th>\n",
       "      <th></th>\n",
       "      <th></th>\n",
       "      <th></th>\n",
       "      <th></th>\n",
       "      <th></th>\n",
       "      <th></th>\n",
       "      <th></th>\n",
       "      <th></th>\n",
       "      <th></th>\n",
       "      <th></th>\n",
       "      <th></th>\n",
       "      <th></th>\n",
       "      <th></th>\n",
       "      <th></th>\n",
       "      <th></th>\n",
       "      <th></th>\n",
       "    </tr>\n",
       "  </thead>\n",
       "  <tbody>\n",
       "    <tr>\n",
       "      <th rowspan=\"5\" valign=\"top\">CUS_0x1000</th>\n",
       "      <th>1</th>\n",
       "      <td>17.0</td>\n",
       "      <td>25.0</td>\n",
       "      <td>2.0</td>\n",
       "      <td>1.63</td>\n",
       "      <td>30625.94</td>\n",
       "      <td>244.750283</td>\n",
       "      <td>252.924793</td>\n",
       "      <td>2706.161667</td>\n",
       "      <td>42.941090</td>\n",
       "      <td>6</td>\n",
       "      <td>5</td>\n",
       "      <td>27</td>\n",
       "      <td>10.0</td>\n",
       "      <td>1562.91</td>\n",
       "      <td>10.0</td>\n",
       "      <td>2.0</td>\n",
       "      <td>62</td>\n",
       "      <td>26.612093</td>\n",
       "    </tr>\n",
       "    <tr>\n",
       "      <th>2</th>\n",
       "      <td>17.0</td>\n",
       "      <td>23.0</td>\n",
       "      <td>2.0</td>\n",
       "      <td>1.63</td>\n",
       "      <td>30625.94</td>\n",
       "      <td>176.132567</td>\n",
       "      <td>311.542510</td>\n",
       "      <td>NaN</td>\n",
       "      <td>42.941090</td>\n",
       "      <td>6</td>\n",
       "      <td>5</td>\n",
       "      <td>27</td>\n",
       "      <td>11.0</td>\n",
       "      <td>1562.91</td>\n",
       "      <td>10.0</td>\n",
       "      <td>3.0</td>\n",
       "      <td>62</td>\n",
       "      <td>29.439759</td>\n",
       "    </tr>\n",
       "    <tr>\n",
       "      <th>3</th>\n",
       "      <td>17.0</td>\n",
       "      <td>28.0</td>\n",
       "      <td>2.0</td>\n",
       "      <td>1.63</td>\n",
       "      <td>30625.94</td>\n",
       "      <td>109.056519</td>\n",
       "      <td>368.618557</td>\n",
       "      <td>2706.161667</td>\n",
       "      <td>42.941090</td>\n",
       "      <td>6</td>\n",
       "      <td>5</td>\n",
       "      <td>27</td>\n",
       "      <td>11.0</td>\n",
       "      <td>1562.91</td>\n",
       "      <td>10.0</td>\n",
       "      <td>4.0</td>\n",
       "      <td>62</td>\n",
       "      <td>38.285928</td>\n",
       "    </tr>\n",
       "    <tr>\n",
       "      <th>4</th>\n",
       "      <td>17.0</td>\n",
       "      <td>25.0</td>\n",
       "      <td>2.0</td>\n",
       "      <td>1.63</td>\n",
       "      <td>30625.94</td>\n",
       "      <td>87.909909</td>\n",
       "      <td>419.765167</td>\n",
       "      <td>2706.161667</td>\n",
       "      <td>42.941090</td>\n",
       "      <td>6</td>\n",
       "      <td>5</td>\n",
       "      <td>27</td>\n",
       "      <td>11.0</td>\n",
       "      <td>1562.91</td>\n",
       "      <td>10.0</td>\n",
       "      <td>5.0</td>\n",
       "      <td>64</td>\n",
       "      <td>32.843081</td>\n",
       "    </tr>\n",
       "    <tr>\n",
       "      <th>5</th>\n",
       "      <td>17.0</td>\n",
       "      <td>25.0</td>\n",
       "      <td>2.0</td>\n",
       "      <td>2.63</td>\n",
       "      <td>30625.94</td>\n",
       "      <td>191.834767</td>\n",
       "      <td>305.840309</td>\n",
       "      <td>2706.161667</td>\n",
       "      <td>42.941090</td>\n",
       "      <td>6</td>\n",
       "      <td>5</td>\n",
       "      <td>27</td>\n",
       "      <td>11.0</td>\n",
       "      <td>1562.91</td>\n",
       "      <td>10.0</td>\n",
       "      <td>6.0</td>\n",
       "      <td>67</td>\n",
       "      <td>32.330508</td>\n",
       "    </tr>\n",
       "    <tr>\n",
       "      <th>...</th>\n",
       "      <th>...</th>\n",
       "      <td>...</td>\n",
       "      <td>...</td>\n",
       "      <td>...</td>\n",
       "      <td>...</td>\n",
       "      <td>...</td>\n",
       "      <td>...</td>\n",
       "      <td>...</td>\n",
       "      <td>...</td>\n",
       "      <td>...</td>\n",
       "      <td>...</td>\n",
       "      <td>...</td>\n",
       "      <td>...</td>\n",
       "      <td>...</td>\n",
       "      <td>...</td>\n",
       "      <td>...</td>\n",
       "      <td>...</td>\n",
       "      <td>...</td>\n",
       "      <td>...</td>\n",
       "    </tr>\n",
       "    <tr>\n",
       "      <th rowspan=\"5\" valign=\"top\">CUS_0x122f</th>\n",
       "      <th>4</th>\n",
       "      <td>24.0</td>\n",
       "      <td>17.0</td>\n",
       "      <td>9.0</td>\n",
       "      <td>1.83</td>\n",
       "      <td>18231.52</td>\n",
       "      <td>66.324754</td>\n",
       "      <td>271.895932</td>\n",
       "      <td>NaN</td>\n",
       "      <td>86.608647</td>\n",
       "      <td>6</td>\n",
       "      <td>5</td>\n",
       "      <td>15</td>\n",
       "      <td>7.0</td>\n",
       "      <td>1358.96</td>\n",
       "      <td>15.0</td>\n",
       "      <td>1.0</td>\n",
       "      <td>36</td>\n",
       "      <td>31.446719</td>\n",
       "    </tr>\n",
       "    <tr>\n",
       "      <th>5</th>\n",
       "      <td>24.0</td>\n",
       "      <td>17.0</td>\n",
       "      <td>9.0</td>\n",
       "      <td>1.83</td>\n",
       "      <td>18231.52</td>\n",
       "      <td>96.458788</td>\n",
       "      <td>241.761898</td>\n",
       "      <td>1448.293333</td>\n",
       "      <td>86.608647</td>\n",
       "      <td>6</td>\n",
       "      <td>5</td>\n",
       "      <td>40</td>\n",
       "      <td>7.0</td>\n",
       "      <td>1358.96</td>\n",
       "      <td>15.0</td>\n",
       "      <td>2.0</td>\n",
       "      <td>35</td>\n",
       "      <td>30.406066</td>\n",
       "    </tr>\n",
       "    <tr>\n",
       "      <th>6</th>\n",
       "      <td>24.0</td>\n",
       "      <td>17.0</td>\n",
       "      <td>9.0</td>\n",
       "      <td>1.83</td>\n",
       "      <td>18231.52</td>\n",
       "      <td>141.011014</td>\n",
       "      <td>207.209673</td>\n",
       "      <td>1448.293333</td>\n",
       "      <td>86.608647</td>\n",
       "      <td>6</td>\n",
       "      <td>5</td>\n",
       "      <td>15</td>\n",
       "      <td>7.0</td>\n",
       "      <td>1358.96</td>\n",
       "      <td>15.0</td>\n",
       "      <td>3.0</td>\n",
       "      <td>35</td>\n",
       "      <td>27.656920</td>\n",
       "    </tr>\n",
       "    <tr>\n",
       "      <th>7</th>\n",
       "      <td>24.0</td>\n",
       "      <td>17.0</td>\n",
       "      <td>9.0</td>\n",
       "      <td>1.83</td>\n",
       "      <td>18231.52</td>\n",
       "      <td>108.747501</td>\n",
       "      <td>239.473185</td>\n",
       "      <td>1448.293333</td>\n",
       "      <td>86.608647</td>\n",
       "      <td>6</td>\n",
       "      <td>5</td>\n",
       "      <td>15</td>\n",
       "      <td>7.0</td>\n",
       "      <td>1358.96</td>\n",
       "      <td>15.0</td>\n",
       "      <td>4.0</td>\n",
       "      <td>35</td>\n",
       "      <td>36.996783</td>\n",
       "    </tr>\n",
       "    <tr>\n",
       "      <th>8</th>\n",
       "      <td>NaN</td>\n",
       "      <td>17.0</td>\n",
       "      <td>9.0</td>\n",
       "      <td>1.83</td>\n",
       "      <td>18231.52</td>\n",
       "      <td>102.260566</td>\n",
       "      <td>245.960120</td>\n",
       "      <td>1448.293333</td>\n",
       "      <td>86.608647</td>\n",
       "      <td>6</td>\n",
       "      <td>40</td>\n",
       "      <td>15</td>\n",
       "      <td>7.0</td>\n",
       "      <td>1358.96</td>\n",
       "      <td>15.0</td>\n",
       "      <td>5.0</td>\n",
       "      <td>35</td>\n",
       "      <td>34.003028</td>\n",
       "    </tr>\n",
       "  </tbody>\n",
       "</table>\n",
       "<p>1000 rows × 18 columns</p>\n",
       "</div>"
      ],
      "text/plain": [
       "                    age  num_of_delayed_payment  num_of_loan  \\\n",
       "customer_id month                                              \n",
       "CUS_0x1000  1      17.0                    25.0          2.0   \n",
       "            2      17.0                    23.0          2.0   \n",
       "            3      17.0                    28.0          2.0   \n",
       "            4      17.0                    25.0          2.0   \n",
       "            5      17.0                    25.0          2.0   \n",
       "...                 ...                     ...          ...   \n",
       "CUS_0x122f  4      24.0                    17.0          9.0   \n",
       "            5      24.0                    17.0          9.0   \n",
       "            6      24.0                    17.0          9.0   \n",
       "            7      24.0                    17.0          9.0   \n",
       "            8       NaN                    17.0          9.0   \n",
       "\n",
       "                   changed_credit_limit  annual_income  \\\n",
       "customer_id month                                        \n",
       "CUS_0x1000  1                      1.63       30625.94   \n",
       "            2                      1.63       30625.94   \n",
       "            3                      1.63       30625.94   \n",
       "            4                      1.63       30625.94   \n",
       "            5                      2.63       30625.94   \n",
       "...                                 ...            ...   \n",
       "CUS_0x122f  4                      1.83       18231.52   \n",
       "            5                      1.83       18231.52   \n",
       "            6                      1.83       18231.52   \n",
       "            7                      1.83       18231.52   \n",
       "            8                      1.83       18231.52   \n",
       "\n",
       "                   amount_invested_monthly  monthly_balance  \\\n",
       "customer_id month                                             \n",
       "CUS_0x1000  1                   244.750283       252.924793   \n",
       "            2                   176.132567       311.542510   \n",
       "            3                   109.056519       368.618557   \n",
       "            4                    87.909909       419.765167   \n",
       "            5                   191.834767       305.840309   \n",
       "...                                    ...              ...   \n",
       "CUS_0x122f  4                    66.324754       271.895932   \n",
       "            5                    96.458788       241.761898   \n",
       "            6                   141.011014       207.209673   \n",
       "            7                   108.747501       239.473185   \n",
       "            8                   102.260566       245.960120   \n",
       "\n",
       "                   monthly_inhand_salary  total_emi_per_month  \\\n",
       "customer_id month                                               \n",
       "CUS_0x1000  1                2706.161667            42.941090   \n",
       "            2                        NaN            42.941090   \n",
       "            3                2706.161667            42.941090   \n",
       "            4                2706.161667            42.941090   \n",
       "            5                2706.161667            42.941090   \n",
       "...                                  ...                  ...   \n",
       "CUS_0x122f  4                        NaN            86.608647   \n",
       "            5                1448.293333            86.608647   \n",
       "            6                1448.293333            86.608647   \n",
       "            7                1448.293333            86.608647   \n",
       "            8                1448.293333            86.608647   \n",
       "\n",
       "                   num_bank_accounts  num_credit_card  interest_rate  \\\n",
       "customer_id month                                                      \n",
       "CUS_0x1000  1                      6                5             27   \n",
       "            2                      6                5             27   \n",
       "            3                      6                5             27   \n",
       "            4                      6                5             27   \n",
       "            5                      6                5             27   \n",
       "...                              ...              ...            ...   \n",
       "CUS_0x122f  4                      6                5             15   \n",
       "            5                      6                5             40   \n",
       "            6                      6                5             15   \n",
       "            7                      6                5             15   \n",
       "            8                      6               40             15   \n",
       "\n",
       "                   num_credit_inquiries  outstanding_debt  \\\n",
       "customer_id month                                           \n",
       "CUS_0x1000  1                      10.0           1562.91   \n",
       "            2                      11.0           1562.91   \n",
       "            3                      11.0           1562.91   \n",
       "            4                      11.0           1562.91   \n",
       "            5                      11.0           1562.91   \n",
       "...                                 ...               ...   \n",
       "CUS_0x122f  4                       7.0           1358.96   \n",
       "            5                       7.0           1358.96   \n",
       "            6                       7.0           1358.96   \n",
       "            7                       7.0           1358.96   \n",
       "            8                       7.0           1358.96   \n",
       "\n",
       "                   credit_history_age_in_years  credit_history_age_in_months  \\\n",
       "customer_id month                                                              \n",
       "CUS_0x1000  1                             10.0                           2.0   \n",
       "            2                             10.0                           3.0   \n",
       "            3                             10.0                           4.0   \n",
       "            4                             10.0                           5.0   \n",
       "            5                             10.0                           6.0   \n",
       "...                                        ...                           ...   \n",
       "CUS_0x122f  4                             15.0                           1.0   \n",
       "            5                             15.0                           2.0   \n",
       "            6                             15.0                           3.0   \n",
       "            7                             15.0                           4.0   \n",
       "            8                             15.0                           5.0   \n",
       "\n",
       "                   delay_from_due_date  credit_utilization_ratio  \n",
       "customer_id month                                                 \n",
       "CUS_0x1000  1                       62                 26.612093  \n",
       "            2                       62                 29.439759  \n",
       "            3                       62                 38.285928  \n",
       "            4                       64                 32.843081  \n",
       "            5                       67                 32.330508  \n",
       "...                                ...                       ...  \n",
       "CUS_0x122f  4                       36                 31.446719  \n",
       "            5                       35                 30.406066  \n",
       "            6                       35                 27.656920  \n",
       "            7                       35                 36.996783  \n",
       "            8                       35                 34.003028  \n",
       "\n",
       "[1000 rows x 18 columns]"
      ]
     },
     "execution_count": 38,
     "metadata": {},
     "output_type": "execute_result"
    }
   ],
   "source": [
    "X_with_detected_outliers = outlier_transformer.fit_transform(X_dtype.select_dtypes(np.number).head(1000))\n",
    "X_with_detected_outliers"
   ]
  },
  {
   "cell_type": "code",
   "execution_count": 39,
   "id": "1ff912fb",
   "metadata": {
    "scrolled": true
   },
   "outputs": [
    {
     "data": {
      "text/plain": [
       "credit_history_age_in_years     0.0\n",
       "credit_history_age_in_months    0.0\n",
       "age                             0.0\n",
       "num_of_delayed_payment          0.0\n",
       "num_of_loan                     0.0\n",
       "changed_credit_limit            0.0\n",
       "annual_income                   0.0\n",
       "amount_invested_monthly         0.0\n",
       "monthly_balance                 0.0\n",
       "monthly_inhand_salary           0.0\n",
       "total_emi_per_month             0.0\n",
       "num_bank_accounts               0.0\n",
       "num_credit_card                 0.0\n",
       "interest_rate                   0.0\n",
       "num_credit_inquiries            0.0\n",
       "outstanding_debt                0.0\n",
       "delay_from_due_date             0.0\n",
       "credit_utilization_ratio        0.0\n",
       "dtype: float64"
      ]
     },
     "execution_count": 39,
     "metadata": {},
     "output_type": "execute_result"
    }
   ],
   "source": [
    "X_without_outliers = imputer_transformer.fit_transform(X_with_detected_outliers)\n",
    "X_without_outliers.isna().mean()"
   ]
  },
  {
   "cell_type": "code",
   "execution_count": 40,
   "id": "9dff45a8",
   "metadata": {},
   "outputs": [],
   "source": [
    "class CustomPipeline(CustomTransformer):\n",
    "\n",
    "    def __init__(self, steps: List[Tuple[str, TransformerMixin]]):\n",
    "        self.steps = steps\n",
    "\n",
    "    def fit(self, X: pd.DataFrame, y=None, **params):\n",
    "        for name, transformer in self.steps[:-1]:\n",
    "            X = transformer.fit_transform(X, y, **params)\n",
    "            \n",
    "        name, transformer = self.steps[-1]\n",
    "        transformer.fit(X, y, **params)\n",
    "        return self\n",
    "\n",
    "    def transform(self, X: pd.DataFrame, **params):\n",
    "        X = X.copy()\n",
    "        for name, transformer in self.steps:\n",
    "            print(name.center(40, \"-\"))\n",
    "            X = transformer.transform(X, **params)\n",
    "            display(X.info())\n",
    "\n",
    "        return X\n"
   ]
  },
  {
   "cell_type": "code",
   "execution_count": 41,
   "id": "1663b45f",
   "metadata": {},
   "outputs": [
    {
     "data": {
      "text/html": [
       "<style>#sk-container-id-13 {color: black;background-color: white;}#sk-container-id-13 pre{padding: 0;}#sk-container-id-13 div.sk-toggleable {background-color: white;}#sk-container-id-13 label.sk-toggleable__label {cursor: pointer;display: block;width: 100%;margin-bottom: 0;padding: 0.3em;box-sizing: border-box;text-align: center;}#sk-container-id-13 label.sk-toggleable__label-arrow:before {content: \"▸\";float: left;margin-right: 0.25em;color: #696969;}#sk-container-id-13 label.sk-toggleable__label-arrow:hover:before {color: black;}#sk-container-id-13 div.sk-estimator:hover label.sk-toggleable__label-arrow:before {color: black;}#sk-container-id-13 div.sk-toggleable__content {max-height: 0;max-width: 0;overflow: hidden;text-align: left;background-color: #f0f8ff;}#sk-container-id-13 div.sk-toggleable__content pre {margin: 0.2em;color: black;border-radius: 0.25em;background-color: #f0f8ff;}#sk-container-id-13 input.sk-toggleable__control:checked~div.sk-toggleable__content {max-height: 200px;max-width: 100%;overflow: auto;}#sk-container-id-13 input.sk-toggleable__control:checked~label.sk-toggleable__label-arrow:before {content: \"▾\";}#sk-container-id-13 div.sk-estimator input.sk-toggleable__control:checked~label.sk-toggleable__label {background-color: #d4ebff;}#sk-container-id-13 div.sk-label input.sk-toggleable__control:checked~label.sk-toggleable__label {background-color: #d4ebff;}#sk-container-id-13 input.sk-hidden--visually {border: 0;clip: rect(1px 1px 1px 1px);clip: rect(1px, 1px, 1px, 1px);height: 1px;margin: -1px;overflow: hidden;padding: 0;position: absolute;width: 1px;}#sk-container-id-13 div.sk-estimator {font-family: monospace;background-color: #f0f8ff;border: 1px dotted black;border-radius: 0.25em;box-sizing: border-box;margin-bottom: 0.5em;}#sk-container-id-13 div.sk-estimator:hover {background-color: #d4ebff;}#sk-container-id-13 div.sk-parallel-item::after {content: \"\";width: 100%;border-bottom: 1px solid gray;flex-grow: 1;}#sk-container-id-13 div.sk-label:hover label.sk-toggleable__label {background-color: #d4ebff;}#sk-container-id-13 div.sk-serial::before {content: \"\";position: absolute;border-left: 1px solid gray;box-sizing: border-box;top: 0;bottom: 0;left: 50%;z-index: 0;}#sk-container-id-13 div.sk-serial {display: flex;flex-direction: column;align-items: center;background-color: white;padding-right: 0.2em;padding-left: 0.2em;position: relative;}#sk-container-id-13 div.sk-item {position: relative;z-index: 1;}#sk-container-id-13 div.sk-parallel {display: flex;align-items: stretch;justify-content: center;background-color: white;position: relative;}#sk-container-id-13 div.sk-item::before, #sk-container-id-13 div.sk-parallel-item::before {content: \"\";position: absolute;border-left: 1px solid gray;box-sizing: border-box;top: 0;bottom: 0;left: 50%;z-index: -1;}#sk-container-id-13 div.sk-parallel-item {display: flex;flex-direction: column;z-index: 1;position: relative;background-color: white;}#sk-container-id-13 div.sk-parallel-item:first-child::after {align-self: flex-end;width: 50%;}#sk-container-id-13 div.sk-parallel-item:last-child::after {align-self: flex-start;width: 50%;}#sk-container-id-13 div.sk-parallel-item:only-child::after {width: 0;}#sk-container-id-13 div.sk-dashed-wrapped {border: 1px dashed gray;margin: 0 0.4em 0.5em 0.4em;box-sizing: border-box;padding-bottom: 0.4em;background-color: white;}#sk-container-id-13 div.sk-label label {font-family: monospace;font-weight: bold;display: inline-block;line-height: 1.2em;}#sk-container-id-13 div.sk-label-container {text-align: center;}#sk-container-id-13 div.sk-container {/* jupyter's `normalize.less` sets `[hidden] { display: none; }` but bootstrap.min.css set `[hidden] { display: none !important; }` so we also need the `!important` here to be able to override the default hidden behavior on the sphinx rendered scikit-learn.org. See: https://github.com/scikit-learn/scikit-learn/issues/21755 */display: inline-block !important;position: relative;}#sk-container-id-13 div.sk-text-repr-fallback {display: none;}</style><div id=\"sk-container-id-13\" class=\"sk-top-container\"><div class=\"sk-text-repr-fallback\"><pre>CustomPipeline(steps=[(&#x27;outliers&#x27;,\n",
       "                       ColumnTransformer(remainder=&#x27;passthrough&#x27;,\n",
       "                                         transformers=[(&#x27;range_0_100&#x27;,\n",
       "                                                        RangeOutlierDetector(max_value=100,\n",
       "                                                                             min_value=0),\n",
       "                                                        [&#x27;age&#x27;,\n",
       "                                                         &#x27;num_of_delayed_payment&#x27;,\n",
       "                                                         &#x27;num_of_loan&#x27;]),\n",
       "                                                       (&#x27;changed_credit_limit&#x27;,\n",
       "                                                        RangeOutlierDetector(max_value=37,\n",
       "                                                                             min_value=-10),\n",
       "                                                        [&#x27;changed_credit_limit&#x27;]),\n",
       "                                                       (&#x27;delta&#x27;,\n",
       "                                                        DeltaFromMedianOutlierDetector(),\n",
       "                                                        [&#x27;annual...\n",
       "                                                        [&#x27;num_bank_accounts&#x27;,\n",
       "                                                         &#x27;num_credit_card&#x27;,\n",
       "                                                         &#x27;interest_rate&#x27;,\n",
       "                                                         &#x27;num_credit_inquiries&#x27;])],\n",
       "                                         verbose_feature_names_out=False)),\n",
       "                      (&#x27;imputer&#x27;,\n",
       "                       ColumnTransformer(remainder=InterpolationImputer(),\n",
       "                                         transformers=[(&#x27;zero_values&#x27;,\n",
       "                                                        SimpleImputer(fill_value=0,\n",
       "                                                                      strategy=&#x27;constant&#x27;),\n",
       "                                                        [&#x27;credit_history_age_in_years&#x27;,\n",
       "                                                         &#x27;credit_history_age_in_months&#x27;])],\n",
       "                                         verbose_feature_names_out=False))])</pre><b>In a Jupyter environment, please rerun this cell to show the HTML representation or trust the notebook. <br />On GitHub, the HTML representation is unable to render, please try loading this page with nbviewer.org.</b></div><div class=\"sk-container\" hidden><div class=\"sk-item\"><div class=\"sk-estimator sk-toggleable\"><input class=\"sk-toggleable__control sk-hidden--visually\" id=\"sk-estimator-id-91\" type=\"checkbox\" checked><label for=\"sk-estimator-id-91\" class=\"sk-toggleable__label sk-toggleable__label-arrow\">CustomPipeline</label><div class=\"sk-toggleable__content\"><pre>CustomPipeline(steps=[(&#x27;outliers&#x27;,\n",
       "                       ColumnTransformer(remainder=&#x27;passthrough&#x27;,\n",
       "                                         transformers=[(&#x27;range_0_100&#x27;,\n",
       "                                                        RangeOutlierDetector(max_value=100,\n",
       "                                                                             min_value=0),\n",
       "                                                        [&#x27;age&#x27;,\n",
       "                                                         &#x27;num_of_delayed_payment&#x27;,\n",
       "                                                         &#x27;num_of_loan&#x27;]),\n",
       "                                                       (&#x27;changed_credit_limit&#x27;,\n",
       "                                                        RangeOutlierDetector(max_value=37,\n",
       "                                                                             min_value=-10),\n",
       "                                                        [&#x27;changed_credit_limit&#x27;]),\n",
       "                                                       (&#x27;delta&#x27;,\n",
       "                                                        DeltaFromMedianOutlierDetector(),\n",
       "                                                        [&#x27;annual...\n",
       "                                                        [&#x27;num_bank_accounts&#x27;,\n",
       "                                                         &#x27;num_credit_card&#x27;,\n",
       "                                                         &#x27;interest_rate&#x27;,\n",
       "                                                         &#x27;num_credit_inquiries&#x27;])],\n",
       "                                         verbose_feature_names_out=False)),\n",
       "                      (&#x27;imputer&#x27;,\n",
       "                       ColumnTransformer(remainder=InterpolationImputer(),\n",
       "                                         transformers=[(&#x27;zero_values&#x27;,\n",
       "                                                        SimpleImputer(fill_value=0,\n",
       "                                                                      strategy=&#x27;constant&#x27;),\n",
       "                                                        [&#x27;credit_history_age_in_years&#x27;,\n",
       "                                                         &#x27;credit_history_age_in_months&#x27;])],\n",
       "                                         verbose_feature_names_out=False))])</pre></div></div></div></div></div>"
      ],
      "text/plain": [
       "CustomPipeline(steps=[('outliers',\n",
       "                       ColumnTransformer(remainder='passthrough',\n",
       "                                         transformers=[('range_0_100',\n",
       "                                                        RangeOutlierDetector(max_value=100,\n",
       "                                                                             min_value=0),\n",
       "                                                        ['age',\n",
       "                                                         'num_of_delayed_payment',\n",
       "                                                         'num_of_loan']),\n",
       "                                                       ('changed_credit_limit',\n",
       "                                                        RangeOutlierDetector(max_value=37,\n",
       "                                                                             min_value=-10),\n",
       "                                                        ['changed_credit_limit']),\n",
       "                                                       ('delta',\n",
       "                                                        DeltaFromMedianOutlierDetector(),\n",
       "                                                        ['annual...\n",
       "                                                        ['num_bank_accounts',\n",
       "                                                         'num_credit_card',\n",
       "                                                         'interest_rate',\n",
       "                                                         'num_credit_inquiries'])],\n",
       "                                         verbose_feature_names_out=False)),\n",
       "                      ('imputer',\n",
       "                       ColumnTransformer(remainder=InterpolationImputer(),\n",
       "                                         transformers=[('zero_values',\n",
       "                                                        SimpleImputer(fill_value=0,\n",
       "                                                                      strategy='constant'),\n",
       "                                                        ['credit_history_age_in_years',\n",
       "                                                         'credit_history_age_in_months'])],\n",
       "                                         verbose_feature_names_out=False))])"
      ]
     },
     "execution_count": 41,
     "metadata": {},
     "output_type": "execute_result"
    }
   ],
   "source": [
    "cp = CustomPipeline([\n",
    "        (\"outliers\", outlier_transformer),\n",
    "        (\"imputer\", imputer_transformer)\n",
    "]).set_output(transform=\"pandas\")\n",
    "cp"
   ]
  },
  {
   "cell_type": "code",
   "execution_count": 42,
   "id": "58e49635",
   "metadata": {},
   "outputs": [
    {
     "data": {
      "text/html": [
       "<style>#sk-container-id-14 {color: black;background-color: white;}#sk-container-id-14 pre{padding: 0;}#sk-container-id-14 div.sk-toggleable {background-color: white;}#sk-container-id-14 label.sk-toggleable__label {cursor: pointer;display: block;width: 100%;margin-bottom: 0;padding: 0.3em;box-sizing: border-box;text-align: center;}#sk-container-id-14 label.sk-toggleable__label-arrow:before {content: \"▸\";float: left;margin-right: 0.25em;color: #696969;}#sk-container-id-14 label.sk-toggleable__label-arrow:hover:before {color: black;}#sk-container-id-14 div.sk-estimator:hover label.sk-toggleable__label-arrow:before {color: black;}#sk-container-id-14 div.sk-toggleable__content {max-height: 0;max-width: 0;overflow: hidden;text-align: left;background-color: #f0f8ff;}#sk-container-id-14 div.sk-toggleable__content pre {margin: 0.2em;color: black;border-radius: 0.25em;background-color: #f0f8ff;}#sk-container-id-14 input.sk-toggleable__control:checked~div.sk-toggleable__content {max-height: 200px;max-width: 100%;overflow: auto;}#sk-container-id-14 input.sk-toggleable__control:checked~label.sk-toggleable__label-arrow:before {content: \"▾\";}#sk-container-id-14 div.sk-estimator input.sk-toggleable__control:checked~label.sk-toggleable__label {background-color: #d4ebff;}#sk-container-id-14 div.sk-label input.sk-toggleable__control:checked~label.sk-toggleable__label {background-color: #d4ebff;}#sk-container-id-14 input.sk-hidden--visually {border: 0;clip: rect(1px 1px 1px 1px);clip: rect(1px, 1px, 1px, 1px);height: 1px;margin: -1px;overflow: hidden;padding: 0;position: absolute;width: 1px;}#sk-container-id-14 div.sk-estimator {font-family: monospace;background-color: #f0f8ff;border: 1px dotted black;border-radius: 0.25em;box-sizing: border-box;margin-bottom: 0.5em;}#sk-container-id-14 div.sk-estimator:hover {background-color: #d4ebff;}#sk-container-id-14 div.sk-parallel-item::after {content: \"\";width: 100%;border-bottom: 1px solid gray;flex-grow: 1;}#sk-container-id-14 div.sk-label:hover label.sk-toggleable__label {background-color: #d4ebff;}#sk-container-id-14 div.sk-serial::before {content: \"\";position: absolute;border-left: 1px solid gray;box-sizing: border-box;top: 0;bottom: 0;left: 50%;z-index: 0;}#sk-container-id-14 div.sk-serial {display: flex;flex-direction: column;align-items: center;background-color: white;padding-right: 0.2em;padding-left: 0.2em;position: relative;}#sk-container-id-14 div.sk-item {position: relative;z-index: 1;}#sk-container-id-14 div.sk-parallel {display: flex;align-items: stretch;justify-content: center;background-color: white;position: relative;}#sk-container-id-14 div.sk-item::before, #sk-container-id-14 div.sk-parallel-item::before {content: \"\";position: absolute;border-left: 1px solid gray;box-sizing: border-box;top: 0;bottom: 0;left: 50%;z-index: -1;}#sk-container-id-14 div.sk-parallel-item {display: flex;flex-direction: column;z-index: 1;position: relative;background-color: white;}#sk-container-id-14 div.sk-parallel-item:first-child::after {align-self: flex-end;width: 50%;}#sk-container-id-14 div.sk-parallel-item:last-child::after {align-self: flex-start;width: 50%;}#sk-container-id-14 div.sk-parallel-item:only-child::after {width: 0;}#sk-container-id-14 div.sk-dashed-wrapped {border: 1px dashed gray;margin: 0 0.4em 0.5em 0.4em;box-sizing: border-box;padding-bottom: 0.4em;background-color: white;}#sk-container-id-14 div.sk-label label {font-family: monospace;font-weight: bold;display: inline-block;line-height: 1.2em;}#sk-container-id-14 div.sk-label-container {text-align: center;}#sk-container-id-14 div.sk-container {/* jupyter's `normalize.less` sets `[hidden] { display: none; }` but bootstrap.min.css set `[hidden] { display: none !important; }` so we also need the `!important` here to be able to override the default hidden behavior on the sphinx rendered scikit-learn.org. See: https://github.com/scikit-learn/scikit-learn/issues/21755 */display: inline-block !important;position: relative;}#sk-container-id-14 div.sk-text-repr-fallback {display: none;}</style><div id=\"sk-container-id-14\" class=\"sk-top-container\"><div class=\"sk-text-repr-fallback\"><pre>CustomPipeline(steps=[(&#x27;outliers&#x27;,\n",
       "                       ColumnTransformer(remainder=&#x27;passthrough&#x27;,\n",
       "                                         transformers=[(&#x27;range_0_100&#x27;,\n",
       "                                                        RangeOutlierDetector(max_value=100,\n",
       "                                                                             min_value=0),\n",
       "                                                        [&#x27;age&#x27;,\n",
       "                                                         &#x27;num_of_delayed_payment&#x27;,\n",
       "                                                         &#x27;num_of_loan&#x27;]),\n",
       "                                                       (&#x27;changed_credit_limit&#x27;,\n",
       "                                                        RangeOutlierDetector(max_value=37,\n",
       "                                                                             min_value=-10),\n",
       "                                                        [&#x27;changed_credit_limit&#x27;]),\n",
       "                                                       (&#x27;delta&#x27;,\n",
       "                                                        DeltaFromMedianOutlierDetector(),\n",
       "                                                        [&#x27;annual...\n",
       "                                                        [&#x27;num_bank_accounts&#x27;,\n",
       "                                                         &#x27;num_credit_card&#x27;,\n",
       "                                                         &#x27;interest_rate&#x27;,\n",
       "                                                         &#x27;num_credit_inquiries&#x27;])],\n",
       "                                         verbose_feature_names_out=False)),\n",
       "                      (&#x27;imputer&#x27;,\n",
       "                       ColumnTransformer(remainder=InterpolationImputer(),\n",
       "                                         transformers=[(&#x27;zero_values&#x27;,\n",
       "                                                        SimpleImputer(fill_value=0,\n",
       "                                                                      strategy=&#x27;constant&#x27;),\n",
       "                                                        [&#x27;credit_history_age_in_years&#x27;,\n",
       "                                                         &#x27;credit_history_age_in_months&#x27;])],\n",
       "                                         verbose_feature_names_out=False))])</pre><b>In a Jupyter environment, please rerun this cell to show the HTML representation or trust the notebook. <br />On GitHub, the HTML representation is unable to render, please try loading this page with nbviewer.org.</b></div><div class=\"sk-container\" hidden><div class=\"sk-item\"><div class=\"sk-estimator sk-toggleable\"><input class=\"sk-toggleable__control sk-hidden--visually\" id=\"sk-estimator-id-92\" type=\"checkbox\" checked><label for=\"sk-estimator-id-92\" class=\"sk-toggleable__label sk-toggleable__label-arrow\">CustomPipeline</label><div class=\"sk-toggleable__content\"><pre>CustomPipeline(steps=[(&#x27;outliers&#x27;,\n",
       "                       ColumnTransformer(remainder=&#x27;passthrough&#x27;,\n",
       "                                         transformers=[(&#x27;range_0_100&#x27;,\n",
       "                                                        RangeOutlierDetector(max_value=100,\n",
       "                                                                             min_value=0),\n",
       "                                                        [&#x27;age&#x27;,\n",
       "                                                         &#x27;num_of_delayed_payment&#x27;,\n",
       "                                                         &#x27;num_of_loan&#x27;]),\n",
       "                                                       (&#x27;changed_credit_limit&#x27;,\n",
       "                                                        RangeOutlierDetector(max_value=37,\n",
       "                                                                             min_value=-10),\n",
       "                                                        [&#x27;changed_credit_limit&#x27;]),\n",
       "                                                       (&#x27;delta&#x27;,\n",
       "                                                        DeltaFromMedianOutlierDetector(),\n",
       "                                                        [&#x27;annual...\n",
       "                                                        [&#x27;num_bank_accounts&#x27;,\n",
       "                                                         &#x27;num_credit_card&#x27;,\n",
       "                                                         &#x27;interest_rate&#x27;,\n",
       "                                                         &#x27;num_credit_inquiries&#x27;])],\n",
       "                                         verbose_feature_names_out=False)),\n",
       "                      (&#x27;imputer&#x27;,\n",
       "                       ColumnTransformer(remainder=InterpolationImputer(),\n",
       "                                         transformers=[(&#x27;zero_values&#x27;,\n",
       "                                                        SimpleImputer(fill_value=0,\n",
       "                                                                      strategy=&#x27;constant&#x27;),\n",
       "                                                        [&#x27;credit_history_age_in_years&#x27;,\n",
       "                                                         &#x27;credit_history_age_in_months&#x27;])],\n",
       "                                         verbose_feature_names_out=False))])</pre></div></div></div></div></div>"
      ],
      "text/plain": [
       "CustomPipeline(steps=[('outliers',\n",
       "                       ColumnTransformer(remainder='passthrough',\n",
       "                                         transformers=[('range_0_100',\n",
       "                                                        RangeOutlierDetector(max_value=100,\n",
       "                                                                             min_value=0),\n",
       "                                                        ['age',\n",
       "                                                         'num_of_delayed_payment',\n",
       "                                                         'num_of_loan']),\n",
       "                                                       ('changed_credit_limit',\n",
       "                                                        RangeOutlierDetector(max_value=37,\n",
       "                                                                             min_value=-10),\n",
       "                                                        ['changed_credit_limit']),\n",
       "                                                       ('delta',\n",
       "                                                        DeltaFromMedianOutlierDetector(),\n",
       "                                                        ['annual...\n",
       "                                                        ['num_bank_accounts',\n",
       "                                                         'num_credit_card',\n",
       "                                                         'interest_rate',\n",
       "                                                         'num_credit_inquiries'])],\n",
       "                                         verbose_feature_names_out=False)),\n",
       "                      ('imputer',\n",
       "                       ColumnTransformer(remainder=InterpolationImputer(),\n",
       "                                         transformers=[('zero_values',\n",
       "                                                        SimpleImputer(fill_value=0,\n",
       "                                                                      strategy='constant'),\n",
       "                                                        ['credit_history_age_in_years',\n",
       "                                                         'credit_history_age_in_months'])],\n",
       "                                         verbose_feature_names_out=False))])"
      ]
     },
     "execution_count": 42,
     "metadata": {},
     "output_type": "execute_result"
    }
   ],
   "source": [
    "cp.fit(X_dtype.select_dtypes(np.number).head(1000))"
   ]
  },
  {
   "cell_type": "code",
   "execution_count": 43,
   "id": "9ad174b2",
   "metadata": {},
   "outputs": [
    {
     "data": {
      "text/html": [
       "<style>#sk-container-id-15 {color: black;background-color: white;}#sk-container-id-15 pre{padding: 0;}#sk-container-id-15 div.sk-toggleable {background-color: white;}#sk-container-id-15 label.sk-toggleable__label {cursor: pointer;display: block;width: 100%;margin-bottom: 0;padding: 0.3em;box-sizing: border-box;text-align: center;}#sk-container-id-15 label.sk-toggleable__label-arrow:before {content: \"▸\";float: left;margin-right: 0.25em;color: #696969;}#sk-container-id-15 label.sk-toggleable__label-arrow:hover:before {color: black;}#sk-container-id-15 div.sk-estimator:hover label.sk-toggleable__label-arrow:before {color: black;}#sk-container-id-15 div.sk-toggleable__content {max-height: 0;max-width: 0;overflow: hidden;text-align: left;background-color: #f0f8ff;}#sk-container-id-15 div.sk-toggleable__content pre {margin: 0.2em;color: black;border-radius: 0.25em;background-color: #f0f8ff;}#sk-container-id-15 input.sk-toggleable__control:checked~div.sk-toggleable__content {max-height: 200px;max-width: 100%;overflow: auto;}#sk-container-id-15 input.sk-toggleable__control:checked~label.sk-toggleable__label-arrow:before {content: \"▾\";}#sk-container-id-15 div.sk-estimator input.sk-toggleable__control:checked~label.sk-toggleable__label {background-color: #d4ebff;}#sk-container-id-15 div.sk-label input.sk-toggleable__control:checked~label.sk-toggleable__label {background-color: #d4ebff;}#sk-container-id-15 input.sk-hidden--visually {border: 0;clip: rect(1px 1px 1px 1px);clip: rect(1px, 1px, 1px, 1px);height: 1px;margin: -1px;overflow: hidden;padding: 0;position: absolute;width: 1px;}#sk-container-id-15 div.sk-estimator {font-family: monospace;background-color: #f0f8ff;border: 1px dotted black;border-radius: 0.25em;box-sizing: border-box;margin-bottom: 0.5em;}#sk-container-id-15 div.sk-estimator:hover {background-color: #d4ebff;}#sk-container-id-15 div.sk-parallel-item::after {content: \"\";width: 100%;border-bottom: 1px solid gray;flex-grow: 1;}#sk-container-id-15 div.sk-label:hover label.sk-toggleable__label {background-color: #d4ebff;}#sk-container-id-15 div.sk-serial::before {content: \"\";position: absolute;border-left: 1px solid gray;box-sizing: border-box;top: 0;bottom: 0;left: 50%;z-index: 0;}#sk-container-id-15 div.sk-serial {display: flex;flex-direction: column;align-items: center;background-color: white;padding-right: 0.2em;padding-left: 0.2em;position: relative;}#sk-container-id-15 div.sk-item {position: relative;z-index: 1;}#sk-container-id-15 div.sk-parallel {display: flex;align-items: stretch;justify-content: center;background-color: white;position: relative;}#sk-container-id-15 div.sk-item::before, #sk-container-id-15 div.sk-parallel-item::before {content: \"\";position: absolute;border-left: 1px solid gray;box-sizing: border-box;top: 0;bottom: 0;left: 50%;z-index: -1;}#sk-container-id-15 div.sk-parallel-item {display: flex;flex-direction: column;z-index: 1;position: relative;background-color: white;}#sk-container-id-15 div.sk-parallel-item:first-child::after {align-self: flex-end;width: 50%;}#sk-container-id-15 div.sk-parallel-item:last-child::after {align-self: flex-start;width: 50%;}#sk-container-id-15 div.sk-parallel-item:only-child::after {width: 0;}#sk-container-id-15 div.sk-dashed-wrapped {border: 1px dashed gray;margin: 0 0.4em 0.5em 0.4em;box-sizing: border-box;padding-bottom: 0.4em;background-color: white;}#sk-container-id-15 div.sk-label label {font-family: monospace;font-weight: bold;display: inline-block;line-height: 1.2em;}#sk-container-id-15 div.sk-label-container {text-align: center;}#sk-container-id-15 div.sk-container {/* jupyter's `normalize.less` sets `[hidden] { display: none; }` but bootstrap.min.css set `[hidden] { display: none !important; }` so we also need the `!important` here to be able to override the default hidden behavior on the sphinx rendered scikit-learn.org. See: https://github.com/scikit-learn/scikit-learn/issues/21755 */display: inline-block !important;position: relative;}#sk-container-id-15 div.sk-text-repr-fallback {display: none;}</style><div id=\"sk-container-id-15\" class=\"sk-top-container\"><div class=\"sk-text-repr-fallback\"><pre>Pipeline(steps=[(&#x27;outliers&#x27;,\n",
       "                 ColumnTransformer(remainder=&#x27;passthrough&#x27;,\n",
       "                                   transformers=[(&#x27;range_0_100&#x27;,\n",
       "                                                  RangeOutlierDetector(max_value=100,\n",
       "                                                                       min_value=0),\n",
       "                                                  [&#x27;age&#x27;,\n",
       "                                                   &#x27;num_of_delayed_payment&#x27;,\n",
       "                                                   &#x27;num_of_loan&#x27;]),\n",
       "                                                 (&#x27;changed_credit_limit&#x27;,\n",
       "                                                  RangeOutlierDetector(max_value=37,\n",
       "                                                                       min_value=-10),\n",
       "                                                  [&#x27;changed_credit_limit&#x27;]),\n",
       "                                                 (&#x27;delta&#x27;,\n",
       "                                                  DeltaFromMedianOutlierDetector(),\n",
       "                                                  [&#x27;annual_incom...\n",
       "                                                  [&#x27;num_bank_accounts&#x27;,\n",
       "                                                   &#x27;num_credit_card&#x27;,\n",
       "                                                   &#x27;interest_rate&#x27;,\n",
       "                                                   &#x27;num_credit_inquiries&#x27;])],\n",
       "                                   verbose_feature_names_out=False)),\n",
       "                (&#x27;imputer&#x27;,\n",
       "                 ColumnTransformer(remainder=InterpolationImputer(),\n",
       "                                   transformers=[(&#x27;zero_values&#x27;,\n",
       "                                                  SimpleImputer(fill_value=0,\n",
       "                                                                strategy=&#x27;constant&#x27;),\n",
       "                                                  [&#x27;credit_history_age_in_years&#x27;,\n",
       "                                                   &#x27;credit_history_age_in_months&#x27;])],\n",
       "                                   verbose_feature_names_out=False))])</pre><b>In a Jupyter environment, please rerun this cell to show the HTML representation or trust the notebook. <br />On GitHub, the HTML representation is unable to render, please try loading this page with nbviewer.org.</b></div><div class=\"sk-container\" hidden><div class=\"sk-item sk-dashed-wrapped\"><div class=\"sk-label-container\"><div class=\"sk-label sk-toggleable\"><input class=\"sk-toggleable__control sk-hidden--visually\" id=\"sk-estimator-id-93\" type=\"checkbox\" ><label for=\"sk-estimator-id-93\" class=\"sk-toggleable__label sk-toggleable__label-arrow\">Pipeline</label><div class=\"sk-toggleable__content\"><pre>Pipeline(steps=[(&#x27;outliers&#x27;,\n",
       "                 ColumnTransformer(remainder=&#x27;passthrough&#x27;,\n",
       "                                   transformers=[(&#x27;range_0_100&#x27;,\n",
       "                                                  RangeOutlierDetector(max_value=100,\n",
       "                                                                       min_value=0),\n",
       "                                                  [&#x27;age&#x27;,\n",
       "                                                   &#x27;num_of_delayed_payment&#x27;,\n",
       "                                                   &#x27;num_of_loan&#x27;]),\n",
       "                                                 (&#x27;changed_credit_limit&#x27;,\n",
       "                                                  RangeOutlierDetector(max_value=37,\n",
       "                                                                       min_value=-10),\n",
       "                                                  [&#x27;changed_credit_limit&#x27;]),\n",
       "                                                 (&#x27;delta&#x27;,\n",
       "                                                  DeltaFromMedianOutlierDetector(),\n",
       "                                                  [&#x27;annual_incom...\n",
       "                                                  [&#x27;num_bank_accounts&#x27;,\n",
       "                                                   &#x27;num_credit_card&#x27;,\n",
       "                                                   &#x27;interest_rate&#x27;,\n",
       "                                                   &#x27;num_credit_inquiries&#x27;])],\n",
       "                                   verbose_feature_names_out=False)),\n",
       "                (&#x27;imputer&#x27;,\n",
       "                 ColumnTransformer(remainder=InterpolationImputer(),\n",
       "                                   transformers=[(&#x27;zero_values&#x27;,\n",
       "                                                  SimpleImputer(fill_value=0,\n",
       "                                                                strategy=&#x27;constant&#x27;),\n",
       "                                                  [&#x27;credit_history_age_in_years&#x27;,\n",
       "                                                   &#x27;credit_history_age_in_months&#x27;])],\n",
       "                                   verbose_feature_names_out=False))])</pre></div></div></div><div class=\"sk-serial\"><div class=\"sk-item sk-dashed-wrapped\"><div class=\"sk-label-container\"><div class=\"sk-label sk-toggleable\"><input class=\"sk-toggleable__control sk-hidden--visually\" id=\"sk-estimator-id-94\" type=\"checkbox\" ><label for=\"sk-estimator-id-94\" class=\"sk-toggleable__label sk-toggleable__label-arrow\">outliers: ColumnTransformer</label><div class=\"sk-toggleable__content\"><pre>ColumnTransformer(remainder=&#x27;passthrough&#x27;,\n",
       "                  transformers=[(&#x27;range_0_100&#x27;,\n",
       "                                 RangeOutlierDetector(max_value=100,\n",
       "                                                      min_value=0),\n",
       "                                 [&#x27;age&#x27;, &#x27;num_of_delayed_payment&#x27;,\n",
       "                                  &#x27;num_of_loan&#x27;]),\n",
       "                                (&#x27;changed_credit_limit&#x27;,\n",
       "                                 RangeOutlierDetector(max_value=37,\n",
       "                                                      min_value=-10),\n",
       "                                 [&#x27;changed_credit_limit&#x27;]),\n",
       "                                (&#x27;delta&#x27;, DeltaFromMedianOutlierDetector(),\n",
       "                                 [&#x27;annual_income&#x27;, &#x27;amount_invested_monthly&#x27;,\n",
       "                                  &#x27;monthly_balance&#x27;, &#x27;monthly_inhand_salary&#x27;,\n",
       "                                  &#x27;total_emi_per_month&#x27;]),\n",
       "                                (&#x27;range_0_10_clip&#x27;,\n",
       "                                 RangeOutlierDetector(clip=True, max_value=40,\n",
       "                                                      min_value=0),\n",
       "                                 [&#x27;num_bank_accounts&#x27;, &#x27;num_credit_card&#x27;,\n",
       "                                  &#x27;interest_rate&#x27;, &#x27;num_credit_inquiries&#x27;])],\n",
       "                  verbose_feature_names_out=False)</pre></div></div></div><div class=\"sk-parallel\"><div class=\"sk-parallel-item\"><div class=\"sk-item\"><div class=\"sk-label-container\"><div class=\"sk-label sk-toggleable\"><input class=\"sk-toggleable__control sk-hidden--visually\" id=\"sk-estimator-id-95\" type=\"checkbox\" ><label for=\"sk-estimator-id-95\" class=\"sk-toggleable__label sk-toggleable__label-arrow\">range_0_100</label><div class=\"sk-toggleable__content\"><pre>[&#x27;age&#x27;, &#x27;num_of_delayed_payment&#x27;, &#x27;num_of_loan&#x27;]</pre></div></div></div><div class=\"sk-serial\"><div class=\"sk-item\"><div class=\"sk-estimator sk-toggleable\"><input class=\"sk-toggleable__control sk-hidden--visually\" id=\"sk-estimator-id-96\" type=\"checkbox\" ><label for=\"sk-estimator-id-96\" class=\"sk-toggleable__label sk-toggleable__label-arrow\">RangeOutlierDetector</label><div class=\"sk-toggleable__content\"><pre>RangeOutlierDetector(max_value=100, min_value=0)</pre></div></div></div></div></div></div><div class=\"sk-parallel-item\"><div class=\"sk-item\"><div class=\"sk-label-container\"><div class=\"sk-label sk-toggleable\"><input class=\"sk-toggleable__control sk-hidden--visually\" id=\"sk-estimator-id-97\" type=\"checkbox\" ><label for=\"sk-estimator-id-97\" class=\"sk-toggleable__label sk-toggleable__label-arrow\">changed_credit_limit</label><div class=\"sk-toggleable__content\"><pre>[&#x27;changed_credit_limit&#x27;]</pre></div></div></div><div class=\"sk-serial\"><div class=\"sk-item\"><div class=\"sk-estimator sk-toggleable\"><input class=\"sk-toggleable__control sk-hidden--visually\" id=\"sk-estimator-id-98\" type=\"checkbox\" ><label for=\"sk-estimator-id-98\" class=\"sk-toggleable__label sk-toggleable__label-arrow\">RangeOutlierDetector</label><div class=\"sk-toggleable__content\"><pre>RangeOutlierDetector(max_value=37, min_value=-10)</pre></div></div></div></div></div></div><div class=\"sk-parallel-item\"><div class=\"sk-item\"><div class=\"sk-label-container\"><div class=\"sk-label sk-toggleable\"><input class=\"sk-toggleable__control sk-hidden--visually\" id=\"sk-estimator-id-99\" type=\"checkbox\" ><label for=\"sk-estimator-id-99\" class=\"sk-toggleable__label sk-toggleable__label-arrow\">delta</label><div class=\"sk-toggleable__content\"><pre>[&#x27;annual_income&#x27;, &#x27;amount_invested_monthly&#x27;, &#x27;monthly_balance&#x27;, &#x27;monthly_inhand_salary&#x27;, &#x27;total_emi_per_month&#x27;]</pre></div></div></div><div class=\"sk-serial\"><div class=\"sk-item\"><div class=\"sk-estimator sk-toggleable\"><input class=\"sk-toggleable__control sk-hidden--visually\" id=\"sk-estimator-id-100\" type=\"checkbox\" ><label for=\"sk-estimator-id-100\" class=\"sk-toggleable__label sk-toggleable__label-arrow\">DeltaFromMedianOutlierDetector</label><div class=\"sk-toggleable__content\"><pre>DeltaFromMedianOutlierDetector()</pre></div></div></div></div></div></div><div class=\"sk-parallel-item\"><div class=\"sk-item\"><div class=\"sk-label-container\"><div class=\"sk-label sk-toggleable\"><input class=\"sk-toggleable__control sk-hidden--visually\" id=\"sk-estimator-id-101\" type=\"checkbox\" ><label for=\"sk-estimator-id-101\" class=\"sk-toggleable__label sk-toggleable__label-arrow\">range_0_10_clip</label><div class=\"sk-toggleable__content\"><pre>[&#x27;num_bank_accounts&#x27;, &#x27;num_credit_card&#x27;, &#x27;interest_rate&#x27;, &#x27;num_credit_inquiries&#x27;]</pre></div></div></div><div class=\"sk-serial\"><div class=\"sk-item\"><div class=\"sk-estimator sk-toggleable\"><input class=\"sk-toggleable__control sk-hidden--visually\" id=\"sk-estimator-id-102\" type=\"checkbox\" ><label for=\"sk-estimator-id-102\" class=\"sk-toggleable__label sk-toggleable__label-arrow\">RangeOutlierDetector</label><div class=\"sk-toggleable__content\"><pre>RangeOutlierDetector(clip=True, max_value=40, min_value=0)</pre></div></div></div></div></div></div><div class=\"sk-parallel-item\"><div class=\"sk-item\"><div class=\"sk-label-container\"><div class=\"sk-label sk-toggleable\"><input class=\"sk-toggleable__control sk-hidden--visually\" id=\"sk-estimator-id-103\" type=\"checkbox\" ><label for=\"sk-estimator-id-103\" class=\"sk-toggleable__label sk-toggleable__label-arrow\">remainder</label><div class=\"sk-toggleable__content\"><pre>[&#x27;outstanding_debt&#x27;, &#x27;credit_history_age_in_years&#x27;, &#x27;credit_history_age_in_months&#x27;, &#x27;delay_from_due_date&#x27;, &#x27;credit_utilization_ratio&#x27;]</pre></div></div></div><div class=\"sk-serial\"><div class=\"sk-item\"><div class=\"sk-estimator sk-toggleable\"><input class=\"sk-toggleable__control sk-hidden--visually\" id=\"sk-estimator-id-104\" type=\"checkbox\" ><label for=\"sk-estimator-id-104\" class=\"sk-toggleable__label sk-toggleable__label-arrow\">passthrough</label><div class=\"sk-toggleable__content\"><pre>passthrough</pre></div></div></div></div></div></div></div></div><div class=\"sk-item sk-dashed-wrapped\"><div class=\"sk-label-container\"><div class=\"sk-label sk-toggleable\"><input class=\"sk-toggleable__control sk-hidden--visually\" id=\"sk-estimator-id-105\" type=\"checkbox\" ><label for=\"sk-estimator-id-105\" class=\"sk-toggleable__label sk-toggleable__label-arrow\">imputer: ColumnTransformer</label><div class=\"sk-toggleable__content\"><pre>ColumnTransformer(remainder=InterpolationImputer(),\n",
       "                  transformers=[(&#x27;zero_values&#x27;,\n",
       "                                 SimpleImputer(fill_value=0,\n",
       "                                               strategy=&#x27;constant&#x27;),\n",
       "                                 [&#x27;credit_history_age_in_years&#x27;,\n",
       "                                  &#x27;credit_history_age_in_months&#x27;])],\n",
       "                  verbose_feature_names_out=False)</pre></div></div></div><div class=\"sk-parallel\"><div class=\"sk-parallel-item\"><div class=\"sk-item\"><div class=\"sk-label-container\"><div class=\"sk-label sk-toggleable\"><input class=\"sk-toggleable__control sk-hidden--visually\" id=\"sk-estimator-id-106\" type=\"checkbox\" ><label for=\"sk-estimator-id-106\" class=\"sk-toggleable__label sk-toggleable__label-arrow\">zero_values</label><div class=\"sk-toggleable__content\"><pre>[&#x27;credit_history_age_in_years&#x27;, &#x27;credit_history_age_in_months&#x27;]</pre></div></div></div><div class=\"sk-serial\"><div class=\"sk-item\"><div class=\"sk-estimator sk-toggleable\"><input class=\"sk-toggleable__control sk-hidden--visually\" id=\"sk-estimator-id-107\" type=\"checkbox\" ><label for=\"sk-estimator-id-107\" class=\"sk-toggleable__label sk-toggleable__label-arrow\">SimpleImputer</label><div class=\"sk-toggleable__content\"><pre>SimpleImputer(fill_value=0, strategy=&#x27;constant&#x27;)</pre></div></div></div></div></div></div><div class=\"sk-parallel-item\"><div class=\"sk-item\"><div class=\"sk-label-container\"><div class=\"sk-label sk-toggleable\"><input class=\"sk-toggleable__control sk-hidden--visually\" id=\"sk-estimator-id-108\" type=\"checkbox\" ><label for=\"sk-estimator-id-108\" class=\"sk-toggleable__label sk-toggleable__label-arrow\">remainder</label><div class=\"sk-toggleable__content\"><pre>[&#x27;age&#x27;, &#x27;num_of_delayed_payment&#x27;, &#x27;num_of_loan&#x27;, &#x27;changed_credit_limit&#x27;, &#x27;annual_income&#x27;, &#x27;amount_invested_monthly&#x27;, &#x27;monthly_balance&#x27;, &#x27;monthly_inhand_salary&#x27;, &#x27;total_emi_per_month&#x27;, &#x27;num_bank_accounts&#x27;, &#x27;num_credit_card&#x27;, &#x27;interest_rate&#x27;, &#x27;num_credit_inquiries&#x27;, &#x27;outstanding_debt&#x27;, &#x27;delay_from_due_date&#x27;, &#x27;credit_utilization_ratio&#x27;]</pre></div></div></div><div class=\"sk-serial\"><div class=\"sk-item\"><div class=\"sk-estimator sk-toggleable\"><input class=\"sk-toggleable__control sk-hidden--visually\" id=\"sk-estimator-id-109\" type=\"checkbox\" ><label for=\"sk-estimator-id-109\" class=\"sk-toggleable__label sk-toggleable__label-arrow\">InterpolationImputer</label><div class=\"sk-toggleable__content\"><pre>InterpolationImputer()</pre></div></div></div></div></div></div></div></div></div></div></div></div>"
      ],
      "text/plain": [
       "Pipeline(steps=[('outliers',\n",
       "                 ColumnTransformer(remainder='passthrough',\n",
       "                                   transformers=[('range_0_100',\n",
       "                                                  RangeOutlierDetector(max_value=100,\n",
       "                                                                       min_value=0),\n",
       "                                                  ['age',\n",
       "                                                   'num_of_delayed_payment',\n",
       "                                                   'num_of_loan']),\n",
       "                                                 ('changed_credit_limit',\n",
       "                                                  RangeOutlierDetector(max_value=37,\n",
       "                                                                       min_value=-10),\n",
       "                                                  ['changed_credit_limit']),\n",
       "                                                 ('delta',\n",
       "                                                  DeltaFromMedianOutlierDetector(),\n",
       "                                                  ['annual_incom...\n",
       "                                                  ['num_bank_accounts',\n",
       "                                                   'num_credit_card',\n",
       "                                                   'interest_rate',\n",
       "                                                   'num_credit_inquiries'])],\n",
       "                                   verbose_feature_names_out=False)),\n",
       "                ('imputer',\n",
       "                 ColumnTransformer(remainder=InterpolationImputer(),\n",
       "                                   transformers=[('zero_values',\n",
       "                                                  SimpleImputer(fill_value=0,\n",
       "                                                                strategy='constant'),\n",
       "                                                  ['credit_history_age_in_years',\n",
       "                                                   'credit_history_age_in_months'])],\n",
       "                                   verbose_feature_names_out=False))])"
      ]
     },
     "execution_count": 43,
     "metadata": {},
     "output_type": "execute_result"
    }
   ],
   "source": [
    "pipe = Pipeline([\n",
    "        (\"outliers\", outlier_transformer),\n",
    "        (\"imputer\", imputer_transformer)\n",
    "    ])\n",
    "pipe.set_output(transform=\"pandas\")"
   ]
  },
  {
   "cell_type": "code",
   "execution_count": 44,
   "id": "97d60cf7",
   "metadata": {},
   "outputs": [
    {
     "data": {
      "text/html": [
       "<style>#sk-container-id-16 {color: black;background-color: white;}#sk-container-id-16 pre{padding: 0;}#sk-container-id-16 div.sk-toggleable {background-color: white;}#sk-container-id-16 label.sk-toggleable__label {cursor: pointer;display: block;width: 100%;margin-bottom: 0;padding: 0.3em;box-sizing: border-box;text-align: center;}#sk-container-id-16 label.sk-toggleable__label-arrow:before {content: \"▸\";float: left;margin-right: 0.25em;color: #696969;}#sk-container-id-16 label.sk-toggleable__label-arrow:hover:before {color: black;}#sk-container-id-16 div.sk-estimator:hover label.sk-toggleable__label-arrow:before {color: black;}#sk-container-id-16 div.sk-toggleable__content {max-height: 0;max-width: 0;overflow: hidden;text-align: left;background-color: #f0f8ff;}#sk-container-id-16 div.sk-toggleable__content pre {margin: 0.2em;color: black;border-radius: 0.25em;background-color: #f0f8ff;}#sk-container-id-16 input.sk-toggleable__control:checked~div.sk-toggleable__content {max-height: 200px;max-width: 100%;overflow: auto;}#sk-container-id-16 input.sk-toggleable__control:checked~label.sk-toggleable__label-arrow:before {content: \"▾\";}#sk-container-id-16 div.sk-estimator input.sk-toggleable__control:checked~label.sk-toggleable__label {background-color: #d4ebff;}#sk-container-id-16 div.sk-label input.sk-toggleable__control:checked~label.sk-toggleable__label {background-color: #d4ebff;}#sk-container-id-16 input.sk-hidden--visually {border: 0;clip: rect(1px 1px 1px 1px);clip: rect(1px, 1px, 1px, 1px);height: 1px;margin: -1px;overflow: hidden;padding: 0;position: absolute;width: 1px;}#sk-container-id-16 div.sk-estimator {font-family: monospace;background-color: #f0f8ff;border: 1px dotted black;border-radius: 0.25em;box-sizing: border-box;margin-bottom: 0.5em;}#sk-container-id-16 div.sk-estimator:hover {background-color: #d4ebff;}#sk-container-id-16 div.sk-parallel-item::after {content: \"\";width: 100%;border-bottom: 1px solid gray;flex-grow: 1;}#sk-container-id-16 div.sk-label:hover label.sk-toggleable__label {background-color: #d4ebff;}#sk-container-id-16 div.sk-serial::before {content: \"\";position: absolute;border-left: 1px solid gray;box-sizing: border-box;top: 0;bottom: 0;left: 50%;z-index: 0;}#sk-container-id-16 div.sk-serial {display: flex;flex-direction: column;align-items: center;background-color: white;padding-right: 0.2em;padding-left: 0.2em;position: relative;}#sk-container-id-16 div.sk-item {position: relative;z-index: 1;}#sk-container-id-16 div.sk-parallel {display: flex;align-items: stretch;justify-content: center;background-color: white;position: relative;}#sk-container-id-16 div.sk-item::before, #sk-container-id-16 div.sk-parallel-item::before {content: \"\";position: absolute;border-left: 1px solid gray;box-sizing: border-box;top: 0;bottom: 0;left: 50%;z-index: -1;}#sk-container-id-16 div.sk-parallel-item {display: flex;flex-direction: column;z-index: 1;position: relative;background-color: white;}#sk-container-id-16 div.sk-parallel-item:first-child::after {align-self: flex-end;width: 50%;}#sk-container-id-16 div.sk-parallel-item:last-child::after {align-self: flex-start;width: 50%;}#sk-container-id-16 div.sk-parallel-item:only-child::after {width: 0;}#sk-container-id-16 div.sk-dashed-wrapped {border: 1px dashed gray;margin: 0 0.4em 0.5em 0.4em;box-sizing: border-box;padding-bottom: 0.4em;background-color: white;}#sk-container-id-16 div.sk-label label {font-family: monospace;font-weight: bold;display: inline-block;line-height: 1.2em;}#sk-container-id-16 div.sk-label-container {text-align: center;}#sk-container-id-16 div.sk-container {/* jupyter's `normalize.less` sets `[hidden] { display: none; }` but bootstrap.min.css set `[hidden] { display: none !important; }` so we also need the `!important` here to be able to override the default hidden behavior on the sphinx rendered scikit-learn.org. See: https://github.com/scikit-learn/scikit-learn/issues/21755 */display: inline-block !important;position: relative;}#sk-container-id-16 div.sk-text-repr-fallback {display: none;}</style><div id=\"sk-container-id-16\" class=\"sk-top-container\"><div class=\"sk-text-repr-fallback\"><pre>ColumnTransformer(remainder=InterpolationImputer(),\n",
       "                  transformers=[(&#x27;zero_values&#x27;,\n",
       "                                 SimpleImputer(fill_value=0,\n",
       "                                               strategy=&#x27;constant&#x27;),\n",
       "                                 [&#x27;credit_history_age_in_years&#x27;,\n",
       "                                  &#x27;credit_history_age_in_months&#x27;])],\n",
       "                  verbose_feature_names_out=False)</pre><b>In a Jupyter environment, please rerun this cell to show the HTML representation or trust the notebook. <br />On GitHub, the HTML representation is unable to render, please try loading this page with nbviewer.org.</b></div><div class=\"sk-container\" hidden><div class=\"sk-item sk-dashed-wrapped\"><div class=\"sk-label-container\"><div class=\"sk-label sk-toggleable\"><input class=\"sk-toggleable__control sk-hidden--visually\" id=\"sk-estimator-id-110\" type=\"checkbox\" ><label for=\"sk-estimator-id-110\" class=\"sk-toggleable__label sk-toggleable__label-arrow\">ColumnTransformer</label><div class=\"sk-toggleable__content\"><pre>ColumnTransformer(remainder=InterpolationImputer(),\n",
       "                  transformers=[(&#x27;zero_values&#x27;,\n",
       "                                 SimpleImputer(fill_value=0,\n",
       "                                               strategy=&#x27;constant&#x27;),\n",
       "                                 [&#x27;credit_history_age_in_years&#x27;,\n",
       "                                  &#x27;credit_history_age_in_months&#x27;])],\n",
       "                  verbose_feature_names_out=False)</pre></div></div></div><div class=\"sk-parallel\"><div class=\"sk-parallel-item\"><div class=\"sk-item\"><div class=\"sk-label-container\"><div class=\"sk-label sk-toggleable\"><input class=\"sk-toggleable__control sk-hidden--visually\" id=\"sk-estimator-id-111\" type=\"checkbox\" ><label for=\"sk-estimator-id-111\" class=\"sk-toggleable__label sk-toggleable__label-arrow\">zero_values</label><div class=\"sk-toggleable__content\"><pre>[&#x27;credit_history_age_in_years&#x27;, &#x27;credit_history_age_in_months&#x27;]</pre></div></div></div><div class=\"sk-serial\"><div class=\"sk-item\"><div class=\"sk-estimator sk-toggleable\"><input class=\"sk-toggleable__control sk-hidden--visually\" id=\"sk-estimator-id-112\" type=\"checkbox\" ><label for=\"sk-estimator-id-112\" class=\"sk-toggleable__label sk-toggleable__label-arrow\">SimpleImputer</label><div class=\"sk-toggleable__content\"><pre>SimpleImputer(fill_value=0, strategy=&#x27;constant&#x27;)</pre></div></div></div></div></div></div><div class=\"sk-parallel-item\"><div class=\"sk-item\"><div class=\"sk-label-container\"><div class=\"sk-label sk-toggleable\"><input class=\"sk-toggleable__control sk-hidden--visually\" id=\"sk-estimator-id-113\" type=\"checkbox\" ><label for=\"sk-estimator-id-113\" class=\"sk-toggleable__label sk-toggleable__label-arrow\">remainder</label><div class=\"sk-toggleable__content\"><pre>[&#x27;age&#x27;, &#x27;num_of_delayed_payment&#x27;, &#x27;num_of_loan&#x27;, &#x27;changed_credit_limit&#x27;, &#x27;annual_income&#x27;, &#x27;amount_invested_monthly&#x27;, &#x27;monthly_balance&#x27;, &#x27;monthly_inhand_salary&#x27;, &#x27;total_emi_per_month&#x27;, &#x27;num_bank_accounts&#x27;, &#x27;num_credit_card&#x27;, &#x27;interest_rate&#x27;, &#x27;num_credit_inquiries&#x27;, &#x27;outstanding_debt&#x27;, &#x27;delay_from_due_date&#x27;, &#x27;credit_utilization_ratio&#x27;]</pre></div></div></div><div class=\"sk-serial\"><div class=\"sk-item\"><div class=\"sk-estimator sk-toggleable\"><input class=\"sk-toggleable__control sk-hidden--visually\" id=\"sk-estimator-id-114\" type=\"checkbox\" ><label for=\"sk-estimator-id-114\" class=\"sk-toggleable__label sk-toggleable__label-arrow\">InterpolationImputer</label><div class=\"sk-toggleable__content\"><pre>InterpolationImputer()</pre></div></div></div></div></div></div></div></div></div></div>"
      ],
      "text/plain": [
       "ColumnTransformer(remainder=InterpolationImputer(),\n",
       "                  transformers=[('zero_values',\n",
       "                                 SimpleImputer(fill_value=0,\n",
       "                                               strategy='constant'),\n",
       "                                 ['credit_history_age_in_years',\n",
       "                                  'credit_history_age_in_months'])],\n",
       "                  verbose_feature_names_out=False)"
      ]
     },
     "execution_count": 44,
     "metadata": {},
     "output_type": "execute_result"
    }
   ],
   "source": [
    "pipe[\"imputer\"]"
   ]
  },
  {
   "cell_type": "markdown",
   "id": "3f247d7f",
   "metadata": {},
   "source": [
    "### GroupBy Transformer"
   ]
  },
  {
   "cell_type": "code",
   "execution_count": null,
   "id": "8be95ee8",
   "metadata": {},
   "outputs": [],
   "source": [
    "import numpy as np\n",
    "import pandas as pd\n",
    "from typing import Union, Iterable, Dict, TypeAlias\n",
    "from copy import deepcopy\n",
    "from sklearn.compose import ColumnTransformer\n",
    "from sklearn.pipeline import Pipeline\n",
    "from .base import CustomTransformer"
   ]
  },
  {
   "cell_type": "code",
   "execution_count": null,
   "id": "c9822b1d",
   "metadata": {},
   "outputs": [],
   "source": [
    "GroupTransformer: TypeAlias = Union[CustomTransformer, ColumnTransformer, Pipeline]"
   ]
  },
  {
   "cell_type": "code",
   "execution_count": 46,
   "id": "717f8ba5",
   "metadata": {},
   "outputs": [
    {
     "data": {
      "text/html": [
       "<div>\n",
       "<style scoped>\n",
       "    .dataframe tbody tr th:only-of-type {\n",
       "        vertical-align: middle;\n",
       "    }\n",
       "\n",
       "    .dataframe tbody tr th {\n",
       "        vertical-align: top;\n",
       "    }\n",
       "\n",
       "    .dataframe thead th {\n",
       "        text-align: right;\n",
       "    }\n",
       "</style>\n",
       "<table border=\"1\" class=\"dataframe\">\n",
       "  <thead>\n",
       "    <tr style=\"text-align: right;\">\n",
       "      <th></th>\n",
       "      <th></th>\n",
       "      <th>age</th>\n",
       "      <th>num_of_delayed_payment</th>\n",
       "      <th>num_of_loan</th>\n",
       "      <th>annual_income</th>\n",
       "      <th>amount_invested_monthly</th>\n",
       "      <th>changed_credit_limit</th>\n",
       "      <th>monthly_balance</th>\n",
       "      <th>outstanding_debt</th>\n",
       "      <th>credit_mix</th>\n",
       "      <th>occupation</th>\n",
       "      <th>...</th>\n",
       "      <th>type_of_loan</th>\n",
       "      <th>monthly_inhand_salary</th>\n",
       "      <th>num_bank_accounts</th>\n",
       "      <th>num_credit_card</th>\n",
       "      <th>interest_rate</th>\n",
       "      <th>delay_from_due_date</th>\n",
       "      <th>num_credit_inquiries</th>\n",
       "      <th>credit_utilization_ratio</th>\n",
       "      <th>payment_of_min_amount</th>\n",
       "      <th>total_emi_per_month</th>\n",
       "    </tr>\n",
       "    <tr>\n",
       "      <th>customer_id</th>\n",
       "      <th>month</th>\n",
       "      <th></th>\n",
       "      <th></th>\n",
       "      <th></th>\n",
       "      <th></th>\n",
       "      <th></th>\n",
       "      <th></th>\n",
       "      <th></th>\n",
       "      <th></th>\n",
       "      <th></th>\n",
       "      <th></th>\n",
       "      <th></th>\n",
       "      <th></th>\n",
       "      <th></th>\n",
       "      <th></th>\n",
       "      <th></th>\n",
       "      <th></th>\n",
       "      <th></th>\n",
       "      <th></th>\n",
       "      <th></th>\n",
       "      <th></th>\n",
       "      <th></th>\n",
       "    </tr>\n",
       "  </thead>\n",
       "  <tbody>\n",
       "    <tr>\n",
       "      <th rowspan=\"2\" valign=\"top\">CUS_0x1000</th>\n",
       "      <th>1</th>\n",
       "      <td>17.0</td>\n",
       "      <td>25.0</td>\n",
       "      <td>2.0</td>\n",
       "      <td>30625.94</td>\n",
       "      <td>244.750283</td>\n",
       "      <td>1.63</td>\n",
       "      <td>252.924793</td>\n",
       "      <td>1562.91</td>\n",
       "      <td>Bad</td>\n",
       "      <td>Lawyer</td>\n",
       "      <td>...</td>\n",
       "      <td>Credit-Builder, Home Equity</td>\n",
       "      <td>2706.161667</td>\n",
       "      <td>6</td>\n",
       "      <td>5</td>\n",
       "      <td>27</td>\n",
       "      <td>62</td>\n",
       "      <td>10.0</td>\n",
       "      <td>26.612093</td>\n",
       "      <td>Yes</td>\n",
       "      <td>42.94109</td>\n",
       "    </tr>\n",
       "    <tr>\n",
       "      <th>2</th>\n",
       "      <td>17.0</td>\n",
       "      <td>23.0</td>\n",
       "      <td>2.0</td>\n",
       "      <td>30625.94</td>\n",
       "      <td>176.132567</td>\n",
       "      <td>1.63</td>\n",
       "      <td>311.542510</td>\n",
       "      <td>1562.91</td>\n",
       "      <td>Bad</td>\n",
       "      <td>Lawyer</td>\n",
       "      <td>...</td>\n",
       "      <td>Credit-Builder, Home Equity</td>\n",
       "      <td>NaN</td>\n",
       "      <td>6</td>\n",
       "      <td>5</td>\n",
       "      <td>27</td>\n",
       "      <td>62</td>\n",
       "      <td>11.0</td>\n",
       "      <td>29.439759</td>\n",
       "      <td>Yes</td>\n",
       "      <td>42.94109</td>\n",
       "    </tr>\n",
       "  </tbody>\n",
       "</table>\n",
       "<p>2 rows × 23 columns</p>\n",
       "</div>"
      ],
      "text/plain": [
       "                    age  num_of_delayed_payment  num_of_loan  annual_income  \\\n",
       "customer_id month                                                             \n",
       "CUS_0x1000  1      17.0                    25.0          2.0       30625.94   \n",
       "            2      17.0                    23.0          2.0       30625.94   \n",
       "\n",
       "                   amount_invested_monthly  changed_credit_limit  \\\n",
       "customer_id month                                                  \n",
       "CUS_0x1000  1                   244.750283                  1.63   \n",
       "            2                   176.132567                  1.63   \n",
       "\n",
       "                   monthly_balance  outstanding_debt credit_mix occupation  \\\n",
       "customer_id month                                                            \n",
       "CUS_0x1000  1           252.924793           1562.91        Bad     Lawyer   \n",
       "            2           311.542510           1562.91        Bad     Lawyer   \n",
       "\n",
       "                   ...                 type_of_loan  monthly_inhand_salary  \\\n",
       "customer_id month  ...                                                       \n",
       "CUS_0x1000  1      ...  Credit-Builder, Home Equity            2706.161667   \n",
       "            2      ...  Credit-Builder, Home Equity                    NaN   \n",
       "\n",
       "                  num_bank_accounts num_credit_card  interest_rate  \\\n",
       "customer_id month                                                    \n",
       "CUS_0x1000  1                     6               5             27   \n",
       "            2                     6               5             27   \n",
       "\n",
       "                   delay_from_due_date  num_credit_inquiries  \\\n",
       "customer_id month                                              \n",
       "CUS_0x1000  1                       62                  10.0   \n",
       "            2                       62                  11.0   \n",
       "\n",
       "                   credit_utilization_ratio  payment_of_min_amount  \\\n",
       "customer_id month                                                    \n",
       "CUS_0x1000  1                     26.612093                    Yes   \n",
       "            2                     29.439759                    Yes   \n",
       "\n",
       "                   total_emi_per_month  \n",
       "customer_id month                       \n",
       "CUS_0x1000  1                 42.94109  \n",
       "            2                 42.94109  \n",
       "\n",
       "[2 rows x 23 columns]"
      ]
     },
     "execution_count": 46,
     "metadata": {},
     "output_type": "execute_result"
    }
   ],
   "source": [
    "X_dtype.head(2)"
   ]
  },
  {
   "cell_type": "code",
   "execution_count": null,
   "id": "400362e6",
   "metadata": {},
   "outputs": [],
   "source": [
    "class GroupByTransformer(CustomTransformer):\n",
    "    \n",
    "    def __init__(\n",
    "            self,\n",
    "            groupby: Union[str, Iterable],\n",
    "            transformer: GroupTransformer,\n",
    "            stateless: bool = False,\n",
    "        ):\n",
    "        super().__init__()\n",
    "        self.groupby = groupby\n",
    "        self.transformer = transformer\n",
    "        self.stateless = stateless\n",
    "        self._output_as_dataframe: bool = False\n",
    "        self.transformers_: Dict[str, GroupTransformer]\n",
    "\n",
    "    def set_output(self, *, transform=None):\n",
    "        self._output_as_dataframe = transform == \"pandas\"\n",
    "        self.transformer.set_output(transform=transform)\n",
    "        return self\n",
    "\n",
    "    def fit(self, X: pd.DataFrame, **params):\n",
    "        super().fit(X, **params)\n",
    "        if not self.stateless:\n",
    "            self.transformers_ = {\n",
    "                                    group_name: deepcopy(self.transformer).fit(group_values, **params)\n",
    "                                    for group_name, group_values\n",
    "                                    in X.groupby(self.groupby)\n",
    "                                }\n",
    "        return self\n",
    "    \n",
    "    def transform(self, X: pd.DataFrame, **params):\n",
    "        X = super().transform(X, copy=True, **params)\n",
    "        # Temporary add row_id to X:\n",
    "        X.index = pd.MultiIndex.from_frame(X.index.to_frame().assign(temp__row_id=np.arange(len(X))))\n",
    "        X_transformed = pd.concat([\n",
    "                                    self._transform_group(group_name, group_values, **params)\n",
    "                                    for group_name, group_values\n",
    "                                    in X.groupby(self.groupby, group_keys=True, as_index=False)\n",
    "                                ])\n",
    "        # Return to original order:\n",
    "        X_transformed = X_transformed.sort_index(\"temp__row_id\")\n",
    "        # Drop temporary row_id:\n",
    "        X_transformed.index = X_transformed.index.droplevel(\"temp__row_id\")\n",
    "        if self._output_as_dataframe:\n",
    "            return X_transformed\n",
    "        else:\n",
    "            return X_transformed.values\n",
    "\n",
    "    def _transform_group(self, group_name: str, group_values: pd.DataFrame, **params) -> pd.DataFrame:\n",
    "        if self.stateless:\n",
    "            values = deepcopy(self.transformer).fit_transform(group_values, **params)\n",
    "        else:\n",
    "            values = self.transformers_[group_name].transform(group_values, **params)\n",
    "        if isinstance(values, np.ndarray):\n",
    "            values = pd.DataFrame(values, columns=group_values.columns)\n",
    "        values.index = group_values.index\n",
    "        return values\n"
   ]
  },
  {
   "cell_type": "code",
   "execution_count": 50,
   "id": "47bcb41f",
   "metadata": {},
   "outputs": [],
   "source": [
    "tmp = X_dtype.sample(frac=1).copy()"
   ]
  },
  {
   "cell_type": "code",
   "execution_count": null,
   "id": "46cddfc2",
   "metadata": {},
   "outputs": [],
   "source": [
    "X.index = pd.MultiIndex.from_frame(X.index.to_frame().assign(temp__row_id=np.arange(len(X))))"
   ]
  },
  {
   "cell_type": "code",
   "execution_count": 57,
   "id": "ef6b272d",
   "metadata": {},
   "outputs": [
    {
     "data": {
      "text/html": [
       "<div>\n",
       "<style scoped>\n",
       "    .dataframe tbody tr th:only-of-type {\n",
       "        vertical-align: middle;\n",
       "    }\n",
       "\n",
       "    .dataframe tbody tr th {\n",
       "        vertical-align: top;\n",
       "    }\n",
       "\n",
       "    .dataframe thead th {\n",
       "        text-align: right;\n",
       "    }\n",
       "</style>\n",
       "<table border=\"1\" class=\"dataframe\">\n",
       "  <thead>\n",
       "    <tr style=\"text-align: right;\">\n",
       "      <th></th>\n",
       "      <th></th>\n",
       "      <th>customer_id</th>\n",
       "      <th>month</th>\n",
       "      <th>temp__row_id</th>\n",
       "    </tr>\n",
       "    <tr>\n",
       "      <th>customer_id</th>\n",
       "      <th>month</th>\n",
       "      <th></th>\n",
       "      <th></th>\n",
       "      <th></th>\n",
       "    </tr>\n",
       "  </thead>\n",
       "  <tbody>\n",
       "    <tr>\n",
       "      <th>CUS_0xc56a</th>\n",
       "      <th>2</th>\n",
       "      <td>CUS_0xc56a</td>\n",
       "      <td>2</td>\n",
       "      <td>0</td>\n",
       "    </tr>\n",
       "    <tr>\n",
       "      <th>CUS_0x9614</th>\n",
       "      <th>4</th>\n",
       "      <td>CUS_0x9614</td>\n",
       "      <td>4</td>\n",
       "      <td>1</td>\n",
       "    </tr>\n",
       "  </tbody>\n",
       "</table>\n",
       "</div>"
      ],
      "text/plain": [
       "                  customer_id  month  temp__row_id\n",
       "customer_id month                                 \n",
       "CUS_0xc56a  2      CUS_0xc56a      2             0\n",
       "CUS_0x9614  4      CUS_0x9614      4             1"
      ]
     },
     "execution_count": 57,
     "metadata": {},
     "output_type": "execute_result"
    }
   ],
   "source": [
    "ind = tmp.index.to_frame().assign(temp__row_id=np.arange(len(tmp)))\n",
    "ind.head(2)"
   ]
  },
  {
   "cell_type": "code",
   "execution_count": 60,
   "id": "d966176c",
   "metadata": {
    "scrolled": true
   },
   "outputs": [],
   "source": [
    "tmp.index = pd.MultiIndex.from_frame(ind)"
   ]
  },
  {
   "cell_type": "code",
   "execution_count": 61,
   "id": "a072f247",
   "metadata": {},
   "outputs": [
    {
     "data": {
      "text/html": [
       "<div>\n",
       "<style scoped>\n",
       "    .dataframe tbody tr th:only-of-type {\n",
       "        vertical-align: middle;\n",
       "    }\n",
       "\n",
       "    .dataframe tbody tr th {\n",
       "        vertical-align: top;\n",
       "    }\n",
       "\n",
       "    .dataframe thead th {\n",
       "        text-align: right;\n",
       "    }\n",
       "</style>\n",
       "<table border=\"1\" class=\"dataframe\">\n",
       "  <thead>\n",
       "    <tr style=\"text-align: right;\">\n",
       "      <th></th>\n",
       "      <th></th>\n",
       "      <th></th>\n",
       "      <th>age</th>\n",
       "      <th>num_of_delayed_payment</th>\n",
       "      <th>num_of_loan</th>\n",
       "      <th>annual_income</th>\n",
       "      <th>amount_invested_monthly</th>\n",
       "      <th>changed_credit_limit</th>\n",
       "      <th>monthly_balance</th>\n",
       "      <th>outstanding_debt</th>\n",
       "      <th>credit_mix</th>\n",
       "      <th>occupation</th>\n",
       "      <th>...</th>\n",
       "      <th>type_of_loan</th>\n",
       "      <th>monthly_inhand_salary</th>\n",
       "      <th>num_bank_accounts</th>\n",
       "      <th>num_credit_card</th>\n",
       "      <th>interest_rate</th>\n",
       "      <th>delay_from_due_date</th>\n",
       "      <th>num_credit_inquiries</th>\n",
       "      <th>credit_utilization_ratio</th>\n",
       "      <th>payment_of_min_amount</th>\n",
       "      <th>total_emi_per_month</th>\n",
       "    </tr>\n",
       "    <tr>\n",
       "      <th>customer_id</th>\n",
       "      <th>month</th>\n",
       "      <th>temp__row_id</th>\n",
       "      <th></th>\n",
       "      <th></th>\n",
       "      <th></th>\n",
       "      <th></th>\n",
       "      <th></th>\n",
       "      <th></th>\n",
       "      <th></th>\n",
       "      <th></th>\n",
       "      <th></th>\n",
       "      <th></th>\n",
       "      <th></th>\n",
       "      <th></th>\n",
       "      <th></th>\n",
       "      <th></th>\n",
       "      <th></th>\n",
       "      <th></th>\n",
       "      <th></th>\n",
       "      <th></th>\n",
       "      <th></th>\n",
       "      <th></th>\n",
       "      <th></th>\n",
       "    </tr>\n",
       "  </thead>\n",
       "  <tbody>\n",
       "    <tr>\n",
       "      <th>CUS_0xc56a</th>\n",
       "      <th>2</th>\n",
       "      <th>0</th>\n",
       "      <td>27.0</td>\n",
       "      <td>10.0</td>\n",
       "      <td>2.0</td>\n",
       "      <td>15985.290</td>\n",
       "      <td>119.402018</td>\n",
       "      <td>11.85</td>\n",
       "      <td>282.251183</td>\n",
       "      <td>1336.47</td>\n",
       "      <td>Standard</td>\n",
       "      <td>Developer</td>\n",
       "      <td>...</td>\n",
       "      <td>Not Specified, Personal</td>\n",
       "      <td>1210.985828</td>\n",
       "      <td>6</td>\n",
       "      <td>10</td>\n",
       "      <td>26</td>\n",
       "      <td>30</td>\n",
       "      <td>15.0</td>\n",
       "      <td>36.961088</td>\n",
       "      <td>Yes</td>\n",
       "      <td>101.979221</td>\n",
       "    </tr>\n",
       "    <tr>\n",
       "      <th>CUS_0x9614</th>\n",
       "      <th>4</th>\n",
       "      <th>1</th>\n",
       "      <td>28.0</td>\n",
       "      <td>24.0</td>\n",
       "      <td>5.0</td>\n",
       "      <td>8044.130</td>\n",
       "      <td>40.341315</td>\n",
       "      <td>5.86</td>\n",
       "      <td>256.490187</td>\n",
       "      <td>2511.75</td>\n",
       "      <td>Bad</td>\n",
       "      <td>Architect</td>\n",
       "      <td>...</td>\n",
       "      <td>Not Specified, Not Specified, Mortgage, Home E...</td>\n",
       "      <td>396.344167</td>\n",
       "      <td>7</td>\n",
       "      <td>7</td>\n",
       "      <td>29</td>\n",
       "      <td>48</td>\n",
       "      <td>7.0</td>\n",
       "      <td>31.036534</td>\n",
       "      <td>NM</td>\n",
       "      <td>32.802915</td>\n",
       "    </tr>\n",
       "    <tr>\n",
       "      <th>CUS_0xb86b</th>\n",
       "      <th>1</th>\n",
       "      <th>2</th>\n",
       "      <td>29.0</td>\n",
       "      <td>11.0</td>\n",
       "      <td>4.0</td>\n",
       "      <td>14656.680</td>\n",
       "      <td>136.736769</td>\n",
       "      <td>13.96</td>\n",
       "      <td>261.945163</td>\n",
       "      <td>1395.09</td>\n",
       "      <td>Standard</td>\n",
       "      <td>Accountant</td>\n",
       "      <td>...</td>\n",
       "      <td>Home Equity, Credit-Builder, Home Equity, Debt...</td>\n",
       "      <td>1410.390000</td>\n",
       "      <td>6</td>\n",
       "      <td>6</td>\n",
       "      <td>15</td>\n",
       "      <td>16</td>\n",
       "      <td>7.0</td>\n",
       "      <td>35.725999</td>\n",
       "      <td>Yes</td>\n",
       "      <td>32.357068</td>\n",
       "    </tr>\n",
       "    <tr>\n",
       "      <th>CUS_0x32a7</th>\n",
       "      <th>8</th>\n",
       "      <th>3</th>\n",
       "      <td>44.0</td>\n",
       "      <td>8.0</td>\n",
       "      <td>6.0</td>\n",
       "      <td>10460.245</td>\n",
       "      <td>67.541992</td>\n",
       "      <td>19.09</td>\n",
       "      <td>283.750488</td>\n",
       "      <td>2625.88</td>\n",
       "      <td>Standard</td>\n",
       "      <td>Journalist</td>\n",
       "      <td>...</td>\n",
       "      <td>Credit-Builder, Credit-Builder, Student, Mortg...</td>\n",
       "      <td>NaN</td>\n",
       "      <td>8</td>\n",
       "      <td>5</td>\n",
       "      <td>25</td>\n",
       "      <td>8</td>\n",
       "      <td>8.0</td>\n",
       "      <td>35.429605</td>\n",
       "      <td>Yes</td>\n",
       "      <td>38.276229</td>\n",
       "    </tr>\n",
       "    <tr>\n",
       "      <th>CUS_0x5b9d</th>\n",
       "      <th>3</th>\n",
       "      <th>4</th>\n",
       "      <td>45.0</td>\n",
       "      <td>23.0</td>\n",
       "      <td>1.0</td>\n",
       "      <td>87966.960</td>\n",
       "      <td>223.799276</td>\n",
       "      <td>14.24</td>\n",
       "      <td>728.308529</td>\n",
       "      <td>166.72</td>\n",
       "      <td>nan</td>\n",
       "      <td>Mechanic</td>\n",
       "      <td>...</td>\n",
       "      <td>Student</td>\n",
       "      <td>NaN</td>\n",
       "      <td>5</td>\n",
       "      <td>2</td>\n",
       "      <td>15</td>\n",
       "      <td>12</td>\n",
       "      <td>1.0</td>\n",
       "      <td>29.975365</td>\n",
       "      <td>Yes</td>\n",
       "      <td>64.350195</td>\n",
       "    </tr>\n",
       "  </tbody>\n",
       "</table>\n",
       "<p>5 rows × 23 columns</p>\n",
       "</div>"
      ],
      "text/plain": [
       "                                 age  num_of_delayed_payment  num_of_loan  \\\n",
       "customer_id month temp__row_id                                              \n",
       "CUS_0xc56a  2     0             27.0                    10.0          2.0   \n",
       "CUS_0x9614  4     1             28.0                    24.0          5.0   \n",
       "CUS_0xb86b  1     2             29.0                    11.0          4.0   \n",
       "CUS_0x32a7  8     3             44.0                     8.0          6.0   \n",
       "CUS_0x5b9d  3     4             45.0                    23.0          1.0   \n",
       "\n",
       "                                annual_income  amount_invested_monthly  \\\n",
       "customer_id month temp__row_id                                           \n",
       "CUS_0xc56a  2     0                 15985.290               119.402018   \n",
       "CUS_0x9614  4     1                  8044.130                40.341315   \n",
       "CUS_0xb86b  1     2                 14656.680               136.736769   \n",
       "CUS_0x32a7  8     3                 10460.245                67.541992   \n",
       "CUS_0x5b9d  3     4                 87966.960               223.799276   \n",
       "\n",
       "                                changed_credit_limit  monthly_balance  \\\n",
       "customer_id month temp__row_id                                          \n",
       "CUS_0xc56a  2     0                            11.85       282.251183   \n",
       "CUS_0x9614  4     1                             5.86       256.490187   \n",
       "CUS_0xb86b  1     2                            13.96       261.945163   \n",
       "CUS_0x32a7  8     3                            19.09       283.750488   \n",
       "CUS_0x5b9d  3     4                            14.24       728.308529   \n",
       "\n",
       "                                outstanding_debt credit_mix  occupation  ...  \\\n",
       "customer_id month temp__row_id                                           ...   \n",
       "CUS_0xc56a  2     0                      1336.47   Standard   Developer  ...   \n",
       "CUS_0x9614  4     1                      2511.75        Bad   Architect  ...   \n",
       "CUS_0xb86b  1     2                      1395.09   Standard  Accountant  ...   \n",
       "CUS_0x32a7  8     3                      2625.88   Standard  Journalist  ...   \n",
       "CUS_0x5b9d  3     4                       166.72        nan    Mechanic  ...   \n",
       "\n",
       "                                                                     type_of_loan  \\\n",
       "customer_id month temp__row_id                                                      \n",
       "CUS_0xc56a  2     0                                       Not Specified, Personal   \n",
       "CUS_0x9614  4     1             Not Specified, Not Specified, Mortgage, Home E...   \n",
       "CUS_0xb86b  1     2             Home Equity, Credit-Builder, Home Equity, Debt...   \n",
       "CUS_0x32a7  8     3             Credit-Builder, Credit-Builder, Student, Mortg...   \n",
       "CUS_0x5b9d  3     4                                                       Student   \n",
       "\n",
       "                                monthly_inhand_salary num_bank_accounts  \\\n",
       "customer_id month temp__row_id                                            \n",
       "CUS_0xc56a  2     0                       1210.985828                 6   \n",
       "CUS_0x9614  4     1                        396.344167                 7   \n",
       "CUS_0xb86b  1     2                       1410.390000                 6   \n",
       "CUS_0x32a7  8     3                               NaN                 8   \n",
       "CUS_0x5b9d  3     4                               NaN                 5   \n",
       "\n",
       "                               num_credit_card  interest_rate  \\\n",
       "customer_id month temp__row_id                                  \n",
       "CUS_0xc56a  2     0                         10             26   \n",
       "CUS_0x9614  4     1                          7             29   \n",
       "CUS_0xb86b  1     2                          6             15   \n",
       "CUS_0x32a7  8     3                          5             25   \n",
       "CUS_0x5b9d  3     4                          2             15   \n",
       "\n",
       "                                delay_from_due_date  num_credit_inquiries  \\\n",
       "customer_id month temp__row_id                                              \n",
       "CUS_0xc56a  2     0                              30                  15.0   \n",
       "CUS_0x9614  4     1                              48                   7.0   \n",
       "CUS_0xb86b  1     2                              16                   7.0   \n",
       "CUS_0x32a7  8     3                               8                   8.0   \n",
       "CUS_0x5b9d  3     4                              12                   1.0   \n",
       "\n",
       "                                credit_utilization_ratio  \\\n",
       "customer_id month temp__row_id                             \n",
       "CUS_0xc56a  2     0                            36.961088   \n",
       "CUS_0x9614  4     1                            31.036534   \n",
       "CUS_0xb86b  1     2                            35.725999   \n",
       "CUS_0x32a7  8     3                            35.429605   \n",
       "CUS_0x5b9d  3     4                            29.975365   \n",
       "\n",
       "                                payment_of_min_amount  total_emi_per_month  \n",
       "customer_id month temp__row_id                                              \n",
       "CUS_0xc56a  2     0                               Yes           101.979221  \n",
       "CUS_0x9614  4     1                                NM            32.802915  \n",
       "CUS_0xb86b  1     2                               Yes            32.357068  \n",
       "CUS_0x32a7  8     3                               Yes            38.276229  \n",
       "CUS_0x5b9d  3     4                               Yes            64.350195  \n",
       "\n",
       "[5 rows x 23 columns]"
      ]
     },
     "execution_count": 61,
     "metadata": {},
     "output_type": "execute_result"
    }
   ],
   "source": [
    "tmp.head()"
   ]
  },
  {
   "cell_type": "markdown",
   "id": "2a2d87ad",
   "metadata": {},
   "source": [
    "---"
   ]
  },
  {
   "cell_type": "code",
   "execution_count": 16,
   "id": "883a54d9",
   "metadata": {},
   "outputs": [
    {
     "data": {
      "text/html": [
       "<style>#sk-container-id-5 {color: black;background-color: white;}#sk-container-id-5 pre{padding: 0;}#sk-container-id-5 div.sk-toggleable {background-color: white;}#sk-container-id-5 label.sk-toggleable__label {cursor: pointer;display: block;width: 100%;margin-bottom: 0;padding: 0.3em;box-sizing: border-box;text-align: center;}#sk-container-id-5 label.sk-toggleable__label-arrow:before {content: \"▸\";float: left;margin-right: 0.25em;color: #696969;}#sk-container-id-5 label.sk-toggleable__label-arrow:hover:before {color: black;}#sk-container-id-5 div.sk-estimator:hover label.sk-toggleable__label-arrow:before {color: black;}#sk-container-id-5 div.sk-toggleable__content {max-height: 0;max-width: 0;overflow: hidden;text-align: left;background-color: #f0f8ff;}#sk-container-id-5 div.sk-toggleable__content pre {margin: 0.2em;color: black;border-radius: 0.25em;background-color: #f0f8ff;}#sk-container-id-5 input.sk-toggleable__control:checked~div.sk-toggleable__content {max-height: 200px;max-width: 100%;overflow: auto;}#sk-container-id-5 input.sk-toggleable__control:checked~label.sk-toggleable__label-arrow:before {content: \"▾\";}#sk-container-id-5 div.sk-estimator input.sk-toggleable__control:checked~label.sk-toggleable__label {background-color: #d4ebff;}#sk-container-id-5 div.sk-label input.sk-toggleable__control:checked~label.sk-toggleable__label {background-color: #d4ebff;}#sk-container-id-5 input.sk-hidden--visually {border: 0;clip: rect(1px 1px 1px 1px);clip: rect(1px, 1px, 1px, 1px);height: 1px;margin: -1px;overflow: hidden;padding: 0;position: absolute;width: 1px;}#sk-container-id-5 div.sk-estimator {font-family: monospace;background-color: #f0f8ff;border: 1px dotted black;border-radius: 0.25em;box-sizing: border-box;margin-bottom: 0.5em;}#sk-container-id-5 div.sk-estimator:hover {background-color: #d4ebff;}#sk-container-id-5 div.sk-parallel-item::after {content: \"\";width: 100%;border-bottom: 1px solid gray;flex-grow: 1;}#sk-container-id-5 div.sk-label:hover label.sk-toggleable__label {background-color: #d4ebff;}#sk-container-id-5 div.sk-serial::before {content: \"\";position: absolute;border-left: 1px solid gray;box-sizing: border-box;top: 0;bottom: 0;left: 50%;z-index: 0;}#sk-container-id-5 div.sk-serial {display: flex;flex-direction: column;align-items: center;background-color: white;padding-right: 0.2em;padding-left: 0.2em;position: relative;}#sk-container-id-5 div.sk-item {position: relative;z-index: 1;}#sk-container-id-5 div.sk-parallel {display: flex;align-items: stretch;justify-content: center;background-color: white;position: relative;}#sk-container-id-5 div.sk-item::before, #sk-container-id-5 div.sk-parallel-item::before {content: \"\";position: absolute;border-left: 1px solid gray;box-sizing: border-box;top: 0;bottom: 0;left: 50%;z-index: -1;}#sk-container-id-5 div.sk-parallel-item {display: flex;flex-direction: column;z-index: 1;position: relative;background-color: white;}#sk-container-id-5 div.sk-parallel-item:first-child::after {align-self: flex-end;width: 50%;}#sk-container-id-5 div.sk-parallel-item:last-child::after {align-self: flex-start;width: 50%;}#sk-container-id-5 div.sk-parallel-item:only-child::after {width: 0;}#sk-container-id-5 div.sk-dashed-wrapped {border: 1px dashed gray;margin: 0 0.4em 0.5em 0.4em;box-sizing: border-box;padding-bottom: 0.4em;background-color: white;}#sk-container-id-5 div.sk-label label {font-family: monospace;font-weight: bold;display: inline-block;line-height: 1.2em;}#sk-container-id-5 div.sk-label-container {text-align: center;}#sk-container-id-5 div.sk-container {/* jupyter's `normalize.less` sets `[hidden] { display: none; }` but bootstrap.min.css set `[hidden] { display: none !important; }` so we also need the `!important` here to be able to override the default hidden behavior on the sphinx rendered scikit-learn.org. See: https://github.com/scikit-learn/scikit-learn/issues/21755 */display: inline-block !important;position: relative;}#sk-container-id-5 div.sk-text-repr-fallback {display: none;}</style><div id=\"sk-container-id-5\" class=\"sk-top-container\"><div class=\"sk-text-repr-fallback\"><pre>GroupByTransformer(groupby=&#x27;customer_id&#x27;, stateless=True,\n",
       "                   transformer=Pipeline(steps=[(&#x27;outliers&#x27;,\n",
       "                                                ColumnTransformer(remainder=&#x27;passthrough&#x27;,\n",
       "                                                                  transformers=[(&#x27;range_0_100&#x27;,\n",
       "                                                                                 RangeOutlierDetector(max_value=100,\n",
       "                                                                                                      min_value=0),\n",
       "                                                                                 [&#x27;age&#x27;,\n",
       "                                                                                  &#x27;num_of_delayed_payment&#x27;,\n",
       "                                                                                  &#x27;num_of_loan&#x27;]),\n",
       "                                                                                (&#x27;changed_credit_limit&#x27;,\n",
       "                                                                                 RangeOutlierDetector(max_value=37,\n",
       "                                                                                                      min_value=-10),\n",
       "                                                                                 [&#x27;changed_cred...\n",
       "                                                                                 [&#x27;num_bank_accounts&#x27;,\n",
       "                                                                                  &#x27;num_credit_card&#x27;,\n",
       "                                                                                  &#x27;interest_rate&#x27;,\n",
       "                                                                                  &#x27;num_credit_inquiries&#x27;])],\n",
       "                                                                  verbose_feature_names_out=False)),\n",
       "                                               (&#x27;imputer&#x27;,\n",
       "                                                ColumnTransformer(remainder=InterpolationImputer(),\n",
       "                                                                  transformers=[(&#x27;zero_values&#x27;,\n",
       "                                                                                 SimpleImputer(fill_value=0,\n",
       "                                                                                               strategy=&#x27;constant&#x27;),\n",
       "                                                                                 [&#x27;credit_history_age_in_years&#x27;,\n",
       "                                                                                  &#x27;credit_history_age_in_months&#x27;])],\n",
       "                                                                  verbose_feature_names_out=False))]))</pre><b>In a Jupyter environment, please rerun this cell to show the HTML representation or trust the notebook. <br />On GitHub, the HTML representation is unable to render, please try loading this page with nbviewer.org.</b></div><div class=\"sk-container\" hidden><div class=\"sk-item sk-dashed-wrapped\"><div class=\"sk-label-container\"><div class=\"sk-label sk-toggleable\"><input class=\"sk-toggleable__control sk-hidden--visually\" id=\"sk-estimator-id-43\" type=\"checkbox\" ><label for=\"sk-estimator-id-43\" class=\"sk-toggleable__label sk-toggleable__label-arrow\">GroupByTransformer</label><div class=\"sk-toggleable__content\"><pre>GroupByTransformer(groupby=&#x27;customer_id&#x27;, stateless=True,\n",
       "                   transformer=Pipeline(steps=[(&#x27;outliers&#x27;,\n",
       "                                                ColumnTransformer(remainder=&#x27;passthrough&#x27;,\n",
       "                                                                  transformers=[(&#x27;range_0_100&#x27;,\n",
       "                                                                                 RangeOutlierDetector(max_value=100,\n",
       "                                                                                                      min_value=0),\n",
       "                                                                                 [&#x27;age&#x27;,\n",
       "                                                                                  &#x27;num_of_delayed_payment&#x27;,\n",
       "                                                                                  &#x27;num_of_loan&#x27;]),\n",
       "                                                                                (&#x27;changed_credit_limit&#x27;,\n",
       "                                                                                 RangeOutlierDetector(max_value=37,\n",
       "                                                                                                      min_value=-10),\n",
       "                                                                                 [&#x27;changed_cred...\n",
       "                                                                                 [&#x27;num_bank_accounts&#x27;,\n",
       "                                                                                  &#x27;num_credit_card&#x27;,\n",
       "                                                                                  &#x27;interest_rate&#x27;,\n",
       "                                                                                  &#x27;num_credit_inquiries&#x27;])],\n",
       "                                                                  verbose_feature_names_out=False)),\n",
       "                                               (&#x27;imputer&#x27;,\n",
       "                                                ColumnTransformer(remainder=InterpolationImputer(),\n",
       "                                                                  transformers=[(&#x27;zero_values&#x27;,\n",
       "                                                                                 SimpleImputer(fill_value=0,\n",
       "                                                                                               strategy=&#x27;constant&#x27;),\n",
       "                                                                                 [&#x27;credit_history_age_in_years&#x27;,\n",
       "                                                                                  &#x27;credit_history_age_in_months&#x27;])],\n",
       "                                                                  verbose_feature_names_out=False))]))</pre></div></div></div><div class=\"sk-parallel\"><div class=\"sk-parallel-item\"><div class=\"sk-item\"><div class=\"sk-label-container\"><div class=\"sk-label sk-toggleable\"><input class=\"sk-toggleable__control sk-hidden--visually\" id=\"sk-estimator-id-44\" type=\"checkbox\" ><label for=\"sk-estimator-id-44\" class=\"sk-toggleable__label sk-toggleable__label-arrow\">transformer: Pipeline</label><div class=\"sk-toggleable__content\"><pre>Pipeline(steps=[(&#x27;outliers&#x27;,\n",
       "                 ColumnTransformer(remainder=&#x27;passthrough&#x27;,\n",
       "                                   transformers=[(&#x27;range_0_100&#x27;,\n",
       "                                                  RangeOutlierDetector(max_value=100,\n",
       "                                                                       min_value=0),\n",
       "                                                  [&#x27;age&#x27;,\n",
       "                                                   &#x27;num_of_delayed_payment&#x27;,\n",
       "                                                   &#x27;num_of_loan&#x27;]),\n",
       "                                                 (&#x27;changed_credit_limit&#x27;,\n",
       "                                                  RangeOutlierDetector(max_value=37,\n",
       "                                                                       min_value=-10),\n",
       "                                                  [&#x27;changed_credit_limit&#x27;]),\n",
       "                                                 (&#x27;delta&#x27;,\n",
       "                                                  DeltaFromMedianOutlierDetector(),\n",
       "                                                  [&#x27;annual_incom...\n",
       "                                                  [&#x27;num_bank_accounts&#x27;,\n",
       "                                                   &#x27;num_credit_card&#x27;,\n",
       "                                                   &#x27;interest_rate&#x27;,\n",
       "                                                   &#x27;num_credit_inquiries&#x27;])],\n",
       "                                   verbose_feature_names_out=False)),\n",
       "                (&#x27;imputer&#x27;,\n",
       "                 ColumnTransformer(remainder=InterpolationImputer(),\n",
       "                                   transformers=[(&#x27;zero_values&#x27;,\n",
       "                                                  SimpleImputer(fill_value=0,\n",
       "                                                                strategy=&#x27;constant&#x27;),\n",
       "                                                  [&#x27;credit_history_age_in_years&#x27;,\n",
       "                                                   &#x27;credit_history_age_in_months&#x27;])],\n",
       "                                   verbose_feature_names_out=False))])</pre></div></div></div><div class=\"sk-serial\"><div class=\"sk-item\"><div class=\"sk-serial\"><div class=\"sk-item sk-dashed-wrapped\"><div class=\"sk-label-container\"><div class=\"sk-label sk-toggleable\"><input class=\"sk-toggleable__control sk-hidden--visually\" id=\"sk-estimator-id-45\" type=\"checkbox\" ><label for=\"sk-estimator-id-45\" class=\"sk-toggleable__label sk-toggleable__label-arrow\">outliers: ColumnTransformer</label><div class=\"sk-toggleable__content\"><pre>ColumnTransformer(remainder=&#x27;passthrough&#x27;,\n",
       "                  transformers=[(&#x27;range_0_100&#x27;,\n",
       "                                 RangeOutlierDetector(max_value=100,\n",
       "                                                      min_value=0),\n",
       "                                 [&#x27;age&#x27;, &#x27;num_of_delayed_payment&#x27;,\n",
       "                                  &#x27;num_of_loan&#x27;]),\n",
       "                                (&#x27;changed_credit_limit&#x27;,\n",
       "                                 RangeOutlierDetector(max_value=37,\n",
       "                                                      min_value=-10),\n",
       "                                 [&#x27;changed_credit_limit&#x27;]),\n",
       "                                (&#x27;delta&#x27;, DeltaFromMedianOutlierDetector(),\n",
       "                                 [&#x27;annual_income&#x27;, &#x27;amount_invested_monthly&#x27;,\n",
       "                                  &#x27;monthly_balance&#x27;, &#x27;monthly_inhand_salary&#x27;,\n",
       "                                  &#x27;total_emi_per_month&#x27;]),\n",
       "                                (&#x27;range_0_10_clip&#x27;,\n",
       "                                 RangeOutlierDetector(clip=True, max_value=40,\n",
       "                                                      min_value=0),\n",
       "                                 [&#x27;num_bank_accounts&#x27;, &#x27;num_credit_card&#x27;,\n",
       "                                  &#x27;interest_rate&#x27;, &#x27;num_credit_inquiries&#x27;])],\n",
       "                  verbose_feature_names_out=False)</pre></div></div></div><div class=\"sk-parallel\"><div class=\"sk-parallel-item\"><div class=\"sk-item\"><div class=\"sk-label-container\"><div class=\"sk-label sk-toggleable\"><input class=\"sk-toggleable__control sk-hidden--visually\" id=\"sk-estimator-id-46\" type=\"checkbox\" ><label for=\"sk-estimator-id-46\" class=\"sk-toggleable__label sk-toggleable__label-arrow\">range_0_100</label><div class=\"sk-toggleable__content\"><pre>[&#x27;age&#x27;, &#x27;num_of_delayed_payment&#x27;, &#x27;num_of_loan&#x27;]</pre></div></div></div><div class=\"sk-serial\"><div class=\"sk-item\"><div class=\"sk-estimator sk-toggleable\"><input class=\"sk-toggleable__control sk-hidden--visually\" id=\"sk-estimator-id-47\" type=\"checkbox\" ><label for=\"sk-estimator-id-47\" class=\"sk-toggleable__label sk-toggleable__label-arrow\">RangeOutlierDetector</label><div class=\"sk-toggleable__content\"><pre>RangeOutlierDetector(max_value=100, min_value=0)</pre></div></div></div></div></div></div><div class=\"sk-parallel-item\"><div class=\"sk-item\"><div class=\"sk-label-container\"><div class=\"sk-label sk-toggleable\"><input class=\"sk-toggleable__control sk-hidden--visually\" id=\"sk-estimator-id-48\" type=\"checkbox\" ><label for=\"sk-estimator-id-48\" class=\"sk-toggleable__label sk-toggleable__label-arrow\">changed_credit_limit</label><div class=\"sk-toggleable__content\"><pre>[&#x27;changed_credit_limit&#x27;]</pre></div></div></div><div class=\"sk-serial\"><div class=\"sk-item\"><div class=\"sk-estimator sk-toggleable\"><input class=\"sk-toggleable__control sk-hidden--visually\" id=\"sk-estimator-id-49\" type=\"checkbox\" ><label for=\"sk-estimator-id-49\" class=\"sk-toggleable__label sk-toggleable__label-arrow\">RangeOutlierDetector</label><div class=\"sk-toggleable__content\"><pre>RangeOutlierDetector(max_value=37, min_value=-10)</pre></div></div></div></div></div></div><div class=\"sk-parallel-item\"><div class=\"sk-item\"><div class=\"sk-label-container\"><div class=\"sk-label sk-toggleable\"><input class=\"sk-toggleable__control sk-hidden--visually\" id=\"sk-estimator-id-50\" type=\"checkbox\" ><label for=\"sk-estimator-id-50\" class=\"sk-toggleable__label sk-toggleable__label-arrow\">delta</label><div class=\"sk-toggleable__content\"><pre>[&#x27;annual_income&#x27;, &#x27;amount_invested_monthly&#x27;, &#x27;monthly_balance&#x27;, &#x27;monthly_inhand_salary&#x27;, &#x27;total_emi_per_month&#x27;]</pre></div></div></div><div class=\"sk-serial\"><div class=\"sk-item\"><div class=\"sk-estimator sk-toggleable\"><input class=\"sk-toggleable__control sk-hidden--visually\" id=\"sk-estimator-id-51\" type=\"checkbox\" ><label for=\"sk-estimator-id-51\" class=\"sk-toggleable__label sk-toggleable__label-arrow\">DeltaFromMedianOutlierDetector</label><div class=\"sk-toggleable__content\"><pre>DeltaFromMedianOutlierDetector()</pre></div></div></div></div></div></div><div class=\"sk-parallel-item\"><div class=\"sk-item\"><div class=\"sk-label-container\"><div class=\"sk-label sk-toggleable\"><input class=\"sk-toggleable__control sk-hidden--visually\" id=\"sk-estimator-id-52\" type=\"checkbox\" ><label for=\"sk-estimator-id-52\" class=\"sk-toggleable__label sk-toggleable__label-arrow\">range_0_10_clip</label><div class=\"sk-toggleable__content\"><pre>[&#x27;num_bank_accounts&#x27;, &#x27;num_credit_card&#x27;, &#x27;interest_rate&#x27;, &#x27;num_credit_inquiries&#x27;]</pre></div></div></div><div class=\"sk-serial\"><div class=\"sk-item\"><div class=\"sk-estimator sk-toggleable\"><input class=\"sk-toggleable__control sk-hidden--visually\" id=\"sk-estimator-id-53\" type=\"checkbox\" ><label for=\"sk-estimator-id-53\" class=\"sk-toggleable__label sk-toggleable__label-arrow\">RangeOutlierDetector</label><div class=\"sk-toggleable__content\"><pre>RangeOutlierDetector(clip=True, max_value=40, min_value=0)</pre></div></div></div></div></div></div><div class=\"sk-parallel-item\"><div class=\"sk-item\"><div class=\"sk-label-container\"><div class=\"sk-label sk-toggleable\"><input class=\"sk-toggleable__control sk-hidden--visually\" id=\"sk-estimator-id-54\" type=\"checkbox\" ><label for=\"sk-estimator-id-54\" class=\"sk-toggleable__label sk-toggleable__label-arrow\">remainder</label><div class=\"sk-toggleable__content\"><pre></pre></div></div></div><div class=\"sk-serial\"><div class=\"sk-item\"><div class=\"sk-estimator sk-toggleable\"><input class=\"sk-toggleable__control sk-hidden--visually\" id=\"sk-estimator-id-55\" type=\"checkbox\" ><label for=\"sk-estimator-id-55\" class=\"sk-toggleable__label sk-toggleable__label-arrow\">passthrough</label><div class=\"sk-toggleable__content\"><pre>passthrough</pre></div></div></div></div></div></div></div></div><div class=\"sk-item sk-dashed-wrapped\"><div class=\"sk-label-container\"><div class=\"sk-label sk-toggleable\"><input class=\"sk-toggleable__control sk-hidden--visually\" id=\"sk-estimator-id-56\" type=\"checkbox\" ><label for=\"sk-estimator-id-56\" class=\"sk-toggleable__label sk-toggleable__label-arrow\">imputer: ColumnTransformer</label><div class=\"sk-toggleable__content\"><pre>ColumnTransformer(remainder=InterpolationImputer(),\n",
       "                  transformers=[(&#x27;zero_values&#x27;,\n",
       "                                 SimpleImputer(fill_value=0,\n",
       "                                               strategy=&#x27;constant&#x27;),\n",
       "                                 [&#x27;credit_history_age_in_years&#x27;,\n",
       "                                  &#x27;credit_history_age_in_months&#x27;])],\n",
       "                  verbose_feature_names_out=False)</pre></div></div></div><div class=\"sk-parallel\"><div class=\"sk-parallel-item\"><div class=\"sk-item\"><div class=\"sk-label-container\"><div class=\"sk-label sk-toggleable\"><input class=\"sk-toggleable__control sk-hidden--visually\" id=\"sk-estimator-id-57\" type=\"checkbox\" ><label for=\"sk-estimator-id-57\" class=\"sk-toggleable__label sk-toggleable__label-arrow\">zero_values</label><div class=\"sk-toggleable__content\"><pre>[&#x27;credit_history_age_in_years&#x27;, &#x27;credit_history_age_in_months&#x27;]</pre></div></div></div><div class=\"sk-serial\"><div class=\"sk-item\"><div class=\"sk-estimator sk-toggleable\"><input class=\"sk-toggleable__control sk-hidden--visually\" id=\"sk-estimator-id-58\" type=\"checkbox\" ><label for=\"sk-estimator-id-58\" class=\"sk-toggleable__label sk-toggleable__label-arrow\">SimpleImputer</label><div class=\"sk-toggleable__content\"><pre>SimpleImputer(fill_value=0, strategy=&#x27;constant&#x27;)</pre></div></div></div></div></div></div><div class=\"sk-parallel-item\"><div class=\"sk-item\"><div class=\"sk-label-container\"><div class=\"sk-label sk-toggleable\"><input class=\"sk-toggleable__control sk-hidden--visually\" id=\"sk-estimator-id-59\" type=\"checkbox\" ><label for=\"sk-estimator-id-59\" class=\"sk-toggleable__label sk-toggleable__label-arrow\">remainder</label><div class=\"sk-toggleable__content\"><pre></pre></div></div></div><div class=\"sk-serial\"><div class=\"sk-item\"><div class=\"sk-estimator sk-toggleable\"><input class=\"sk-toggleable__control sk-hidden--visually\" id=\"sk-estimator-id-60\" type=\"checkbox\" ><label for=\"sk-estimator-id-60\" class=\"sk-toggleable__label sk-toggleable__label-arrow\">InterpolationImputer</label><div class=\"sk-toggleable__content\"><pre>InterpolationImputer()</pre></div></div></div></div></div></div></div></div></div></div></div></div></div></div></div></div></div>"
      ],
      "text/plain": [
       "GroupByTransformer(groupby='customer_id', stateless=True,\n",
       "                   transformer=Pipeline(steps=[('outliers',\n",
       "                                                ColumnTransformer(remainder='passthrough',\n",
       "                                                                  transformers=[('range_0_100',\n",
       "                                                                                 RangeOutlierDetector(max_value=100,\n",
       "                                                                                                      min_value=0),\n",
       "                                                                                 ['age',\n",
       "                                                                                  'num_of_delayed_payment',\n",
       "                                                                                  'num_of_loan']),\n",
       "                                                                                ('changed_credit_limit',\n",
       "                                                                                 RangeOutlierDetector(max_value=37,\n",
       "                                                                                                      min_value=-10),\n",
       "                                                                                 ['changed_cred...\n",
       "                                                                                 ['num_bank_accounts',\n",
       "                                                                                  'num_credit_card',\n",
       "                                                                                  'interest_rate',\n",
       "                                                                                  'num_credit_inquiries'])],\n",
       "                                                                  verbose_feature_names_out=False)),\n",
       "                                               ('imputer',\n",
       "                                                ColumnTransformer(remainder=InterpolationImputer(),\n",
       "                                                                  transformers=[('zero_values',\n",
       "                                                                                 SimpleImputer(fill_value=0,\n",
       "                                                                                               strategy='constant'),\n",
       "                                                                                 ['credit_history_age_in_years',\n",
       "                                                                                  'credit_history_age_in_months'])],\n",
       "                                                                  verbose_feature_names_out=False))]))"
      ]
     },
     "execution_count": 16,
     "metadata": {},
     "output_type": "execute_result"
    }
   ],
   "source": [
    "numerical_transformer = GroupByTransformer(\n",
    "    transformer=Pipeline([\n",
    "        (\"outliers\", outlier_transformer),\n",
    "        (\"imputer\", imputer_transformer)\n",
    "    ]),\n",
    "    groupby=\"customer_id\",\n",
    "    stateless=True\n",
    ")\n",
    "\n",
    "numerical_transformer"
   ]
  },
  {
   "cell_type": "markdown",
   "id": "06fee3d2",
   "metadata": {},
   "source": [
    "#### Full preprocessing pipeline"
   ]
  },
  {
   "cell_type": "code",
   "execution_count": 17,
   "id": "17b753f8",
   "metadata": {},
   "outputs": [
    {
     "data": {
      "text/html": [
       "<style>#sk-container-id-6 {color: black;background-color: white;}#sk-container-id-6 pre{padding: 0;}#sk-container-id-6 div.sk-toggleable {background-color: white;}#sk-container-id-6 label.sk-toggleable__label {cursor: pointer;display: block;width: 100%;margin-bottom: 0;padding: 0.3em;box-sizing: border-box;text-align: center;}#sk-container-id-6 label.sk-toggleable__label-arrow:before {content: \"▸\";float: left;margin-right: 0.25em;color: #696969;}#sk-container-id-6 label.sk-toggleable__label-arrow:hover:before {color: black;}#sk-container-id-6 div.sk-estimator:hover label.sk-toggleable__label-arrow:before {color: black;}#sk-container-id-6 div.sk-toggleable__content {max-height: 0;max-width: 0;overflow: hidden;text-align: left;background-color: #f0f8ff;}#sk-container-id-6 div.sk-toggleable__content pre {margin: 0.2em;color: black;border-radius: 0.25em;background-color: #f0f8ff;}#sk-container-id-6 input.sk-toggleable__control:checked~div.sk-toggleable__content {max-height: 200px;max-width: 100%;overflow: auto;}#sk-container-id-6 input.sk-toggleable__control:checked~label.sk-toggleable__label-arrow:before {content: \"▾\";}#sk-container-id-6 div.sk-estimator input.sk-toggleable__control:checked~label.sk-toggleable__label {background-color: #d4ebff;}#sk-container-id-6 div.sk-label input.sk-toggleable__control:checked~label.sk-toggleable__label {background-color: #d4ebff;}#sk-container-id-6 input.sk-hidden--visually {border: 0;clip: rect(1px 1px 1px 1px);clip: rect(1px, 1px, 1px, 1px);height: 1px;margin: -1px;overflow: hidden;padding: 0;position: absolute;width: 1px;}#sk-container-id-6 div.sk-estimator {font-family: monospace;background-color: #f0f8ff;border: 1px dotted black;border-radius: 0.25em;box-sizing: border-box;margin-bottom: 0.5em;}#sk-container-id-6 div.sk-estimator:hover {background-color: #d4ebff;}#sk-container-id-6 div.sk-parallel-item::after {content: \"\";width: 100%;border-bottom: 1px solid gray;flex-grow: 1;}#sk-container-id-6 div.sk-label:hover label.sk-toggleable__label {background-color: #d4ebff;}#sk-container-id-6 div.sk-serial::before {content: \"\";position: absolute;border-left: 1px solid gray;box-sizing: border-box;top: 0;bottom: 0;left: 50%;z-index: 0;}#sk-container-id-6 div.sk-serial {display: flex;flex-direction: column;align-items: center;background-color: white;padding-right: 0.2em;padding-left: 0.2em;position: relative;}#sk-container-id-6 div.sk-item {position: relative;z-index: 1;}#sk-container-id-6 div.sk-parallel {display: flex;align-items: stretch;justify-content: center;background-color: white;position: relative;}#sk-container-id-6 div.sk-item::before, #sk-container-id-6 div.sk-parallel-item::before {content: \"\";position: absolute;border-left: 1px solid gray;box-sizing: border-box;top: 0;bottom: 0;left: 50%;z-index: -1;}#sk-container-id-6 div.sk-parallel-item {display: flex;flex-direction: column;z-index: 1;position: relative;background-color: white;}#sk-container-id-6 div.sk-parallel-item:first-child::after {align-self: flex-end;width: 50%;}#sk-container-id-6 div.sk-parallel-item:last-child::after {align-self: flex-start;width: 50%;}#sk-container-id-6 div.sk-parallel-item:only-child::after {width: 0;}#sk-container-id-6 div.sk-dashed-wrapped {border: 1px dashed gray;margin: 0 0.4em 0.5em 0.4em;box-sizing: border-box;padding-bottom: 0.4em;background-color: white;}#sk-container-id-6 div.sk-label label {font-family: monospace;font-weight: bold;display: inline-block;line-height: 1.2em;}#sk-container-id-6 div.sk-label-container {text-align: center;}#sk-container-id-6 div.sk-container {/* jupyter's `normalize.less` sets `[hidden] { display: none; }` but bootstrap.min.css set `[hidden] { display: none !important; }` so we also need the `!important` here to be able to override the default hidden behavior on the sphinx rendered scikit-learn.org. See: https://github.com/scikit-learn/scikit-learn/issues/21755 */display: inline-block !important;position: relative;}#sk-container-id-6 div.sk-text-repr-fallback {display: none;}</style><div id=\"sk-container-id-6\" class=\"sk-top-container\"><div class=\"sk-text-repr-fallback\"><pre>ColumnTransformer(transformers=[(&#x27;categorical&#x27;,\n",
       "                                 ColumnTransformer(transformers=[(&#x27;ordinal&#x27;,\n",
       "                                                                  OrdinalEncoder(categories=[[&#x27;Bad&#x27;,\n",
       "                                                                                              &#x27;Standard&#x27;,\n",
       "                                                                                              &#x27;Good&#x27;]],\n",
       "                                                                                 handle_unknown=&#x27;use_encoded_value&#x27;,\n",
       "                                                                                 unknown_value=-1),\n",
       "                                                                  [&#x27;credit_mix&#x27;]),\n",
       "                                                                 (&#x27;onehot&#x27;,\n",
       "                                                                  OneHotEncoder(handle_unknown=&#x27;ignore&#x27;,\n",
       "                                                                                sparse_output=False),\n",
       "                                                                  [&#x27;occupation&#x27;,\n",
       "                                                                   &#x27;payment_of_min_amount&#x27;]),\n",
       "                                                                 (&#x27;payment_behaviour&#x27;,\n",
       "                                                                  Multila...\n",
       "                                                                                (&#x27;imputer&#x27;,\n",
       "                                                                                 ColumnTransformer(remainder=InterpolationImputer(),\n",
       "                                                                                                   transformers=[(&#x27;zero_values&#x27;,\n",
       "                                                                                                                  SimpleImputer(fill_value=0,\n",
       "                                                                                                                                strategy=&#x27;constant&#x27;),\n",
       "                                                                                                                  [&#x27;credit_history_age_in_years&#x27;,\n",
       "                                                                                                                   &#x27;credit_history_age_in_months&#x27;])],\n",
       "                                                                                                   verbose_feature_names_out=False))])),\n",
       "                                 &lt;sklearn.compose._column_transformer.make_column_selector object at 0x000001A849ABDE10&gt;)],\n",
       "                  verbose_feature_names_out=False)</pre><b>In a Jupyter environment, please rerun this cell to show the HTML representation or trust the notebook. <br />On GitHub, the HTML representation is unable to render, please try loading this page with nbviewer.org.</b></div><div class=\"sk-container\" hidden><div class=\"sk-item sk-dashed-wrapped\"><div class=\"sk-label-container\"><div class=\"sk-label sk-toggleable\"><input class=\"sk-toggleable__control sk-hidden--visually\" id=\"sk-estimator-id-61\" type=\"checkbox\" ><label for=\"sk-estimator-id-61\" class=\"sk-toggleable__label sk-toggleable__label-arrow\">ColumnTransformer</label><div class=\"sk-toggleable__content\"><pre>ColumnTransformer(transformers=[(&#x27;categorical&#x27;,\n",
       "                                 ColumnTransformer(transformers=[(&#x27;ordinal&#x27;,\n",
       "                                                                  OrdinalEncoder(categories=[[&#x27;Bad&#x27;,\n",
       "                                                                                              &#x27;Standard&#x27;,\n",
       "                                                                                              &#x27;Good&#x27;]],\n",
       "                                                                                 handle_unknown=&#x27;use_encoded_value&#x27;,\n",
       "                                                                                 unknown_value=-1),\n",
       "                                                                  [&#x27;credit_mix&#x27;]),\n",
       "                                                                 (&#x27;onehot&#x27;,\n",
       "                                                                  OneHotEncoder(handle_unknown=&#x27;ignore&#x27;,\n",
       "                                                                                sparse_output=False),\n",
       "                                                                  [&#x27;occupation&#x27;,\n",
       "                                                                   &#x27;payment_of_min_amount&#x27;]),\n",
       "                                                                 (&#x27;payment_behaviour&#x27;,\n",
       "                                                                  Multila...\n",
       "                                                                                (&#x27;imputer&#x27;,\n",
       "                                                                                 ColumnTransformer(remainder=InterpolationImputer(),\n",
       "                                                                                                   transformers=[(&#x27;zero_values&#x27;,\n",
       "                                                                                                                  SimpleImputer(fill_value=0,\n",
       "                                                                                                                                strategy=&#x27;constant&#x27;),\n",
       "                                                                                                                  [&#x27;credit_history_age_in_years&#x27;,\n",
       "                                                                                                                   &#x27;credit_history_age_in_months&#x27;])],\n",
       "                                                                                                   verbose_feature_names_out=False))])),\n",
       "                                 &lt;sklearn.compose._column_transformer.make_column_selector object at 0x000001A849ABDE10&gt;)],\n",
       "                  verbose_feature_names_out=False)</pre></div></div></div><div class=\"sk-parallel\"><div class=\"sk-parallel-item\"><div class=\"sk-item\"><div class=\"sk-label-container\"><div class=\"sk-label sk-toggleable\"><input class=\"sk-toggleable__control sk-hidden--visually\" id=\"sk-estimator-id-62\" type=\"checkbox\" ><label for=\"sk-estimator-id-62\" class=\"sk-toggleable__label sk-toggleable__label-arrow\">categorical</label><div class=\"sk-toggleable__content\"><pre>&lt;sklearn.compose._column_transformer.make_column_selector object at 0x000001A849ABE680&gt;</pre></div></div></div><div class=\"sk-serial\"><div class=\"sk-item sk-dashed-wrapped\"><div class=\"sk-parallel\"><div class=\"sk-parallel-item\"><div class=\"sk-item\"><div class=\"sk-label-container\"><div class=\"sk-label sk-toggleable\"><input class=\"sk-toggleable__control sk-hidden--visually\" id=\"sk-estimator-id-63\" type=\"checkbox\" ><label for=\"sk-estimator-id-63\" class=\"sk-toggleable__label sk-toggleable__label-arrow\">ordinal</label><div class=\"sk-toggleable__content\"><pre>[&#x27;credit_mix&#x27;]</pre></div></div></div><div class=\"sk-serial\"><div class=\"sk-item\"><div class=\"sk-estimator sk-toggleable\"><input class=\"sk-toggleable__control sk-hidden--visually\" id=\"sk-estimator-id-64\" type=\"checkbox\" ><label for=\"sk-estimator-id-64\" class=\"sk-toggleable__label sk-toggleable__label-arrow\">OrdinalEncoder</label><div class=\"sk-toggleable__content\"><pre>OrdinalEncoder(categories=[[&#x27;Bad&#x27;, &#x27;Standard&#x27;, &#x27;Good&#x27;]],\n",
       "               handle_unknown=&#x27;use_encoded_value&#x27;, unknown_value=-1)</pre></div></div></div></div></div></div><div class=\"sk-parallel-item\"><div class=\"sk-item\"><div class=\"sk-label-container\"><div class=\"sk-label sk-toggleable\"><input class=\"sk-toggleable__control sk-hidden--visually\" id=\"sk-estimator-id-65\" type=\"checkbox\" ><label for=\"sk-estimator-id-65\" class=\"sk-toggleable__label sk-toggleable__label-arrow\">onehot</label><div class=\"sk-toggleable__content\"><pre>[&#x27;occupation&#x27;, &#x27;payment_of_min_amount&#x27;]</pre></div></div></div><div class=\"sk-serial\"><div class=\"sk-item\"><div class=\"sk-estimator sk-toggleable\"><input class=\"sk-toggleable__control sk-hidden--visually\" id=\"sk-estimator-id-66\" type=\"checkbox\" ><label for=\"sk-estimator-id-66\" class=\"sk-toggleable__label sk-toggleable__label-arrow\">OneHotEncoder</label><div class=\"sk-toggleable__content\"><pre>OneHotEncoder(handle_unknown=&#x27;ignore&#x27;, sparse_output=False)</pre></div></div></div></div></div></div><div class=\"sk-parallel-item\"><div class=\"sk-item\"><div class=\"sk-label-container\"><div class=\"sk-label sk-toggleable\"><input class=\"sk-toggleable__control sk-hidden--visually\" id=\"sk-estimator-id-67\" type=\"checkbox\" ><label for=\"sk-estimator-id-67\" class=\"sk-toggleable__label sk-toggleable__label-arrow\">payment_behaviour</label><div class=\"sk-toggleable__content\"><pre>[&#x27;payment_behaviour&#x27;]</pre></div></div></div><div class=\"sk-serial\"><div class=\"sk-item\"><div class=\"sk-estimator sk-toggleable\"><input class=\"sk-toggleable__control sk-hidden--visually\" id=\"sk-estimator-id-68\" type=\"checkbox\" ><label for=\"sk-estimator-id-68\" class=\"sk-toggleable__label sk-toggleable__label-arrow\">MultilabelEncoder</label><div class=\"sk-toggleable__content\"><pre>MultilabelEncoder(split_by=&#x27;(?&lt;=spent)\\\\_&#x27;)</pre></div></div></div></div></div></div><div class=\"sk-parallel-item\"><div class=\"sk-item\"><div class=\"sk-label-container\"><div class=\"sk-label sk-toggleable\"><input class=\"sk-toggleable__control sk-hidden--visually\" id=\"sk-estimator-id-69\" type=\"checkbox\" ><label for=\"sk-estimator-id-69\" class=\"sk-toggleable__label sk-toggleable__label-arrow\">type_of_loan</label><div class=\"sk-toggleable__content\"><pre>[&#x27;type_of_loan&#x27;]</pre></div></div></div><div class=\"sk-serial\"><div class=\"sk-item\"><div class=\"sk-estimator sk-toggleable\"><input class=\"sk-toggleable__control sk-hidden--visually\" id=\"sk-estimator-id-70\" type=\"checkbox\" ><label for=\"sk-estimator-id-70\" class=\"sk-toggleable__label sk-toggleable__label-arrow\">MultilabelEncoder</label><div class=\"sk-toggleable__content\"><pre>MultilabelEncoder(split_by=&#x27;, &#x27;)</pre></div></div></div></div></div></div></div></div></div></div></div><div class=\"sk-parallel-item\"><div class=\"sk-item\"><div class=\"sk-label-container\"><div class=\"sk-label sk-toggleable\"><input class=\"sk-toggleable__control sk-hidden--visually\" id=\"sk-estimator-id-71\" type=\"checkbox\" ><label for=\"sk-estimator-id-71\" class=\"sk-toggleable__label sk-toggleable__label-arrow\">numerical</label><div class=\"sk-toggleable__content\"><pre>&lt;sklearn.compose._column_transformer.make_column_selector object at 0x000001A849ABDE10&gt;</pre></div></div></div><div class=\"sk-serial\"><div class=\"sk-item sk-dashed-wrapped\"><div class=\"sk-parallel\"><div class=\"sk-parallel-item\"><div class=\"sk-item\"><div class=\"sk-label-container\"><div class=\"sk-label sk-toggleable\"><input class=\"sk-toggleable__control sk-hidden--visually\" id=\"sk-estimator-id-72\" type=\"checkbox\" ><label for=\"sk-estimator-id-72\" class=\"sk-toggleable__label sk-toggleable__label-arrow\">transformer: Pipeline</label><div class=\"sk-toggleable__content\"><pre>Pipeline(steps=[(&#x27;outliers&#x27;,\n",
       "                 ColumnTransformer(remainder=&#x27;passthrough&#x27;,\n",
       "                                   transformers=[(&#x27;range_0_100&#x27;,\n",
       "                                                  RangeOutlierDetector(max_value=100,\n",
       "                                                                       min_value=0),\n",
       "                                                  [&#x27;age&#x27;,\n",
       "                                                   &#x27;num_of_delayed_payment&#x27;,\n",
       "                                                   &#x27;num_of_loan&#x27;]),\n",
       "                                                 (&#x27;changed_credit_limit&#x27;,\n",
       "                                                  RangeOutlierDetector(max_value=37,\n",
       "                                                                       min_value=-10),\n",
       "                                                  [&#x27;changed_credit_limit&#x27;]),\n",
       "                                                 (&#x27;delta&#x27;,\n",
       "                                                  DeltaFromMedianOutlierDetector(),\n",
       "                                                  [&#x27;annual_incom...\n",
       "                                                  [&#x27;num_bank_accounts&#x27;,\n",
       "                                                   &#x27;num_credit_card&#x27;,\n",
       "                                                   &#x27;interest_rate&#x27;,\n",
       "                                                   &#x27;num_credit_inquiries&#x27;])],\n",
       "                                   verbose_feature_names_out=False)),\n",
       "                (&#x27;imputer&#x27;,\n",
       "                 ColumnTransformer(remainder=InterpolationImputer(),\n",
       "                                   transformers=[(&#x27;zero_values&#x27;,\n",
       "                                                  SimpleImputer(fill_value=0,\n",
       "                                                                strategy=&#x27;constant&#x27;),\n",
       "                                                  [&#x27;credit_history_age_in_years&#x27;,\n",
       "                                                   &#x27;credit_history_age_in_months&#x27;])],\n",
       "                                   verbose_feature_names_out=False))])</pre></div></div></div><div class=\"sk-serial\"><div class=\"sk-item\"><div class=\"sk-serial\"><div class=\"sk-item sk-dashed-wrapped\"><div class=\"sk-label-container\"><div class=\"sk-label sk-toggleable\"><input class=\"sk-toggleable__control sk-hidden--visually\" id=\"sk-estimator-id-73\" type=\"checkbox\" ><label for=\"sk-estimator-id-73\" class=\"sk-toggleable__label sk-toggleable__label-arrow\">outliers: ColumnTransformer</label><div class=\"sk-toggleable__content\"><pre>ColumnTransformer(remainder=&#x27;passthrough&#x27;,\n",
       "                  transformers=[(&#x27;range_0_100&#x27;,\n",
       "                                 RangeOutlierDetector(max_value=100,\n",
       "                                                      min_value=0),\n",
       "                                 [&#x27;age&#x27;, &#x27;num_of_delayed_payment&#x27;,\n",
       "                                  &#x27;num_of_loan&#x27;]),\n",
       "                                (&#x27;changed_credit_limit&#x27;,\n",
       "                                 RangeOutlierDetector(max_value=37,\n",
       "                                                      min_value=-10),\n",
       "                                 [&#x27;changed_credit_limit&#x27;]),\n",
       "                                (&#x27;delta&#x27;, DeltaFromMedianOutlierDetector(),\n",
       "                                 [&#x27;annual_income&#x27;, &#x27;amount_invested_monthly&#x27;,\n",
       "                                  &#x27;monthly_balance&#x27;, &#x27;monthly_inhand_salary&#x27;,\n",
       "                                  &#x27;total_emi_per_month&#x27;]),\n",
       "                                (&#x27;range_0_10_clip&#x27;,\n",
       "                                 RangeOutlierDetector(clip=True, max_value=40,\n",
       "                                                      min_value=0),\n",
       "                                 [&#x27;num_bank_accounts&#x27;, &#x27;num_credit_card&#x27;,\n",
       "                                  &#x27;interest_rate&#x27;, &#x27;num_credit_inquiries&#x27;])],\n",
       "                  verbose_feature_names_out=False)</pre></div></div></div><div class=\"sk-parallel\"><div class=\"sk-parallel-item\"><div class=\"sk-item\"><div class=\"sk-label-container\"><div class=\"sk-label sk-toggleable\"><input class=\"sk-toggleable__control sk-hidden--visually\" id=\"sk-estimator-id-74\" type=\"checkbox\" ><label for=\"sk-estimator-id-74\" class=\"sk-toggleable__label sk-toggleable__label-arrow\">range_0_100</label><div class=\"sk-toggleable__content\"><pre>[&#x27;age&#x27;, &#x27;num_of_delayed_payment&#x27;, &#x27;num_of_loan&#x27;]</pre></div></div></div><div class=\"sk-serial\"><div class=\"sk-item\"><div class=\"sk-estimator sk-toggleable\"><input class=\"sk-toggleable__control sk-hidden--visually\" id=\"sk-estimator-id-75\" type=\"checkbox\" ><label for=\"sk-estimator-id-75\" class=\"sk-toggleable__label sk-toggleable__label-arrow\">RangeOutlierDetector</label><div class=\"sk-toggleable__content\"><pre>RangeOutlierDetector(max_value=100, min_value=0)</pre></div></div></div></div></div></div><div class=\"sk-parallel-item\"><div class=\"sk-item\"><div class=\"sk-label-container\"><div class=\"sk-label sk-toggleable\"><input class=\"sk-toggleable__control sk-hidden--visually\" id=\"sk-estimator-id-76\" type=\"checkbox\" ><label for=\"sk-estimator-id-76\" class=\"sk-toggleable__label sk-toggleable__label-arrow\">changed_credit_limit</label><div class=\"sk-toggleable__content\"><pre>[&#x27;changed_credit_limit&#x27;]</pre></div></div></div><div class=\"sk-serial\"><div class=\"sk-item\"><div class=\"sk-estimator sk-toggleable\"><input class=\"sk-toggleable__control sk-hidden--visually\" id=\"sk-estimator-id-77\" type=\"checkbox\" ><label for=\"sk-estimator-id-77\" class=\"sk-toggleable__label sk-toggleable__label-arrow\">RangeOutlierDetector</label><div class=\"sk-toggleable__content\"><pre>RangeOutlierDetector(max_value=37, min_value=-10)</pre></div></div></div></div></div></div><div class=\"sk-parallel-item\"><div class=\"sk-item\"><div class=\"sk-label-container\"><div class=\"sk-label sk-toggleable\"><input class=\"sk-toggleable__control sk-hidden--visually\" id=\"sk-estimator-id-78\" type=\"checkbox\" ><label for=\"sk-estimator-id-78\" class=\"sk-toggleable__label sk-toggleable__label-arrow\">delta</label><div class=\"sk-toggleable__content\"><pre>[&#x27;annual_income&#x27;, &#x27;amount_invested_monthly&#x27;, &#x27;monthly_balance&#x27;, &#x27;monthly_inhand_salary&#x27;, &#x27;total_emi_per_month&#x27;]</pre></div></div></div><div class=\"sk-serial\"><div class=\"sk-item\"><div class=\"sk-estimator sk-toggleable\"><input class=\"sk-toggleable__control sk-hidden--visually\" id=\"sk-estimator-id-79\" type=\"checkbox\" ><label for=\"sk-estimator-id-79\" class=\"sk-toggleable__label sk-toggleable__label-arrow\">DeltaFromMedianOutlierDetector</label><div class=\"sk-toggleable__content\"><pre>DeltaFromMedianOutlierDetector()</pre></div></div></div></div></div></div><div class=\"sk-parallel-item\"><div class=\"sk-item\"><div class=\"sk-label-container\"><div class=\"sk-label sk-toggleable\"><input class=\"sk-toggleable__control sk-hidden--visually\" id=\"sk-estimator-id-80\" type=\"checkbox\" ><label for=\"sk-estimator-id-80\" class=\"sk-toggleable__label sk-toggleable__label-arrow\">range_0_10_clip</label><div class=\"sk-toggleable__content\"><pre>[&#x27;num_bank_accounts&#x27;, &#x27;num_credit_card&#x27;, &#x27;interest_rate&#x27;, &#x27;num_credit_inquiries&#x27;]</pre></div></div></div><div class=\"sk-serial\"><div class=\"sk-item\"><div class=\"sk-estimator sk-toggleable\"><input class=\"sk-toggleable__control sk-hidden--visually\" id=\"sk-estimator-id-81\" type=\"checkbox\" ><label for=\"sk-estimator-id-81\" class=\"sk-toggleable__label sk-toggleable__label-arrow\">RangeOutlierDetector</label><div class=\"sk-toggleable__content\"><pre>RangeOutlierDetector(clip=True, max_value=40, min_value=0)</pre></div></div></div></div></div></div><div class=\"sk-parallel-item\"><div class=\"sk-item\"><div class=\"sk-label-container\"><div class=\"sk-label sk-toggleable\"><input class=\"sk-toggleable__control sk-hidden--visually\" id=\"sk-estimator-id-82\" type=\"checkbox\" ><label for=\"sk-estimator-id-82\" class=\"sk-toggleable__label sk-toggleable__label-arrow\">remainder</label><div class=\"sk-toggleable__content\"><pre></pre></div></div></div><div class=\"sk-serial\"><div class=\"sk-item\"><div class=\"sk-estimator sk-toggleable\"><input class=\"sk-toggleable__control sk-hidden--visually\" id=\"sk-estimator-id-83\" type=\"checkbox\" ><label for=\"sk-estimator-id-83\" class=\"sk-toggleable__label sk-toggleable__label-arrow\">passthrough</label><div class=\"sk-toggleable__content\"><pre>passthrough</pre></div></div></div></div></div></div></div></div><div class=\"sk-item sk-dashed-wrapped\"><div class=\"sk-label-container\"><div class=\"sk-label sk-toggleable\"><input class=\"sk-toggleable__control sk-hidden--visually\" id=\"sk-estimator-id-84\" type=\"checkbox\" ><label for=\"sk-estimator-id-84\" class=\"sk-toggleable__label sk-toggleable__label-arrow\">imputer: ColumnTransformer</label><div class=\"sk-toggleable__content\"><pre>ColumnTransformer(remainder=InterpolationImputer(),\n",
       "                  transformers=[(&#x27;zero_values&#x27;,\n",
       "                                 SimpleImputer(fill_value=0,\n",
       "                                               strategy=&#x27;constant&#x27;),\n",
       "                                 [&#x27;credit_history_age_in_years&#x27;,\n",
       "                                  &#x27;credit_history_age_in_months&#x27;])],\n",
       "                  verbose_feature_names_out=False)</pre></div></div></div><div class=\"sk-parallel\"><div class=\"sk-parallel-item\"><div class=\"sk-item\"><div class=\"sk-label-container\"><div class=\"sk-label sk-toggleable\"><input class=\"sk-toggleable__control sk-hidden--visually\" id=\"sk-estimator-id-85\" type=\"checkbox\" ><label for=\"sk-estimator-id-85\" class=\"sk-toggleable__label sk-toggleable__label-arrow\">zero_values</label><div class=\"sk-toggleable__content\"><pre>[&#x27;credit_history_age_in_years&#x27;, &#x27;credit_history_age_in_months&#x27;]</pre></div></div></div><div class=\"sk-serial\"><div class=\"sk-item\"><div class=\"sk-estimator sk-toggleable\"><input class=\"sk-toggleable__control sk-hidden--visually\" id=\"sk-estimator-id-86\" type=\"checkbox\" ><label for=\"sk-estimator-id-86\" class=\"sk-toggleable__label sk-toggleable__label-arrow\">SimpleImputer</label><div class=\"sk-toggleable__content\"><pre>SimpleImputer(fill_value=0, strategy=&#x27;constant&#x27;)</pre></div></div></div></div></div></div><div class=\"sk-parallel-item\"><div class=\"sk-item\"><div class=\"sk-label-container\"><div class=\"sk-label sk-toggleable\"><input class=\"sk-toggleable__control sk-hidden--visually\" id=\"sk-estimator-id-87\" type=\"checkbox\" ><label for=\"sk-estimator-id-87\" class=\"sk-toggleable__label sk-toggleable__label-arrow\">remainder</label><div class=\"sk-toggleable__content\"><pre></pre></div></div></div><div class=\"sk-serial\"><div class=\"sk-item\"><div class=\"sk-estimator sk-toggleable\"><input class=\"sk-toggleable__control sk-hidden--visually\" id=\"sk-estimator-id-88\" type=\"checkbox\" ><label for=\"sk-estimator-id-88\" class=\"sk-toggleable__label sk-toggleable__label-arrow\">InterpolationImputer</label><div class=\"sk-toggleable__content\"><pre>InterpolationImputer()</pre></div></div></div></div></div></div></div></div></div></div></div></div></div></div></div></div></div></div></div></div></div></div>"
      ],
      "text/plain": [
       "ColumnTransformer(transformers=[('categorical',\n",
       "                                 ColumnTransformer(transformers=[('ordinal',\n",
       "                                                                  OrdinalEncoder(categories=[['Bad',\n",
       "                                                                                              'Standard',\n",
       "                                                                                              'Good']],\n",
       "                                                                                 handle_unknown='use_encoded_value',\n",
       "                                                                                 unknown_value=-1),\n",
       "                                                                  ['credit_mix']),\n",
       "                                                                 ('onehot',\n",
       "                                                                  OneHotEncoder(handle_unknown='ignore',\n",
       "                                                                                sparse_output=False),\n",
       "                                                                  ['occupation',\n",
       "                                                                   'payment_of_min_amount']),\n",
       "                                                                 ('payment_behaviour',\n",
       "                                                                  Multila...\n",
       "                                                                                ('imputer',\n",
       "                                                                                 ColumnTransformer(remainder=InterpolationImputer(),\n",
       "                                                                                                   transformers=[('zero_values',\n",
       "                                                                                                                  SimpleImputer(fill_value=0,\n",
       "                                                                                                                                strategy='constant'),\n",
       "                                                                                                                  ['credit_history_age_in_years',\n",
       "                                                                                                                   'credit_history_age_in_months'])],\n",
       "                                                                                                   verbose_feature_names_out=False))])),\n",
       "                                 <sklearn.compose._column_transformer.make_column_selector object at 0x000001A849ABDE10>)],\n",
       "                  verbose_feature_names_out=False)"
      ]
     },
     "execution_count": 17,
     "metadata": {},
     "output_type": "execute_result"
    }
   ],
   "source": [
    "processing_transformer = ColumnTransformer(\n",
    "    transformers=[\n",
    "        (\"categorical\", categorical_transformer, make_column_selector(dtype_include=\"object\")),\n",
    "        (\"numerical\", numerical_transformer, make_column_selector(dtype_include=np.number))\n",
    "    ],\n",
    "    remainder=\"drop\",\n",
    "    verbose_feature_names_out=False,\n",
    ")\n",
    "\n",
    "processing_transformer"
   ]
  },
  {
   "cell_type": "markdown",
   "id": "502a66d2",
   "metadata": {},
   "source": [
    "### Complete Pipeline"
   ]
  },
  {
   "cell_type": "code",
   "execution_count": 18,
   "id": "195b0548",
   "metadata": {},
   "outputs": [
    {
     "data": {
      "text/html": [
       "<style>#sk-container-id-7 {color: black;background-color: white;}#sk-container-id-7 pre{padding: 0;}#sk-container-id-7 div.sk-toggleable {background-color: white;}#sk-container-id-7 label.sk-toggleable__label {cursor: pointer;display: block;width: 100%;margin-bottom: 0;padding: 0.3em;box-sizing: border-box;text-align: center;}#sk-container-id-7 label.sk-toggleable__label-arrow:before {content: \"▸\";float: left;margin-right: 0.25em;color: #696969;}#sk-container-id-7 label.sk-toggleable__label-arrow:hover:before {color: black;}#sk-container-id-7 div.sk-estimator:hover label.sk-toggleable__label-arrow:before {color: black;}#sk-container-id-7 div.sk-toggleable__content {max-height: 0;max-width: 0;overflow: hidden;text-align: left;background-color: #f0f8ff;}#sk-container-id-7 div.sk-toggleable__content pre {margin: 0.2em;color: black;border-radius: 0.25em;background-color: #f0f8ff;}#sk-container-id-7 input.sk-toggleable__control:checked~div.sk-toggleable__content {max-height: 200px;max-width: 100%;overflow: auto;}#sk-container-id-7 input.sk-toggleable__control:checked~label.sk-toggleable__label-arrow:before {content: \"▾\";}#sk-container-id-7 div.sk-estimator input.sk-toggleable__control:checked~label.sk-toggleable__label {background-color: #d4ebff;}#sk-container-id-7 div.sk-label input.sk-toggleable__control:checked~label.sk-toggleable__label {background-color: #d4ebff;}#sk-container-id-7 input.sk-hidden--visually {border: 0;clip: rect(1px 1px 1px 1px);clip: rect(1px, 1px, 1px, 1px);height: 1px;margin: -1px;overflow: hidden;padding: 0;position: absolute;width: 1px;}#sk-container-id-7 div.sk-estimator {font-family: monospace;background-color: #f0f8ff;border: 1px dotted black;border-radius: 0.25em;box-sizing: border-box;margin-bottom: 0.5em;}#sk-container-id-7 div.sk-estimator:hover {background-color: #d4ebff;}#sk-container-id-7 div.sk-parallel-item::after {content: \"\";width: 100%;border-bottom: 1px solid gray;flex-grow: 1;}#sk-container-id-7 div.sk-label:hover label.sk-toggleable__label {background-color: #d4ebff;}#sk-container-id-7 div.sk-serial::before {content: \"\";position: absolute;border-left: 1px solid gray;box-sizing: border-box;top: 0;bottom: 0;left: 50%;z-index: 0;}#sk-container-id-7 div.sk-serial {display: flex;flex-direction: column;align-items: center;background-color: white;padding-right: 0.2em;padding-left: 0.2em;position: relative;}#sk-container-id-7 div.sk-item {position: relative;z-index: 1;}#sk-container-id-7 div.sk-parallel {display: flex;align-items: stretch;justify-content: center;background-color: white;position: relative;}#sk-container-id-7 div.sk-item::before, #sk-container-id-7 div.sk-parallel-item::before {content: \"\";position: absolute;border-left: 1px solid gray;box-sizing: border-box;top: 0;bottom: 0;left: 50%;z-index: -1;}#sk-container-id-7 div.sk-parallel-item {display: flex;flex-direction: column;z-index: 1;position: relative;background-color: white;}#sk-container-id-7 div.sk-parallel-item:first-child::after {align-self: flex-end;width: 50%;}#sk-container-id-7 div.sk-parallel-item:last-child::after {align-self: flex-start;width: 50%;}#sk-container-id-7 div.sk-parallel-item:only-child::after {width: 0;}#sk-container-id-7 div.sk-dashed-wrapped {border: 1px dashed gray;margin: 0 0.4em 0.5em 0.4em;box-sizing: border-box;padding-bottom: 0.4em;background-color: white;}#sk-container-id-7 div.sk-label label {font-family: monospace;font-weight: bold;display: inline-block;line-height: 1.2em;}#sk-container-id-7 div.sk-label-container {text-align: center;}#sk-container-id-7 div.sk-container {/* jupyter's `normalize.less` sets `[hidden] { display: none; }` but bootstrap.min.css set `[hidden] { display: none !important; }` so we also need the `!important` here to be able to override the default hidden behavior on the sphinx rendered scikit-learn.org. See: https://github.com/scikit-learn/scikit-learn/issues/21755 */display: inline-block !important;position: relative;}#sk-container-id-7 div.sk-text-repr-fallback {display: none;}</style><div id=\"sk-container-id-7\" class=\"sk-top-container\"><div class=\"sk-text-repr-fallback\"><pre>Pipeline(steps=[(&#x27;dtypes_converter&#x27;,\n",
       "                 ColumnTransformer(remainder=&#x27;passthrough&#x27;,\n",
       "                                   transformers=[(&#x27;integers&#x27;,\n",
       "                                                  RegexTransformer(find=&#x27;-?\\\\d+&#x27;,\n",
       "                                                                   target_dtype=&lt;class &#x27;float&#x27;&gt;),\n",
       "                                                  [&#x27;age&#x27;,\n",
       "                                                   &#x27;num_of_delayed_payment&#x27;,\n",
       "                                                   &#x27;num_of_loan&#x27;]),\n",
       "                                                 (&#x27;floats&#x27;,\n",
       "                                                  RegexTransformer(find=&#x27;-?[\\\\d\\\\.]+&#x27;,\n",
       "                                                                   target_dtype=&lt;class &#x27;float&#x27;&gt;),\n",
       "                                                  [&#x27;annual_income&#x27;,\n",
       "                                                   &#x27;amount_invested_monthly&#x27;,\n",
       "                                                   &#x27;changed_credit_limi...\n",
       "                                                                                                  ColumnTransformer(remainder=InterpolationImputer(),\n",
       "                                                                                                                    transformers=[(&#x27;zero_values&#x27;,\n",
       "                                                                                                                                   SimpleImputer(fill_value=0,\n",
       "                                                                                                                                                 strategy=&#x27;constant&#x27;),\n",
       "                                                                                                                                   [&#x27;credit_history_age_in_years&#x27;,\n",
       "                                                                                                                                    &#x27;credit_history_age_in_months&#x27;])],\n",
       "                                                                                                                    verbose_feature_names_out=False))])),\n",
       "                                                  &lt;sklearn.compose._column_transformer.make_column_selector object at 0x000001A849ABDE10&gt;)],\n",
       "                                   verbose_feature_names_out=False))])</pre><b>In a Jupyter environment, please rerun this cell to show the HTML representation or trust the notebook. <br />On GitHub, the HTML representation is unable to render, please try loading this page with nbviewer.org.</b></div><div class=\"sk-container\" hidden><div class=\"sk-item sk-dashed-wrapped\"><div class=\"sk-label-container\"><div class=\"sk-label sk-toggleable\"><input class=\"sk-toggleable__control sk-hidden--visually\" id=\"sk-estimator-id-89\" type=\"checkbox\" ><label for=\"sk-estimator-id-89\" class=\"sk-toggleable__label sk-toggleable__label-arrow\">Pipeline</label><div class=\"sk-toggleable__content\"><pre>Pipeline(steps=[(&#x27;dtypes_converter&#x27;,\n",
       "                 ColumnTransformer(remainder=&#x27;passthrough&#x27;,\n",
       "                                   transformers=[(&#x27;integers&#x27;,\n",
       "                                                  RegexTransformer(find=&#x27;-?\\\\d+&#x27;,\n",
       "                                                                   target_dtype=&lt;class &#x27;float&#x27;&gt;),\n",
       "                                                  [&#x27;age&#x27;,\n",
       "                                                   &#x27;num_of_delayed_payment&#x27;,\n",
       "                                                   &#x27;num_of_loan&#x27;]),\n",
       "                                                 (&#x27;floats&#x27;,\n",
       "                                                  RegexTransformer(find=&#x27;-?[\\\\d\\\\.]+&#x27;,\n",
       "                                                                   target_dtype=&lt;class &#x27;float&#x27;&gt;),\n",
       "                                                  [&#x27;annual_income&#x27;,\n",
       "                                                   &#x27;amount_invested_monthly&#x27;,\n",
       "                                                   &#x27;changed_credit_limi...\n",
       "                                                                                                  ColumnTransformer(remainder=InterpolationImputer(),\n",
       "                                                                                                                    transformers=[(&#x27;zero_values&#x27;,\n",
       "                                                                                                                                   SimpleImputer(fill_value=0,\n",
       "                                                                                                                                                 strategy=&#x27;constant&#x27;),\n",
       "                                                                                                                                   [&#x27;credit_history_age_in_years&#x27;,\n",
       "                                                                                                                                    &#x27;credit_history_age_in_months&#x27;])],\n",
       "                                                                                                                    verbose_feature_names_out=False))])),\n",
       "                                                  &lt;sklearn.compose._column_transformer.make_column_selector object at 0x000001A849ABDE10&gt;)],\n",
       "                                   verbose_feature_names_out=False))])</pre></div></div></div><div class=\"sk-serial\"><div class=\"sk-item sk-dashed-wrapped\"><div class=\"sk-label-container\"><div class=\"sk-label sk-toggleable\"><input class=\"sk-toggleable__control sk-hidden--visually\" id=\"sk-estimator-id-90\" type=\"checkbox\" ><label for=\"sk-estimator-id-90\" class=\"sk-toggleable__label sk-toggleable__label-arrow\">dtypes_converter: ColumnTransformer</label><div class=\"sk-toggleable__content\"><pre>ColumnTransformer(remainder=&#x27;passthrough&#x27;,\n",
       "                  transformers=[(&#x27;integers&#x27;,\n",
       "                                 RegexTransformer(find=&#x27;-?\\\\d+&#x27;,\n",
       "                                                  target_dtype=&lt;class &#x27;float&#x27;&gt;),\n",
       "                                 [&#x27;age&#x27;, &#x27;num_of_delayed_payment&#x27;,\n",
       "                                  &#x27;num_of_loan&#x27;]),\n",
       "                                (&#x27;floats&#x27;,\n",
       "                                 RegexTransformer(find=&#x27;-?[\\\\d\\\\.]+&#x27;,\n",
       "                                                  target_dtype=&lt;class &#x27;float&#x27;&gt;),\n",
       "                                 [&#x27;annual_income&#x27;, &#x27;amount_invested_monthly&#x27;,\n",
       "                                  &#x27;changed_credit_limit&#x27;, &#x27;monthly_balance&#x27;,\n",
       "                                  &#x27;outstanding_de...\n",
       "                                (&#x27;credit_history_months&#x27;,\n",
       "                                 RegexTransformer(find=&#x27;\\\\d+(?=\\\\sMonth)&#x27;,\n",
       "                                                  target_dtype=&lt;class &#x27;float&#x27;&gt;),\n",
       "                                 [&#x27;credit_history_age_in_months&#x27;]),\n",
       "                                (&#x27;payment_behaviour&#x27;,\n",
       "                                 RegexTransformer(get_first=False,\n",
       "                                                  replace={&#x27;!@9#%8&#x27;: None}),\n",
       "                                 [&#x27;payment_behaviour&#x27;]),\n",
       "                                (&#x27;type_of_loan&#x27;,\n",
       "                                 RegexTransformer(get_first=False,\n",
       "                                                  replace={&#x27;\\\\sLoan|\\\\sand&#x27;: &#x27;&#x27;}),\n",
       "                                 [&#x27;type_of_loan&#x27;])],\n",
       "                  verbose_feature_names_out=False)</pre></div></div></div><div class=\"sk-parallel\"><div class=\"sk-parallel-item\"><div class=\"sk-item\"><div class=\"sk-label-container\"><div class=\"sk-label sk-toggleable\"><input class=\"sk-toggleable__control sk-hidden--visually\" id=\"sk-estimator-id-91\" type=\"checkbox\" ><label for=\"sk-estimator-id-91\" class=\"sk-toggleable__label sk-toggleable__label-arrow\">integers</label><div class=\"sk-toggleable__content\"><pre>[&#x27;age&#x27;, &#x27;num_of_delayed_payment&#x27;, &#x27;num_of_loan&#x27;]</pre></div></div></div><div class=\"sk-serial\"><div class=\"sk-item\"><div class=\"sk-estimator sk-toggleable\"><input class=\"sk-toggleable__control sk-hidden--visually\" id=\"sk-estimator-id-92\" type=\"checkbox\" ><label for=\"sk-estimator-id-92\" class=\"sk-toggleable__label sk-toggleable__label-arrow\">RegexTransformer</label><div class=\"sk-toggleable__content\"><pre>RegexTransformer(find=&#x27;-?\\\\d+&#x27;, target_dtype=&lt;class &#x27;float&#x27;&gt;)</pre></div></div></div></div></div></div><div class=\"sk-parallel-item\"><div class=\"sk-item\"><div class=\"sk-label-container\"><div class=\"sk-label sk-toggleable\"><input class=\"sk-toggleable__control sk-hidden--visually\" id=\"sk-estimator-id-93\" type=\"checkbox\" ><label for=\"sk-estimator-id-93\" class=\"sk-toggleable__label sk-toggleable__label-arrow\">floats</label><div class=\"sk-toggleable__content\"><pre>[&#x27;annual_income&#x27;, &#x27;amount_invested_monthly&#x27;, &#x27;changed_credit_limit&#x27;, &#x27;monthly_balance&#x27;, &#x27;outstanding_debt&#x27;]</pre></div></div></div><div class=\"sk-serial\"><div class=\"sk-item\"><div class=\"sk-estimator sk-toggleable\"><input class=\"sk-toggleable__control sk-hidden--visually\" id=\"sk-estimator-id-94\" type=\"checkbox\" ><label for=\"sk-estimator-id-94\" class=\"sk-toggleable__label sk-toggleable__label-arrow\">RegexTransformer</label><div class=\"sk-toggleable__content\"><pre>RegexTransformer(find=&#x27;-?[\\\\d\\\\.]+&#x27;, target_dtype=&lt;class &#x27;float&#x27;&gt;)</pre></div></div></div></div></div></div><div class=\"sk-parallel-item\"><div class=\"sk-item\"><div class=\"sk-label-container\"><div class=\"sk-label sk-toggleable\"><input class=\"sk-toggleable__control sk-hidden--visually\" id=\"sk-estimator-id-95\" type=\"checkbox\" ><label for=\"sk-estimator-id-95\" class=\"sk-toggleable__label sk-toggleable__label-arrow\">strings</label><div class=\"sk-toggleable__content\"><pre>[&#x27;credit_mix&#x27;, &#x27;occupation&#x27;]</pre></div></div></div><div class=\"sk-serial\"><div class=\"sk-item\"><div class=\"sk-estimator sk-toggleable\"><input class=\"sk-toggleable__control sk-hidden--visually\" id=\"sk-estimator-id-96\" type=\"checkbox\" ><label for=\"sk-estimator-id-96\" class=\"sk-toggleable__label sk-toggleable__label-arrow\">RegexTransformer</label><div class=\"sk-toggleable__content\"><pre>RegexTransformer(find=&#x27;\\\\w+\\\\_?\\\\w+&#x27;, replace={&#x27;_{2,}&#x27;: &#x27;&#x27;},\n",
       "                 target_dtype=&lt;class &#x27;str&#x27;&gt;)</pre></div></div></div></div></div></div><div class=\"sk-parallel-item\"><div class=\"sk-item\"><div class=\"sk-label-container\"><div class=\"sk-label sk-toggleable\"><input class=\"sk-toggleable__control sk-hidden--visually\" id=\"sk-estimator-id-97\" type=\"checkbox\" ><label for=\"sk-estimator-id-97\" class=\"sk-toggleable__label sk-toggleable__label-arrow\">credit_history_years</label><div class=\"sk-toggleable__content\"><pre>[&#x27;credit_history_age_in_years&#x27;]</pre></div></div></div><div class=\"sk-serial\"><div class=\"sk-item\"><div class=\"sk-estimator sk-toggleable\"><input class=\"sk-toggleable__control sk-hidden--visually\" id=\"sk-estimator-id-98\" type=\"checkbox\" ><label for=\"sk-estimator-id-98\" class=\"sk-toggleable__label sk-toggleable__label-arrow\">RegexTransformer</label><div class=\"sk-toggleable__content\"><pre>RegexTransformer(find=&#x27;\\\\d+(?=\\\\sYear)&#x27;, target_dtype=&lt;class &#x27;float&#x27;&gt;)</pre></div></div></div></div></div></div><div class=\"sk-parallel-item\"><div class=\"sk-item\"><div class=\"sk-label-container\"><div class=\"sk-label sk-toggleable\"><input class=\"sk-toggleable__control sk-hidden--visually\" id=\"sk-estimator-id-99\" type=\"checkbox\" ><label for=\"sk-estimator-id-99\" class=\"sk-toggleable__label sk-toggleable__label-arrow\">credit_history_months</label><div class=\"sk-toggleable__content\"><pre>[&#x27;credit_history_age_in_months&#x27;]</pre></div></div></div><div class=\"sk-serial\"><div class=\"sk-item\"><div class=\"sk-estimator sk-toggleable\"><input class=\"sk-toggleable__control sk-hidden--visually\" id=\"sk-estimator-id-100\" type=\"checkbox\" ><label for=\"sk-estimator-id-100\" class=\"sk-toggleable__label sk-toggleable__label-arrow\">RegexTransformer</label><div class=\"sk-toggleable__content\"><pre>RegexTransformer(find=&#x27;\\\\d+(?=\\\\sMonth)&#x27;, target_dtype=&lt;class &#x27;float&#x27;&gt;)</pre></div></div></div></div></div></div><div class=\"sk-parallel-item\"><div class=\"sk-item\"><div class=\"sk-label-container\"><div class=\"sk-label sk-toggleable\"><input class=\"sk-toggleable__control sk-hidden--visually\" id=\"sk-estimator-id-101\" type=\"checkbox\" ><label for=\"sk-estimator-id-101\" class=\"sk-toggleable__label sk-toggleable__label-arrow\">payment_behaviour</label><div class=\"sk-toggleable__content\"><pre>[&#x27;payment_behaviour&#x27;]</pre></div></div></div><div class=\"sk-serial\"><div class=\"sk-item\"><div class=\"sk-estimator sk-toggleable\"><input class=\"sk-toggleable__control sk-hidden--visually\" id=\"sk-estimator-id-102\" type=\"checkbox\" ><label for=\"sk-estimator-id-102\" class=\"sk-toggleable__label sk-toggleable__label-arrow\">RegexTransformer</label><div class=\"sk-toggleable__content\"><pre>RegexTransformer(get_first=False, replace={&#x27;!@9#%8&#x27;: None})</pre></div></div></div></div></div></div><div class=\"sk-parallel-item\"><div class=\"sk-item\"><div class=\"sk-label-container\"><div class=\"sk-label sk-toggleable\"><input class=\"sk-toggleable__control sk-hidden--visually\" id=\"sk-estimator-id-103\" type=\"checkbox\" ><label for=\"sk-estimator-id-103\" class=\"sk-toggleable__label sk-toggleable__label-arrow\">type_of_loan</label><div class=\"sk-toggleable__content\"><pre>[&#x27;type_of_loan&#x27;]</pre></div></div></div><div class=\"sk-serial\"><div class=\"sk-item\"><div class=\"sk-estimator sk-toggleable\"><input class=\"sk-toggleable__control sk-hidden--visually\" id=\"sk-estimator-id-104\" type=\"checkbox\" ><label for=\"sk-estimator-id-104\" class=\"sk-toggleable__label sk-toggleable__label-arrow\">RegexTransformer</label><div class=\"sk-toggleable__content\"><pre>RegexTransformer(get_first=False, replace={&#x27;\\\\sLoan|\\\\sand&#x27;: &#x27;&#x27;})</pre></div></div></div></div></div></div><div class=\"sk-parallel-item\"><div class=\"sk-item\"><div class=\"sk-label-container\"><div class=\"sk-label sk-toggleable\"><input class=\"sk-toggleable__control sk-hidden--visually\" id=\"sk-estimator-id-105\" type=\"checkbox\" ><label for=\"sk-estimator-id-105\" class=\"sk-toggleable__label sk-toggleable__label-arrow\">remainder</label><div class=\"sk-toggleable__content\"><pre></pre></div></div></div><div class=\"sk-serial\"><div class=\"sk-item\"><div class=\"sk-estimator sk-toggleable\"><input class=\"sk-toggleable__control sk-hidden--visually\" id=\"sk-estimator-id-106\" type=\"checkbox\" ><label for=\"sk-estimator-id-106\" class=\"sk-toggleable__label sk-toggleable__label-arrow\">passthrough</label><div class=\"sk-toggleable__content\"><pre>passthrough</pre></div></div></div></div></div></div></div></div><div class=\"sk-item sk-dashed-wrapped\"><div class=\"sk-label-container\"><div class=\"sk-label sk-toggleable\"><input class=\"sk-toggleable__control sk-hidden--visually\" id=\"sk-estimator-id-107\" type=\"checkbox\" ><label for=\"sk-estimator-id-107\" class=\"sk-toggleable__label sk-toggleable__label-arrow\">preprocessing: ColumnTransformer</label><div class=\"sk-toggleable__content\"><pre>ColumnTransformer(transformers=[(&#x27;categorical&#x27;,\n",
       "                                 ColumnTransformer(transformers=[(&#x27;ordinal&#x27;,\n",
       "                                                                  OrdinalEncoder(categories=[[&#x27;Bad&#x27;,\n",
       "                                                                                              &#x27;Standard&#x27;,\n",
       "                                                                                              &#x27;Good&#x27;]],\n",
       "                                                                                 handle_unknown=&#x27;use_encoded_value&#x27;,\n",
       "                                                                                 unknown_value=-1),\n",
       "                                                                  [&#x27;credit_mix&#x27;]),\n",
       "                                                                 (&#x27;onehot&#x27;,\n",
       "                                                                  OneHotEncoder(handle_unknown=&#x27;ignore&#x27;,\n",
       "                                                                                sparse_output=False),\n",
       "                                                                  [&#x27;occupation&#x27;,\n",
       "                                                                   &#x27;payment_of_min_amount&#x27;]),\n",
       "                                                                 (&#x27;payment_behaviour&#x27;,\n",
       "                                                                  Multila...\n",
       "                                                                                (&#x27;imputer&#x27;,\n",
       "                                                                                 ColumnTransformer(remainder=InterpolationImputer(),\n",
       "                                                                                                   transformers=[(&#x27;zero_values&#x27;,\n",
       "                                                                                                                  SimpleImputer(fill_value=0,\n",
       "                                                                                                                                strategy=&#x27;constant&#x27;),\n",
       "                                                                                                                  [&#x27;credit_history_age_in_years&#x27;,\n",
       "                                                                                                                   &#x27;credit_history_age_in_months&#x27;])],\n",
       "                                                                                                   verbose_feature_names_out=False))])),\n",
       "                                 &lt;sklearn.compose._column_transformer.make_column_selector object at 0x000001A849ABDE10&gt;)],\n",
       "                  verbose_feature_names_out=False)</pre></div></div></div><div class=\"sk-parallel\"><div class=\"sk-parallel-item\"><div class=\"sk-item\"><div class=\"sk-label-container\"><div class=\"sk-label sk-toggleable\"><input class=\"sk-toggleable__control sk-hidden--visually\" id=\"sk-estimator-id-108\" type=\"checkbox\" ><label for=\"sk-estimator-id-108\" class=\"sk-toggleable__label sk-toggleable__label-arrow\">categorical</label><div class=\"sk-toggleable__content\"><pre>&lt;sklearn.compose._column_transformer.make_column_selector object at 0x000001A849ABE680&gt;</pre></div></div></div><div class=\"sk-serial\"><div class=\"sk-item sk-dashed-wrapped\"><div class=\"sk-parallel\"><div class=\"sk-parallel-item\"><div class=\"sk-item\"><div class=\"sk-label-container\"><div class=\"sk-label sk-toggleable\"><input class=\"sk-toggleable__control sk-hidden--visually\" id=\"sk-estimator-id-109\" type=\"checkbox\" ><label for=\"sk-estimator-id-109\" class=\"sk-toggleable__label sk-toggleable__label-arrow\">ordinal</label><div class=\"sk-toggleable__content\"><pre>[&#x27;credit_mix&#x27;]</pre></div></div></div><div class=\"sk-serial\"><div class=\"sk-item\"><div class=\"sk-estimator sk-toggleable\"><input class=\"sk-toggleable__control sk-hidden--visually\" id=\"sk-estimator-id-110\" type=\"checkbox\" ><label for=\"sk-estimator-id-110\" class=\"sk-toggleable__label sk-toggleable__label-arrow\">OrdinalEncoder</label><div class=\"sk-toggleable__content\"><pre>OrdinalEncoder(categories=[[&#x27;Bad&#x27;, &#x27;Standard&#x27;, &#x27;Good&#x27;]],\n",
       "               handle_unknown=&#x27;use_encoded_value&#x27;, unknown_value=-1)</pre></div></div></div></div></div></div><div class=\"sk-parallel-item\"><div class=\"sk-item\"><div class=\"sk-label-container\"><div class=\"sk-label sk-toggleable\"><input class=\"sk-toggleable__control sk-hidden--visually\" id=\"sk-estimator-id-111\" type=\"checkbox\" ><label for=\"sk-estimator-id-111\" class=\"sk-toggleable__label sk-toggleable__label-arrow\">onehot</label><div class=\"sk-toggleable__content\"><pre>[&#x27;occupation&#x27;, &#x27;payment_of_min_amount&#x27;]</pre></div></div></div><div class=\"sk-serial\"><div class=\"sk-item\"><div class=\"sk-estimator sk-toggleable\"><input class=\"sk-toggleable__control sk-hidden--visually\" id=\"sk-estimator-id-112\" type=\"checkbox\" ><label for=\"sk-estimator-id-112\" class=\"sk-toggleable__label sk-toggleable__label-arrow\">OneHotEncoder</label><div class=\"sk-toggleable__content\"><pre>OneHotEncoder(handle_unknown=&#x27;ignore&#x27;, sparse_output=False)</pre></div></div></div></div></div></div><div class=\"sk-parallel-item\"><div class=\"sk-item\"><div class=\"sk-label-container\"><div class=\"sk-label sk-toggleable\"><input class=\"sk-toggleable__control sk-hidden--visually\" id=\"sk-estimator-id-113\" type=\"checkbox\" ><label for=\"sk-estimator-id-113\" class=\"sk-toggleable__label sk-toggleable__label-arrow\">payment_behaviour</label><div class=\"sk-toggleable__content\"><pre>[&#x27;payment_behaviour&#x27;]</pre></div></div></div><div class=\"sk-serial\"><div class=\"sk-item\"><div class=\"sk-estimator sk-toggleable\"><input class=\"sk-toggleable__control sk-hidden--visually\" id=\"sk-estimator-id-114\" type=\"checkbox\" ><label for=\"sk-estimator-id-114\" class=\"sk-toggleable__label sk-toggleable__label-arrow\">MultilabelEncoder</label><div class=\"sk-toggleable__content\"><pre>MultilabelEncoder(split_by=&#x27;(?&lt;=spent)\\\\_&#x27;)</pre></div></div></div></div></div></div><div class=\"sk-parallel-item\"><div class=\"sk-item\"><div class=\"sk-label-container\"><div class=\"sk-label sk-toggleable\"><input class=\"sk-toggleable__control sk-hidden--visually\" id=\"sk-estimator-id-115\" type=\"checkbox\" ><label for=\"sk-estimator-id-115\" class=\"sk-toggleable__label sk-toggleable__label-arrow\">type_of_loan</label><div class=\"sk-toggleable__content\"><pre>[&#x27;type_of_loan&#x27;]</pre></div></div></div><div class=\"sk-serial\"><div class=\"sk-item\"><div class=\"sk-estimator sk-toggleable\"><input class=\"sk-toggleable__control sk-hidden--visually\" id=\"sk-estimator-id-116\" type=\"checkbox\" ><label for=\"sk-estimator-id-116\" class=\"sk-toggleable__label sk-toggleable__label-arrow\">MultilabelEncoder</label><div class=\"sk-toggleable__content\"><pre>MultilabelEncoder(split_by=&#x27;, &#x27;)</pre></div></div></div></div></div></div></div></div></div></div></div><div class=\"sk-parallel-item\"><div class=\"sk-item\"><div class=\"sk-label-container\"><div class=\"sk-label sk-toggleable\"><input class=\"sk-toggleable__control sk-hidden--visually\" id=\"sk-estimator-id-117\" type=\"checkbox\" ><label for=\"sk-estimator-id-117\" class=\"sk-toggleable__label sk-toggleable__label-arrow\">numerical</label><div class=\"sk-toggleable__content\"><pre>&lt;sklearn.compose._column_transformer.make_column_selector object at 0x000001A849ABDE10&gt;</pre></div></div></div><div class=\"sk-serial\"><div class=\"sk-item sk-dashed-wrapped\"><div class=\"sk-parallel\"><div class=\"sk-parallel-item\"><div class=\"sk-item\"><div class=\"sk-label-container\"><div class=\"sk-label sk-toggleable\"><input class=\"sk-toggleable__control sk-hidden--visually\" id=\"sk-estimator-id-118\" type=\"checkbox\" ><label for=\"sk-estimator-id-118\" class=\"sk-toggleable__label sk-toggleable__label-arrow\">transformer: Pipeline</label><div class=\"sk-toggleable__content\"><pre>Pipeline(steps=[(&#x27;outliers&#x27;,\n",
       "                 ColumnTransformer(remainder=&#x27;passthrough&#x27;,\n",
       "                                   transformers=[(&#x27;range_0_100&#x27;,\n",
       "                                                  RangeOutlierDetector(max_value=100,\n",
       "                                                                       min_value=0),\n",
       "                                                  [&#x27;age&#x27;,\n",
       "                                                   &#x27;num_of_delayed_payment&#x27;,\n",
       "                                                   &#x27;num_of_loan&#x27;]),\n",
       "                                                 (&#x27;changed_credit_limit&#x27;,\n",
       "                                                  RangeOutlierDetector(max_value=37,\n",
       "                                                                       min_value=-10),\n",
       "                                                  [&#x27;changed_credit_limit&#x27;]),\n",
       "                                                 (&#x27;delta&#x27;,\n",
       "                                                  DeltaFromMedianOutlierDetector(),\n",
       "                                                  [&#x27;annual_incom...\n",
       "                                                  [&#x27;num_bank_accounts&#x27;,\n",
       "                                                   &#x27;num_credit_card&#x27;,\n",
       "                                                   &#x27;interest_rate&#x27;,\n",
       "                                                   &#x27;num_credit_inquiries&#x27;])],\n",
       "                                   verbose_feature_names_out=False)),\n",
       "                (&#x27;imputer&#x27;,\n",
       "                 ColumnTransformer(remainder=InterpolationImputer(),\n",
       "                                   transformers=[(&#x27;zero_values&#x27;,\n",
       "                                                  SimpleImputer(fill_value=0,\n",
       "                                                                strategy=&#x27;constant&#x27;),\n",
       "                                                  [&#x27;credit_history_age_in_years&#x27;,\n",
       "                                                   &#x27;credit_history_age_in_months&#x27;])],\n",
       "                                   verbose_feature_names_out=False))])</pre></div></div></div><div class=\"sk-serial\"><div class=\"sk-item\"><div class=\"sk-serial\"><div class=\"sk-item sk-dashed-wrapped\"><div class=\"sk-label-container\"><div class=\"sk-label sk-toggleable\"><input class=\"sk-toggleable__control sk-hidden--visually\" id=\"sk-estimator-id-119\" type=\"checkbox\" ><label for=\"sk-estimator-id-119\" class=\"sk-toggleable__label sk-toggleable__label-arrow\">outliers: ColumnTransformer</label><div class=\"sk-toggleable__content\"><pre>ColumnTransformer(remainder=&#x27;passthrough&#x27;,\n",
       "                  transformers=[(&#x27;range_0_100&#x27;,\n",
       "                                 RangeOutlierDetector(max_value=100,\n",
       "                                                      min_value=0),\n",
       "                                 [&#x27;age&#x27;, &#x27;num_of_delayed_payment&#x27;,\n",
       "                                  &#x27;num_of_loan&#x27;]),\n",
       "                                (&#x27;changed_credit_limit&#x27;,\n",
       "                                 RangeOutlierDetector(max_value=37,\n",
       "                                                      min_value=-10),\n",
       "                                 [&#x27;changed_credit_limit&#x27;]),\n",
       "                                (&#x27;delta&#x27;, DeltaFromMedianOutlierDetector(),\n",
       "                                 [&#x27;annual_income&#x27;, &#x27;amount_invested_monthly&#x27;,\n",
       "                                  &#x27;monthly_balance&#x27;, &#x27;monthly_inhand_salary&#x27;,\n",
       "                                  &#x27;total_emi_per_month&#x27;]),\n",
       "                                (&#x27;range_0_10_clip&#x27;,\n",
       "                                 RangeOutlierDetector(clip=True, max_value=40,\n",
       "                                                      min_value=0),\n",
       "                                 [&#x27;num_bank_accounts&#x27;, &#x27;num_credit_card&#x27;,\n",
       "                                  &#x27;interest_rate&#x27;, &#x27;num_credit_inquiries&#x27;])],\n",
       "                  verbose_feature_names_out=False)</pre></div></div></div><div class=\"sk-parallel\"><div class=\"sk-parallel-item\"><div class=\"sk-item\"><div class=\"sk-label-container\"><div class=\"sk-label sk-toggleable\"><input class=\"sk-toggleable__control sk-hidden--visually\" id=\"sk-estimator-id-120\" type=\"checkbox\" ><label for=\"sk-estimator-id-120\" class=\"sk-toggleable__label sk-toggleable__label-arrow\">range_0_100</label><div class=\"sk-toggleable__content\"><pre>[&#x27;age&#x27;, &#x27;num_of_delayed_payment&#x27;, &#x27;num_of_loan&#x27;]</pre></div></div></div><div class=\"sk-serial\"><div class=\"sk-item\"><div class=\"sk-estimator sk-toggleable\"><input class=\"sk-toggleable__control sk-hidden--visually\" id=\"sk-estimator-id-121\" type=\"checkbox\" ><label for=\"sk-estimator-id-121\" class=\"sk-toggleable__label sk-toggleable__label-arrow\">RangeOutlierDetector</label><div class=\"sk-toggleable__content\"><pre>RangeOutlierDetector(max_value=100, min_value=0)</pre></div></div></div></div></div></div><div class=\"sk-parallel-item\"><div class=\"sk-item\"><div class=\"sk-label-container\"><div class=\"sk-label sk-toggleable\"><input class=\"sk-toggleable__control sk-hidden--visually\" id=\"sk-estimator-id-122\" type=\"checkbox\" ><label for=\"sk-estimator-id-122\" class=\"sk-toggleable__label sk-toggleable__label-arrow\">changed_credit_limit</label><div class=\"sk-toggleable__content\"><pre>[&#x27;changed_credit_limit&#x27;]</pre></div></div></div><div class=\"sk-serial\"><div class=\"sk-item\"><div class=\"sk-estimator sk-toggleable\"><input class=\"sk-toggleable__control sk-hidden--visually\" id=\"sk-estimator-id-123\" type=\"checkbox\" ><label for=\"sk-estimator-id-123\" class=\"sk-toggleable__label sk-toggleable__label-arrow\">RangeOutlierDetector</label><div class=\"sk-toggleable__content\"><pre>RangeOutlierDetector(max_value=37, min_value=-10)</pre></div></div></div></div></div></div><div class=\"sk-parallel-item\"><div class=\"sk-item\"><div class=\"sk-label-container\"><div class=\"sk-label sk-toggleable\"><input class=\"sk-toggleable__control sk-hidden--visually\" id=\"sk-estimator-id-124\" type=\"checkbox\" ><label for=\"sk-estimator-id-124\" class=\"sk-toggleable__label sk-toggleable__label-arrow\">delta</label><div class=\"sk-toggleable__content\"><pre>[&#x27;annual_income&#x27;, &#x27;amount_invested_monthly&#x27;, &#x27;monthly_balance&#x27;, &#x27;monthly_inhand_salary&#x27;, &#x27;total_emi_per_month&#x27;]</pre></div></div></div><div class=\"sk-serial\"><div class=\"sk-item\"><div class=\"sk-estimator sk-toggleable\"><input class=\"sk-toggleable__control sk-hidden--visually\" id=\"sk-estimator-id-125\" type=\"checkbox\" ><label for=\"sk-estimator-id-125\" class=\"sk-toggleable__label sk-toggleable__label-arrow\">DeltaFromMedianOutlierDetector</label><div class=\"sk-toggleable__content\"><pre>DeltaFromMedianOutlierDetector()</pre></div></div></div></div></div></div><div class=\"sk-parallel-item\"><div class=\"sk-item\"><div class=\"sk-label-container\"><div class=\"sk-label sk-toggleable\"><input class=\"sk-toggleable__control sk-hidden--visually\" id=\"sk-estimator-id-126\" type=\"checkbox\" ><label for=\"sk-estimator-id-126\" class=\"sk-toggleable__label sk-toggleable__label-arrow\">range_0_10_clip</label><div class=\"sk-toggleable__content\"><pre>[&#x27;num_bank_accounts&#x27;, &#x27;num_credit_card&#x27;, &#x27;interest_rate&#x27;, &#x27;num_credit_inquiries&#x27;]</pre></div></div></div><div class=\"sk-serial\"><div class=\"sk-item\"><div class=\"sk-estimator sk-toggleable\"><input class=\"sk-toggleable__control sk-hidden--visually\" id=\"sk-estimator-id-127\" type=\"checkbox\" ><label for=\"sk-estimator-id-127\" class=\"sk-toggleable__label sk-toggleable__label-arrow\">RangeOutlierDetector</label><div class=\"sk-toggleable__content\"><pre>RangeOutlierDetector(clip=True, max_value=40, min_value=0)</pre></div></div></div></div></div></div><div class=\"sk-parallel-item\"><div class=\"sk-item\"><div class=\"sk-label-container\"><div class=\"sk-label sk-toggleable\"><input class=\"sk-toggleable__control sk-hidden--visually\" id=\"sk-estimator-id-128\" type=\"checkbox\" ><label for=\"sk-estimator-id-128\" class=\"sk-toggleable__label sk-toggleable__label-arrow\">remainder</label><div class=\"sk-toggleable__content\"><pre></pre></div></div></div><div class=\"sk-serial\"><div class=\"sk-item\"><div class=\"sk-estimator sk-toggleable\"><input class=\"sk-toggleable__control sk-hidden--visually\" id=\"sk-estimator-id-129\" type=\"checkbox\" ><label for=\"sk-estimator-id-129\" class=\"sk-toggleable__label sk-toggleable__label-arrow\">passthrough</label><div class=\"sk-toggleable__content\"><pre>passthrough</pre></div></div></div></div></div></div></div></div><div class=\"sk-item sk-dashed-wrapped\"><div class=\"sk-label-container\"><div class=\"sk-label sk-toggleable\"><input class=\"sk-toggleable__control sk-hidden--visually\" id=\"sk-estimator-id-130\" type=\"checkbox\" ><label for=\"sk-estimator-id-130\" class=\"sk-toggleable__label sk-toggleable__label-arrow\">imputer: ColumnTransformer</label><div class=\"sk-toggleable__content\"><pre>ColumnTransformer(remainder=InterpolationImputer(),\n",
       "                  transformers=[(&#x27;zero_values&#x27;,\n",
       "                                 SimpleImputer(fill_value=0,\n",
       "                                               strategy=&#x27;constant&#x27;),\n",
       "                                 [&#x27;credit_history_age_in_years&#x27;,\n",
       "                                  &#x27;credit_history_age_in_months&#x27;])],\n",
       "                  verbose_feature_names_out=False)</pre></div></div></div><div class=\"sk-parallel\"><div class=\"sk-parallel-item\"><div class=\"sk-item\"><div class=\"sk-label-container\"><div class=\"sk-label sk-toggleable\"><input class=\"sk-toggleable__control sk-hidden--visually\" id=\"sk-estimator-id-131\" type=\"checkbox\" ><label for=\"sk-estimator-id-131\" class=\"sk-toggleable__label sk-toggleable__label-arrow\">zero_values</label><div class=\"sk-toggleable__content\"><pre>[&#x27;credit_history_age_in_years&#x27;, &#x27;credit_history_age_in_months&#x27;]</pre></div></div></div><div class=\"sk-serial\"><div class=\"sk-item\"><div class=\"sk-estimator sk-toggleable\"><input class=\"sk-toggleable__control sk-hidden--visually\" id=\"sk-estimator-id-132\" type=\"checkbox\" ><label for=\"sk-estimator-id-132\" class=\"sk-toggleable__label sk-toggleable__label-arrow\">SimpleImputer</label><div class=\"sk-toggleable__content\"><pre>SimpleImputer(fill_value=0, strategy=&#x27;constant&#x27;)</pre></div></div></div></div></div></div><div class=\"sk-parallel-item\"><div class=\"sk-item\"><div class=\"sk-label-container\"><div class=\"sk-label sk-toggleable\"><input class=\"sk-toggleable__control sk-hidden--visually\" id=\"sk-estimator-id-133\" type=\"checkbox\" ><label for=\"sk-estimator-id-133\" class=\"sk-toggleable__label sk-toggleable__label-arrow\">remainder</label><div class=\"sk-toggleable__content\"><pre></pre></div></div></div><div class=\"sk-serial\"><div class=\"sk-item\"><div class=\"sk-estimator sk-toggleable\"><input class=\"sk-toggleable__control sk-hidden--visually\" id=\"sk-estimator-id-134\" type=\"checkbox\" ><label for=\"sk-estimator-id-134\" class=\"sk-toggleable__label sk-toggleable__label-arrow\">InterpolationImputer</label><div class=\"sk-toggleable__content\"><pre>InterpolationImputer()</pre></div></div></div></div></div></div></div></div></div></div></div></div></div></div></div></div></div></div></div></div></div></div></div></div>"
      ],
      "text/plain": [
       "Pipeline(steps=[('dtypes_converter',\n",
       "                 ColumnTransformer(remainder='passthrough',\n",
       "                                   transformers=[('integers',\n",
       "                                                  RegexTransformer(find='-?\\\\d+',\n",
       "                                                                   target_dtype=<class 'float'>),\n",
       "                                                  ['age',\n",
       "                                                   'num_of_delayed_payment',\n",
       "                                                   'num_of_loan']),\n",
       "                                                 ('floats',\n",
       "                                                  RegexTransformer(find='-?[\\\\d\\\\.]+',\n",
       "                                                                   target_dtype=<class 'float'>),\n",
       "                                                  ['annual_income',\n",
       "                                                   'amount_invested_monthly',\n",
       "                                                   'changed_credit_limi...\n",
       "                                                                                                  ColumnTransformer(remainder=InterpolationImputer(),\n",
       "                                                                                                                    transformers=[('zero_values',\n",
       "                                                                                                                                   SimpleImputer(fill_value=0,\n",
       "                                                                                                                                                 strategy='constant'),\n",
       "                                                                                                                                   ['credit_history_age_in_years',\n",
       "                                                                                                                                    'credit_history_age_in_months'])],\n",
       "                                                                                                                    verbose_feature_names_out=False))])),\n",
       "                                                  <sklearn.compose._column_transformer.make_column_selector object at 0x000001A849ABDE10>)],\n",
       "                                   verbose_feature_names_out=False))])"
      ]
     },
     "execution_count": 18,
     "metadata": {},
     "output_type": "execute_result"
    }
   ],
   "source": [
    "pipe = Pipeline([\n",
    "    (\"dtypes_converter\", dtype_transformer),\n",
    "    (\"preprocessing\", processing_transformer)\n",
    "])\n",
    "\n",
    "pipe.set_output(transform=\"pandas\")"
   ]
  },
  {
   "cell_type": "markdown",
   "id": "47e0a2b0",
   "metadata": {},
   "source": [
    "---"
   ]
  },
  {
   "cell_type": "code",
   "execution_count": 21,
   "id": "cb4a98a8",
   "metadata": {},
   "outputs": [],
   "source": [
    "X_train_transformed = pipe.fit_transform(X_train)\n",
    "X_test_transformed = pipe.transform(X_test)"
   ]
  },
  {
   "cell_type": "code",
   "execution_count": 19,
   "id": "1367b2cc",
   "metadata": {},
   "outputs": [],
   "source": [
    "import joblib"
   ]
  },
  {
   "cell_type": "code",
   "execution_count": 22,
   "id": "09b3d04f",
   "metadata": {},
   "outputs": [
    {
     "data": {
      "text/plain": [
       "['../files/credit_score_pipeline.pickle']"
      ]
     },
     "execution_count": 22,
     "metadata": {},
     "output_type": "execute_result"
    }
   ],
   "source": [
    "joblib.dump(pipe, \"../files/credit_score_pipeline.pickle\")"
   ]
  },
  {
   "cell_type": "markdown",
   "id": "06ead826",
   "metadata": {},
   "source": [
    "---"
   ]
  },
  {
   "cell_type": "markdown",
   "id": "ae29cfd7",
   "metadata": {},
   "source": [
    "<div class=\"alert alert-info\">\n",
    "  <h1><center>Decision Tree Classifier</center></h1></div>"
   ]
  },
  {
   "cell_type": "markdown",
   "id": "90ede73d",
   "metadata": {},
   "source": [
    "### Model"
   ]
  },
  {
   "cell_type": "code",
   "execution_count": 18,
   "id": "b83d549e",
   "metadata": {},
   "outputs": [],
   "source": [
    "from sklearn.tree import DecisionTreeClassifier, plot_tree"
   ]
  },
  {
   "cell_type": "code",
   "execution_count": 19,
   "id": "fbf56d4b",
   "metadata": {},
   "outputs": [
    {
     "data": {
      "text/html": [
       "<style>#sk-container-id-8 {color: black;background-color: white;}#sk-container-id-8 pre{padding: 0;}#sk-container-id-8 div.sk-toggleable {background-color: white;}#sk-container-id-8 label.sk-toggleable__label {cursor: pointer;display: block;width: 100%;margin-bottom: 0;padding: 0.3em;box-sizing: border-box;text-align: center;}#sk-container-id-8 label.sk-toggleable__label-arrow:before {content: \"▸\";float: left;margin-right: 0.25em;color: #696969;}#sk-container-id-8 label.sk-toggleable__label-arrow:hover:before {color: black;}#sk-container-id-8 div.sk-estimator:hover label.sk-toggleable__label-arrow:before {color: black;}#sk-container-id-8 div.sk-toggleable__content {max-height: 0;max-width: 0;overflow: hidden;text-align: left;background-color: #f0f8ff;}#sk-container-id-8 div.sk-toggleable__content pre {margin: 0.2em;color: black;border-radius: 0.25em;background-color: #f0f8ff;}#sk-container-id-8 input.sk-toggleable__control:checked~div.sk-toggleable__content {max-height: 200px;max-width: 100%;overflow: auto;}#sk-container-id-8 input.sk-toggleable__control:checked~label.sk-toggleable__label-arrow:before {content: \"▾\";}#sk-container-id-8 div.sk-estimator input.sk-toggleable__control:checked~label.sk-toggleable__label {background-color: #d4ebff;}#sk-container-id-8 div.sk-label input.sk-toggleable__control:checked~label.sk-toggleable__label {background-color: #d4ebff;}#sk-container-id-8 input.sk-hidden--visually {border: 0;clip: rect(1px 1px 1px 1px);clip: rect(1px, 1px, 1px, 1px);height: 1px;margin: -1px;overflow: hidden;padding: 0;position: absolute;width: 1px;}#sk-container-id-8 div.sk-estimator {font-family: monospace;background-color: #f0f8ff;border: 1px dotted black;border-radius: 0.25em;box-sizing: border-box;margin-bottom: 0.5em;}#sk-container-id-8 div.sk-estimator:hover {background-color: #d4ebff;}#sk-container-id-8 div.sk-parallel-item::after {content: \"\";width: 100%;border-bottom: 1px solid gray;flex-grow: 1;}#sk-container-id-8 div.sk-label:hover label.sk-toggleable__label {background-color: #d4ebff;}#sk-container-id-8 div.sk-serial::before {content: \"\";position: absolute;border-left: 1px solid gray;box-sizing: border-box;top: 0;bottom: 0;left: 50%;z-index: 0;}#sk-container-id-8 div.sk-serial {display: flex;flex-direction: column;align-items: center;background-color: white;padding-right: 0.2em;padding-left: 0.2em;position: relative;}#sk-container-id-8 div.sk-item {position: relative;z-index: 1;}#sk-container-id-8 div.sk-parallel {display: flex;align-items: stretch;justify-content: center;background-color: white;position: relative;}#sk-container-id-8 div.sk-item::before, #sk-container-id-8 div.sk-parallel-item::before {content: \"\";position: absolute;border-left: 1px solid gray;box-sizing: border-box;top: 0;bottom: 0;left: 50%;z-index: -1;}#sk-container-id-8 div.sk-parallel-item {display: flex;flex-direction: column;z-index: 1;position: relative;background-color: white;}#sk-container-id-8 div.sk-parallel-item:first-child::after {align-self: flex-end;width: 50%;}#sk-container-id-8 div.sk-parallel-item:last-child::after {align-self: flex-start;width: 50%;}#sk-container-id-8 div.sk-parallel-item:only-child::after {width: 0;}#sk-container-id-8 div.sk-dashed-wrapped {border: 1px dashed gray;margin: 0 0.4em 0.5em 0.4em;box-sizing: border-box;padding-bottom: 0.4em;background-color: white;}#sk-container-id-8 div.sk-label label {font-family: monospace;font-weight: bold;display: inline-block;line-height: 1.2em;}#sk-container-id-8 div.sk-label-container {text-align: center;}#sk-container-id-8 div.sk-container {/* jupyter's `normalize.less` sets `[hidden] { display: none; }` but bootstrap.min.css set `[hidden] { display: none !important; }` so we also need the `!important` here to be able to override the default hidden behavior on the sphinx rendered scikit-learn.org. See: https://github.com/scikit-learn/scikit-learn/issues/21755 */display: inline-block !important;position: relative;}#sk-container-id-8 div.sk-text-repr-fallback {display: none;}</style><div id=\"sk-container-id-8\" class=\"sk-top-container\"><div class=\"sk-text-repr-fallback\"><pre>DecisionTreeClassifier(random_state=1)</pre><b>In a Jupyter environment, please rerun this cell to show the HTML representation or trust the notebook. <br />On GitHub, the HTML representation is unable to render, please try loading this page with nbviewer.org.</b></div><div class=\"sk-container\" hidden><div class=\"sk-item\"><div class=\"sk-estimator sk-toggleable\"><input class=\"sk-toggleable__control sk-hidden--visually\" id=\"sk-estimator-id-135\" type=\"checkbox\" checked><label for=\"sk-estimator-id-135\" class=\"sk-toggleable__label sk-toggleable__label-arrow\">DecisionTreeClassifier</label><div class=\"sk-toggleable__content\"><pre>DecisionTreeClassifier(random_state=1)</pre></div></div></div></div></div>"
      ],
      "text/plain": [
       "DecisionTreeClassifier(random_state=1)"
      ]
     },
     "execution_count": 19,
     "metadata": {},
     "output_type": "execute_result"
    }
   ],
   "source": [
    "classifier = DecisionTreeClassifier(random_state=1)\n",
    "classifier.fit(X_train_transformed, y_train)"
   ]
  },
  {
   "cell_type": "code",
   "execution_count": 20,
   "id": "097c1563",
   "metadata": {},
   "outputs": [
    {
     "data": {
      "text/plain": [
       "14063"
      ]
     },
     "execution_count": 20,
     "metadata": {},
     "output_type": "execute_result"
    }
   ],
   "source": [
    "classifier.tree_.n_leaves"
   ]
  },
  {
   "cell_type": "code",
   "execution_count": 21,
   "id": "e06971af",
   "metadata": {},
   "outputs": [
    {
     "data": {
      "text/plain": [
       "42"
      ]
     },
     "execution_count": 21,
     "metadata": {},
     "output_type": "execute_result"
    }
   ],
   "source": [
    "classifier.tree_.max_depth"
   ]
  },
  {
   "cell_type": "code",
   "execution_count": 26,
   "id": "986c108f",
   "metadata": {},
   "outputs": [
    {
     "data": {
      "text/plain": [
       "array(['Good', 'Poor', 'Standard'], dtype=object)"
      ]
     },
     "execution_count": 26,
     "metadata": {},
     "output_type": "execute_result"
    }
   ],
   "source": [
    "classifier.classes_"
   ]
  },
  {
   "cell_type": "markdown",
   "id": "0e424e9f",
   "metadata": {},
   "source": [
    "#### Plot decision tree:"
   ]
  },
  {
   "cell_type": "code",
   "execution_count": 25,
   "id": "15af2ab7",
   "metadata": {},
   "outputs": [
    {
     "data": {
      "image/png": "[encoded data removed]",
      "text/plain": [
       "<Figure size 3600x1800 with 1 Axes>"
      ]
     },
     "metadata": {},
     "output_type": "display_data"
    }
   ],
   "source": [
    "fig, ax = plt.subplots(figsize=(12, 6), dpi=300)\n",
    "plot_tree(classifier, max_depth=2, feature_names=X_train_transformed.columns, class_names=classifier.classes_, rounded=True, ax=ax)\n",
    "plt.show()"
   ]
  },
  {
   "cell_type": "code",
   "execution_count": 27,
   "id": "d2d4d33d",
   "metadata": {},
   "outputs": [
    {
     "data": {
      "text/plain": [
       "array(['Standard', 'Standard', 'Standard', ..., 'Standard', 'Good',\n",
       "       'Good'], dtype=object)"
      ]
     },
     "execution_count": 27,
     "metadata": {},
     "output_type": "execute_result"
    }
   ],
   "source": [
    "y_pred_train = classifier.predict(X_train_transformed)\n",
    "y_pred_test = classifier.predict(X_test_transformed)\n",
    "y_pred_train"
   ]
  },
  {
   "cell_type": "markdown",
   "id": "2edc2c9b",
   "metadata": {},
   "source": [
    "<div class=\"alert alert-info\">\n",
    "  <h1><center>Evaluation</center></h1></div>"
   ]
  },
  {
   "cell_type": "markdown",
   "id": "da59f3fa",
   "metadata": {},
   "source": [
    "## Confusion Matrix"
   ]
  },
  {
   "cell_type": "code",
   "execution_count": 28,
   "id": "4776decb",
   "metadata": {},
   "outputs": [],
   "source": [
    "from sklearn.metrics import confusion_matrix, ConfusionMatrixDisplay\n",
    "from functools import partial"
   ]
  },
  {
   "cell_type": "code",
   "execution_count": 29,
   "id": "53599976",
   "metadata": {},
   "outputs": [
    {
     "data": {
      "text/plain": [
       "array([[14134,     0,     0],\n",
       "       [    0, 23272,     0],\n",
       "       [    0,     0, 42594]], dtype=int64)"
      ]
     },
     "execution_count": 29,
     "metadata": {},
     "output_type": "execute_result"
    }
   ],
   "source": [
    "confusion_matrix(y_train, y_pred_train)"
   ]
  },
  {
   "cell_type": "code",
   "execution_count": 30,
   "id": "689c3e08",
   "metadata": {},
   "outputs": [
    {
     "data": {
      "image/png": "[encoded data removed]",
      "text/plain": [
       "<Figure size 600x600 with 2 Axes>"
      ]
     },
     "metadata": {},
     "output_type": "display_data"
    }
   ],
   "source": [
    "fig, ax = plt.subplots(figsize=(6, 6))\n",
    "ConfusionMatrixDisplay.from_predictions(y_train, y_pred_train, ax=ax)\n",
    "ax.grid(False)\n",
    "plt.show()"
   ]
  },
  {
   "cell_type": "code",
   "execution_count": 32,
   "id": "302dc25a",
   "metadata": {},
   "outputs": [],
   "source": [
    "def compare_train_test_confusion_matrix(model, X_train, y_train, X_test, y_test):\n",
    "    model.fit(X_train, y_train)\n",
    "    fig, (ax1, ax2) = plt.subplots(ncols=2, figsize=(11, 4))\n",
    "    cm = partial(ConfusionMatrixDisplay.from_estimator, estimator=model, colorbar=False, values_format=\",.3f\", normalize=\"pred\")\n",
    "    cm(X=X_train, y=y_train, ax=ax1)\n",
    "    cm(X=X_test, y=y_test, ax=ax2)\n",
    "    ax1.set_title(\"Train\")\n",
    "    ax2.set_title(\"Test\")\n",
    "    ax1.grid(False)\n",
    "    ax2.grid(False)\n",
    "    plt.suptitle(\"DecisionTreeClassifier performace on Seen and Unseed data\")\n",
    "    plt.show()"
   ]
  },
  {
   "cell_type": "code",
   "execution_count": 33,
   "id": "11648687",
   "metadata": {},
   "outputs": [
    {
     "data": {
      "image/png": "[encoded data removed]",
      "text/plain": [
       "<Figure size 1100x400 with 2 Axes>"
      ]
     },
     "metadata": {},
     "output_type": "display_data"
    }
   ],
   "source": [
    "compare_train_test_confusion_matrix(classifier, X_train_transformed, y_train, X_test_transformed, y_test)"
   ]
  },
  {
   "cell_type": "markdown",
   "id": "f03f088a",
   "metadata": {},
   "source": [
    "#### >> Restricted Decision Tree Classifier"
   ]
  },
  {
   "cell_type": "code",
   "execution_count": 34,
   "id": "475d4577",
   "metadata": {
    "scrolled": false
   },
   "outputs": [
    {
     "data": {
      "image/png": "[encoded data removed]",
      "text/plain": [
       "<Figure size 1100x400 with 2 Axes>"
      ]
     },
     "metadata": {},
     "output_type": "display_data"
    }
   ],
   "source": [
    "restricted_classifier = DecisionTreeClassifier(random_state=1, max_depth=6, min_samples_leaf=50)\n",
    "compare_train_test_confusion_matrix(restricted_classifier, X_train_transformed, y_train, X_test_transformed, y_test)"
   ]
  },
  {
   "cell_type": "code",
   "execution_count": 40,
   "id": "8a6357e1",
   "metadata": {},
   "outputs": [],
   "source": [
    "y_pred_train_restricted = restricted_classifier.predict(X_train_transformed)\n",
    "y_pred_test_restricted = restricted_classifier.predict(X_test_transformed)"
   ]
  },
  {
   "cell_type": "markdown",
   "id": "e01ff176",
   "metadata": {},
   "source": [
    "---"
   ]
  },
  {
   "cell_type": "code",
   "execution_count": 121,
   "id": "bb772cab",
   "metadata": {},
   "outputs": [],
   "source": [
    "from sklearn.metrics import accuracy_score, precision_score, recall_score, f1_score, roc_curve, roc_auc_score"
   ]
  },
  {
   "cell_type": "code",
   "execution_count": 45,
   "id": "0ebd01c1",
   "metadata": {},
   "outputs": [],
   "source": [
    "def compare_train_test_metrics(metric_func, y_train, pred_train, y_test, pred_test):\n",
    "    print(f\"Train score: {metric_func(y_train, pred_train):,.3f}\")\n",
    "    print(f\"Test score: {metric_func(y_test, pred_test):,.3f}\")"
   ]
  },
  {
   "cell_type": "markdown",
   "id": "12da0296",
   "metadata": {},
   "source": [
    "## Accuracy"
   ]
  },
  {
   "cell_type": "code",
   "execution_count": 35,
   "id": "94567e16",
   "metadata": {},
   "outputs": [],
   "source": [
    "from sklearn.metrics import accuracy_score"
   ]
  },
  {
   "cell_type": "code",
   "execution_count": 46,
   "id": "029d9fd5",
   "metadata": {},
   "outputs": [
    {
     "name": "stdout",
     "output_type": "stream",
     "text": [
      "Train score: 0.696\n",
      "Test score: 0.693\n"
     ]
    }
   ],
   "source": [
    "compare_train_test_metrics(accuracy_score, y_train, y_pred_train_restricted, y_test, y_pred_test_restricted)"
   ]
  },
  {
   "cell_type": "markdown",
   "id": "55dae5db",
   "metadata": {},
   "source": [
    "## Precision, Recall and F1-score"
   ]
  },
  {
   "cell_type": "code",
   "execution_count": 39,
   "id": "030d1372",
   "metadata": {},
   "outputs": [],
   "source": [
    "from sklearn.metrics import precision_score, recall_score, f1_score"
   ]
  },
  {
   "cell_type": "code",
   "execution_count": 145,
   "id": "166179fa",
   "metadata": {
    "scrolled": true
   },
   "outputs": [
    {
     "data": {
      "text/plain": [
       "0.6937176310320295"
      ]
     },
     "execution_count": 145,
     "metadata": {},
     "output_type": "execute_result"
    }
   ],
   "source": [
    "precision_score(y_true=y_test, y_pred=model_restricted.predict(X_test_transformed), average=\"weighted\")"
   ]
  },
  {
   "cell_type": "markdown",
   "id": "8aabbb6c",
   "metadata": {},
   "source": [
    "#### Precision"
   ]
  },
  {
   "cell_type": "code",
   "execution_count": 47,
   "id": "053552bf",
   "metadata": {},
   "outputs": [
    {
     "name": "stdout",
     "output_type": "stream",
     "text": [
      "Train score: 0.696\n",
      "Test score: 0.692\n"
     ]
    }
   ],
   "source": [
    "compare_train_test_metrics(partial(precision_score, average=\"weighted\"), y_train, y_pred_train_restricted, y_test, y_pred_test_restricted)"
   ]
  },
  {
   "cell_type": "markdown",
   "id": "198c484a",
   "metadata": {},
   "source": [
    "#### Recall"
   ]
  },
  {
   "cell_type": "code",
   "execution_count": 48,
   "id": "340be384",
   "metadata": {},
   "outputs": [
    {
     "name": "stdout",
     "output_type": "stream",
     "text": [
      "Train score: 0.696\n",
      "Test score: 0.693\n"
     ]
    }
   ],
   "source": [
    "compare_train_test_metrics(partial(recall_score, average=\"weighted\"), y_train, y_pred_train_restricted, y_test, y_pred_test_restricted)"
   ]
  },
  {
   "cell_type": "markdown",
   "id": "5ac73844",
   "metadata": {},
   "source": [
    "#### F1-score"
   ]
  },
  {
   "cell_type": "code",
   "execution_count": 49,
   "id": "c078e97a",
   "metadata": {},
   "outputs": [
    {
     "name": "stdout",
     "output_type": "stream",
     "text": [
      "Train score: 0.694\n",
      "Test score: 0.692\n"
     ]
    }
   ],
   "source": [
    "compare_train_test_metrics(partial(f1_score, average=\"weighted\"), y_train, y_pred_train_restricted, y_test, y_pred_test_restricted)"
   ]
  },
  {
   "cell_type": "markdown",
   "id": "befe37ea",
   "metadata": {},
   "source": [
    "## Classification report"
   ]
  },
  {
   "cell_type": "code",
   "execution_count": 51,
   "id": "94a98bb7",
   "metadata": {},
   "outputs": [
    {
     "name": "stdout",
     "output_type": "stream",
     "text": [
      "----------------------< Train >----------------------\n",
      "              precision    recall  f1-score   support\n",
      "\n",
      "        Good       0.58      0.55      0.56     14134\n",
      "        Poor       0.74      0.63      0.68     23272\n",
      "    Standard       0.71      0.78      0.75     42594\n",
      "\n",
      "    accuracy                           0.70     80000\n",
      "   macro avg       0.68      0.65      0.66     80000\n",
      "weighted avg       0.70      0.70      0.69     80000\n",
      "\n",
      "-----------------------< Test >----------------------\n",
      "              precision    recall  f1-score   support\n",
      "\n",
      "        Good       0.59      0.56      0.58      3694\n",
      "        Poor       0.72      0.65      0.68      5726\n",
      "    Standard       0.71      0.77      0.74     10580\n",
      "\n",
      "    accuracy                           0.69     20000\n",
      "   macro avg       0.67      0.66      0.66     20000\n",
      "weighted avg       0.69      0.69      0.69     20000\n",
      "\n"
     ]
    }
   ],
   "source": [
    "from sklearn.metrics import classification_report\n",
    "\n",
    "print(f\"< Train >\".center(53, \"-\"))\n",
    "print(classification_report(y_train, y_pred_train_restricted))\n",
    "print(f\"< Test >\".center(53, \"-\"))\n",
    "print(classification_report(y_test, y_pred_test_restricted))"
   ]
  },
  {
   "cell_type": "markdown",
   "id": "6c7b0696",
   "metadata": {},
   "source": [
    "## Precision-Recall and ROC plot"
   ]
  },
  {
   "cell_type": "markdown",
   "id": "e1bba93a",
   "metadata": {},
   "source": [
    "#### Binary model"
   ]
  },
  {
   "cell_type": "code",
   "execution_count": 55,
   "id": "0b9b01d7",
   "metadata": {},
   "outputs": [],
   "source": [
    "binary_y_train = (y_train == \"Good\").astype(int)\n",
    "binary_y_test = (y_test == \"Good\").astype(int)"
   ]
  },
  {
   "cell_type": "code",
   "execution_count": 62,
   "id": "085e7aa7",
   "metadata": {},
   "outputs": [
    {
     "data": {
      "text/html": [
       "<style>#sk-container-id-11 {color: black;background-color: white;}#sk-container-id-11 pre{padding: 0;}#sk-container-id-11 div.sk-toggleable {background-color: white;}#sk-container-id-11 label.sk-toggleable__label {cursor: pointer;display: block;width: 100%;margin-bottom: 0;padding: 0.3em;box-sizing: border-box;text-align: center;}#sk-container-id-11 label.sk-toggleable__label-arrow:before {content: \"▸\";float: left;margin-right: 0.25em;color: #696969;}#sk-container-id-11 label.sk-toggleable__label-arrow:hover:before {color: black;}#sk-container-id-11 div.sk-estimator:hover label.sk-toggleable__label-arrow:before {color: black;}#sk-container-id-11 div.sk-toggleable__content {max-height: 0;max-width: 0;overflow: hidden;text-align: left;background-color: #f0f8ff;}#sk-container-id-11 div.sk-toggleable__content pre {margin: 0.2em;color: black;border-radius: 0.25em;background-color: #f0f8ff;}#sk-container-id-11 input.sk-toggleable__control:checked~div.sk-toggleable__content {max-height: 200px;max-width: 100%;overflow: auto;}#sk-container-id-11 input.sk-toggleable__control:checked~label.sk-toggleable__label-arrow:before {content: \"▾\";}#sk-container-id-11 div.sk-estimator input.sk-toggleable__control:checked~label.sk-toggleable__label {background-color: #d4ebff;}#sk-container-id-11 div.sk-label input.sk-toggleable__control:checked~label.sk-toggleable__label {background-color: #d4ebff;}#sk-container-id-11 input.sk-hidden--visually {border: 0;clip: rect(1px 1px 1px 1px);clip: rect(1px, 1px, 1px, 1px);height: 1px;margin: -1px;overflow: hidden;padding: 0;position: absolute;width: 1px;}#sk-container-id-11 div.sk-estimator {font-family: monospace;background-color: #f0f8ff;border: 1px dotted black;border-radius: 0.25em;box-sizing: border-box;margin-bottom: 0.5em;}#sk-container-id-11 div.sk-estimator:hover {background-color: #d4ebff;}#sk-container-id-11 div.sk-parallel-item::after {content: \"\";width: 100%;border-bottom: 1px solid gray;flex-grow: 1;}#sk-container-id-11 div.sk-label:hover label.sk-toggleable__label {background-color: #d4ebff;}#sk-container-id-11 div.sk-serial::before {content: \"\";position: absolute;border-left: 1px solid gray;box-sizing: border-box;top: 0;bottom: 0;left: 50%;z-index: 0;}#sk-container-id-11 div.sk-serial {display: flex;flex-direction: column;align-items: center;background-color: white;padding-right: 0.2em;padding-left: 0.2em;position: relative;}#sk-container-id-11 div.sk-item {position: relative;z-index: 1;}#sk-container-id-11 div.sk-parallel {display: flex;align-items: stretch;justify-content: center;background-color: white;position: relative;}#sk-container-id-11 div.sk-item::before, #sk-container-id-11 div.sk-parallel-item::before {content: \"\";position: absolute;border-left: 1px solid gray;box-sizing: border-box;top: 0;bottom: 0;left: 50%;z-index: -1;}#sk-container-id-11 div.sk-parallel-item {display: flex;flex-direction: column;z-index: 1;position: relative;background-color: white;}#sk-container-id-11 div.sk-parallel-item:first-child::after {align-self: flex-end;width: 50%;}#sk-container-id-11 div.sk-parallel-item:last-child::after {align-self: flex-start;width: 50%;}#sk-container-id-11 div.sk-parallel-item:only-child::after {width: 0;}#sk-container-id-11 div.sk-dashed-wrapped {border: 1px dashed gray;margin: 0 0.4em 0.5em 0.4em;box-sizing: border-box;padding-bottom: 0.4em;background-color: white;}#sk-container-id-11 div.sk-label label {font-family: monospace;font-weight: bold;display: inline-block;line-height: 1.2em;}#sk-container-id-11 div.sk-label-container {text-align: center;}#sk-container-id-11 div.sk-container {/* jupyter's `normalize.less` sets `[hidden] { display: none; }` but bootstrap.min.css set `[hidden] { display: none !important; }` so we also need the `!important` here to be able to override the default hidden behavior on the sphinx rendered scikit-learn.org. See: https://github.com/scikit-learn/scikit-learn/issues/21755 */display: inline-block !important;position: relative;}#sk-container-id-11 div.sk-text-repr-fallback {display: none;}</style><div id=\"sk-container-id-11\" class=\"sk-top-container\"><div class=\"sk-text-repr-fallback\"><pre>DecisionTreeClassifier(max_depth=7, min_samples_leaf=50)</pre><b>In a Jupyter environment, please rerun this cell to show the HTML representation or trust the notebook. <br />On GitHub, the HTML representation is unable to render, please try loading this page with nbviewer.org.</b></div><div class=\"sk-container\" hidden><div class=\"sk-item\"><div class=\"sk-estimator sk-toggleable\"><input class=\"sk-toggleable__control sk-hidden--visually\" id=\"sk-estimator-id-138\" type=\"checkbox\" checked><label for=\"sk-estimator-id-138\" class=\"sk-toggleable__label sk-toggleable__label-arrow\">DecisionTreeClassifier</label><div class=\"sk-toggleable__content\"><pre>DecisionTreeClassifier(max_depth=7, min_samples_leaf=50)</pre></div></div></div></div></div>"
      ],
      "text/plain": [
       "DecisionTreeClassifier(max_depth=7, min_samples_leaf=50)"
      ]
     },
     "execution_count": 62,
     "metadata": {},
     "output_type": "execute_result"
    }
   ],
   "source": [
    "binary_classifier = DecisionTreeClassifier(max_depth=7, min_samples_leaf=50)\n",
    "binary_classifier.fit(X_train_transformed, binary_y_train)"
   ]
  },
  {
   "cell_type": "code",
   "execution_count": 86,
   "id": "a1d423f3",
   "metadata": {},
   "outputs": [],
   "source": [
    "binary_pred_train = binary_classifier.predict(X_train_transformed)\n",
    "binary_pred_test = binary_classifier.predict(X_test_transformed)\n",
    "\n",
    "binary_prob_train = binary_classifier.predict_proba(X_train_transformed)[:, 1]\n",
    "binary_prob_test = binary_classifier.predict_proba(X_test_transformed)[:, 1]"
   ]
  },
  {
   "cell_type": "code",
   "execution_count": null,
   "id": "90418232",
   "metadata": {},
   "outputs": [],
   "source": []
  },
  {
   "cell_type": "code",
   "execution_count": 64,
   "id": "411a4267",
   "metadata": {},
   "outputs": [
    {
     "name": "stdout",
     "output_type": "stream",
     "text": [
      "----------------------< Train >----------------------\n",
      "              precision    recall  f1-score   support\n",
      "\n",
      "           0       0.90      0.93      0.92     65866\n",
      "           1       0.62      0.52      0.57     14134\n",
      "\n",
      "    accuracy                           0.86     80000\n",
      "   macro avg       0.76      0.73      0.74     80000\n",
      "weighted avg       0.85      0.86      0.85     80000\n",
      "\n",
      "-----------------------< Test >----------------------\n",
      "              precision    recall  f1-score   support\n",
      "\n",
      "           0       0.89      0.92      0.91     16306\n",
      "           1       0.60      0.52      0.55      3694\n",
      "\n",
      "    accuracy                           0.85     20000\n",
      "   macro avg       0.75      0.72      0.73     20000\n",
      "weighted avg       0.84      0.85      0.84     20000\n",
      "\n"
     ]
    }
   ],
   "source": [
    "print(f\"< Train >\".center(53, \"-\"))\n",
    "print(classification_report(binary_y_train, binary_pred_train))\n",
    "print(f\"< Test >\".center(53, \"-\"))\n",
    "print(classification_report(binary_y_test, binary_pred_test))"
   ]
  },
  {
   "cell_type": "markdown",
   "id": "708a26eb",
   "metadata": {},
   "source": [
    "#### Precision-Recall"
   ]
  },
  {
   "cell_type": "code",
   "execution_count": 72,
   "id": "a60d7079",
   "metadata": {},
   "outputs": [],
   "source": [
    "from sklearn.metrics import precision_recall_curve, PrecisionRecallDisplay"
   ]
  },
  {
   "cell_type": "code",
   "execution_count": 95,
   "id": "36bbd474",
   "metadata": {},
   "outputs": [
    {
     "data": {
      "image/png": "[encoded data removed]",
      "text/plain": [
       "<Figure size 900x900 with 1 Axes>"
      ]
     },
     "metadata": {},
     "output_type": "display_data"
    }
   ],
   "source": [
    "train_precision, train_recall, _ = precision_recall_curve(binary_y_train, binary_prob_train)\n",
    "test_precision, test_recall, _ = precision_recall_curve(binary_y_test, binary_prob_test)\n",
    "\n",
    "fig, ax = plt.subplots(figsize=(9, 9))\n",
    "train_pr = PrecisionRecallDisplay(train_precision, train_recall, estimator_name=\"Train\")\n",
    "test_pr = PrecisionRecallDisplay(test_precision, test_recall, estimator_name=\"Test\")\n",
    "train_pr.plot(ax=ax)\n",
    "test_pr.plot(ax=ax)\n",
    "ax.grid(True)\n",
    "ax.set(xlim=[0, 1], ylim=[0, 1])\n",
    "plt.show()"
   ]
  },
  {
   "cell_type": "markdown",
   "id": "3c4a86df",
   "metadata": {},
   "source": [
    "#### ROC"
   ]
  },
  {
   "cell_type": "code",
   "execution_count": 82,
   "id": "adbcdb9f",
   "metadata": {},
   "outputs": [],
   "source": [
    "from sklearn.metrics import roc_curve, RocCurveDisplay"
   ]
  },
  {
   "cell_type": "code",
   "execution_count": 94,
   "id": "f55f4f77",
   "metadata": {},
   "outputs": [
    {
     "data": {
      "image/png": "[encoded data removed]",
      "text/plain": [
       "<Figure size 900x900 with 1 Axes>"
      ]
     },
     "metadata": {},
     "output_type": "display_data"
    }
   ],
   "source": [
    "train_fpr, train_tpr, _ = roc_curve(binary_y_train, binary_prob_train)\n",
    "test_fpr, test_tpr, _ = roc_curve(binary_y_test, binary_prob_test)\n",
    "\n",
    "fig, ax = plt.subplots(figsize=(9, 9))\n",
    "train_roc = RocCurveDisplay(fpr=train_fpr, tpr=train_tpr, estimator_name=\"Train\")\n",
    "test_roc = RocCurveDisplay(fpr=test_fpr, tpr=test_tpr, estimator_name=\"Test\")\n",
    "train_roc.plot(ax=ax)\n",
    "test_roc.plot(ax=ax)\n",
    "ax.grid(True)\n",
    "ax.set(xlim=[0, 1], ylim=[0, 1])\n",
    "plt.show()"
   ]
  },
  {
   "cell_type": "markdown",
   "id": "8faf0703",
   "metadata": {},
   "source": [
    "## Gain Plot"
   ]
  },
  {
   "cell_type": "code",
   "execution_count": 101,
   "id": "b1301f85",
   "metadata": {},
   "outputs": [],
   "source": [
    "def create_dataset_for_GainPlot(fact: pd.Series, prob: np.ndarray) -> pd.DataFrame:\n",
    "    df = pd.DataFrame({\"fact\": fact, \"prob\": prob}, index=fact.index)\n",
    "    df = df.sort_values(\"prob\", ascending=False)\n",
    "    df[\"recall\"] = df[\"fact\"].cumsum() / df[\"fact\"].sum()\n",
    "    df[\"coverage\"] = np.arange(1, 1+ len(df)) / len(df)\n",
    "    return df"
   ]
  },
  {
   "cell_type": "code",
   "execution_count": 104,
   "id": "65c09101",
   "metadata": {},
   "outputs": [
    {
     "data": {
      "text/html": [
       "<div>\n",
       "<style scoped>\n",
       "    .dataframe tbody tr th:only-of-type {\n",
       "        vertical-align: middle;\n",
       "    }\n",
       "\n",
       "    .dataframe tbody tr th {\n",
       "        vertical-align: top;\n",
       "    }\n",
       "\n",
       "    .dataframe thead th {\n",
       "        text-align: right;\n",
       "    }\n",
       "</style>\n",
       "<table border=\"1\" class=\"dataframe\">\n",
       "  <thead>\n",
       "    <tr style=\"text-align: right;\">\n",
       "      <th></th>\n",
       "      <th></th>\n",
       "      <th>fact</th>\n",
       "      <th>prob</th>\n",
       "      <th>recall</th>\n",
       "      <th>coverage</th>\n",
       "    </tr>\n",
       "    <tr>\n",
       "      <th>customer_id</th>\n",
       "      <th>month</th>\n",
       "      <th></th>\n",
       "      <th></th>\n",
       "      <th></th>\n",
       "      <th></th>\n",
       "    </tr>\n",
       "  </thead>\n",
       "  <tbody>\n",
       "    <tr>\n",
       "      <th rowspan=\"2\" valign=\"top\">CUS_0x71c1</th>\n",
       "      <th>1</th>\n",
       "      <td>0</td>\n",
       "      <td>0.945205</td>\n",
       "      <td>0.000000</td>\n",
       "      <td>0.00005</td>\n",
       "    </tr>\n",
       "    <tr>\n",
       "      <th>4</th>\n",
       "      <td>1</td>\n",
       "      <td>0.945205</td>\n",
       "      <td>0.000271</td>\n",
       "      <td>0.00010</td>\n",
       "    </tr>\n",
       "    <tr>\n",
       "      <th rowspan=\"2\" valign=\"top\">CUS_0x4e30</th>\n",
       "      <th>3</th>\n",
       "      <td>1</td>\n",
       "      <td>0.945205</td>\n",
       "      <td>0.000541</td>\n",
       "      <td>0.00015</td>\n",
       "    </tr>\n",
       "    <tr>\n",
       "      <th>7</th>\n",
       "      <td>1</td>\n",
       "      <td>0.945205</td>\n",
       "      <td>0.000812</td>\n",
       "      <td>0.00020</td>\n",
       "    </tr>\n",
       "    <tr>\n",
       "      <th>CUS_0x40fa</th>\n",
       "      <th>2</th>\n",
       "      <td>1</td>\n",
       "      <td>0.945205</td>\n",
       "      <td>0.001083</td>\n",
       "      <td>0.00025</td>\n",
       "    </tr>\n",
       "    <tr>\n",
       "      <th>...</th>\n",
       "      <th>...</th>\n",
       "      <td>...</td>\n",
       "      <td>...</td>\n",
       "      <td>...</td>\n",
       "      <td>...</td>\n",
       "    </tr>\n",
       "    <tr>\n",
       "      <th rowspan=\"2\" valign=\"top\">CUS_0x9dc3</th>\n",
       "      <th>4</th>\n",
       "      <td>0</td>\n",
       "      <td>0.003690</td>\n",
       "      <td>1.000000</td>\n",
       "      <td>0.99980</td>\n",
       "    </tr>\n",
       "    <tr>\n",
       "      <th>3</th>\n",
       "      <td>0</td>\n",
       "      <td>0.003690</td>\n",
       "      <td>1.000000</td>\n",
       "      <td>0.99985</td>\n",
       "    </tr>\n",
       "    <tr>\n",
       "      <th rowspan=\"2\" valign=\"top\">CUS_0x9d04</th>\n",
       "      <th>6</th>\n",
       "      <td>0</td>\n",
       "      <td>0.003690</td>\n",
       "      <td>1.000000</td>\n",
       "      <td>0.99990</td>\n",
       "    </tr>\n",
       "    <tr>\n",
       "      <th>5</th>\n",
       "      <td>0</td>\n",
       "      <td>0.003690</td>\n",
       "      <td>1.000000</td>\n",
       "      <td>0.99995</td>\n",
       "    </tr>\n",
       "    <tr>\n",
       "      <th>CUS_0x9a2c</th>\n",
       "      <th>7</th>\n",
       "      <td>0</td>\n",
       "      <td>0.003690</td>\n",
       "      <td>1.000000</td>\n",
       "      <td>1.00000</td>\n",
       "    </tr>\n",
       "  </tbody>\n",
       "</table>\n",
       "<p>20000 rows × 4 columns</p>\n",
       "</div>"
      ],
      "text/plain": [
       "                   fact      prob    recall  coverage\n",
       "customer_id month                                    \n",
       "CUS_0x71c1  1         0  0.945205  0.000000   0.00005\n",
       "            4         1  0.945205  0.000271   0.00010\n",
       "CUS_0x4e30  3         1  0.945205  0.000541   0.00015\n",
       "            7         1  0.945205  0.000812   0.00020\n",
       "CUS_0x40fa  2         1  0.945205  0.001083   0.00025\n",
       "...                 ...       ...       ...       ...\n",
       "CUS_0x9dc3  4         0  0.003690  1.000000   0.99980\n",
       "            3         0  0.003690  1.000000   0.99985\n",
       "CUS_0x9d04  6         0  0.003690  1.000000   0.99990\n",
       "            5         0  0.003690  1.000000   0.99995\n",
       "CUS_0x9a2c  7         0  0.003690  1.000000   1.00000\n",
       "\n",
       "[20000 rows x 4 columns]"
      ]
     },
     "execution_count": 104,
     "metadata": {},
     "output_type": "execute_result"
    }
   ],
   "source": [
    "train_results = create_dataset_for_GainPlot(fact=binary_y_train, prob=binary_prob_train)\n",
    "test_results = create_dataset_for_GainPlot(fact=binary_y_test, prob=binary_prob_test)\n",
    "test_results"
   ]
  },
  {
   "cell_type": "code",
   "execution_count": 107,
   "id": "c72a9f41",
   "metadata": {},
   "outputs": [
    {
     "data": {
      "image/png": "[encoded data removed]",
      "text/plain": [
       "<Figure size 900x900 with 1 Axes>"
      ]
     },
     "metadata": {},
     "output_type": "display_data"
    }
   ],
   "source": [
    "fig, ax = plt.subplots(figsize=(9, 9))\n",
    "_ = ax.plot(train_results[\"coverage\"], train_results[\"recall\"], label=\"train\")\n",
    "_ = ax.plot(test_results[\"coverage\"], test_results[\"recall\"], label=\"test\")\n",
    "ax.grid(True)\n",
    "ax.legend(loc=\"upper left\")\n",
    "ax.set(xlim=[0, 1], ylim=[0, 1], title=\"Binary Decision Tree Classifier Gain Plot\", xlabel=\"% of population\", ylabel=\"recall\")\n",
    "plt.show()"
   ]
  },
  {
   "cell_type": "markdown",
   "id": "e0ee3f31",
   "metadata": {},
   "source": [
    "---"
   ]
  },
  {
   "cell_type": "markdown",
   "id": "ec7dc7c5",
   "metadata": {},
   "source": [
    "<div class=\"alert alert-info\">\n",
    "  <h1><center>Decision Tree Regressor</center></h1></div>"
   ]
  },
  {
   "cell_type": "code",
   "execution_count": 131,
   "id": "a4b4c25d",
   "metadata": {},
   "outputs": [],
   "source": [
    "reg_X_train = X_train_transformed.drop(columns=[\"monthly_balance\"])\n",
    "reg_y_train = X_train_transformed['monthly_balance']\n",
    "reg_X_test  = X_test_transformed.drop(columns=[\"monthly_balance\"])\n",
    "reg_y_test  = X_test_transformed['monthly_balance']"
   ]
  },
  {
   "cell_type": "code",
   "execution_count": 139,
   "id": "2b24e870",
   "metadata": {},
   "outputs": [],
   "source": [
    "from sklearn.tree import DecisionTreeRegressor\n",
    "from sklearn.metrics import mean_squared_error, mean_absolute_percentage_error"
   ]
  },
  {
   "cell_type": "code",
   "execution_count": 133,
   "id": "bd8b0b57",
   "metadata": {},
   "outputs": [
    {
     "data": {
      "text/html": [
       "<style>#sk-container-id-21 {color: black;background-color: white;}#sk-container-id-21 pre{padding: 0;}#sk-container-id-21 div.sk-toggleable {background-color: white;}#sk-container-id-21 label.sk-toggleable__label {cursor: pointer;display: block;width: 100%;margin-bottom: 0;padding: 0.3em;box-sizing: border-box;text-align: center;}#sk-container-id-21 label.sk-toggleable__label-arrow:before {content: \"▸\";float: left;margin-right: 0.25em;color: #696969;}#sk-container-id-21 label.sk-toggleable__label-arrow:hover:before {color: black;}#sk-container-id-21 div.sk-estimator:hover label.sk-toggleable__label-arrow:before {color: black;}#sk-container-id-21 div.sk-toggleable__content {max-height: 0;max-width: 0;overflow: hidden;text-align: left;background-color: #f0f8ff;}#sk-container-id-21 div.sk-toggleable__content pre {margin: 0.2em;color: black;border-radius: 0.25em;background-color: #f0f8ff;}#sk-container-id-21 input.sk-toggleable__control:checked~div.sk-toggleable__content {max-height: 200px;max-width: 100%;overflow: auto;}#sk-container-id-21 input.sk-toggleable__control:checked~label.sk-toggleable__label-arrow:before {content: \"▾\";}#sk-container-id-21 div.sk-estimator input.sk-toggleable__control:checked~label.sk-toggleable__label {background-color: #d4ebff;}#sk-container-id-21 div.sk-label input.sk-toggleable__control:checked~label.sk-toggleable__label {background-color: #d4ebff;}#sk-container-id-21 input.sk-hidden--visually {border: 0;clip: rect(1px 1px 1px 1px);clip: rect(1px, 1px, 1px, 1px);height: 1px;margin: -1px;overflow: hidden;padding: 0;position: absolute;width: 1px;}#sk-container-id-21 div.sk-estimator {font-family: monospace;background-color: #f0f8ff;border: 1px dotted black;border-radius: 0.25em;box-sizing: border-box;margin-bottom: 0.5em;}#sk-container-id-21 div.sk-estimator:hover {background-color: #d4ebff;}#sk-container-id-21 div.sk-parallel-item::after {content: \"\";width: 100%;border-bottom: 1px solid gray;flex-grow: 1;}#sk-container-id-21 div.sk-label:hover label.sk-toggleable__label {background-color: #d4ebff;}#sk-container-id-21 div.sk-serial::before {content: \"\";position: absolute;border-left: 1px solid gray;box-sizing: border-box;top: 0;bottom: 0;left: 50%;z-index: 0;}#sk-container-id-21 div.sk-serial {display: flex;flex-direction: column;align-items: center;background-color: white;padding-right: 0.2em;padding-left: 0.2em;position: relative;}#sk-container-id-21 div.sk-item {position: relative;z-index: 1;}#sk-container-id-21 div.sk-parallel {display: flex;align-items: stretch;justify-content: center;background-color: white;position: relative;}#sk-container-id-21 div.sk-item::before, #sk-container-id-21 div.sk-parallel-item::before {content: \"\";position: absolute;border-left: 1px solid gray;box-sizing: border-box;top: 0;bottom: 0;left: 50%;z-index: -1;}#sk-container-id-21 div.sk-parallel-item {display: flex;flex-direction: column;z-index: 1;position: relative;background-color: white;}#sk-container-id-21 div.sk-parallel-item:first-child::after {align-self: flex-end;width: 50%;}#sk-container-id-21 div.sk-parallel-item:last-child::after {align-self: flex-start;width: 50%;}#sk-container-id-21 div.sk-parallel-item:only-child::after {width: 0;}#sk-container-id-21 div.sk-dashed-wrapped {border: 1px dashed gray;margin: 0 0.4em 0.5em 0.4em;box-sizing: border-box;padding-bottom: 0.4em;background-color: white;}#sk-container-id-21 div.sk-label label {font-family: monospace;font-weight: bold;display: inline-block;line-height: 1.2em;}#sk-container-id-21 div.sk-label-container {text-align: center;}#sk-container-id-21 div.sk-container {/* jupyter's `normalize.less` sets `[hidden] { display: none; }` but bootstrap.min.css set `[hidden] { display: none !important; }` so we also need the `!important` here to be able to override the default hidden behavior on the sphinx rendered scikit-learn.org. See: https://github.com/scikit-learn/scikit-learn/issues/21755 */display: inline-block !important;position: relative;}#sk-container-id-21 div.sk-text-repr-fallback {display: none;}</style><div id=\"sk-container-id-21\" class=\"sk-top-container\"><div class=\"sk-text-repr-fallback\"><pre>DecisionTreeRegressor(max_depth=10, min_samples_leaf=50)</pre><b>In a Jupyter environment, please rerun this cell to show the HTML representation or trust the notebook. <br />On GitHub, the HTML representation is unable to render, please try loading this page with nbviewer.org.</b></div><div class=\"sk-container\" hidden><div class=\"sk-item\"><div class=\"sk-estimator sk-toggleable\"><input class=\"sk-toggleable__control sk-hidden--visually\" id=\"sk-estimator-id-148\" type=\"checkbox\" checked><label for=\"sk-estimator-id-148\" class=\"sk-toggleable__label sk-toggleable__label-arrow\">DecisionTreeRegressor</label><div class=\"sk-toggleable__content\"><pre>DecisionTreeRegressor(max_depth=10, min_samples_leaf=50)</pre></div></div></div></div></div>"
      ],
      "text/plain": [
       "DecisionTreeRegressor(max_depth=10, min_samples_leaf=50)"
      ]
     },
     "execution_count": 133,
     "metadata": {},
     "output_type": "execute_result"
    }
   ],
   "source": [
    "reg_model = DecisionTreeRegressor(max_depth=10, min_samples_leaf=50)\n",
    "reg_model.fit(reg_X_train, reg_y_train)"
   ]
  },
  {
   "cell_type": "code",
   "execution_count": null,
   "id": "dce92aa5",
   "metadata": {},
   "outputs": [],
   "source": [
    "reg_model.score()"
   ]
  },
  {
   "cell_type": "code",
   "execution_count": 137,
   "id": "7012beb9",
   "metadata": {
    "scrolled": true
   },
   "outputs": [
    {
     "data": {
      "text/plain": [
       "1896.300520937107"
      ]
     },
     "execution_count": 137,
     "metadata": {},
     "output_type": "execute_result"
    }
   ],
   "source": [
    "np.sqrt(mean_squared_error(reg_y_train, reg_model.predict(reg_X_train)))"
   ]
  },
  {
   "cell_type": "code",
   "execution_count": 138,
   "id": "ff7002c2",
   "metadata": {},
   "outputs": [
    {
     "data": {
      "text/plain": [
       "2387.422849423302"
      ]
     },
     "execution_count": 138,
     "metadata": {},
     "output_type": "execute_result"
    }
   ],
   "source": [
    "np.sqrt(mean_squared_error(reg_y_test, reg_model.predict(reg_X_test)))"
   ]
  },
  {
   "cell_type": "code",
   "execution_count": 141,
   "id": "d248f6d2",
   "metadata": {
    "scrolled": true
   },
   "outputs": [
    {
     "data": {
      "text/plain": [
       "0.046541761478555314"
      ]
     },
     "execution_count": 141,
     "metadata": {},
     "output_type": "execute_result"
    }
   ],
   "source": [
    "mean_absolute_percentage_error(reg_y_train, reg_model.predict(reg_X_train))"
   ]
  },
  {
   "cell_type": "code",
   "execution_count": 142,
   "id": "31bb03d1",
   "metadata": {
    "scrolled": true
   },
   "outputs": [
    {
     "data": {
      "text/plain": [
       "0.05651095104532398"
      ]
     },
     "execution_count": 142,
     "metadata": {},
     "output_type": "execute_result"
    }
   ],
   "source": [
    "mean_absolute_percentage_error(reg_y_test, reg_model.predict(reg_X_test))"
   ]
  }
 ],
 "metadata": {
  "kernelspec": {
   "display_name": "Python 3 (ipykernel)",
   "language": "python",
   "name": "python3"
  },
  "language_info": {
   "codemirror_mode": {
    "name": "ipython",
    "version": 3
   },
   "file_extension": ".py",
   "mimetype": "text/x-python",
   "name": "python",
   "nbconvert_exporter": "python",
   "pygments_lexer": "ipython3",
   "version": "3.10.10"
  }
 },
 "nbformat": 4,
 "nbformat_minor": 5
}
