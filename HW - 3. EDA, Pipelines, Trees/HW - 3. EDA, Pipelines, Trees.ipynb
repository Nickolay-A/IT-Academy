{
 "cells": [
  {
   "cell_type": "code",
   "execution_count": 610,
   "id": "e9b09dfc",
   "metadata": {},
   "outputs": [],
   "source": [
    "import sys\n",
    "import re\n",
    "import numbers\n",
    "import os\n",
    "import datetime as dt\n",
    "import numpy as np\n",
    "import pandas as pd\n",
    "import matplotlib.pyplot as plt\n",
    "import seaborn as sns\n",
    "\n",
    "from typing import Tuple, List, Set, Dict, Iterable, Callable, Optional, Union\n",
    "\n",
    "from sklearn.model_selection import train_test_split\n",
    "from sklearn.impute import SimpleImputer, KNNImputer\n",
    "from sklearn.preprocessing import OneHotEncoder, OrdinalEncoder\n",
    "from sklearn.compose import ColumnTransformer, make_column_selector\n",
    "from sklearn.pipeline import Pipeline\n",
    "\n",
    "sns.set_style(\"darkgrid\")"
   ]
  },
  {
   "cell_type": "code",
   "execution_count": 611,
   "id": "22e0fb0d",
   "metadata": {},
   "outputs": [],
   "source": [
    "np.random.seed(0)"
   ]
  },
  {
   "cell_type": "code",
   "execution_count": 612,
   "id": "c2632362",
   "metadata": {},
   "outputs": [],
   "source": [
    "sys.path.insert(0, \"../../\")  # Добавляем родительскую директорию в `path`, чтобы python смог найти наши модули"
   ]
  },
  {
   "cell_type": "code",
   "execution_count": 613,
   "id": "2cc73ae4",
   "metadata": {},
   "outputs": [],
   "source": [
    "# Проверим, что python теперь их видит:\n",
    "from modules.preprocessing import MultilabelEncoder, RegexTransformer\n",
    "from modules.base          import CustomTransformer\n",
    "from modules.compose       import GroupByTransformer\n",
    "from modules.outliers      import RangeOutlierDetector, DeltaFromMedianOutlierDetector\n",
    "from modules.impute        import InterpolationImputer"
   ]
  },
  {
   "attachments": {},
   "cell_type": "markdown",
   "id": "a0180fad",
   "metadata": {},
   "source": [
    "<div class=\"alert alert-info\">\n",
    "  <h1><center>Data (2 балла)</center></h1></div>"
   ]
  },
  {
   "cell_type": "code",
   "execution_count": 614,
   "id": "f57e4228",
   "metadata": {},
   "outputs": [
    {
     "data": {
      "text/plain": [
       "(118936, 33)"
      ]
     },
     "execution_count": 614,
     "metadata": {},
     "output_type": "execute_result"
    }
   ],
   "source": [
    "df = pd.read_csv(\"data/train.csv\", low_memory=False)\n",
    "df.columns = map(str.lower, df.columns)\n",
    "df.columns = df.columns.str.replace(r'-', r'_', regex=True)\n",
    "df.shape"
   ]
  },
  {
   "cell_type": "code",
   "execution_count": 615,
   "id": "f884f21d",
   "metadata": {},
   "outputs": [
    {
     "data": {
      "text/html": [
       "<div>\n",
       "<style scoped>\n",
       "    .dataframe tbody tr th:only-of-type {\n",
       "        vertical-align: middle;\n",
       "    }\n",
       "\n",
       "    .dataframe tbody tr th {\n",
       "        vertical-align: top;\n",
       "    }\n",
       "\n",
       "    .dataframe thead th {\n",
       "        text-align: right;\n",
       "    }\n",
       "</style>\n",
       "<table border=\"1\" class=\"dataframe\">\n",
       "  <thead>\n",
       "    <tr style=\"text-align: right;\">\n",
       "      <th></th>\n",
       "      <th>id</th>\n",
       "      <th>year</th>\n",
       "      <th>loan_limit</th>\n",
       "      <th>gender</th>\n",
       "      <th>approv_in_adv</th>\n",
       "      <th>loan_type</th>\n",
       "      <th>loan_purpose</th>\n",
       "      <th>credit_worthiness</th>\n",
       "      <th>open_credit</th>\n",
       "      <th>business_or_commercial</th>\n",
       "      <th>loan_amount</th>\n",
       "      <th>rate_of_interest</th>\n",
       "      <th>interest_rate_spread</th>\n",
       "      <th>upfront_charges</th>\n",
       "      <th>term</th>\n",
       "      <th>neg_ammortization</th>\n",
       "      <th>interest_only</th>\n",
       "      <th>lump_sum_payment</th>\n",
       "      <th>property_value</th>\n",
       "      <th>construction_type</th>\n",
       "      <th>occupancy_type</th>\n",
       "      <th>secured_by</th>\n",
       "      <th>total_units</th>\n",
       "      <th>income</th>\n",
       "      <th>credit_type</th>\n",
       "      <th>credit_score</th>\n",
       "      <th>co_applicant_credit_type</th>\n",
       "      <th>age</th>\n",
       "      <th>submission_of_application</th>\n",
       "      <th>ltv</th>\n",
       "      <th>region</th>\n",
       "      <th>security_type</th>\n",
       "      <th>status</th>\n",
       "    </tr>\n",
       "  </thead>\n",
       "  <tbody>\n",
       "    <tr>\n",
       "      <th>0</th>\n",
       "      <td>89268</td>\n",
       "      <td>2019</td>\n",
       "      <td>cf</td>\n",
       "      <td>Joint</td>\n",
       "      <td>nopre</td>\n",
       "      <td>type1</td>\n",
       "      <td>p4</td>\n",
       "      <td>l1</td>\n",
       "      <td>nopc</td>\n",
       "      <td>nob/c</td>\n",
       "      <td>216500</td>\n",
       "      <td>3.990</td>\n",
       "      <td>0.8696</td>\n",
       "      <td>1785.38</td>\n",
       "      <td>240.0</td>\n",
       "      <td>not_neg</td>\n",
       "      <td>not_int</td>\n",
       "      <td>not_lpsm</td>\n",
       "      <td>308000.0</td>\n",
       "      <td>sb</td>\n",
       "      <td>pr</td>\n",
       "      <td>home</td>\n",
       "      <td>1U</td>\n",
       "      <td>7380.0</td>\n",
       "      <td>EXP</td>\n",
       "      <td>512</td>\n",
       "      <td>EXP</td>\n",
       "      <td>65-74</td>\n",
       "      <td>to_inst</td>\n",
       "      <td>70.292208</td>\n",
       "      <td>North</td>\n",
       "      <td>direct</td>\n",
       "      <td>0</td>\n",
       "    </tr>\n",
       "    <tr>\n",
       "      <th>1</th>\n",
       "      <td>125974</td>\n",
       "      <td>2019</td>\n",
       "      <td>cf</td>\n",
       "      <td>Joint</td>\n",
       "      <td>nopre</td>\n",
       "      <td>type1</td>\n",
       "      <td>p1</td>\n",
       "      <td>l1</td>\n",
       "      <td>nopc</td>\n",
       "      <td>nob/c</td>\n",
       "      <td>606500</td>\n",
       "      <td>3.875</td>\n",
       "      <td>0.2662</td>\n",
       "      <td>3279.06</td>\n",
       "      <td>360.0</td>\n",
       "      <td>not_neg</td>\n",
       "      <td>not_int</td>\n",
       "      <td>not_lpsm</td>\n",
       "      <td>758000.0</td>\n",
       "      <td>sb</td>\n",
       "      <td>pr</td>\n",
       "      <td>home</td>\n",
       "      <td>1U</td>\n",
       "      <td>8580.0</td>\n",
       "      <td>EXP</td>\n",
       "      <td>588</td>\n",
       "      <td>EXP</td>\n",
       "      <td>35-44</td>\n",
       "      <td>not_inst</td>\n",
       "      <td>80.013193</td>\n",
       "      <td>North</td>\n",
       "      <td>direct</td>\n",
       "      <td>0</td>\n",
       "    </tr>\n",
       "    <tr>\n",
       "      <th>2</th>\n",
       "      <td>62363</td>\n",
       "      <td>2019</td>\n",
       "      <td>cf</td>\n",
       "      <td>Female</td>\n",
       "      <td>nopre</td>\n",
       "      <td>type1</td>\n",
       "      <td>p1</td>\n",
       "      <td>l1</td>\n",
       "      <td>nopc</td>\n",
       "      <td>nob/c</td>\n",
       "      <td>156500</td>\n",
       "      <td>NaN</td>\n",
       "      <td>NaN</td>\n",
       "      <td>NaN</td>\n",
       "      <td>360.0</td>\n",
       "      <td>neg_amm</td>\n",
       "      <td>not_int</td>\n",
       "      <td>not_lpsm</td>\n",
       "      <td>158000.0</td>\n",
       "      <td>sb</td>\n",
       "      <td>pr</td>\n",
       "      <td>home</td>\n",
       "      <td>1U</td>\n",
       "      <td>4860.0</td>\n",
       "      <td>CRIF</td>\n",
       "      <td>801</td>\n",
       "      <td>EXP</td>\n",
       "      <td>35-44</td>\n",
       "      <td>to_inst</td>\n",
       "      <td>99.050633</td>\n",
       "      <td>North</td>\n",
       "      <td>direct</td>\n",
       "      <td>1</td>\n",
       "    </tr>\n",
       "    <tr>\n",
       "      <th>3</th>\n",
       "      <td>106793</td>\n",
       "      <td>2019</td>\n",
       "      <td>cf</td>\n",
       "      <td>Sex Not Available</td>\n",
       "      <td>nopre</td>\n",
       "      <td>type1</td>\n",
       "      <td>p4</td>\n",
       "      <td>l1</td>\n",
       "      <td>nopc</td>\n",
       "      <td>nob/c</td>\n",
       "      <td>306500</td>\n",
       "      <td>NaN</td>\n",
       "      <td>NaN</td>\n",
       "      <td>NaN</td>\n",
       "      <td>360.0</td>\n",
       "      <td>not_neg</td>\n",
       "      <td>not_int</td>\n",
       "      <td>lpsm</td>\n",
       "      <td>NaN</td>\n",
       "      <td>sb</td>\n",
       "      <td>pr</td>\n",
       "      <td>home</td>\n",
       "      <td>1U</td>\n",
       "      <td>6000.0</td>\n",
       "      <td>EQUI</td>\n",
       "      <td>798</td>\n",
       "      <td>EXP</td>\n",
       "      <td>35-44</td>\n",
       "      <td>to_inst</td>\n",
       "      <td>NaN</td>\n",
       "      <td>south</td>\n",
       "      <td>direct</td>\n",
       "      <td>1</td>\n",
       "    </tr>\n",
       "    <tr>\n",
       "      <th>4</th>\n",
       "      <td>66272</td>\n",
       "      <td>2019</td>\n",
       "      <td>cf</td>\n",
       "      <td>Joint</td>\n",
       "      <td>nopre</td>\n",
       "      <td>type1</td>\n",
       "      <td>p3</td>\n",
       "      <td>l1</td>\n",
       "      <td>nopc</td>\n",
       "      <td>nob/c</td>\n",
       "      <td>206500</td>\n",
       "      <td>4.375</td>\n",
       "      <td>0.2750</td>\n",
       "      <td>0.00</td>\n",
       "      <td>360.0</td>\n",
       "      <td>not_neg</td>\n",
       "      <td>not_int</td>\n",
       "      <td>not_lpsm</td>\n",
       "      <td>298000.0</td>\n",
       "      <td>sb</td>\n",
       "      <td>sr</td>\n",
       "      <td>home</td>\n",
       "      <td>1U</td>\n",
       "      <td>10500.0</td>\n",
       "      <td>CRIF</td>\n",
       "      <td>554</td>\n",
       "      <td>EXP</td>\n",
       "      <td>&gt;74</td>\n",
       "      <td>not_inst</td>\n",
       "      <td>69.295302</td>\n",
       "      <td>North</td>\n",
       "      <td>direct</td>\n",
       "      <td>0</td>\n",
       "    </tr>\n",
       "  </tbody>\n",
       "</table>\n",
       "</div>"
      ],
      "text/plain": [
       "       id  year loan_limit             gender approv_in_adv loan_type  \\\n",
       "0   89268  2019         cf              Joint         nopre     type1   \n",
       "1  125974  2019         cf              Joint         nopre     type1   \n",
       "2   62363  2019         cf             Female         nopre     type1   \n",
       "3  106793  2019         cf  Sex Not Available         nopre     type1   \n",
       "4   66272  2019         cf              Joint         nopre     type1   \n",
       "\n",
       "  loan_purpose credit_worthiness open_credit business_or_commercial  \\\n",
       "0           p4                l1        nopc                  nob/c   \n",
       "1           p1                l1        nopc                  nob/c   \n",
       "2           p1                l1        nopc                  nob/c   \n",
       "3           p4                l1        nopc                  nob/c   \n",
       "4           p3                l1        nopc                  nob/c   \n",
       "\n",
       "   loan_amount  rate_of_interest  interest_rate_spread  upfront_charges  \\\n",
       "0       216500             3.990                0.8696          1785.38   \n",
       "1       606500             3.875                0.2662          3279.06   \n",
       "2       156500               NaN                   NaN              NaN   \n",
       "3       306500               NaN                   NaN              NaN   \n",
       "4       206500             4.375                0.2750             0.00   \n",
       "\n",
       "    term neg_ammortization interest_only lump_sum_payment  property_value  \\\n",
       "0  240.0           not_neg       not_int         not_lpsm        308000.0   \n",
       "1  360.0           not_neg       not_int         not_lpsm        758000.0   \n",
       "2  360.0           neg_amm       not_int         not_lpsm        158000.0   \n",
       "3  360.0           not_neg       not_int             lpsm             NaN   \n",
       "4  360.0           not_neg       not_int         not_lpsm        298000.0   \n",
       "\n",
       "  construction_type occupancy_type secured_by total_units   income  \\\n",
       "0                sb             pr       home          1U   7380.0   \n",
       "1                sb             pr       home          1U   8580.0   \n",
       "2                sb             pr       home          1U   4860.0   \n",
       "3                sb             pr       home          1U   6000.0   \n",
       "4                sb             sr       home          1U  10500.0   \n",
       "\n",
       "  credit_type credit_score co_applicant_credit_type    age  \\\n",
       "0         EXP          512                      EXP  65-74   \n",
       "1         EXP          588                      EXP  35-44   \n",
       "2        CRIF          801                      EXP  35-44   \n",
       "3        EQUI          798                      EXP  35-44   \n",
       "4        CRIF          554                      EXP    >74   \n",
       "\n",
       "  submission_of_application        ltv region security_type  status  \n",
       "0                   to_inst  70.292208  North        direct       0  \n",
       "1                  not_inst  80.013193  North        direct       0  \n",
       "2                   to_inst  99.050633  North        direct       1  \n",
       "3                   to_inst        NaN  south        direct       1  \n",
       "4                  not_inst  69.295302  North        direct       0  "
      ]
     },
     "execution_count": 615,
     "metadata": {},
     "output_type": "execute_result"
    }
   ],
   "source": [
    "pd.set_option(\"display.max_columns\", df.shape[-1])\n",
    "df.head()"
   ]
  },
  {
   "attachments": {},
   "cell_type": "markdown",
   "id": "49ad4e3a",
   "metadata": {},
   "source": [
    "Базовая информация о датафрейме:"
   ]
  },
  {
   "cell_type": "code",
   "execution_count": 616,
   "id": "b885b433",
   "metadata": {},
   "outputs": [
    {
     "name": "stdout",
     "output_type": "stream",
     "text": [
      "<class 'pandas.core.frame.DataFrame'>\n",
      "RangeIndex: 118936 entries, 0 to 118935\n",
      "Data columns (total 33 columns):\n",
      " #   Column                     Non-Null Count   Dtype  \n",
      "---  ------                     --------------   -----  \n",
      " 0   id                         118936 non-null  int64  \n",
      " 1   year                       118936 non-null  int64  \n",
      " 2   loan_limit                 116225 non-null  object \n",
      " 3   gender                     118936 non-null  object \n",
      " 4   approv_in_adv              118209 non-null  object \n",
      " 5   loan_type                  118936 non-null  object \n",
      " 6   loan_purpose               118836 non-null  object \n",
      " 7   credit_worthiness          118936 non-null  object \n",
      " 8   open_credit                118936 non-null  object \n",
      " 9   business_or_commercial     118936 non-null  object \n",
      " 10  loan_amount                118936 non-null  int64  \n",
      " 11  rate_of_interest           89781 non-null   float64\n",
      " 12  interest_rate_spread       89625 non-null   float64\n",
      " 13  upfront_charges            87264 non-null   float64\n",
      " 14  term                       118902 non-null  float64\n",
      " 15  neg_ammortization          118839 non-null  object \n",
      " 16  interest_only              118936 non-null  object \n",
      " 17  lump_sum_payment           118936 non-null  object \n",
      " 18  property_value             106817 non-null  float64\n",
      " 19  construction_type          118936 non-null  object \n",
      " 20  occupancy_type             118936 non-null  object \n",
      " 21  secured_by                 118936 non-null  object \n",
      " 22  total_units                118936 non-null  object \n",
      " 23  income                     111606 non-null  float64\n",
      " 24  credit_type                118936 non-null  object \n",
      " 25  credit_score               118936 non-null  object \n",
      " 26  co_applicant_credit_type   118936 non-null  object \n",
      " 27  age                        118780 non-null  object \n",
      " 28  submission_of_application  118780 non-null  object \n",
      " 29  ltv                        106817 non-null  float64\n",
      " 30  region                     118936 non-null  object \n",
      " 31  security_type              118936 non-null  object \n",
      " 32  status                     118936 non-null  int64  \n",
      "dtypes: float64(7), int64(4), object(22)\n",
      "memory usage: 29.9+ MB\n"
     ]
    }
   ],
   "source": [
    "df.info()"
   ]
  },
  {
   "attachments": {},
   "cell_type": "markdown",
   "id": "d5e6b13a",
   "metadata": {},
   "source": [
    "Разделим датасет на Х и у:"
   ]
  },
  {
   "cell_type": "code",
   "execution_count": 617,
   "id": "734ab1eb",
   "metadata": {},
   "outputs": [],
   "source": [
    "X = df.drop(columns=[\"status\"])\n",
    "y = df[\"status\"]"
   ]
  },
  {
   "attachments": {},
   "cell_type": "markdown",
   "id": "cc6286db",
   "metadata": {},
   "source": [
    "Распределение целевой переменной по классам:"
   ]
  },
  {
   "cell_type": "code",
   "execution_count": 618,
   "id": "1388bbd4",
   "metadata": {},
   "outputs": [
    {
     "data": {
      "text/plain": [
       "0    0.753557\n",
       "1    0.246443\n",
       "Name: status, dtype: float64"
      ]
     },
     "execution_count": 618,
     "metadata": {},
     "output_type": "execute_result"
    }
   ],
   "source": [
    "y.value_counts() / len(y)"
   ]
  },
  {
   "attachments": {},
   "cell_type": "markdown",
   "id": "8fde7325",
   "metadata": {},
   "source": [
    "### Train | Test split"
   ]
  },
  {
   "attachments": {},
   "cell_type": "markdown",
   "id": "317021b1",
   "metadata": {},
   "source": [
    "Разбейте датасет на тренировочный и тестовый (оставьте 20% для теста, не забудтье зафиксировать random_seed)"
   ]
  },
  {
   "cell_type": "code",
   "execution_count": 619,
   "id": "8249842d",
   "metadata": {},
   "outputs": [],
   "source": [
    "X_train, X_test, y_train, y_test = train_test_split(X, y, test_size=0.2)"
   ]
  },
  {
   "attachments": {},
   "cell_type": "markdown",
   "id": "2b1b4de5",
   "metadata": {},
   "source": [
    "Разделить конечно разделим... Но для анализа пока будем работать со всеми данными (Х в данном случае). Потом обучим окончательный вариант на тренировочной выборке и применим к обоим частям."
   ]
  },
  {
   "attachments": {},
   "cell_type": "markdown",
   "id": "d0afe8fe",
   "metadata": {},
   "source": [
    "### First look and general info"
   ]
  },
  {
   "attachments": {},
   "cell_type": "markdown",
   "id": "97821c20",
   "metadata": {},
   "source": [
    "Отобразите базовую информацию о датасете: размер, тип данных, базовые статистики"
   ]
  },
  {
   "attachments": {},
   "cell_type": "markdown",
   "id": "412af744",
   "metadata": {},
   "source": [
    "Выведем по каждой колонке данных датафрейма статистику (тип данных, процент пропусков, наличие/отсутсвие повторяющихся значений, уникальные категориальные значения)."
   ]
  },
  {
   "cell_type": "code",
   "execution_count": 620,
   "id": "86de7dbd",
   "metadata": {},
   "outputs": [],
   "source": [
    "with open('info_base.txt', 'w') as f:\n",
    "    for col_name, col_values in X.items():\n",
    "        f.write(f\"< {col_name} >\".center(100, \"-\") + \"\\n\")\n",
    "        f.write(f\"Data type: {col_values.dtype}\\n\")\n",
    "        f.write(f\"Is unique: {col_values.is_unique}\\n\")\n",
    "        f.write(f\"% of Nones: {col_values.isna().mean()}\\n\")\n",
    "\n",
    "        if col_values.dtype != 'O':\n",
    "            f.write(f\"Statistics:\\n{col_values.describe(percentiles=[.01, .05, .25, .5, .75, .95, .99])}\\n\")\n",
    "        else:\n",
    "            f.write(f\"Unique values:\\n{col_values.value_counts()}\\n\")"
   ]
  },
  {
   "attachments": {},
   "cell_type": "markdown",
   "id": "fc519282",
   "metadata": {},
   "source": [
    "### Data types normalization"
   ]
  },
  {
   "attachments": {},
   "cell_type": "markdown",
   "id": "e8313d61",
   "metadata": {},
   "source": [
    "Проверьте, все ли признаки имеют правильный тип данных?"
   ]
  },
  {
   "attachments": {},
   "cell_type": "markdown",
   "id": "c41d89db",
   "metadata": {},
   "source": [
    "Описание данных с сайта:\n",
    "\n",
    "Функции\n",
    "- ID = идентификатор клиента заявителя\n",
    "- year = год подачи заявки\n",
    "- loan_limit = максимально доступная сумма кредита, которую можно взять\n",
    "- Gender = тип пола\n",
    "- approv_in_adv = Кредит предварительно одобрен или нет\n",
    "- loan_type = Тип кредита\n",
    "- loan_purpose = причина, по которой вы хотите занять деньги\n",
    "- Credit_Worthiness = то, как кредитор определяет, что вы не выполните свои долговые обязательства, или насколько вы достойны получить новый кредит.\n",
    "- open_credit = предварительно одобренный кредит между кредитором и заемщиком. Это позволяет заемщику делать повторные снятия до определенного предела.\n",
    "- business_or_commercial = Тип использования суммы кредита\n",
    "- loan_amount = Точная сумма кредита\n",
    "- rate_of_interest = сумма, которую кредитор взимает с заемщика, и процент от основной суммы долга.\n",
    "- Interest_rate_spread = разница между процентной ставкой, которую финансовое учреждение платит вкладчикам, и процентной ставкой, которую оно получает по кредитам.\n",
    "- Upfront_charges = Комиссия, уплачиваемая кредитору заемщиком в качестве вознаграждения за выдачу нового кредита\n",
    "- term = период погашения кредита\n",
    "- Neg_ammortization = относится к ситуации, когда заемщик кредита вносит платеж меньше стандартного платежа, установленного банком.\n",
    "- interest_only = сумма процентов\n",
    "- lump_sum_payment = сумма денег, которая выплачивается одним платежом, а не в рассрочку.\n",
    "- property_value = текущая стоимость будущих выгод, связанных с владением недвижимостью\n",
    "- Construction_type = Тип вспомогательной конструкции\n",
    "- occupancy_type = классификации относятся к категоризации структур на основе их использования\n",
    "- Secured_by = Тип залога\n",
    "- total_units = количество единиц\n",
    "- income = относится к сумме денег, имущества и других денежных переводов, полученных в течение установленного периода времени.\n",
    "- credit_type = тип кредита\n",
    "- co-applicant_credit_type = дополнительное лицо, участвующее в процессе подачи заявки на кредит. И заявитель, и созаявитель подают и подписывают заявку на получение кредита.\n",
    "- age = возраст заявителя\n",
    "- submit_of_application = Убедитесь, что заявка заполнена или нет\n",
    "- LTV = жизненная ценность (LTV) — это прогноз чистой прибыли.\n",
    "- Region = место заявителя\n",
    "- Security_Type = Тип залога\n",
    "- status = статус займа (одобрен/отклонен)"
   ]
  },
  {
   "attachments": {},
   "cell_type": "markdown",
   "id": "87a4e134",
   "metadata": {},
   "source": [
    "Неверный тип данных имеет колонка credit_score. Поработаем с ней."
   ]
  },
  {
   "cell_type": "code",
   "execution_count": 621,
   "id": "91e5a684",
   "metadata": {},
   "outputs": [
    {
     "data": {
      "text/plain": [
       "(500.0, 900.0)"
      ]
     },
     "execution_count": 621,
     "metadata": {},
     "output_type": "execute_result"
    }
   ],
   "source": [
    "unique_values = df['credit_score'].unique()\n",
    "numeric_values = pd.to_numeric(unique_values, errors='coerce')\n",
    "numeric_values = numeric_values[~pd.isna(numeric_values)]\n",
    "numeric_values.min(), numeric_values.max()"
   ]
  },
  {
   "attachments": {},
   "cell_type": "markdown",
   "id": "550d6520",
   "metadata": {},
   "source": [
    "При этом нечисловые значения имеют вид:"
   ]
  },
  {
   "cell_type": "code",
   "execution_count": 622,
   "id": "b2f6ed1f",
   "metadata": {},
   "outputs": [
    {
     "data": {
      "text/plain": [
       "['6_32',\n",
       " '_576',\n",
       " '_566',\n",
       " '_764',\n",
       " '640_',\n",
       " '71_2',\n",
       " '_801',\n",
       " '626_',\n",
       " '75_8',\n",
       " '_675']"
      ]
     },
     "execution_count": 622,
     "metadata": {},
     "output_type": "execute_result"
    }
   ],
   "source": [
    "non_numeric_values = list(filter(lambda x: not (x.isnumeric()), unique_values))\n",
    "non_numeric_values"
   ]
  },
  {
   "attachments": {},
   "cell_type": "markdown",
   "id": "c6a1a358",
   "metadata": {},
   "source": [
    "Сделаем вывод, что знак нижнего подчёркивания можно просто убрать."
   ]
  },
  {
   "cell_type": "code",
   "execution_count": 623,
   "id": "538ae5bd",
   "metadata": {},
   "outputs": [],
   "source": [
    "def clean_and_convert(value):\n",
    "    clean_value = re.sub(r'[^\\d-]+', '', value)\n",
    "    return int(clean_value)"
   ]
  },
  {
   "cell_type": "code",
   "execution_count": 624,
   "id": "5a78fdf1",
   "metadata": {},
   "outputs": [],
   "source": [
    "X['credit_score'] = X['credit_score'].apply(clean_and_convert)"
   ]
  },
  {
   "attachments": {},
   "cell_type": "markdown",
   "id": "34379fb2",
   "metadata": {},
   "source": [
    "Колонки id, year просто дропнем. Они не нужны."
   ]
  },
  {
   "cell_type": "code",
   "execution_count": 625,
   "id": "ab2e9428",
   "metadata": {},
   "outputs": [],
   "source": [
    "X.drop(['id', 'year'], axis=1, inplace=True)"
   ]
  },
  {
   "attachments": {},
   "cell_type": "markdown",
   "id": "a5c6d2e0",
   "metadata": {},
   "source": [
    "### Extreme values detection"
   ]
  },
  {
   "attachments": {},
   "cell_type": "markdown",
   "id": "751ca100",
   "metadata": {},
   "source": [
    "Проверьте, есть ли аномальные данные? Постройте базовые визуализации там, где это уместно"
   ]
  },
  {
   "cell_type": "code",
   "execution_count": 626,
   "id": "48292938",
   "metadata": {},
   "outputs": [],
   "source": [
    "def describe_numeric(X: pd.DataFrame, features: Union[str, Iterable[str], None] = None):\n",
    "    \n",
    "    if isinstance(features, str):\n",
    "        X = X.loc[:, [features]]\n",
    "    elif isinstance(features, Iterable):\n",
    "        X = X.loc[:, features]\n",
    "\n",
    "    for col_name, col_values in X.items():\n",
    "        print(f\"< {col_name} >\".center(117, \"-\"))\n",
    "\n",
    "        _, (ax0, ax1, ax2, ax3) = plt.subplots(nrows=4, figsize=(11.5, 12))\n",
    "\n",
    "        _ = ax0.boxplot(col_values.dropna(), labels=[\"\"], vert=False, widths=0.8, showmeans=True)\n",
    "        _ = ax1.boxplot(col_values.dropna(), labels=[\"\"], vert=False, widths=0.8, showmeans=True)\n",
    "        _ = ax2.hist(col_values.dropna())\n",
    "        _ = ax3.hist(col_values.dropna())\n",
    "\n",
    "        ax0.set(title=f\"boxplot of {col_name}\")\n",
    "        ax1.set(title=f\"boxplot of {col_name}, log axes\", xscale=\"log\")\n",
    "        ax2.set(title=f\"histogram of {col_name}\")\n",
    "        ax3.set(title=f\"histogram of {col_name}, log axes\", yscale=\"log\", xscale=\"log\")\n",
    "\n",
    "        plt.show()"
   ]
  },
  {
   "cell_type": "code",
   "execution_count": 627,
   "id": "e9e859bc",
   "metadata": {},
   "outputs": [],
   "source": [
    "# describe_numeric(X=X.select_dtypes(np.number))"
   ]
  },
  {
   "attachments": {},
   "cell_type": "markdown",
   "id": "38959b38",
   "metadata": {},
   "source": [
    "В следующих столбцах имеются выбросы (крайнее значение 'сильно' превышает последний перцентиль):\n",
    "- loan_amount\n",
    "- interest_rate_spread\n",
    "- upfront_charges\n",
    "- term\n",
    "- property_value\n",
    "- income\n",
    "- ltv"
   ]
  },
  {
   "attachments": {},
   "cell_type": "markdown",
   "id": "01dac16f",
   "metadata": {},
   "source": [
    "### Missing values detection"
   ]
  },
  {
   "attachments": {},
   "cell_type": "markdown",
   "id": "a8df02f9",
   "metadata": {},
   "source": [
    "Есть ли пропущенные данные?"
   ]
  },
  {
   "attachments": {},
   "cell_type": "markdown",
   "id": "35074542",
   "metadata": {},
   "source": [
    "В следующих столбцах имеются отсутствующие значения:\n",
    "- loan_limit\n",
    "- approv_in_adv\n",
    "- loan_purpose\n",
    "- rate_of_interest\n",
    "- interest_rate_spread\n",
    "- upfront_charges\n",
    "- term\n",
    "- neg_ammortization\n",
    "- property_value\n",
    "- income\n",
    "- age\n",
    "- submission_of_application\n",
    "- ltv"
   ]
  },
  {
   "attachments": {},
   "cell_type": "markdown",
   "id": "49808531",
   "metadata": {},
   "source": [
    "Отметим, что дополнительные пропуки могут появиться в колонке loan_amount после удаления экстримальных значений"
   ]
  },
  {
   "attachments": {},
   "cell_type": "markdown",
   "id": "d2c31734",
   "metadata": {},
   "source": [
    "Сразу удалим 0 в колонке income и обозначим его пропуском."
   ]
  },
  {
   "cell_type": "code",
   "execution_count": 628,
   "id": "3fc9400a",
   "metadata": {},
   "outputs": [],
   "source": [
    "X.loc[X['income'].eq(0), ['income']] = np.nan"
   ]
  },
  {
   "attachments": {},
   "cell_type": "markdown",
   "id": "566038a9",
   "metadata": {},
   "source": [
    "---"
   ]
  },
  {
   "attachments": {},
   "cell_type": "markdown",
   "id": "20f94640",
   "metadata": {},
   "source": [
    "<div class=\"alert alert-info\">\n",
    "  <h1><center>Preprocessing (3 балла)</center></h1></div>"
   ]
  },
  {
   "attachments": {},
   "cell_type": "markdown",
   "id": "1e3226de",
   "metadata": {},
   "source": [
    "# <center>Numerical features</center>"
   ]
  },
  {
   "attachments": {},
   "cell_type": "markdown",
   "id": "35ad13d0",
   "metadata": {},
   "source": [
    "### Deal with extreme values"
   ]
  },
  {
   "attachments": {},
   "cell_type": "markdown",
   "id": "ba7f37a2",
   "metadata": {},
   "source": [
    "Напишите / используйте функции / трансформеры, которые будут \"исправлять\" экстримальные значения (какой способ лучше подходит? почему?)"
   ]
  },
  {
   "attachments": {},
   "cell_type": "markdown",
   "id": "a403ce97",
   "metadata": {},
   "source": [
    "Удалять экстримальные значения будем с помощью межквартильного расстояния. С другими не сильно и знаком..."
   ]
  },
  {
   "cell_type": "code",
   "execution_count": 629,
   "id": "8e070fc5",
   "metadata": {},
   "outputs": [],
   "source": [
    "for col_name, _ in X.select_dtypes(np.number).items():\n",
    "    Q1 = X[col_name].dropna().quantile(.25)\n",
    "    Q3 = X[col_name].dropna().quantile(.75)\n",
    "    IQR = Q3 - Q1\n",
    "\n",
    "    X[col_name] = X[col_name].where(((X[col_name] >= Q1 - 1.5 * IQR)&(X[col_name] <= Q3 + 1.5 * IQR)))"
   ]
  },
  {
   "attachments": {},
   "cell_type": "markdown",
   "id": "210c30bf",
   "metadata": {},
   "source": [
    "### Deal with missing values"
   ]
  },
  {
   "attachments": {},
   "cell_type": "markdown",
   "id": "454156ee",
   "metadata": {},
   "source": [
    "Напишите/используйте функции/трансформеры для заполнения пропущенных значений. Какова логика? Напишите краткое пояснение, почему Вы выбрали тот или иной подход"
   ]
  },
  {
   "attachments": {},
   "cell_type": "markdown",
   "id": "67c11e13",
   "metadata": {},
   "source": [
    "Для числовых признаков применим один из двух трансформеров. На медианное значение будем менять те фичи, где пропусков мало. На \"соседнее\" значение будем менять те фичи, где пропусков много. Кстати о пропусках... Инфа о них лежит в файле info_after_drop.txt."
   ]
  },
  {
   "cell_type": "code",
   "execution_count": 630,
   "id": "1420ccf6",
   "metadata": {},
   "outputs": [],
   "source": [
    "with open('info_after_drop.txt', 'w') as f:\n",
    "    for col_name, col_values in X.select_dtypes(np.number).items():\n",
    "        f.write(f\"< {col_name} >\".center(100, \"-\") + \"\\n\")\n",
    "        f.write(f\"Data type: {col_values.dtype}\\n\")\n",
    "        f.write(f\"Is unique: {col_values.is_unique}\\n\")\n",
    "        f.write(f\"% of Nones: {col_values.isna().mean()}\\n\")\n",
    "\n",
    "        if col_values.dtype != 'O':\n",
    "            f.write(f\"Statistics:\\n{col_values.describe(percentiles=[.01, .05, .25, .5, .75, .95, .99])}\\n\")\n",
    "        else:\n",
    "            f.write(f\"Unique values:\\n{col_values.value_counts()}\\n\")"
   ]
  },
  {
   "attachments": {},
   "cell_type": "markdown",
   "id": "f028300d",
   "metadata": {},
   "source": [
    "Для колонок с менее чем 20 % пропусков применим заполение средним. В другом случае попробуем сделать похожим на соседей. Также выбросим колонку со сроком кредитования. Почти все и так берут на год..."
   ]
  },
  {
   "cell_type": "code",
   "execution_count": 631,
   "id": "adfe814a",
   "metadata": {},
   "outputs": [],
   "source": [
    "X.drop('term', axis=1, inplace=True)"
   ]
  },
  {
   "cell_type": "code",
   "execution_count": 632,
   "id": "a5c97d3e",
   "metadata": {},
   "outputs": [],
   "source": [
    "median_imputer = SimpleImputer(strategy='median')\n",
    "knn_imputer = KNNImputer(n_neighbors=5)"
   ]
  },
  {
   "cell_type": "code",
   "execution_count": 633,
   "id": "06df3020",
   "metadata": {},
   "outputs": [],
   "source": [
    "X[['loan_amount',\n",
    "   'property_value',\n",
    "   'income',\n",
    "   'ltv']] = median_imputer.fit_transform(X[['loan_amount',\n",
    "                                             'property_value',\n",
    "                                             'income',\n",
    "                                             'ltv']])\n",
    "X[['rate_of_interest',\n",
    "   'interest_rate_spread',\n",
    "   'upfront_charges']] = knn_imputer.fit_transform(X[['rate_of_interest',\n",
    "                                                      'interest_rate_spread',\n",
    "                                                      'upfront_charges']])"
   ]
  },
  {
   "attachments": {},
   "cell_type": "markdown",
   "id": "c5e2a741",
   "metadata": {},
   "source": [
    "Для оставшихся категориальных фич сделаем заполнение с помощью самого частого знечения."
   ]
  },
  {
   "cell_type": "code",
   "execution_count": 634,
   "id": "ebfcdb85",
   "metadata": {},
   "outputs": [],
   "source": [
    "freq_imputer = SimpleImputer(strategy='most_frequent')"
   ]
  },
  {
   "cell_type": "code",
   "execution_count": 635,
   "id": "c027db38",
   "metadata": {},
   "outputs": [],
   "source": [
    "X[['loan_limit',\n",
    "   'approv_in_adv',\n",
    "   'loan_purpose',\n",
    "   'neg_ammortization',\n",
    "   'age',\n",
    "   'submission_of_application']] = freq_imputer.fit_transform(X[['loan_limit',\n",
    "                                                                 'approv_in_adv',\n",
    "                                                                 'loan_purpose',\n",
    "                                                                 'neg_ammortization',\n",
    "                                                                 'age',\n",
    "                                                                 'submission_of_application']])"
   ]
  },
  {
   "attachments": {},
   "cell_type": "markdown",
   "id": "7e5d26ee",
   "metadata": {},
   "source": [
    "Итоговый обзор после удаления пропусковых и заполнения отсутсвующих значений:"
   ]
  },
  {
   "cell_type": "code",
   "execution_count": 636,
   "id": "a5c6f693",
   "metadata": {},
   "outputs": [
    {
     "data": {
      "text/html": [
       "<div>\n",
       "<style scoped>\n",
       "    .dataframe tbody tr th:only-of-type {\n",
       "        vertical-align: middle;\n",
       "    }\n",
       "\n",
       "    .dataframe tbody tr th {\n",
       "        vertical-align: top;\n",
       "    }\n",
       "\n",
       "    .dataframe thead th {\n",
       "        text-align: right;\n",
       "    }\n",
       "</style>\n",
       "<table border=\"1\" class=\"dataframe\">\n",
       "  <thead>\n",
       "    <tr style=\"text-align: right;\">\n",
       "      <th></th>\n",
       "      <th>loan_limit</th>\n",
       "      <th>gender</th>\n",
       "      <th>approv_in_adv</th>\n",
       "      <th>loan_type</th>\n",
       "      <th>loan_purpose</th>\n",
       "      <th>credit_worthiness</th>\n",
       "      <th>open_credit</th>\n",
       "      <th>business_or_commercial</th>\n",
       "      <th>loan_amount</th>\n",
       "      <th>rate_of_interest</th>\n",
       "      <th>interest_rate_spread</th>\n",
       "      <th>upfront_charges</th>\n",
       "      <th>neg_ammortization</th>\n",
       "      <th>interest_only</th>\n",
       "      <th>lump_sum_payment</th>\n",
       "      <th>property_value</th>\n",
       "      <th>construction_type</th>\n",
       "      <th>occupancy_type</th>\n",
       "      <th>secured_by</th>\n",
       "      <th>total_units</th>\n",
       "      <th>income</th>\n",
       "      <th>credit_type</th>\n",
       "      <th>credit_score</th>\n",
       "      <th>co_applicant_credit_type</th>\n",
       "      <th>age</th>\n",
       "      <th>submission_of_application</th>\n",
       "      <th>ltv</th>\n",
       "      <th>region</th>\n",
       "      <th>security_type</th>\n",
       "    </tr>\n",
       "  </thead>\n",
       "  <tbody>\n",
       "    <tr>\n",
       "      <th>0</th>\n",
       "      <td>cf</td>\n",
       "      <td>Joint</td>\n",
       "      <td>nopre</td>\n",
       "      <td>type1</td>\n",
       "      <td>p4</td>\n",
       "      <td>l1</td>\n",
       "      <td>nopc</td>\n",
       "      <td>nob/c</td>\n",
       "      <td>216500.0</td>\n",
       "      <td>3.990</td>\n",
       "      <td>0.8696</td>\n",
       "      <td>1785.38</td>\n",
       "      <td>not_neg</td>\n",
       "      <td>not_int</td>\n",
       "      <td>not_lpsm</td>\n",
       "      <td>308000.0</td>\n",
       "      <td>sb</td>\n",
       "      <td>pr</td>\n",
       "      <td>home</td>\n",
       "      <td>1U</td>\n",
       "      <td>7380.0</td>\n",
       "      <td>EXP</td>\n",
       "      <td>512</td>\n",
       "      <td>EXP</td>\n",
       "      <td>65-74</td>\n",
       "      <td>to_inst</td>\n",
       "      <td>70.292208</td>\n",
       "      <td>North</td>\n",
       "      <td>direct</td>\n",
       "    </tr>\n",
       "    <tr>\n",
       "      <th>1</th>\n",
       "      <td>cf</td>\n",
       "      <td>Joint</td>\n",
       "      <td>nopre</td>\n",
       "      <td>type1</td>\n",
       "      <td>p1</td>\n",
       "      <td>l1</td>\n",
       "      <td>nopc</td>\n",
       "      <td>nob/c</td>\n",
       "      <td>606500.0</td>\n",
       "      <td>3.875</td>\n",
       "      <td>0.2662</td>\n",
       "      <td>3279.06</td>\n",
       "      <td>not_neg</td>\n",
       "      <td>not_int</td>\n",
       "      <td>not_lpsm</td>\n",
       "      <td>758000.0</td>\n",
       "      <td>sb</td>\n",
       "      <td>pr</td>\n",
       "      <td>home</td>\n",
       "      <td>1U</td>\n",
       "      <td>8580.0</td>\n",
       "      <td>EXP</td>\n",
       "      <td>588</td>\n",
       "      <td>EXP</td>\n",
       "      <td>35-44</td>\n",
       "      <td>not_inst</td>\n",
       "      <td>80.013193</td>\n",
       "      <td>North</td>\n",
       "      <td>direct</td>\n",
       "    </tr>\n",
       "  </tbody>\n",
       "</table>\n",
       "</div>"
      ],
      "text/plain": [
       "  loan_limit gender approv_in_adv loan_type loan_purpose credit_worthiness  \\\n",
       "0         cf  Joint         nopre     type1           p4                l1   \n",
       "1         cf  Joint         nopre     type1           p1                l1   \n",
       "\n",
       "  open_credit business_or_commercial  loan_amount  rate_of_interest  \\\n",
       "0        nopc                  nob/c     216500.0             3.990   \n",
       "1        nopc                  nob/c     606500.0             3.875   \n",
       "\n",
       "   interest_rate_spread  upfront_charges neg_ammortization interest_only  \\\n",
       "0                0.8696          1785.38           not_neg       not_int   \n",
       "1                0.2662          3279.06           not_neg       not_int   \n",
       "\n",
       "  lump_sum_payment  property_value construction_type occupancy_type  \\\n",
       "0         not_lpsm        308000.0                sb             pr   \n",
       "1         not_lpsm        758000.0                sb             pr   \n",
       "\n",
       "  secured_by total_units  income credit_type  credit_score  \\\n",
       "0       home          1U  7380.0         EXP           512   \n",
       "1       home          1U  8580.0         EXP           588   \n",
       "\n",
       "  co_applicant_credit_type    age submission_of_application        ltv region  \\\n",
       "0                      EXP  65-74                   to_inst  70.292208  North   \n",
       "1                      EXP  35-44                  not_inst  80.013193  North   \n",
       "\n",
       "  security_type  \n",
       "0        direct  \n",
       "1        direct  "
      ]
     },
     "execution_count": 636,
     "metadata": {},
     "output_type": "execute_result"
    }
   ],
   "source": [
    "X.head(2)"
   ]
  },
  {
   "cell_type": "code",
   "execution_count": 637,
   "id": "8353f2fe",
   "metadata": {},
   "outputs": [],
   "source": [
    "with open('info_аfter_fill_na.txt', 'w') as f:\n",
    "    for col_name, col_values in X.items():\n",
    "        f.write(f\"< {col_name} >\".center(100, \"-\") + \"\\n\")\n",
    "        f.write(f\"Data type: {col_values.dtype}\\n\")\n",
    "        f.write(f\"Is unique: {col_values.is_unique}\\n\")\n",
    "        f.write(f\"% of Nones: {col_values.isna().mean()}\\n\")\n",
    "\n",
    "        if col_values.dtype != 'O':\n",
    "            f.write(f\"Statistics:\\n{col_values.describe(percentiles=[.01, .05, .25, .5, .75, .95, .99])}\\n\")\n",
    "        else:\n",
    "            f.write(f\"Unique values:\\n{col_values.value_counts()}\\n\")"
   ]
  },
  {
   "attachments": {},
   "cell_type": "markdown",
   "id": "1d1547db",
   "metadata": {},
   "source": [
    "---"
   ]
  },
  {
   "attachments": {},
   "cell_type": "markdown",
   "id": "6872dd8d",
   "metadata": {},
   "source": [
    "# <center>Categorical Features</center>"
   ]
  },
  {
   "attachments": {},
   "cell_type": "markdown",
   "id": "8ed75cf9",
   "metadata": {},
   "source": [
    "Какие признаки и как Вы будете кодировать?"
   ]
  },
  {
   "attachments": {},
   "cell_type": "markdown",
   "id": "9c8d6b3e",
   "metadata": {},
   "source": [
    "### Encode nominal featuers"
   ]
  },
  {
   "attachments": {},
   "cell_type": "markdown",
   "id": "ed79e58c",
   "metadata": {},
   "source": [
    "К номинальным фичам я отнесу:\n",
    "- loan_limit\n",
    "- gender\n",
    "- approv_in_adv\n",
    "- loan_type\n",
    "- loan_purpose\n",
    "- credit_worthiness\n",
    "- open_credit\n",
    "- business_or_commercial\n",
    "- neg_ammortization\n",
    "- interest_only\n",
    "- lump_sum_payment\n",
    "- construction_type\n",
    "- occupancy_type\n",
    "- secured_by\n",
    "- credit_type\n",
    "- co_applicant_credit_type\n",
    "- submission_of_application\n",
    "- region\n",
    "- security_type"
   ]
  },
  {
   "attachments": {},
   "cell_type": "markdown",
   "id": "424a7593",
   "metadata": {},
   "source": [
    "Номинальные фичи можно кодировать OneHotEncoder"
   ]
  },
  {
   "cell_type": "code",
   "execution_count": 638,
   "id": "24f5e299",
   "metadata": {},
   "outputs": [],
   "source": [
    "one_hot = OneHotEncoder(sparse_output=False, handle_unknown=\"ignore\").set_output(transform=\"pandas\")"
   ]
  },
  {
   "cell_type": "code",
   "execution_count": 639,
   "id": "5fe967c9",
   "metadata": {},
   "outputs": [],
   "source": [
    "encode_df = one_hot.fit_transform(X[['loan_limit',\n",
    "                                     'gender',\n",
    "                                     'approv_in_adv',\n",
    "                                     'loan_type',\n",
    "                                     'loan_purpose',\n",
    "                                     'credit_worthiness',\n",
    "                                     'open_credit',\n",
    "                                     'business_or_commercial',\n",
    "                                     'neg_ammortization',\n",
    "                                     'interest_only',\n",
    "                                     'lump_sum_payment',\n",
    "                                     'construction_type',\n",
    "                                     'occupancy_type',\n",
    "                                     'secured_by',\n",
    "                                     'credit_type',\n",
    "                                     'co_applicant_credit_type',\n",
    "                                     'submission_of_application',\n",
    "                                     'region',\n",
    "                                     'security_type']])"
   ]
  },
  {
   "cell_type": "code",
   "execution_count": 640,
   "id": "98c0fa31",
   "metadata": {},
   "outputs": [],
   "source": [
    "X = X.join(encode_df)\n",
    "X.drop(['loan_limit',\n",
    "        'gender',\n",
    "        'approv_in_adv',\n",
    "        'loan_type',\n",
    "        'loan_purpose',\n",
    "        'credit_worthiness',\n",
    "        'open_credit',\n",
    "        'business_or_commercial',\n",
    "        'neg_ammortization',\n",
    "        'interest_only',\n",
    "        'lump_sum_payment',\n",
    "        'construction_type',\n",
    "        'occupancy_type',\n",
    "        'secured_by',\n",
    "        'credit_type',\n",
    "        'co_applicant_credit_type',\n",
    "        'submission_of_application',\n",
    "        'region',\n",
    "        'security_type'],\n",
    "        axis=1,\n",
    "        inplace=True)"
   ]
  },
  {
   "attachments": {},
   "cell_type": "markdown",
   "id": "e1c44fef",
   "metadata": {},
   "source": [
    "### Encode ordinal features"
   ]
  },
  {
   "attachments": {},
   "cell_type": "markdown",
   "id": "7baae534",
   "metadata": {},
   "source": [
    "К порядковым фичам я отнесу:\n",
    "- total_units\n",
    "- age"
   ]
  },
  {
   "cell_type": "code",
   "execution_count": 641,
   "id": "4425fbb5",
   "metadata": {},
   "outputs": [],
   "source": [
    "total_units_enc = OrdinalEncoder(categories=[['1U', '2U', '3U', '4U'],\n",
    "                                             ['<25', '25-34', '35-44', '45-54', '55-64', '65-74', '>74']],\n",
    "                                 handle_unknown='use_encoded_value',\n",
    "                                 unknown_value=-1)"
   ]
  },
  {
   "cell_type": "code",
   "execution_count": 642,
   "id": "c7cd8a87",
   "metadata": {},
   "outputs": [],
   "source": [
    "X[['total_units', 'age']] = total_units_enc.fit_transform(X[['total_units', 'age']])"
   ]
  },
  {
   "cell_type": "code",
   "execution_count": 643,
   "id": "176c3e4a",
   "metadata": {},
   "outputs": [
    {
     "data": {
      "text/plain": [
       "(118936, 58)"
      ]
     },
     "execution_count": 643,
     "metadata": {},
     "output_type": "execute_result"
    }
   ],
   "source": [
    "X.shape"
   ]
  },
  {
   "cell_type": "code",
   "execution_count": 644,
   "id": "9443fbde",
   "metadata": {},
   "outputs": [
    {
     "data": {
      "text/html": [
       "<div>\n",
       "<style scoped>\n",
       "    .dataframe tbody tr th:only-of-type {\n",
       "        vertical-align: middle;\n",
       "    }\n",
       "\n",
       "    .dataframe tbody tr th {\n",
       "        vertical-align: top;\n",
       "    }\n",
       "\n",
       "    .dataframe thead th {\n",
       "        text-align: right;\n",
       "    }\n",
       "</style>\n",
       "<table border=\"1\" class=\"dataframe\">\n",
       "  <thead>\n",
       "    <tr style=\"text-align: right;\">\n",
       "      <th></th>\n",
       "      <th>loan_amount</th>\n",
       "      <th>rate_of_interest</th>\n",
       "      <th>interest_rate_spread</th>\n",
       "      <th>upfront_charges</th>\n",
       "      <th>property_value</th>\n",
       "      <th>total_units</th>\n",
       "      <th>income</th>\n",
       "      <th>credit_score</th>\n",
       "      <th>age</th>\n",
       "      <th>ltv</th>\n",
       "      <th>loan_limit_cf</th>\n",
       "      <th>loan_limit_ncf</th>\n",
       "      <th>gender_Female</th>\n",
       "      <th>gender_Joint</th>\n",
       "      <th>gender_Male</th>\n",
       "      <th>gender_Sex Not Available</th>\n",
       "      <th>...</th>\n",
       "      <th>secured_by_home</th>\n",
       "      <th>secured_by_land</th>\n",
       "      <th>credit_type_CIB</th>\n",
       "      <th>credit_type_CRIF</th>\n",
       "      <th>credit_type_EQUI</th>\n",
       "      <th>credit_type_EXP</th>\n",
       "      <th>co_applicant_credit_type_CIB</th>\n",
       "      <th>co_applicant_credit_type_EXP</th>\n",
       "      <th>submission_of_application_not_inst</th>\n",
       "      <th>submission_of_application_to_inst</th>\n",
       "      <th>region_North</th>\n",
       "      <th>region_North-East</th>\n",
       "      <th>region_central</th>\n",
       "      <th>region_south</th>\n",
       "      <th>security_type_Indriect</th>\n",
       "      <th>security_type_direct</th>\n",
       "    </tr>\n",
       "  </thead>\n",
       "  <tbody>\n",
       "    <tr>\n",
       "      <th>0</th>\n",
       "      <td>216500.0</td>\n",
       "      <td>3.990</td>\n",
       "      <td>0.8696</td>\n",
       "      <td>1785.38</td>\n",
       "      <td>308000.0</td>\n",
       "      <td>0.0</td>\n",
       "      <td>7380.0</td>\n",
       "      <td>512</td>\n",
       "      <td>5.0</td>\n",
       "      <td>70.292208</td>\n",
       "      <td>1.0</td>\n",
       "      <td>0.0</td>\n",
       "      <td>0.0</td>\n",
       "      <td>1.0</td>\n",
       "      <td>0.0</td>\n",
       "      <td>0.0</td>\n",
       "      <td>...</td>\n",
       "      <td>1.0</td>\n",
       "      <td>0.0</td>\n",
       "      <td>0.0</td>\n",
       "      <td>0.0</td>\n",
       "      <td>0.0</td>\n",
       "      <td>1.0</td>\n",
       "      <td>0.0</td>\n",
       "      <td>1.0</td>\n",
       "      <td>0.0</td>\n",
       "      <td>1.0</td>\n",
       "      <td>1.0</td>\n",
       "      <td>0.0</td>\n",
       "      <td>0.0</td>\n",
       "      <td>0.0</td>\n",
       "      <td>0.0</td>\n",
       "      <td>1.0</td>\n",
       "    </tr>\n",
       "    <tr>\n",
       "      <th>1</th>\n",
       "      <td>606500.0</td>\n",
       "      <td>3.875</td>\n",
       "      <td>0.2662</td>\n",
       "      <td>3279.06</td>\n",
       "      <td>758000.0</td>\n",
       "      <td>0.0</td>\n",
       "      <td>8580.0</td>\n",
       "      <td>588</td>\n",
       "      <td>2.0</td>\n",
       "      <td>80.013193</td>\n",
       "      <td>1.0</td>\n",
       "      <td>0.0</td>\n",
       "      <td>0.0</td>\n",
       "      <td>1.0</td>\n",
       "      <td>0.0</td>\n",
       "      <td>0.0</td>\n",
       "      <td>...</td>\n",
       "      <td>1.0</td>\n",
       "      <td>0.0</td>\n",
       "      <td>0.0</td>\n",
       "      <td>0.0</td>\n",
       "      <td>0.0</td>\n",
       "      <td>1.0</td>\n",
       "      <td>0.0</td>\n",
       "      <td>1.0</td>\n",
       "      <td>1.0</td>\n",
       "      <td>0.0</td>\n",
       "      <td>1.0</td>\n",
       "      <td>0.0</td>\n",
       "      <td>0.0</td>\n",
       "      <td>0.0</td>\n",
       "      <td>0.0</td>\n",
       "      <td>1.0</td>\n",
       "    </tr>\n",
       "  </tbody>\n",
       "</table>\n",
       "<p>2 rows × 58 columns</p>\n",
       "</div>"
      ],
      "text/plain": [
       "   loan_amount  rate_of_interest  interest_rate_spread  upfront_charges  \\\n",
       "0     216500.0             3.990                0.8696          1785.38   \n",
       "1     606500.0             3.875                0.2662          3279.06   \n",
       "\n",
       "   property_value  total_units  income  credit_score  age        ltv  \\\n",
       "0        308000.0          0.0  7380.0           512  5.0  70.292208   \n",
       "1        758000.0          0.0  8580.0           588  2.0  80.013193   \n",
       "\n",
       "   loan_limit_cf  loan_limit_ncf  gender_Female  gender_Joint  gender_Male  \\\n",
       "0            1.0             0.0            0.0           1.0          0.0   \n",
       "1            1.0             0.0            0.0           1.0          0.0   \n",
       "\n",
       "   gender_Sex Not Available  ...  secured_by_home  secured_by_land  \\\n",
       "0                       0.0  ...              1.0              0.0   \n",
       "1                       0.0  ...              1.0              0.0   \n",
       "\n",
       "   credit_type_CIB  credit_type_CRIF  credit_type_EQUI  credit_type_EXP  \\\n",
       "0              0.0               0.0               0.0              1.0   \n",
       "1              0.0               0.0               0.0              1.0   \n",
       "\n",
       "   co_applicant_credit_type_CIB  co_applicant_credit_type_EXP  \\\n",
       "0                           0.0                           1.0   \n",
       "1                           0.0                           1.0   \n",
       "\n",
       "   submission_of_application_not_inst  submission_of_application_to_inst  \\\n",
       "0                                 0.0                                1.0   \n",
       "1                                 1.0                                0.0   \n",
       "\n",
       "   region_North  region_North-East  region_central  region_south  \\\n",
       "0           1.0                0.0             0.0           0.0   \n",
       "1           1.0                0.0             0.0           0.0   \n",
       "\n",
       "   security_type_Indriect  security_type_direct  \n",
       "0                     0.0                   1.0  \n",
       "1                     0.0                   1.0  \n",
       "\n",
       "[2 rows x 58 columns]"
      ]
     },
     "execution_count": 644,
     "metadata": {},
     "output_type": "execute_result"
    }
   ],
   "source": [
    "X.head(2)"
   ]
  },
  {
   "attachments": {},
   "cell_type": "markdown",
   "id": "bbfb34e9",
   "metadata": {},
   "source": [
    "Сделаем последний обзор (без пайплайна). Смотреть info_final_without_pipe.txt"
   ]
  },
  {
   "cell_type": "code",
   "execution_count": 645,
   "id": "ac52f567",
   "metadata": {},
   "outputs": [],
   "source": [
    "with open('info_final_without_pipe.txt', 'w') as f:\n",
    "    for col_name, col_values in X.items():\n",
    "        f.write(f\"< {col_name} >\".center(100, \"-\") + \"\\n\")\n",
    "        f.write(f\"Data type: {col_values.dtype}\\n\")\n",
    "        f.write(f\"Is unique: {col_values.is_unique}\\n\")\n",
    "        f.write(f\"% of Nones: {col_values.isna().mean()}\\n\")\n",
    "\n",
    "        if col_values.dtype != 'O':\n",
    "            f.write(f\"Statistics:\\n{col_values.describe(percentiles=[.01, .05, .25, .5, .75, .95, .99])}\\n\")\n",
    "        else:\n",
    "            f.write(f\"Unique values:\\n{col_values.value_counts()}\\n\")"
   ]
  },
  {
   "cell_type": "code",
   "execution_count": 646,
   "id": "53739726",
   "metadata": {},
   "outputs": [
    {
     "name": "stdout",
     "output_type": "stream",
     "text": [
      "<class 'pandas.core.frame.DataFrame'>\n",
      "RangeIndex: 118936 entries, 0 to 118935\n",
      "Data columns (total 58 columns):\n",
      " #   Column                              Non-Null Count   Dtype  \n",
      "---  ------                              --------------   -----  \n",
      " 0   loan_amount                         118936 non-null  float64\n",
      " 1   rate_of_interest                    118936 non-null  float64\n",
      " 2   interest_rate_spread                118936 non-null  float64\n",
      " 3   upfront_charges                     118936 non-null  float64\n",
      " 4   property_value                      118936 non-null  float64\n",
      " 5   total_units                         118936 non-null  float64\n",
      " 6   income                              118936 non-null  float64\n",
      " 7   credit_score                        118936 non-null  int64  \n",
      " 8   age                                 118936 non-null  float64\n",
      " 9   ltv                                 118936 non-null  float64\n",
      " 10  loan_limit_cf                       118936 non-null  float64\n",
      " 11  loan_limit_ncf                      118936 non-null  float64\n",
      " 12  gender_Female                       118936 non-null  float64\n",
      " 13  gender_Joint                        118936 non-null  float64\n",
      " 14  gender_Male                         118936 non-null  float64\n",
      " 15  gender_Sex Not Available            118936 non-null  float64\n",
      " 16  approv_in_adv_nopre                 118936 non-null  float64\n",
      " 17  approv_in_adv_pre                   118936 non-null  float64\n",
      " 18  loan_type_type1                     118936 non-null  float64\n",
      " 19  loan_type_type2                     118936 non-null  float64\n",
      " 20  loan_type_type3                     118936 non-null  float64\n",
      " 21  loan_purpose_p1                     118936 non-null  float64\n",
      " 22  loan_purpose_p2                     118936 non-null  float64\n",
      " 23  loan_purpose_p3                     118936 non-null  float64\n",
      " 24  loan_purpose_p4                     118936 non-null  float64\n",
      " 25  credit_worthiness_l1                118936 non-null  float64\n",
      " 26  credit_worthiness_l2                118936 non-null  float64\n",
      " 27  open_credit_nopc                    118936 non-null  float64\n",
      " 28  open_credit_opc                     118936 non-null  float64\n",
      " 29  business_or_commercial_b/c          118936 non-null  float64\n",
      " 30  business_or_commercial_nob/c        118936 non-null  float64\n",
      " 31  neg_ammortization_neg_amm           118936 non-null  float64\n",
      " 32  neg_ammortization_not_neg           118936 non-null  float64\n",
      " 33  interest_only_int_only              118936 non-null  float64\n",
      " 34  interest_only_not_int               118936 non-null  float64\n",
      " 35  lump_sum_payment_lpsm               118936 non-null  float64\n",
      " 36  lump_sum_payment_not_lpsm           118936 non-null  float64\n",
      " 37  construction_type_mh                118936 non-null  float64\n",
      " 38  construction_type_sb                118936 non-null  float64\n",
      " 39  occupancy_type_ir                   118936 non-null  float64\n",
      " 40  occupancy_type_pr                   118936 non-null  float64\n",
      " 41  occupancy_type_sr                   118936 non-null  float64\n",
      " 42  secured_by_home                     118936 non-null  float64\n",
      " 43  secured_by_land                     118936 non-null  float64\n",
      " 44  credit_type_CIB                     118936 non-null  float64\n",
      " 45  credit_type_CRIF                    118936 non-null  float64\n",
      " 46  credit_type_EQUI                    118936 non-null  float64\n",
      " 47  credit_type_EXP                     118936 non-null  float64\n",
      " 48  co_applicant_credit_type_CIB        118936 non-null  float64\n",
      " 49  co_applicant_credit_type_EXP        118936 non-null  float64\n",
      " 50  submission_of_application_not_inst  118936 non-null  float64\n",
      " 51  submission_of_application_to_inst   118936 non-null  float64\n",
      " 52  region_North                        118936 non-null  float64\n",
      " 53  region_North-East                   118936 non-null  float64\n",
      " 54  region_central                      118936 non-null  float64\n",
      " 55  region_south                        118936 non-null  float64\n",
      " 56  security_type_Indriect              118936 non-null  float64\n",
      " 57  security_type_direct                118936 non-null  float64\n",
      "dtypes: float64(57), int64(1)\n",
      "memory usage: 52.6 MB\n"
     ]
    }
   ],
   "source": [
    "X.info()"
   ]
  },
  {
   "attachments": {},
   "cell_type": "markdown",
   "id": "d7ae6890",
   "metadata": {},
   "source": [
    "---"
   ]
  },
  {
   "attachments": {},
   "cell_type": "markdown",
   "id": "16f6bf71",
   "metadata": {},
   "source": [
    "<div class=\"alert alert-info\">\n",
    "  <h1><center>Pipeline (3 балла)</center></h1></div>"
   ]
  },
  {
   "attachments": {},
   "cell_type": "markdown",
   "id": "d9426edd",
   "metadata": {},
   "source": [
    "Соберите pipeline, который будет реализовывать все предыдущие трансформации"
   ]
  },
  {
   "cell_type": "code",
   "execution_count": null,
   "id": "4d886fb5",
   "metadata": {},
   "outputs": [],
   "source": []
  },
  {
   "cell_type": "code",
   "execution_count": null,
   "id": "175f3af1",
   "metadata": {},
   "outputs": [],
   "source": []
  },
  {
   "attachments": {},
   "cell_type": "markdown",
   "id": "cffd8076",
   "metadata": {},
   "source": [
    "---"
   ]
  },
  {
   "attachments": {},
   "cell_type": "markdown",
   "id": "8f7b944e",
   "metadata": {},
   "source": [
    "<div class=\"alert alert-info\">\n",
    "  <h1><center>Model (2 балла)</center></h1></div>"
   ]
  },
  {
   "attachments": {},
   "cell_type": "markdown",
   "id": "5cd109c3",
   "metadata": {},
   "source": [
    "Выберите любую из пройденных моделей и примените её к обработанному датасету"
   ]
  },
  {
   "cell_type": "code",
   "execution_count": null,
   "id": "591dee7b",
   "metadata": {},
   "outputs": [],
   "source": []
  },
  {
   "attachments": {},
   "cell_type": "markdown",
   "id": "e4787520",
   "metadata": {},
   "source": [
    "Оцените модель при помощи изученных метрик"
   ]
  },
  {
   "cell_type": "code",
   "execution_count": null,
   "id": "f9f40f53",
   "metadata": {},
   "outputs": [],
   "source": []
  },
  {
   "attachments": {},
   "cell_type": "markdown",
   "id": "2e025d0b",
   "metadata": {},
   "source": [
    "Что можно сделать, чтобы оптимизировать полученную модель?"
   ]
  },
  {
   "cell_type": "code",
   "execution_count": null,
   "id": "3333043e",
   "metadata": {},
   "outputs": [],
   "source": []
  },
  {
   "attachments": {},
   "cell_type": "markdown",
   "id": "3d48c1ab",
   "metadata": {},
   "source": [
    "---"
   ]
  },
  {
   "attachments": {},
   "cell_type": "markdown",
   "id": "e3557221",
   "metadata": {},
   "source": [
    "# <center>Удачи!</center>"
   ]
  }
 ],
 "metadata": {
  "kernelspec": {
   "display_name": "Python 3 (ipykernel)",
   "language": "python",
   "name": "python3"
  },
  "language_info": {
   "codemirror_mode": {
    "name": "ipython",
    "version": 3
   },
   "file_extension": ".py",
   "mimetype": "text/x-python",
   "name": "python",
   "nbconvert_exporter": "python",
   "pygments_lexer": "ipython3",
   "version": "3.10.7"
  }
 },
 "nbformat": 4,
 "nbformat_minor": 5
}
