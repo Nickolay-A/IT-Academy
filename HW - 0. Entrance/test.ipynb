{
 "cells": [
  {
   "attachments": {},
   "cell_type": "markdown",
   "metadata": {},
   "source": [
    "Бруцкий-Стемпковский Н.А.\n",
    "\n",
    "2023-02-27\n",
    "\n",
    "Тестовое задание по Основам DS"
   ]
  },
  {
   "cell_type": "code",
   "execution_count": 843,
   "metadata": {},
   "outputs": [],
   "source": [
    "import numpy as np\n",
    "import pandas as pd\n",
    "\n",
    "import random\n",
    "import string"
   ]
  },
  {
   "attachments": {},
   "cell_type": "markdown",
   "metadata": {},
   "source": [
    "1. Python и ООП\n",
    "\n",
    "1.1. Конволюции"
   ]
  },
  {
   "attachments": {},
   "cell_type": "markdown",
   "metadata": {},
   "source": [
    "Решим с помощью NumPy. Метод shape даст размерность входной матрицы, что позволит сразу инициализировать пустую заданного размера. Далее в цикле рассчитываем соответствующие знчения."
   ]
  },
  {
   "cell_type": "code",
   "execution_count": 844,
   "metadata": {},
   "outputs": [],
   "source": [
    "matrix  =  np.array([[  [240, 204,  49,  23, 210, 172, 231, 212,   4, 228],\n",
    "                        [139, 127, 222, 173, 109, 215, 104, 162, 171,  82],\n",
    "                        [112, 103,  63,  61,  91, 248, 236, 109,  23, 119], \n",
    "                        [120, 187, 177, 228,  28, 188, 139,  33,  68, 162], \n",
    "                        [ 63,   0,   9,   0, 157, 252, 171,  17, 221,  68], \n",
    "                        [ 39, 148, 243,  35,  64, 248,  60,  53, 247, 211]], \n",
    "                        [[ 37, 130, 237, 121,  71,   9, 179, 160, 220, 223],\n",
    "                        [ 34,  52, 209, 179, 102, 224, 163, 167,  54,  53], \n",
    "                        [ 57, 138, 192, 132,  74, 124, 170,  64,  17, 247], \n",
    "                        [201, 113, 106, 175,  15, 223, 212,  14, 133,  53],\n",
    "                        [ 35, 250, 183,  28,  72, 223, 202, 162, 252,   2], \n",
    "                        [150, 248,  29,   5,   7,  48, 209, 239, 183, 119]], \n",
    "                        [[ 73,  12, 104,  15,  51,  27, 187, 182,  88,  85], \n",
    "                        [120, 206,   3, 126, 200, 201, 153,  28,   9, 100], \n",
    "                        [ 88, 142,  14, 179, 193, 244,  30, 251,   2,  86], \n",
    "                        [168, 174,  30, 102,  24,  45, 174, 165,  90,  67], \n",
    "                        [227,  94, 130, 131,  56, 108, 235, 213,   9,  41], \n",
    "                        [ 49,  89,  16, 190, 207, 136, 176,  58, 153,  57]]])"
   ]
  },
  {
   "cell_type": "code",
   "execution_count": 845,
   "metadata": {},
   "outputs": [],
   "source": [
    "conv = np.empty([matrix.shape[0], matrix.shape[1] - 2, matrix.shape[2] - 2])\n",
    "\n",
    "for i in range(matrix.shape[0]):\n",
    "    for j in range(1, matrix.shape[1] - 1):\n",
    "        for k in range(1, matrix.shape[2] - 1):\n",
    "            sub_matrix = matrix[i, j-1:j+2, k-1:k+2]\n",
    "            conv[i, j-1, k-1] = np.mean(sub_matrix)"
   ]
  },
  {
   "cell_type": "code",
   "execution_count": 846,
   "metadata": {},
   "outputs": [],
   "source": [
    "# conv"
   ]
  },
  {
   "attachments": {},
   "cell_type": "markdown",
   "metadata": {},
   "source": [
    "Немного расширим функционал. Данный метод используют при обработке изображений, поэтому входная матрица именно трехслойная, хотя может быть и иной. А размер именно варьируется. Позволим обходить наше изображение окном большего размера:"
   ]
  },
  {
   "cell_type": "code",
   "execution_count": 847,
   "metadata": {},
   "outputs": [],
   "source": [
    "n = 5"
   ]
  },
  {
   "cell_type": "code",
   "execution_count": 848,
   "metadata": {},
   "outputs": [],
   "source": [
    "assert matrix.shape[1] > n \\\n",
    "       and matrix.shape[2] > n \\\n",
    "       and n > 0 \\\n",
    "       and n % 2 == 1 , \\\n",
    "       \"Неверный размер (должно быть нечётным и положительным, но не больше меньшего размера изображения)\"\n",
    "\n",
    "conv = np.empty([matrix.shape[0], matrix.shape[1] - n + 1, matrix.shape[2] - n + 1])\n",
    "\n",
    "for i in range(matrix.shape[0]):\n",
    "    for j in range(n//2, matrix.shape[1] - n//2):\n",
    "        for k in range(n//2, matrix.shape[2] - n//2):\n",
    "            sub_matrix = matrix[i, j-n//2:j+n//2+1, k-n//2:k+n//2+1]\n",
    "            conv[i, j-n//2, k-n//2] = np.mean(sub_matrix)"
   ]
  },
  {
   "cell_type": "code",
   "execution_count": 849,
   "metadata": {},
   "outputs": [],
   "source": [
    "# conv"
   ]
  },
  {
   "attachments": {},
   "cell_type": "markdown",
   "metadata": {},
   "source": [
    "1.2. Необитаемый остров"
   ]
  },
  {
   "attachments": {},
   "cell_type": "markdown",
   "metadata": {},
   "source": [
    "Определим базовый класс Human.\n",
    "\n",
    "Определим в нем базовые атрибуты и методы, которые будут присущи всем и кратко опишем их:\n",
    "1. Имя. По умолчанию можно генерить что-нибудь. Можно задавать. Почти бесполезный атрибут...\n",
    "2. Фамилия. По умолчанию можно генерить что-нибудь. Можно задавать. При замужестве женщина берет фамилию мужа. Чуть более полезный атрибут.\n",
    "3. Возраст. Полезный атрибут. Будем задавать числом месяцев, прожитых от рождения, так как временной шаг на острове - один месяц.\n",
    "4. О грустном... Определим сразу для каждого жителя дату его смерти... Продожительность жизни на острове распределена нормально с мат. ожиданием 960 месяцев и среднеквадратичным отклонением 100 месяцев. По достижении жителем указанного возраста он будет умирать. По достижении жителем возраста 216 месяцев - он становится взрослым.\n",
    "5. Цвет глаз. Атрибут. Генерится случайно.\n",
    "6. Цвет волос. Атрибут. Генерится случайно.\n",
    "7. Пол. Атрибут. Бинарный. Генераится случайно.\n",
    "8. Наличие родителей. Будет ссылка на родителей.\n",
    "9. Наличие детей.\n",
    "10. Наличие супрга/супруги.\n",
    "11. Текущий статус. Жив или мёрт...\n",
    "\n",
    "Базовые методы:\n",
    "1. Идти..\n",
    "2. Есть.. \n",
    "3. Спать..\n",
    "\n",
    "Пока бесполезны, так как пока в динамику Острова мы не вводим ничего кроме социальных отношений.\n",
    "\n",
    "Далее создадим путём наследования от данного класса мужчин и женщин. Сразу. Без промежуточной стадии. Промежуточные классы детей не обладают какими-то особыми способностями. Но при этом переход через совершеннолетие и создание нового объекта вызовет проблемы с изменением родственных связей.\n",
    "Поэтому определим в данном классе общие для всех методы, которые будут иметь соответствующую проверку на возраст.\n",
    "\n",
    "Возрастные методы:\n",
    "1. Играть\n",
    "2. Работать в поле\n",
    "\n",
    "В дальнейшем планируется создать класс Острова, в котором будут агрегироваться все экземпляры человеческих классов, там же будут описаны ивенты происходящие на Острове. Различные события будут вызывать у экземпляра класса различные служебные методы:\n",
    "\n",
    "Служебные методы:\n",
    "1. Увеличение возраста. Добавить единицу к возрасту и проверить, не умер ли житель от старости.\n",
    "2. Женитьба. Добавить в атрибут self.spouse ссылку на объект супруга/супруги.\n"
   ]
  },
  {
   "cell_type": "code",
   "execution_count": 850,
   "metadata": {},
   "outputs": [],
   "source": [
    "class Human:\n",
    "    \"\"\"\n",
    "    Базовый класс человека\n",
    "    \"\"\"\n",
    "\n",
    "    def __init__(self, name, surname, age, \n",
    "                       death_age, c_eye, c_hair, \n",
    "                       sex=None, parents=None, childrens=None, \n",
    "                       spouse=None, status=\"alive\"):\n",
    "        \"\"\"\n",
    "        Атрибуты:\n",
    "        name: str\n",
    "        surname: str\n",
    "        age: int\n",
    "        death_age: int\n",
    "        c_eye: str [\"blue\", \"green\", \"brown\"]\n",
    "        c_hair: str [\"blond\", \"brunett\", \"red\"]\n",
    "        sex: str [\"male\", \"female\"]\n",
    "        parents: tuple(object)\n",
    "        childrens: list(object)\n",
    "        spouse: object\n",
    "        status: str [\"alive\", \"dead\"]\n",
    "        \"\"\"\n",
    "        self.name = name\n",
    "        self.surname = surname\n",
    "        self.age = age\n",
    "        self.death_age = death_age\n",
    "        self.c_eye = c_eye\n",
    "        self.c_hair = c_hair\n",
    "        self.sex = sex\n",
    "        self.parents = parents\n",
    "        self.childrens = childrens\n",
    "        self.spouse = spouse\n",
    "        self.status = status\n",
    "    \n",
    "    def go(self):\n",
    "        \"\"\"\n",
    "        Базовый метод 1\n",
    "        \"\"\"\n",
    "        print(\"Иду по дороге из жёлтого кирпича\")\n",
    "\n",
    "    def eat(self):\n",
    "        \"\"\"\n",
    "        Базовый метод 2\n",
    "        \"\"\"\n",
    "        print(\"Ммм, вкусно!\")\n",
    "    \n",
    "    def slep(self):\n",
    "        \"\"\"\n",
    "        Базовый метод 3\n",
    "        \"\"\"\n",
    "        print(\"Разбудите в 6:30 утра\")\n",
    "    \n",
    "    def play(self):\n",
    "        \"\"\"\n",
    "        Возрастной метод 1\n",
    "        \"\"\"\n",
    "        if self.age < 216:\n",
    "            print(\"Играю на площадке\")\n",
    "        else:\n",
    "            print(\"Я уже вырос...\")\n",
    "    \n",
    "    def work(self):\n",
    "        \"\"\"\n",
    "        Возрастной метод 2\n",
    "        \"\"\"\n",
    "        if self.age < 216:\n",
    "            print(\"Я ещё слишком мал\")\n",
    "        else:\n",
    "            print(\"Работаю в поле\")\n",
    "        \n",
    "    def age_add(self):\n",
    "        \"\"\"\n",
    "        Служебный метод класса Человек. Добавляет +1 к возрасту и проверяет \n",
    "        достижение возраста смерти для данного экземпляра\n",
    "        \"\"\"\n",
    "        self.age += 1\n",
    "        if self.age == self.death_age:\n",
    "            self.status = \"dead\"\n",
    "    \n",
    "    def married(self, another):\n",
    "        \"\"\"\n",
    "        Служебный метод класса Человек. Указывает переданный объект как \n",
    "        супруга/супругу\n",
    "        \"\"\"\n",
    "        self.spouse = another\n",
    "    \n",
    "    def give_baby(self, another):\n",
    "        \"\"\"\n",
    "        Служебный метод класса Человек. Добавляет переданный объект как \n",
    "        ребенка\n",
    "        \"\"\"\n",
    "        if self.childrens is None:\n",
    "            self.childrens = [another]\n",
    "        else:\n",
    "            self.childrens.append(another)\n",
    "    \n",
    "    def set_parents(self, mother, father):\n",
    "        \"\"\"\n",
    "        Служебный метод класса Человек. Устанавливает переданные объект как \n",
    "        родителей\n",
    "        \"\"\"\n",
    "        self.parents = (mother, father)\n",
    "    \n",
    "    def get_name(self):\n",
    "        return f\"{self.name} {self.surname}\"\n"
   ]
  },
  {
   "attachments": {},
   "cell_type": "markdown",
   "metadata": {},
   "source": [
    "Создадим Классы Взрослых путём наследования от Класса Человек."
   ]
  },
  {
   "cell_type": "code",
   "execution_count": 851,
   "metadata": {},
   "outputs": [],
   "source": [
    "class Man(Human):\n",
    "    \"\"\"\n",
    "    Класс мужчины\n",
    "    \"\"\"\n",
    "    def __init__(self, name, surname, age, \n",
    "                       death_age, c_eye, c_hair, \n",
    "                       sex=\"male\", parents=None, childrens=None, \n",
    "                       spouse=None, status=\"alive\"):\n",
    "        \"\"\"\n",
    "        Дополнительных атрибутов нет\n",
    "        \"\"\"\n",
    "        super().__init__(name, surname, age, \n",
    "                         death_age, c_eye, c_hair, \n",
    "                         sex, parents, childrens, \n",
    "                         spouse, status)\n",
    "        \n",
    "    def hunt(self):\n",
    "        \"\"\"\n",
    "        Метод для взрослого мужчины 1\n",
    "        \"\"\"\n",
    "        print(\"Добываю мамонта\")"
   ]
  },
  {
   "cell_type": "code",
   "execution_count": 852,
   "metadata": {},
   "outputs": [],
   "source": [
    "class Woman(Human):\n",
    "    \"\"\"\n",
    "    Класс женщины\n",
    "    \"\"\"\n",
    "    def __init__(self, name, surname, age, \n",
    "                       death_age, c_eye, c_hair, \n",
    "                       sex=\"female\", parents=None, childrens=None, \n",
    "                       spouse=None, status=\"alive\", pregnancy_status=False, pregnancy_term=0):\n",
    "        \"\"\"\n",
    "        Доп атрибуты:\n",
    "        pregnancy_status: bool\n",
    "        pregnancy_term\n",
    "        \"\"\"\n",
    "        super().__init__(name, surname, age, \n",
    "                         death_age, c_eye, c_hair, \n",
    "                         sex, parents, childrens, \n",
    "                         spouse, status)\n",
    "        self.pregnancy_status = pregnancy_status\n",
    "        self.pregnancy_term = pregnancy_term\n",
    "    \n",
    "    def age_add(self):\n",
    "        \"\"\"\n",
    "        Служебный метод класса Женщина. Добавляет +1 к возрасту и проверяет \n",
    "        достижение возраста смерти для данного экземпляра\n",
    "        В случае беременности увеличивает срок беременности на 1.\n",
    "        \"\"\"\n",
    "        self.age += 1\n",
    "        if self.age == self.death_age:\n",
    "            self.status = \"dead\"\n",
    "        \n",
    "        if self.pregnancy_status:\n",
    "            self.pregnancy_term += 1\n",
    "    \n",
    "    def married(self, another):\n",
    "        \"\"\"\n",
    "        Служебный метод класса Женщина. Указывает переданный объект как \n",
    "        супруга/супругу\n",
    "        Меняет фамилию\n",
    "        \"\"\"\n",
    "        self.spouse = another\n",
    "        self.surname = another.surname"
   ]
  },
  {
   "attachments": {},
   "cell_type": "markdown",
   "metadata": {},
   "source": [
    "Создадим Класс Остров. Он будет:\n",
    "1. Агрегировать у себя всех жителей поддерживая актуальный список живых и умерших жителей\n",
    "2. По прошествии месяца всем живым жителям добавлять месяц жизни к возрасту, беременным женщиным - месяц к сроку беременности.\n",
    "3. По достижении срока беременности - создавать нового жителя.\n",
    "4. Создвать вероятные пары из незамужних/неженатых совершеннолетних жителей\n",
    "5. Для всех пар до 50 лет младшего супруга - ивент на возникновение беременности (аха...)\n",
    "6. Генерировать жителей при создании экземпляра класса"
   ]
  },
  {
   "cell_type": "code",
   "execution_count": 853,
   "metadata": {},
   "outputs": [],
   "source": [
    "class Island:\n",
    "    \"\"\"Класс Остров\"\"\"\n",
    "    def __init__(self, n=10, \n",
    "                 be_a_man_probability = 0.5,\n",
    "                 conception_probabity = 0.15,\n",
    "                 sympathy_probability = 0.25,\n",
    "                 added_common_probability = 0.05,\n",
    "                 twins_probabilty = 0.1):\n",
    "        \"\"\"\n",
    "        n: int (число попавших на остров жителей)\n",
    "        be_a_man_probability: float (0: 1) (вероятность попасть на остров/родиться мужчиной)\n",
    "        conception_probabity: float (0: 1) (вероятность зачатия ребенка у пары)\n",
    "        sympathy_probability: float (0: 1) (базовая вероятность симпатии)\n",
    "        added_common_probability: float (0: 1) (добавочная вероятность симпатии при совпадении цвета глаз или волос)\n",
    "        twins_probabilty: float (0: 1) (вероятность рождения двойни)\n",
    "        \"\"\"\n",
    "        self.alive_citizens = []\n",
    "        self.dead_citizens = []\n",
    "        self.be_a_man_probability = be_a_man_probability\n",
    "        self.conception_probabity = conception_probabity\n",
    "        self.sympathy_probability = sympathy_probability\n",
    "        self.added_common_probability = added_common_probability\n",
    "        self.twins_probabilty = twins_probabilty\n",
    "        \n",
    "        self.__generation(n)\n",
    "    \n",
    "    def __generate_random_string(self, length):\n",
    "        \"\"\"\n",
    "        Служебный метод класса Остров\n",
    "        Генерит рандомную строку заданной длины\n",
    "        \"\"\"\n",
    "        letters = string.ascii_lowercase\n",
    "        return ''.join(random.choice(letters) for i in range(length))\n",
    "\n",
    "    def __generation(self, n, surname=None, age=None, c_eye=None, c_hair=None, parents=None):\n",
    "        \"\"\"\n",
    "        Служебный метод класса остров\n",
    "        Генерирует случайным образом жителей Острова\n",
    "\n",
    "        Если не переданы дополнительные настройки, то параметры будут следующими:\n",
    "\n",
    "        Вероятности:\n",
    "        Случаное имя из 6 букв\n",
    "        Случайную фамилию из 10 букв\n",
    "        Случайный возраст от 20 до 70 лет в месяцах (равномерное распределение)\n",
    "        Случайный возраст смерти (однозначно больше текущего, нормальное распределение)\n",
    "        Случайный цвет глаз и волос\n",
    "        Случайный пол\n",
    "\n",
    "        Иначе функция используется для генерации ребенка:\n",
    "        Случаное имя из 6 букв\n",
    "        Берет фамилию родителей\n",
    "        Возраст = 0 (младенец)\n",
    "        Случайный возраст смерти (однозначно больше текущего, нормальное распределение)\n",
    "        Случайный цвет глаз и волос (совпадёт с одним из родителей)\n",
    "        Должен быть передан список родителей\n",
    "\n",
    "        После первой генерации вызовем служебный метод __dates для имитации того, что на Остров уже \n",
    "        попали супружеские пары\n",
    "        Семейных связей кроме как муж - жена при первой генерации больше не будет, ибо можно нагородить лес...\n",
    "        \"\"\"\n",
    "        for _ in range(n):\n",
    "            name = self.__generate_random_string(6)\n",
    "\n",
    "            if surname is None:\n",
    "                cur_surname = self.__generate_random_string(10)\n",
    "            else:\n",
    "                cur_surname = surname\n",
    "\n",
    "            if age is None:\n",
    "                cur_age = (np.random.randint(20, 71)) * 12\n",
    "            else:\n",
    "                cur_age = 0\n",
    "\n",
    "            cur_death_age = 0\n",
    "            while cur_death_age < cur_age:\n",
    "                cur_death_age = int(np.random.normal(loc=80, scale=8.3) * 12)\n",
    "\n",
    "            if c_eye is None:\n",
    "                cur_c_eye = random.choice([\"blue\", \"green\", \"brown\"])\n",
    "            else:\n",
    "                cur_c_eye = random.choice(c_eye)\n",
    "\n",
    "            if c_hair is None:\n",
    "                cur_c_hair = random.choice([\"blond\", \"brunett\", \"red\"])\n",
    "            else:\n",
    "                cur_c_hair = random.choice(c_hair)\n",
    "\n",
    "            args = [name, cur_surname, cur_age, cur_death_age, cur_c_eye, cur_c_hair]\n",
    "\n",
    "            if np.random.binomial(1, self.be_a_man_probability):\n",
    "                self.alive_citizens.append(Man(*args))\n",
    "            else:\n",
    "                self.alive_citizens.append(Woman(*args))\n",
    "            \n",
    "            if parents:\n",
    "                mother = parents[0]\n",
    "                father = parents[1]\n",
    "                baby = self.alive_citizens[-1]\n",
    "\n",
    "                mother.give_baby(baby)\n",
    "                father.give_baby(baby)\n",
    "                baby.set_parents(mother, father)\n",
    "            \n",
    "            if age is None:\n",
    "                self.__dates()\n",
    "    \n",
    "    def __conception(self):\n",
    "        \"\"\"\n",
    "        Метод, имитирующий зачатие у замужних женщин возрастом до 50 лет\n",
    "        \"\"\"\n",
    "        for citizen in self.alive_citizens:\n",
    "            if citizen.sex == \"female\" and not citizen.spouse is None and not citizen.pregnancy_status and citizen.age < 600:\n",
    "                if np.random.binomial(1, self.conception_probabity):\n",
    "                    citizen.pregnancy_status = True\n",
    "\n",
    "\n",
    "    def __dates(self):\n",
    "        \"\"\"\n",
    "        Метод, имитирующий образование новой пары из двух незамужних граждан\n",
    "        Формируется список незамужних и неженатых девушек и парней.\n",
    "        Формируются случайные пары. Число пар будет равно меньшей из длин списков.\n",
    "        Для каждой пары проверяется несовпадение прямых родителей\n",
    "        считается суммарная вероятность взаимной симпатии\n",
    "        В случае успеха у обоих объектов вызывается метод married\n",
    "        \"\"\"\n",
    "        non_married_women = []\n",
    "        non_married_men = []\n",
    "\n",
    "        for citizen in self.alive_citizens:\n",
    "            if citizen.age > 216 and citizen.spouse is None:\n",
    "                if citizen.sex == \"female\":\n",
    "                    non_married_women.append(citizen)\n",
    "                else:\n",
    "                    non_married_men.append(citizen)\n",
    "\n",
    "        while non_married_men and non_married_women:\n",
    "\n",
    "            guy = random.choice(non_married_men)\n",
    "            non_married_men.remove(guy)\n",
    "            \n",
    "            girl = random.choice(non_married_women)\n",
    "            non_married_women.remove(girl)\n",
    "\n",
    "            if guy.parents and guy.parents == girl.parents:\n",
    "                continue\n",
    "\n",
    "            total_probability = self.sympathy_probability\n",
    "\n",
    "            if girl.c_eye == guy.c_eye:\n",
    "                total_probability += self.added_common_probability\n",
    "            \n",
    "            if girl.c_hair == guy.c_hair:\n",
    "                total_probability += self.added_common_probability\n",
    "        \n",
    "            if np.random.binomial(1, total_probability):\n",
    "                guy.married(girl)\n",
    "                girl.married(guy)\n",
    "\n",
    "    def __childbirth(self):\n",
    "        \"\"\"\n",
    "        Метод, имитирующий рождение ребенка у беременной женщины\n",
    "        Вызывается служебный метод __generation, в который передается:\n",
    "        Число детей (возможна двойня)\n",
    "        фамилия ребенка\n",
    "        age = True - будет создан младенец\n",
    "        c_eye - цвет глаз у родителей\n",
    "        c_hair - цвет волос у родителей\n",
    "        список родителей - мама и папа.\n",
    "        \"\"\"\n",
    "        for citizen in self.alive_citizens:\n",
    "            if citizen.sex == \"female\" and citizen.pregnancy_status and citizen.pregnancy_term == 9:\n",
    "\n",
    "                citizen.pregnancy_status = False\n",
    "                citizen.pregnancy_term = 0\n",
    "                \n",
    "                mother = citizen\n",
    "                father = citizen.spouse\n",
    "\n",
    "                n = np.random.binomial(1, self.twins_probabilty) + 1\n",
    "\n",
    "                surname = mother.surname\n",
    "\n",
    "                age = True\n",
    "\n",
    "                c_eye = (mother.c_eye, father.c_eye)\n",
    "\n",
    "                c_hair = (mother.c_hair, father.c_hair)\n",
    "\n",
    "                parents = (mother, father)\n",
    "\n",
    "                self.__generation(n, surname, age, c_eye, c_hair, parents)\n",
    "    \n",
    "    def make_time_step(self, n=1):\n",
    "        \"\"\"\n",
    "        Метод, имитирующий прошествие одного (по умолчанию) месяца на Острове.\n",
    "        За это время:\n",
    "        Добавка всем жителям +1 к возрасту.\n",
    "        Убирает умерших жителей из списка граждан Острова.\n",
    "        Увеличивает срок беременности беременных женщин на 1. \n",
    "        По достижении срока беременности 9 месяцев - появляется ребенок (возможно не один)\n",
    "        Для всех жителей без второй половинки устраивает свидания (аха...)\n",
    "        У некотрых замужних не беременных женщин до 50 лет возрастом возникает беременность (аха..)\n",
    "        \"\"\"\n",
    "        for _ in range(n):\n",
    "            index = 0\n",
    "\n",
    "            while self.alive_citizens and index < len(self.alive_citizens):\n",
    "\n",
    "                citizen = self.alive_citizens[index]\n",
    "\n",
    "                citizen.age_add()\n",
    "                \n",
    "                if citizen.age == citizen.death_age:\n",
    "                    citizen.status = \"dead\"\n",
    "                    self.dead_citizens.append(citizen)\n",
    "                    self.alive_citizens.pop(index)\n",
    "                else:\n",
    "                    index += 1\n",
    "        \n",
    "            self.__conception()\n",
    "\n",
    "            self.__dates()\n",
    "\n",
    "            self.__childbirth()\n",
    "    \n",
    "    def get_lists(self):\n",
    "        \"\"\"\n",
    "        Метод, возвращаюащий перечень всех жителей Острова с их характеристиками\n",
    "        в виде Pandas DataFreim\n",
    "        \"\"\"\n",
    "        name = []\n",
    "        sex = []\n",
    "        age = []\n",
    "        c_eye = []\n",
    "        c_hair = []\n",
    "        parents = []\n",
    "        childrens = []\n",
    "        spouse = []\n",
    "        status = []\n",
    "        pregnancy = []\n",
    "\n",
    "        for citizen in self.alive_citizens + self.dead_citizens:\n",
    "\n",
    "            name.append(citizen.get_name())\n",
    "            sex.append(citizen.sex)\n",
    "            age.append(citizen.age//12)\n",
    "            c_eye.append(citizen.c_eye)\n",
    "            c_hair.append(citizen.c_hair)\n",
    "            \n",
    "            if citizen.parents:\n",
    "                parents.append(f\"{citizen.parents[0].get_name()}, {citizen.parents[1].get_name()}\")\n",
    "            else:\n",
    "                parents.append(None)\n",
    "            \n",
    "            if citizen.childrens:\n",
    "                childrens.append(\", \".join([obj.get_name() for obj in citizen.childrens]))\n",
    "            else:\n",
    "                childrens.append(None)\n",
    "            \n",
    "            if citizen.spouse:\n",
    "                spouse.append(citizen.spouse.get_name())\n",
    "            else:\n",
    "                spouse.append(None)\n",
    "            \n",
    "            status.append(citizen.status)\n",
    "\n",
    "            if citizen.sex == \"female\" and citizen.pregnancy_status:\n",
    "                pregnancy.append(citizen.pregnancy_term)\n",
    "            else:\n",
    "                pregnancy.append(None)\n",
    "            \n",
    "        \n",
    "        d = {\"Имя\": name, \"Пол\": sex, \"Возраст (полных лет)\": age,\n",
    "             \"Цвет_глаз\": c_eye, \"Цвет_волос\": c_hair,\n",
    "             \"Родители\": parents, \"Дети\": childrens, \"Супруг(а)\": spouse, \n",
    "             \"Статус\": status, \"Беременность\": pregnancy}\n",
    "        return pd.DataFrame(data=d)\n"
   ]
  },
  {
   "attachments": {},
   "cell_type": "markdown",
   "metadata": {},
   "source": [
    "Для работы необходимо создать объект Остров и при необходимости передать ему параметры (в скобках - значение по умолчанию):\n",
    "1. Размер числа жителей (10)\n",
    "2. Вероятность появления на Острове или рождения мальчика (0.5)\n",
    "3. Вероятность зачатия (0.15)\n",
    "4. Базовая вероятность взаимной симпатии (0.25)\n",
    "5. Добавочная вероятность взаимной симпатии при совпадении цвета волос или глаз, добавляется за каждый признак (0.05)\n",
    "6. Вероятность появления двойняшек/близнецов при рождении (0.1)\n",
    "\n",
    "Для управления Островом существует метод make_time_step, в который можно передать число месяцев, на которое можно \"промотать\" (по умолчанию равно 1).\n",
    "\n",
    "Для отображения результатов есть метод get_list (ничего не принимает на вход).\n",
    "\n",
    "При работе были использованы библиотеки Pandas, NumPy, встроенные модули random, string"
   ]
  },
  {
   "cell_type": "code",
   "execution_count": 854,
   "metadata": {},
   "outputs": [],
   "source": [
    "# paradise = Island()\n",
    "# paradise.make_time_step(5)\n",
    "# paradise.get_lists()"
   ]
  },
  {
   "attachments": {},
   "cell_type": "markdown",
   "metadata": {},
   "source": [
    "1.3. Работа с исключениями и логами"
   ]
  },
  {
   "attachments": {},
   "cell_type": "markdown",
   "metadata": {},
   "source": [
    "Определим функции, которые возбуждают исключения"
   ]
  },
  {
   "cell_type": "code",
   "execution_count": 855,
   "metadata": {},
   "outputs": [],
   "source": [
    "def func1():\n",
    "    if np.random.binomial(1, 0.5):\n",
    "        raise ValueError\n",
    "    else:\n",
    "        raise KeyError\n",
    "\n",
    "def func2():\n",
    "    if np.random.binomial(1, 0.5):\n",
    "        raise TypeError\n",
    "\n",
    "def func3():\n",
    "    if np.random.binomial(1, 0.5):\n",
    "        raise ZeroDivisionError\n"
   ]
  },
  {
   "cell_type": "code",
   "execution_count": 856,
   "metadata": {},
   "outputs": [],
   "source": [
    "def my_func():\n",
    "\n",
    "    for f in (func1, func2, func3):\n",
    "\n",
    "        log_file = open(\"log.txt\", \"a\")\n",
    "\n",
    "        try:\n",
    "            f()\n",
    "        except ValueError:\n",
    "            log_file.write(\"При вызове функции возникло исключение ValueError. Сделали то и то. Продолжаем.\" + \"\\n\")\n",
    "            pass\n",
    "        except KeyError:\n",
    "            log_file.write(\"При вызове функции возникло исключение KeyError. Сделали это и это. Продолжаем.\" + \"\\n\")\n",
    "            pass\n",
    "        except ZeroDivisionError:\n",
    "            log_file.write(\"При вызове функции возникло исключение ZeroDivisionError. Сделали то и другое. Продолжаем.\" + \"\\n\")\n",
    "            pass\n",
    "        except TypeError:\n",
    "            log_file.write(\"При вызове функции возникло исключение TypeError. Приплыли...\" + \"\\n\")\n",
    "            raise TypeError\n",
    "        finally:\n",
    "            log_file.close()\n",
    "    \n",
    "    print(\"Hello, world!\")"
   ]
  },
  {
   "cell_type": "code",
   "execution_count": 857,
   "metadata": {},
   "outputs": [],
   "source": [
    "# my_func()"
   ]
  },
  {
   "attachments": {},
   "cell_type": "markdown",
   "metadata": {},
   "source": [
    "2. Математика и логика\n",
    "\n",
    "2.1. Статистика случайной величины"
   ]
  },
  {
   "attachments": {},
   "cell_type": "markdown",
   "metadata": {},
   "source": [
    "Найдём выборочное среднее и выбочоное среднеквадратичное отклонение. Воспользуемся пакетом NumPy."
   ]
  },
  {
   "cell_type": "code",
   "execution_count": 858,
   "metadata": {},
   "outputs": [],
   "source": [
    "def stat(x):\n",
    "    x = np.array(x)\n",
    "\n",
    "    x_mean = np.sum(x) / x.size\n",
    "\n",
    "    x_std = np.sqrt(np.sum((x - x_mean)**2) / x.size)\n",
    "\n",
    "    return x_mean, x_std"
   ]
  },
  {
   "cell_type": "code",
   "execution_count": 859,
   "metadata": {},
   "outputs": [],
   "source": [
    "x = np.random.normal(loc=80, scale=8.3, size=50)"
   ]
  },
  {
   "cell_type": "code",
   "execution_count": 860,
   "metadata": {},
   "outputs": [
    {
     "data": {
      "text/plain": [
       "(79.08168513740458, 8.481448199678896)"
      ]
     },
     "execution_count": 860,
     "metadata": {},
     "output_type": "execute_result"
    }
   ],
   "source": [
    "stat(x)"
   ]
  },
  {
   "attachments": {},
   "cell_type": "markdown",
   "metadata": {},
   "source": [
    "Проверим результат, испольльзовав встроенные методы NumPy."
   ]
  },
  {
   "cell_type": "code",
   "execution_count": 861,
   "metadata": {},
   "outputs": [
    {
     "data": {
      "text/plain": [
       "True"
      ]
     },
     "execution_count": 861,
     "metadata": {},
     "output_type": "execute_result"
    }
   ],
   "source": [
    "(x.mean(), x.std(ddof=0)) == stat(x)"
   ]
  },
  {
   "attachments": {},
   "cell_type": "markdown",
   "metadata": {},
   "source": [
    "2.2. Площадь между кривыми двух функций"
   ]
  },
  {
   "attachments": {},
   "cell_type": "markdown",
   "metadata": {},
   "source": [
    "Определим сами функции, между которыми будем считать площадь. На вход они будут принимать последовательность. Можно не заморачиваться с входнными данными, так как жти функции будут вызываться другой функцией"
   ]
  },
  {
   "cell_type": "code",
   "execution_count": 862,
   "metadata": {},
   "outputs": [],
   "source": [
    "def func1(x):\n",
    "    \"\"\"\n",
    "    Функция № 1\n",
    "    \"\"\"\n",
    "    return x**2"
   ]
  },
  {
   "cell_type": "code",
   "execution_count": 863,
   "metadata": {},
   "outputs": [],
   "source": [
    "def func2(x):\n",
    "    \"\"\"\n",
    "    Функция № 2\n",
    "    \"\"\"\n",
    "    return x*2 - 3"
   ]
  },
  {
   "attachments": {},
   "cell_type": "markdown",
   "metadata": {},
   "source": [
    "Определим функцию, которая будет считать интеграл. На вход ей нужно подать функции, кортеж с интервалом и шаг интегрирования"
   ]
  },
  {
   "cell_type": "code",
   "execution_count": 864,
   "metadata": {},
   "outputs": [],
   "source": [
    "def integral_func(func1, func2, a, b, step):\n",
    "    \"\"\"\n",
    "    Функция считает площадь между графиками двух функций \n",
    "    на заданном интервал и с заданным шагом интегрирования\n",
    "    \"\"\"    \n",
    "    x = np.arange(a, b, step)\n",
    "\n",
    "    return np.sum(np.abs(func1(x) - func2(x)) * step)"
   ]
  },
  {
   "cell_type": "code",
   "execution_count": 865,
   "metadata": {},
   "outputs": [],
   "source": [
    "# integral_func(func1, func2, 0, 10, 0.001)"
   ]
  },
  {
   "attachments": {},
   "cell_type": "markdown",
   "metadata": {},
   "source": [
    "2.3. Веротность и математическое ожидание"
   ]
  },
  {
   "attachments": {},
   "cell_type": "markdown",
   "metadata": {},
   "source": [
    "При решении задачи воспользуемся двумя фактами:\n",
    "1. Наиболее вероятное число, которое выпадет, равно мат. ожиданию (хотя там может быть и дробное число, но мы просто опустим неудобный факт..)\n",
    "2. Матожидания можно складывать (то есть сумма очков при двух бросках будет стремиться к удвоенному мат. ожиданию)"
   ]
  },
  {
   "cell_type": "code",
   "execution_count": 866,
   "metadata": {},
   "outputs": [],
   "source": [
    "def get_dise_1_mean():\n",
    "    \"\"\"\n",
    "    Матожидание значения для первого кубика\n",
    "    \"\"\"\n",
    "    return sum(range(1, 17))/16"
   ]
  },
  {
   "cell_type": "code",
   "execution_count": 867,
   "metadata": {},
   "outputs": [],
   "source": [
    "def get_dise_2_mean():\n",
    "    \"\"\"\n",
    "    Матожидание значения для второго кубика\n",
    "    \"\"\"\n",
    "    return sum(map(lambda x: x * (80 - x) / 280, range(10, 71, 10)))"
   ]
  },
  {
   "cell_type": "code",
   "execution_count": 868,
   "metadata": {},
   "outputs": [
    {
     "data": {
      "text/plain": [
       "(8.5, 30.0)"
      ]
     },
     "execution_count": 868,
     "metadata": {},
     "output_type": "execute_result"
    }
   ],
   "source": [
    "get_dise_1_mean(), get_dise_2_mean()"
   ]
  },
  {
   "attachments": {},
   "cell_type": "markdown",
   "metadata": {},
   "source": [
    "Напишем функцию"
   ]
  },
  {
   "cell_type": "code",
   "execution_count": 869,
   "metadata": {},
   "outputs": [],
   "source": [
    "def get_best_choice(x):\n",
    "    \"\"\"\n",
    "    Функция возвращает лучшую стратегию броска в зависимости от результата оппонета\n",
    "    Выполняется проверка входных данных\n",
    "    \"\"\"\n",
    "    assert 11 <= x <= 96, \"Такого значения не может быть получено\"\n",
    "    \n",
    "    d = {get_dise_1_mean(): \"Лучше бросить 1 кубик 1 раз\",\n",
    "         get_dise_1_mean() * 2: \"Лучше бросить 1 кубик 2 раза\",\n",
    "         get_dise_1_mean() * 3: \"Лучше бросить 1 кубик 3 раза\",\n",
    "         get_dise_2_mean(): \"Лучше бросить 2 кубик 1 раз\",\n",
    "         get_dise_2_mean() * 2: \"Лучше бросить 2 кубик 2 раза\",\n",
    "         get_dise_2_mean() * 3: \"Лучше бросить 2 кубик 3 раза\",\n",
    "         get_dise_1_mean() + get_dise_2_mean(): \"Лучше бросить оба кубика по одному разу\"}\n",
    "\n",
    "    cur_diff = float(\"inf\")\n",
    "    cur_choice = None\n",
    "\n",
    "    for key in d.keys():\n",
    "        if abs(x - key) < cur_diff:\n",
    "            cur_diff = abs(x - key)\n",
    "            cur_choice = key\n",
    "    \n",
    "    return d[cur_choice]"
   ]
  },
  {
   "cell_type": "code",
   "execution_count": 870,
   "metadata": {},
   "outputs": [
    {
     "data": {
      "text/plain": [
       "('Лучше бросить 1 кубик 1 раз',\n",
       " 'Лучше бросить 1 кубик 3 раза',\n",
       " 'Лучше бросить 2 кубик 1 раз',\n",
       " 'Лучше бросить оба кубика по одному разу',\n",
       " 'Лучше бросить 2 кубик 3 раза')"
      ]
     },
     "execution_count": 870,
     "metadata": {},
     "output_type": "execute_result"
    }
   ],
   "source": [
    "get_best_choice(11), get_best_choice(22), get_best_choice(33), get_best_choice(44), get_best_choice(96)"
   ]
  },
  {
   "attachments": {},
   "cell_type": "markdown",
   "metadata": {},
   "source": [
    "Покажем, что выброшенное значение действиетльно сходится к рассчитанному мат. ожиданию (Закон больших чисел)"
   ]
  },
  {
   "cell_type": "code",
   "execution_count": 871,
   "metadata": {},
   "outputs": [],
   "source": [
    "dise_1 = pd.Series(range(1, 17))\n",
    "dise_2 = pd.Series([10] * 70 + [20] * 60 + [30] * 50 + [40] * 40 + [50] * 30 + [60] * 20 + [70] * 10)"
   ]
  },
  {
   "cell_type": "code",
   "execution_count": 872,
   "metadata": {},
   "outputs": [],
   "source": [
    "number_of_throws = 1000"
   ]
  },
  {
   "cell_type": "code",
   "execution_count": 873,
   "metadata": {},
   "outputs": [
    {
     "data": {
      "image/png": "[encoded data removed]",
      "text/plain": [
       "<Figure size 640x480 with 1 Axes>"
      ]
     },
     "metadata": {},
     "output_type": "display_data"
    }
   ],
   "source": [
    "pd.Series([dise_1.sample(n, replace=True).mean() for n in range(number_of_throws)]).plot();"
   ]
  },
  {
   "cell_type": "code",
   "execution_count": 874,
   "metadata": {},
   "outputs": [
    {
     "data": {
      "image/png": "[encoded data removed]",
      "text/plain": [
       "<Figure size 640x480 with 1 Axes>"
      ]
     },
     "metadata": {},
     "output_type": "display_data"
    }
   ],
   "source": [
    "pd.Series([dise_2.sample(n, replace=True).mean() for n in range(number_of_throws)]).plot();"
   ]
  }
 ],
 "metadata": {
  "kernelspec": {
   "display_name": "Python 3",
   "language": "python",
   "name": "python3"
  },
  "language_info": {
   "codemirror_mode": {
    "name": "ipython",
    "version": 3
   },
   "file_extension": ".py",
   "mimetype": "text/x-python",
   "name": "python",
   "nbconvert_exporter": "python",
   "pygments_lexer": "ipython3",
   "version": "3.10.7"
  },
  "orig_nbformat": 4,
  "vscode": {
   "interpreter": {
    "hash": "675efa2164b4d68bc170b71626ce358832a50394a91e4e740188cf16d916f1c1"
   }
  }
 },
 "nbformat": 4,
 "nbformat_minor": 2
}
