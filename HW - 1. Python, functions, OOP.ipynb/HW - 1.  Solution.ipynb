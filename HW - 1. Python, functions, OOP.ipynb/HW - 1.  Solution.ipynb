{
 "cells": [
  {
   "cell_type": "code",
   "execution_count": 1,
   "id": "f576342d",
   "metadata": {},
   "outputs": [],
   "source": [
    "import numpy as np\n",
    "from typing import List, Dict, Tuple, Iterable, Any, Callable, Union, Optional\n",
    "from math import log\n",
    "from collections import Counter"
   ]
  },
  {
   "cell_type": "markdown",
   "id": "5b751886",
   "metadata": {},
   "source": [
    "## Gini Score"
   ]
  },
  {
   "cell_type": "markdown",
   "id": "9db94293",
   "metadata": {},
   "source": [
    "$$Gini = 1 - \\sum p_{j}^{2}$$"
   ]
  },
  {
   "cell_type": "code",
   "execution_count": 2,
   "id": "87ed8117",
   "metadata": {},
   "outputs": [],
   "source": [
    "def gini_score(values: Iterable) -> float:\n",
    "    counts = Counter(values)\n",
    "    total = sum(counts.values())\n",
    "    return 1 - sum(\n",
    "                    (cnt / total) ** 2 \n",
    "                    for cnt\n",
    "                    in counts.values()\n",
    "                )"
   ]
  },
  {
   "cell_type": "code",
   "execution_count": 3,
   "id": "f04e1f9b",
   "metadata": {},
   "outputs": [
    {
     "data": {
      "text/plain": [
       "Counter({'A': 6, 'B': 1, 'C': 1, 'D': 1})"
      ]
     },
     "execution_count": 3,
     "metadata": {},
     "output_type": "execute_result"
    }
   ],
   "source": [
    "Counter([\"A\", \"A\", \"A\", \"A\", \"B\", \"A\", \"A\", \"C\", \"D\"])"
   ]
  },
  {
   "cell_type": "code",
   "execution_count": 4,
   "id": "6dcd795e",
   "metadata": {},
   "outputs": [
    {
     "data": {
      "text/plain": [
       "(0.5185185185185186, 0.6111111111111112)"
      ]
     },
     "execution_count": 4,
     "metadata": {},
     "output_type": "execute_result"
    }
   ],
   "source": [
    "gini_score([\"A\", \"A\", \"A\", \"A\", \"B\", \"A\", \"A\", \"C\", \"D\"]), gini_score([1, 2, 1, 2, 0, 1])"
   ]
  },
  {
   "cell_type": "markdown",
   "id": "4dd116d5",
   "metadata": {},
   "source": [
    "## Entropy score"
   ]
  },
  {
   "cell_type": "markdown",
   "id": "e5f2d4d9",
   "metadata": {},
   "source": [
    "$$Entropy = - \\sum p_{j}\\log p_{j}$$"
   ]
  },
  {
   "cell_type": "code",
   "execution_count": 5,
   "id": "9c08abd6",
   "metadata": {},
   "outputs": [],
   "source": [
    "def entropy_score(values: Iterable) -> float:\n",
    "    total  = len(values)\n",
    "    return - sum((\n",
    "                    (cnt / total) * log(cnt / total)\n",
    "                    for cnt\n",
    "                    in  Counter(values).values()\n",
    "                ))"
   ]
  },
  {
   "cell_type": "code",
   "execution_count": 6,
   "id": "2b8d8255",
   "metadata": {},
   "outputs": [
    {
     "data": {
      "text/plain": [
       "8.517193191415725"
      ]
     },
     "execution_count": 6,
     "metadata": {},
     "output_type": "execute_result"
    }
   ],
   "source": [
    "entropy_score(list(range(5_000)))"
   ]
  },
  {
   "cell_type": "markdown",
   "id": "8267b887",
   "metadata": {},
   "source": [
    "## MSE Score"
   ]
  },
  {
   "cell_type": "markdown",
   "id": "9fc52bf9",
   "metadata": {},
   "source": [
    "$$MSE = \\sum_{i=0}^{n} \\frac{(\\hat{y}_{i} - y_{i})^{2}}{n}$$"
   ]
  },
  {
   "cell_type": "code",
   "execution_count": 7,
   "id": "54d7b9e8",
   "metadata": {},
   "outputs": [],
   "source": [
    "values = np.random.randint(0, 100, size=1_000_000)"
   ]
  },
  {
   "cell_type": "code",
   "execution_count": 8,
   "id": "dc4af1b6",
   "metadata": {},
   "outputs": [],
   "source": [
    "def mse_score(values: Iterable) -> float:\n",
    "    total = len(values)\n",
    "    mean  = sum(values) / total\n",
    "    return sum(\n",
    "                (val - mean)**2\n",
    "                for val\n",
    "                in values\n",
    "            ) / total"
   ]
  },
  {
   "cell_type": "code",
   "execution_count": 9,
   "id": "52a794a6",
   "metadata": {
    "scrolled": true
   },
   "outputs": [
    {
     "name": "stdout",
     "output_type": "stream",
     "text": [
      "324 ms ± 3.85 ms per loop (mean ± std. dev. of 7 runs, 1 loop each)\n"
     ]
    }
   ],
   "source": [
    "%%timeit\n",
    "\n",
    "mse_score(values=values)"
   ]
  },
  {
   "cell_type": "code",
   "execution_count": 10,
   "id": "916111af",
   "metadata": {},
   "outputs": [],
   "source": [
    "def mse_score(values: Iterable) -> float:\n",
    "    counts = Counter(values)\n",
    "    total = sum(counts.values())\n",
    "    mean  = sum(values) / total\n",
    "    return sum(\n",
    "                val_count * (val - mean)**2\n",
    "                for val, val_count\n",
    "                in counts.items()\n",
    "            ) / total"
   ]
  },
  {
   "cell_type": "code",
   "execution_count": 11,
   "id": "24d5fd82",
   "metadata": {
    "scrolled": true
   },
   "outputs": [
    {
     "name": "stdout",
     "output_type": "stream",
     "text": [
      "95.7 ms ± 2.73 ms per loop (mean ± std. dev. of 7 runs, 10 loops each)\n"
     ]
    }
   ],
   "source": [
    "%%timeit\n",
    "\n",
    "mse_score(values=values)"
   ]
  },
  {
   "cell_type": "code",
   "execution_count": 12,
   "id": "c50067e3",
   "metadata": {},
   "outputs": [
    {
     "data": {
      "text/plain": [
       "1.688"
      ]
     },
     "execution_count": 12,
     "metadata": {},
     "output_type": "execute_result"
    }
   ],
   "source": [
    "mse_score([-0.1, -2.0, 1.0, 1.8, 0.8])"
   ]
  },
  {
   "cell_type": "markdown",
   "id": "5dfae414",
   "metadata": {},
   "source": [
    "## RMSE Score"
   ]
  },
  {
   "cell_type": "markdown",
   "id": "9357cdc1",
   "metadata": {},
   "source": [
    "$$RMSE = \\sqrt{\\sum_{i=0}^{n} \\frac{(\\hat{y}_{i} - y_{i})^{2}}{n}}$$"
   ]
  },
  {
   "cell_type": "code",
   "execution_count": 13,
   "id": "739bc2fb",
   "metadata": {},
   "outputs": [],
   "source": [
    "from math import sqrt\n",
    "\n",
    "\n",
    "def rmse_score(values: Iterable) -> float:\n",
    "    return sqrt(mse_score(values))"
   ]
  },
  {
   "cell_type": "code",
   "execution_count": 14,
   "id": "8e208f1d",
   "metadata": {},
   "outputs": [
    {
     "data": {
      "text/plain": [
       "1.2992305415129373"
      ]
     },
     "execution_count": 14,
     "metadata": {},
     "output_type": "execute_result"
    }
   ],
   "source": [
    "rmse_score([-0.1, -2.0, 1.0, 1.8, 0.8])"
   ]
  },
  {
   "cell_type": "markdown",
   "id": "c2e28e52",
   "metadata": {},
   "source": [
    "## MAPE score"
   ]
  },
  {
   "cell_type": "markdown",
   "id": "d6853a04",
   "metadata": {},
   "source": [
    "$$MAPE = \\frac{100}{n} * \\sum{\\mid \\frac{y^{'}_{i} - y_{i}}{y_{i}} \\mid}$$"
   ]
  },
  {
   "cell_type": "code",
   "execution_count": 15,
   "id": "55b1c73e",
   "metadata": {},
   "outputs": [],
   "source": [
    "def mape_score(values: Iterable) -> float:\n",
    "    counts = Counter(values)\n",
    "    counts.pop(0)  # Выбрасываем нулевое значение\n",
    "    total = sum(counts.values())\n",
    "    mean = sum(values) / total\n",
    "    return 100 / total * sum(\n",
    "                                val_count * abs((val - mean) / val)\n",
    "                                for val, val_count\n",
    "                                in counts.items()\n",
    "                            )"
   ]
  },
  {
   "cell_type": "code",
   "execution_count": 16,
   "id": "339560db",
   "metadata": {},
   "outputs": [
    {
     "data": {
      "text/plain": [
       "146.16666666666669"
      ]
     },
     "execution_count": 16,
     "metadata": {},
     "output_type": "execute_result"
    }
   ],
   "source": [
    "mape_score([-0.1, -2.0, 1.0, 0, 1.8, 0.8, 0, 0])"
   ]
  },
  {
   "cell_type": "markdown",
   "id": "9e8bd073",
   "metadata": {},
   "source": [
    "## Взвешенная оценка"
   ]
  },
  {
   "cell_type": "markdown",
   "id": "731e90f9",
   "metadata": {},
   "source": [
    "$$Gini_{total} = \\frac{N_{A}}{N_{A} + N_{B}}Gini_{A} + \\frac{N_{B}}{N_{A} + N_{B}}Gini_{B} = \\frac{6}{9}*0.611 + \\frac{3}{9}*0.444 = 0.556$$"
   ]
  },
  {
   "cell_type": "code",
   "execution_count": 17,
   "id": "e9677124",
   "metadata": {},
   "outputs": [],
   "source": [
    "def weighted_metric_score(metric: Callable, *items: Iterable) -> float:\n",
    "    total = sum(map(len, items))\n",
    "    return sum(\n",
    "                metric(vals) * len(vals)\n",
    "                for vals\n",
    "                in items\n",
    "            ) / total"
   ]
  },
  {
   "cell_type": "code",
   "execution_count": 18,
   "id": "43d2e8c1",
   "metadata": {
    "scrolled": false
   },
   "outputs": [
    {
     "data": {
      "text/plain": [
       "0.5555555555555556"
      ]
     },
     "execution_count": 18,
     "metadata": {},
     "output_type": "execute_result"
    }
   ],
   "source": [
    "weighted_metric_score(gini_score, [1, 1, 2, 1, 3, 2], [3, 3, 2])"
   ]
  },
  {
   "cell_type": "markdown",
   "id": "b454d8dc",
   "metadata": {},
   "source": [
    "## Разделенение группы"
   ]
  },
  {
   "cell_type": "code",
   "execution_count": 21,
   "id": "b22b2760",
   "metadata": {},
   "outputs": [],
   "source": [
    "def split_target_by_feature(targets: Iterable, features: Iterable, split_value: Union[int, float]) -> Tuple[Iterable, Iterable]:\n",
    "    return (\n",
    "            [val for ind, val in zip(features, targets) if ind <= split_value],\n",
    "            [val for ind, val in zip(features, targets) if ind >  split_value],\n",
    "        )"
   ]
  },
  {
   "cell_type": "code",
   "execution_count": 22,
   "id": "5ed7f977",
   "metadata": {},
   "outputs": [],
   "source": [
    "def split_target_by_feature(targets: Iterable, features: Iterable, split_value: Union[int, float]) -> Tuple[Iterable, Iterable]:\n",
    "    left  = []\n",
    "    right = []\n",
    "    for ind, val in zip(features, targets):\n",
    "        if ind <= split_value:\n",
    "            left.append(val)\n",
    "        else:\n",
    "            right.append(val)\n",
    "    return left, right"
   ]
  },
  {
   "cell_type": "code",
   "execution_count": 23,
   "id": "6371db7c",
   "metadata": {},
   "outputs": [
    {
     "data": {
      "text/plain": [
       "([1, 1, 1, 1, 2, 1, 1, 3, 4], [2, 2, 3, 1])"
      ]
     },
     "execution_count": 23,
     "metadata": {},
     "output_type": "execute_result"
    }
   ],
   "source": [
    "split_target_by_feature(targets=[1,1,2,2,1,1,2,1,3,1,3,4,1], features=[3,1,9,9,1,5,2,1,7,1,3,4,9], split_value=5)"
   ]
  },
  {
   "cell_type": "markdown",
   "id": "205b95b9",
   "metadata": {},
   "source": [
    "### Поиск оптимального \"делителя\""
   ]
  },
  {
   "cell_type": "code",
   "execution_count": 27,
   "id": "6d991fc5",
   "metadata": {},
   "outputs": [],
   "source": [
    "from typing import NamedTuple"
   ]
  },
  {
   "cell_type": "code",
   "execution_count": 28,
   "id": "1f86fee5",
   "metadata": {},
   "outputs": [],
   "source": [
    "class SplitValueScore(NamedTuple):\n",
    "    value: Union[int, float, str]\n",
    "    score: float"
   ]
  },
  {
   "cell_type": "code",
   "execution_count": 43,
   "id": "431cd12b",
   "metadata": {},
   "outputs": [],
   "source": [
    "from dataclasses import dataclass"
   ]
  },
  {
   "cell_type": "code",
   "execution_count": 54,
   "id": "97c04a05",
   "metadata": {},
   "outputs": [],
   "source": [
    "@dataclass(repr=False)\n",
    "class SplitValueScore:\n",
    "    value: Union[int, float, str]\n",
    "    score: float"
   ]
  },
  {
   "cell_type": "code",
   "execution_count": 52,
   "id": "af6af79f",
   "metadata": {},
   "outputs": [],
   "source": [
    "class SplitValueScore:\n",
    "\n",
    "    max_value = 0\n",
    "    \n",
    "    def __init__(self, value, score):\n",
    "        self.value = value\n",
    "        self.score = score\n",
    "        SplitValueScore.max_value = max(SplitValueScore.max_value, self.score)"
   ]
  },
  {
   "cell_type": "code",
   "execution_count": 55,
   "id": "2ff92a54",
   "metadata": {},
   "outputs": [
    {
     "data": {
      "text/plain": [
       "<__main__.SplitValueScore at 0x24352febc10>"
      ]
     },
     "execution_count": 55,
     "metadata": {},
     "output_type": "execute_result"
    }
   ],
   "source": [
    "s1  = SplitValueScore(value=3, score=.02)\n",
    "s1"
   ]
  },
  {
   "cell_type": "code",
   "execution_count": 51,
   "id": "f5c2a181",
   "metadata": {},
   "outputs": [],
   "source": [
    "s1.value = 34"
   ]
  },
  {
   "cell_type": "code",
   "execution_count": 34,
   "id": "9338c43a",
   "metadata": {},
   "outputs": [
    {
     "data": {
      "text/plain": [
       "3"
      ]
     },
     "execution_count": 34,
     "metadata": {},
     "output_type": "execute_result"
    }
   ],
   "source": [
    "s1.value"
   ]
  },
  {
   "cell_type": "code",
   "execution_count": 35,
   "id": "3952f826",
   "metadata": {},
   "outputs": [],
   "source": [
    "def find_best_split_value(score_func: Callable, targets: Iterable, features: Iterable) -> SplitValueScore:\n",
    "    options = {\n",
    "                split_value: split_target_by_feature(\n",
    "                                                        targets     = targets,\n",
    "                                                        features    = features,\n",
    "                                                        split_value = split_value\n",
    "                                                    )\n",
    "                for split_value\n",
    "                in set(features)\n",
    "            }\n",
    "    scores = {\n",
    "                split_value: weighted_metric_score(score_func, *split_results)\n",
    "                for split_value, split_results\n",
    "                in options.items()\n",
    "            }\n",
    "    best_split_value, min_score = min(scores.items(), key=lambda tup: tup[1])\n",
    "    return SplitValueScore(value=best_split_value, score=min_score)"
   ]
  },
  {
   "cell_type": "code",
   "execution_count": 36,
   "id": "66a0efde",
   "metadata": {},
   "outputs": [
    {
     "data": {
      "text/plain": [
       "SplitValueScore(value=1, score=0.49572649572649574)"
      ]
     },
     "execution_count": 36,
     "metadata": {},
     "output_type": "execute_result"
    }
   ],
   "source": [
    "find_best_split_value(score_func=gini_score, targets=[1,1,2,2,1,1,2,1,3,1,3,4,1], features=[3,1,9,9,1,5,2,1,7,1,3,4,9])"
   ]
  },
  {
   "cell_type": "code",
   "execution_count": 39,
   "id": "2eaa1b31",
   "metadata": {},
   "outputs": [],
   "source": [
    "score_func = gini_score\n",
    "targets    = [1,1,2,2,1,1,2,1,3,1,3,4,1]\n",
    "features   = [[0,1,2,3,0,2,3,1,2,2,3,0,0],\n",
    "              [3,3,2,2,2,2,2,2,7,1,3,4,9],\n",
    "              [3,1,9,9,1,5,2,1,7,1,3,4,9],\n",
    "              [0,1,2,3,0,2,3,1,2,2,3,0,0],\n",
    "              [3,1,9,9,1,5,2,1,7,1,3,4,9]]"
   ]
  },
  {
   "cell_type": "code",
   "execution_count": 41,
   "id": "ff05bb36",
   "metadata": {},
   "outputs": [],
   "source": [
    "def find_best_split_feature(score_func: Callable, targets: Iterable, features: Iterable) -> int:\n",
    "    features_split_options = (\n",
    "                                (i, find_best_split_value(score_func=score_func, targets=targets, features=row))\n",
    "                                for i, row\n",
    "                                in enumerate(features)\n",
    "                            )\n",
    "    best_feature_ind, split_value_score = min(features_split_options, key=lambda tup: tup[1].score)\n",
    "    return best_feature_ind, split_value_score"
   ]
  },
  {
   "cell_type": "code",
   "execution_count": 42,
   "id": "f53b82df",
   "metadata": {},
   "outputs": [
    {
     "data": {
      "text/plain": [
       "(0, SplitValueScore(value=2, score=0.47179487179487184))"
      ]
     },
     "execution_count": 42,
     "metadata": {},
     "output_type": "execute_result"
    }
   ],
   "source": [
    "find_best_split_feature(score_func, targets, features)"
   ]
  },
  {
   "cell_type": "markdown",
   "id": "ea92e5a8",
   "metadata": {},
   "source": [
    "## Node"
   ]
  },
  {
   "cell_type": "code",
   "execution_count": 52,
   "id": "0803cecd",
   "metadata": {},
   "outputs": [],
   "source": [
    "from itertools import count"
   ]
  },
  {
   "cell_type": "code",
   "execution_count": 82,
   "id": "e3406a34",
   "metadata": {},
   "outputs": [],
   "source": [
    "class Node:\n",
    "\n",
    "    counter = count()\n",
    "\n",
    "    def __init__(self, values: Iterable, parent: Optional[\"Node\"] = None, children: Optional[List[\"Node\"]] = None):\n",
    "        self.values = values\n",
    "        self.parent = parent\n",
    "        self.children = children\n",
    "        self.id = next(Node.counter)\n",
    "\n",
    "    def __repr__(self) -> str:\n",
    "        return f\"Node {self.id}\"\n",
    "\n",
    "    def is_root(self) -> bool:\n",
    "        return self.parent is None\n",
    "\n",
    "    def is_leaf(self) -> bool:\n",
    "        return self.children is None\n"
   ]
  },
  {
   "cell_type": "code",
   "execution_count": 83,
   "id": "ba249133",
   "metadata": {},
   "outputs": [],
   "source": [
    "node_1 = Node(values=[1,2,3])\n",
    "node_2 = Node(values=[2,3], parent=node_1)"
   ]
  },
  {
   "cell_type": "code",
   "execution_count": 86,
   "id": "36f602cd",
   "metadata": {},
   "outputs": [
    {
     "data": {
      "text/plain": [
       "0"
      ]
     },
     "execution_count": 86,
     "metadata": {},
     "output_type": "execute_result"
    }
   ],
   "source": [
    "node_1.id"
   ]
  },
  {
   "cell_type": "code",
   "execution_count": 87,
   "id": "789604d0",
   "metadata": {},
   "outputs": [
    {
     "data": {
      "text/plain": [
       "1"
      ]
     },
     "execution_count": 87,
     "metadata": {},
     "output_type": "execute_result"
    }
   ],
   "source": [
    "node_2.id"
   ]
  },
  {
   "cell_type": "markdown",
   "id": "607e39a9",
   "metadata": {},
   "source": [
    "## Condition & ConditionsGroup"
   ]
  },
  {
   "cell_type": "code",
   "execution_count": 12,
   "id": "de43efbd",
   "metadata": {},
   "outputs": [],
   "source": [
    "from functools import reduce\n",
    "from operator import add"
   ]
  },
  {
   "cell_type": "code",
   "execution_count": 13,
   "id": "5670f0d5",
   "metadata": {},
   "outputs": [],
   "source": [
    "class ConditionsGroup:\n",
    "\n",
    "    def __init__(self, conditions: List[\"Condition\"]):\n",
    "        self.conditions = conditions\n",
    "\n",
    "    def __repr__(self) -> str:\n",
    "        return \" | \".join(map(str, self.conditions))\n",
    "\n",
    "    def __add__(self, other: Union[\"Condition\", \"ConditionsGroup\"]) -> \"ConditionsGroup\":\n",
    "        if isinstance(other, ConditionsGroup):\n",
    "            return reduce(add, [*self.conditions, *other.conditions])\n",
    "        else:\n",
    "            return other + self\n"
   ]
  },
  {
   "cell_type": "code",
   "execution_count": 14,
   "id": "b42b4122",
   "metadata": {},
   "outputs": [],
   "source": [
    "class Condition:\n",
    "\n",
    "    def __init__(self, feature: Union[str, int], greater: bool, value: Union[int, float]):\n",
    "        self.feature = feature\n",
    "        self.greater = greater\n",
    "        self.value = value\n",
    "\n",
    "    def __repr__(self) -> str:\n",
    "        sign = \">\" if self.greater else \"<=\"\n",
    "        return f\"{self.feature} {sign} {self.value}\"\n",
    "\n",
    "    def __add__(self, other: Union[\"Condition\", ConditionsGroup]) -> Union[\"Condition\", ConditionsGroup]:\n",
    "        if isinstance(other, Condition):\n",
    "            return self._add_to_condition(other=other)\n",
    "        if isinstance(other, ConditionsGroup):\n",
    "            return self._add_to_conditions_group(other=other)\n",
    "        raise ValueError(\"Expected or Condition or ConditionsGroup\")\n",
    "\n",
    "    def is_like(self, other: \"Condition\") -> bool:\n",
    "        return (self.feature == other.feature) & (self.greater == other.greater)\n",
    "\n",
    "    def _add_to_condition(self, other: \"Condition\") -> Union[\"Condition\", ConditionsGroup]:\n",
    "        if not self.is_like(other):\n",
    "            return ConditionsGroup(conditions=[self, other])\n",
    "        if self.greater:\n",
    "            value = max(self.value, other.value)\n",
    "        else:\n",
    "            value = min(self.value, other.value)\n",
    "        return Condition(feature=self.feature, greater=self.greater, value=value)\n",
    "\n",
    "    def _add_to_conditions_group(self, other: ConditionsGroup) -> ConditionsGroup:\n",
    "        similar_conditions   = [c for c in other.conditions if self.is_like(c)]\n",
    "        different_conditions = [c for c in other.conditions if not self.is_like(c)]\n",
    "        united_condition = reduce(add, similar_conditions, self)\n",
    "        return ConditionsGroup(conditions=[united_condition, *different_conditions])\n"
   ]
  },
  {
   "cell_type": "code",
   "execution_count": 15,
   "id": "ff3d143b",
   "metadata": {},
   "outputs": [],
   "source": [
    "c1 = Condition(feature=\"рост\", greater=False, value=180)\n",
    "c2 = Condition(feature=\"рост\", greater=True, value=160)\n",
    "c3 = Condition(feature=\"рост\", greater=True, value=150)\n",
    "\n",
    "c4 = Condition(feature=\"вес\", greater=False, value=90)\n",
    "c5 = Condition(feature=\"вес\", greater=False, value=85)\n",
    "c6 = Condition(feature=\"вес\", greater=True, value=45)"
   ]
  },
  {
   "cell_type": "code",
   "execution_count": 16,
   "id": "aa76186d",
   "metadata": {},
   "outputs": [
    {
     "data": {
      "text/plain": [
       "(рост <= 180, рост > 160)"
      ]
     },
     "execution_count": 16,
     "metadata": {},
     "output_type": "execute_result"
    }
   ],
   "source": [
    "c1, c2"
   ]
  },
  {
   "cell_type": "code",
   "execution_count": 17,
   "id": "4917d22c",
   "metadata": {
    "scrolled": true
   },
   "outputs": [
    {
     "data": {
      "text/plain": [
       "рост > 160 | вес <= 85 | рост <= 180"
      ]
     },
     "execution_count": 17,
     "metadata": {},
     "output_type": "execute_result"
    }
   ],
   "source": [
    "c2 + c3 + c1 + (c3 + c4 + c5)"
   ]
  },
  {
   "cell_type": "code",
   "execution_count": 18,
   "id": "651011b8",
   "metadata": {},
   "outputs": [
    {
     "data": {
      "text/plain": [
       "вес > 45 | вес <= 85 | рост > 160 | рост <= 180"
      ]
     },
     "execution_count": 18,
     "metadata": {},
     "output_type": "execute_result"
    }
   ],
   "source": [
    "sum([c1, c2, c3, c4, c5, c6], start=c1)"
   ]
  },
  {
   "cell_type": "markdown",
   "id": "7e089869",
   "metadata": {},
   "source": [
    "---"
   ]
  },
  {
   "cell_type": "markdown",
   "id": "e9b23de0",
   "metadata": {},
   "source": [
    "# Decorators"
   ]
  },
  {
   "cell_type": "code",
   "execution_count": 61,
   "id": "e7a7c56c",
   "metadata": {},
   "outputs": [],
   "source": [
    "def say_hello(name: str, times: int = 1) -> str:\n",
    "    return f\"Hello, {name}\" + \"!\" * times"
   ]
  },
  {
   "cell_type": "code",
   "execution_count": 60,
   "id": "e6a4ce76",
   "metadata": {},
   "outputs": [
    {
     "data": {
      "text/plain": [
       "'Hello, sergei!!!!'"
      ]
     },
     "execution_count": 60,
     "metadata": {},
     "output_type": "execute_result"
    }
   ],
   "source": [
    "say_hello(\"sergei\", times=4)"
   ]
  },
  {
   "cell_type": "code",
   "execution_count": 62,
   "id": "806ce805",
   "metadata": {},
   "outputs": [
    {
     "data": {
      "text/plain": [
       "'Sergei'"
      ]
     },
     "execution_count": 62,
     "metadata": {},
     "output_type": "execute_result"
    }
   ],
   "source": [
    "\"sergei\".capitalize()"
   ]
  },
  {
   "cell_type": "code",
   "execution_count": 63,
   "id": "f11caf69",
   "metadata": {},
   "outputs": [],
   "source": [
    "def make_capital(func: Callable) -> Callable:\n",
    "    \n",
    "    def wrapped(name: str, *args, **kwargs) -> str:\n",
    "        name = name.capitalize()\n",
    "        print(\"finished capitalization\")\n",
    "        result = func(name, *args, **kwargs)\n",
    "        print(\"got results\")\n",
    "        return result\n",
    "    \n",
    "    return wrapped"
   ]
  },
  {
   "cell_type": "code",
   "execution_count": 64,
   "id": "3e452761",
   "metadata": {},
   "outputs": [
    {
     "data": {
      "text/plain": [
       "<function __main__.make_capital.<locals>.wrapped(name: str, *args, **kwargs) -> str>"
      ]
     },
     "execution_count": 64,
     "metadata": {},
     "output_type": "execute_result"
    }
   ],
   "source": [
    "capitalized_say_hello = make_capital(func=say_hello)\n",
    "capitalized_say_hello"
   ]
  },
  {
   "cell_type": "code",
   "execution_count": 65,
   "id": "c1b6d8c5",
   "metadata": {},
   "outputs": [
    {
     "name": "stdout",
     "output_type": "stream",
     "text": [
      "finished capitalization\n",
      "got results\n"
     ]
    },
    {
     "data": {
      "text/plain": [
       "'Hello, Sergei!!!'"
      ]
     },
     "execution_count": 65,
     "metadata": {},
     "output_type": "execute_result"
    }
   ],
   "source": [
    "capitalized_say_hello(name=\"sergei\", times=3)"
   ]
  },
  {
   "cell_type": "code",
   "execution_count": 66,
   "id": "253a8168",
   "metadata": {},
   "outputs": [],
   "source": [
    "@make_capital\n",
    "def say_hello_2(name: str, times: int = 10) -> str:\n",
    "    return f\"Helloooooooooooo, {name}\" + \"!\" * times"
   ]
  },
  {
   "cell_type": "code",
   "execution_count": 67,
   "id": "b91b2155",
   "metadata": {},
   "outputs": [
    {
     "data": {
      "text/plain": [
       "<function __main__.make_capital.<locals>.wrapped(name: str, *args, **kwargs) -> str>"
      ]
     },
     "execution_count": 67,
     "metadata": {},
     "output_type": "execute_result"
    }
   ],
   "source": [
    "say_hello_2"
   ]
  },
  {
   "cell_type": "markdown",
   "id": "05ed29f4",
   "metadata": {},
   "source": [
    "---"
   ]
  },
  {
   "cell_type": "code",
   "execution_count": 68,
   "id": "f6cf0f36",
   "metadata": {},
   "outputs": [],
   "source": [
    "def weighted(func: Callable) -> Callable:\n",
    "\n",
    "    def wrapped(*values: Iterable) -> float:\n",
    "        total = sum(map(len, values))\n",
    "        if not total:\n",
    "            raise ValueError(\"You must pass at least one array\")\n",
    "        return sum(\n",
    "                     func(vals) * len(vals)\n",
    "                     for vals\n",
    "                     in values\n",
    "                ) / total\n",
    "\n",
    "    wrapped.__doc__ = func.__doc__\n",
    "    return wrapped"
   ]
  },
  {
   "cell_type": "code",
   "execution_count": 69,
   "id": "62991c59",
   "metadata": {},
   "outputs": [],
   "source": [
    "@weighted\n",
    "def gini_score(values: Iterable) -> float:\n",
    "    counts = Counter(values)\n",
    "    total = sum(counts.values())\n",
    "    return 1 - sum(\n",
    "                    (cnt / total) ** 2 \n",
    "                    for cnt\n",
    "                    in counts.values()\n",
    "                )"
   ]
  },
  {
   "cell_type": "code",
   "execution_count": null,
   "id": "7864cea4",
   "metadata": {},
   "outputs": [],
   "source": [
    "@weighted"
   ]
  },
  {
   "cell_type": "code",
   "execution_count": 72,
   "id": "adce38fb",
   "metadata": {},
   "outputs": [
    {
     "data": {
      "text/plain": [
       "0.5471014492753624"
      ]
     },
     "execution_count": 72,
     "metadata": {},
     "output_type": "execute_result"
    }
   ],
   "source": [
    "gini_score([\"A\", \"A\", \"A\", \"A\", \"B\", \"A\", \"A\", \"C\", \"D\"], [1, 2, 1, 2, 0, 1], [1,5,1,5,11,1,1,1])"
   ]
  },
  {
   "cell_type": "code",
   "execution_count": 74,
   "id": "bf0d4595",
   "metadata": {},
   "outputs": [],
   "source": [
    "from itertools import count"
   ]
  },
  {
   "cell_type": "code",
   "execution_count": 85,
   "id": "896c2684",
   "metadata": {},
   "outputs": [],
   "source": [
    "class Node:\n",
    "\n",
    "    counter = count()\n",
    "\n",
    "    def __init__(self, values: Iterable[int], number: int):\n",
    "        self._id = next(Node.counter)\n",
    "        self._number: int\n",
    "        self.values = values\n",
    "        self.number = number\n",
    "\n",
    "    @property\n",
    "    def number(self) -> int:\n",
    "        return self._number\n",
    "\n",
    "    @number.setter\n",
    "    def number(self, value: int):\n",
    "        print(f\"setted new value {value}\")\n",
    "        self._number = value\n",
    "\n",
    "    @property\n",
    "    def id(self) -> int:\n",
    "        return self._id"
   ]
  },
  {
   "cell_type": "code",
   "execution_count": 86,
   "id": "5ee6a6bf",
   "metadata": {},
   "outputs": [
    {
     "name": "stdout",
     "output_type": "stream",
     "text": [
      "setted new value 44\n"
     ]
    }
   ],
   "source": [
    "n1 = Node(values=[1,2,3], number=44)"
   ]
  },
  {
   "cell_type": "code",
   "execution_count": 84,
   "id": "27909d2f",
   "metadata": {},
   "outputs": [
    {
     "ename": "AttributeError",
     "evalue": "can't set attribute",
     "output_type": "error",
     "traceback": [
      "\u001b[1;31m---------------------------------------------------------------------------\u001b[0m",
      "\u001b[1;31mAttributeError\u001b[0m                            Traceback (most recent call last)",
      "Cell \u001b[1;32mIn[84], line 1\u001b[0m\n\u001b[1;32m----> 1\u001b[0m n1\u001b[38;5;241m.\u001b[39mid \u001b[38;5;241m=\u001b[39m \u001b[38;5;241m3\u001b[39m\n",
      "\u001b[1;31mAttributeError\u001b[0m: can't set attribute"
     ]
    }
   ],
   "source": [
    "n1.id = 3"
   ]
  },
  {
   "cell_type": "code",
   "execution_count": 77,
   "id": "5d88e27c",
   "metadata": {},
   "outputs": [
    {
     "data": {
      "text/plain": [
       "0"
      ]
     },
     "execution_count": 77,
     "metadata": {},
     "output_type": "execute_result"
    }
   ],
   "source": [
    "n1._id = 3"
   ]
  }
 ],
 "metadata": {
  "kernelspec": {
   "display_name": "Python 3 (ipykernel)",
   "language": "python",
   "name": "python3"
  },
  "language_info": {
   "codemirror_mode": {
    "name": "ipython",
    "version": 3
   },
   "file_extension": ".py",
   "mimetype": "text/x-python",
   "name": "python",
   "nbconvert_exporter": "python",
   "pygments_lexer": "ipython3",
   "version": "3.10.10"
  }
 },
 "nbformat": 4,
 "nbformat_minor": 5
}
