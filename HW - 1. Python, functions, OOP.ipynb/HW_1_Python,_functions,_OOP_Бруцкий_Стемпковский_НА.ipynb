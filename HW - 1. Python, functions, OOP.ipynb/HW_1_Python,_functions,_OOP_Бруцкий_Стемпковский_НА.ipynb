{
  "cells": [
    {
      "cell_type": "code",
      "execution_count": 1,
      "id": "88acce6c",
      "metadata": {
        "id": "88acce6c"
      },
      "outputs": [],
      "source": [
        "from typing import Tuple, Iterable, List, Dict, Callable, Any, Optional, Union\n",
        "from collections import Counter\n",
        "\n",
        "import math"
      ]
    },
    {
      "cell_type": "markdown",
      "id": "22a18afd",
      "metadata": {
        "id": "22a18afd"
      },
      "source": [
        "# <center>Функции</center>"
      ]
    },
    {
      "cell_type": "markdown",
      "id": "038813dc",
      "metadata": {
        "id": "038813dc"
      },
      "source": [
        "# 1. Метрики"
      ]
    },
    {
      "cell_type": "markdown",
      "id": "2bb5944d",
      "metadata": {
        "id": "2bb5944d"
      },
      "source": [
        "Данное задание призвано как проверить навыки работы с функциями, так и ознакомить Вас с метриками, которые используются во время тренировки моделей Supervised Learning."
      ]
    },
    {
      "cell_type": "markdown",
      "id": "b4169512",
      "metadata": {
        "id": "b4169512"
      },
      "source": [
        "### 1.1 Gini score"
      ]
    },
    {
      "cell_type": "markdown",
      "id": "4f29b9e4",
      "metadata": {
        "id": "4f29b9e4"
      },
      "source": [
        "Критерий Gini показывает, насколько однородным является выбранная группа, и расчитывается по следующей формуле:"
      ]
    },
    {
      "cell_type": "markdown",
      "id": "d7ad0dc6",
      "metadata": {
        "id": "d7ad0dc6"
      },
      "source": [
        "$$Gini = 1 - \\sum p_{j}^{2}$$"
      ]
    },
    {
      "cell_type": "markdown",
      "id": "d48970d1",
      "metadata": {
        "id": "d48970d1"
      },
      "source": [
        "где $p_{j}$ - это частота каждого класса в данной группе (или, иными словами, вероятность того, что случайно взятый экземпляр из этой группы принадлежит к данному классу).  \n",
        "  \n",
        "Например, у нас есть группа из 20 шариков, 10 из которых - синие, 7 - зелёные, и 3 - красные. В данном случае критерий Gini будет равен:"
      ]
    },
    {
      "cell_type": "markdown",
      "id": "ce9f2d50",
      "metadata": {
        "id": "ce9f2d50"
      },
      "source": [
        "$$Gini = 1 - ((\\frac{10}{20})^{2} + (\\frac{7}{20})^{2} + (\\frac{3}{20})^{2}) = 1 - 0.395 = 0.605$$"
      ]
    },
    {
      "cell_type": "markdown",
      "id": "d05689a0",
      "metadata": {
        "id": "d05689a0"
      },
      "source": [
        "Критерий Gini может принимать значения от 0 (абсолютно гомогенная группа, состоящая из одного класса) до 1 (максимальная неопределённость, множество классов с одинаковыми вероятностями выпадения)"
      ]
    },
    {
      "cell_type": "markdown",
      "id": "79412798",
      "metadata": {
        "id": "79412798"
      },
      "source": [
        "#### Задание: написать функцию, которая получает на вход список целых чисел, и вычисляет значение критерия Gini"
      ]
    },
    {
      "cell_type": "code",
      "execution_count": null,
      "id": "8f6a0a1e",
      "metadata": {
        "id": "8f6a0a1e"
      },
      "outputs": [],
      "source": [
        "def gini_score(items: Iterable[int]) -> float:\n",
        "    \"\"\"\n",
        "    Возвращает коэффициент Джини для последовательности элементов.\n",
        "    \"\"\"\n",
        "    values = Counter(items)\n",
        "    n = len(items)\n",
        "    summ = 0\n",
        "\n",
        "    for val in values:\n",
        "        summ += (values[val] / n)**2\n",
        "\n",
        "    return 1 - summ"
      ]
    },
    {
      "cell_type": "code",
      "execution_count": null,
      "id": "WVwR5QMa2N8Y",
      "metadata": {
        "colab": {
          "base_uri": "https://localhost:8080/"
        },
        "id": "WVwR5QMa2N8Y",
        "outputId": "28a2a0da-86d7-4766-fe8b-b6065a5201b8"
      },
      "outputs": [
        {
          "data": {
            "text/plain": [
              "0.605"
            ]
          },
          "execution_count": 67,
          "metadata": {},
          "output_type": "execute_result"
        }
      ],
      "source": [
        "gini_score([0]*10 + [1]*7 + [2]*3)"
      ]
    },
    {
      "cell_type": "code",
      "execution_count": null,
      "id": "3iEu7OPXBQQ2",
      "metadata": {
        "colab": {
          "base_uri": "https://localhost:8080/"
        },
        "id": "3iEu7OPXBQQ2",
        "outputId": "65af29db-f0ea-4dba-ca82-506576b01603"
      },
      "outputs": [
        {
          "data": {
            "text/plain": [
              "0.605"
            ]
          },
          "execution_count": 68,
          "metadata": {},
          "output_type": "execute_result"
        }
      ],
      "source": [
        "gini_score([\"C\", \"C\", \"C\", \"C\", \"C\", \"C\", \"C\", \"C\", \"C\", \"C\", \"З\", \"З\", \"З\", \"З\", \"З\", \"З\", \"З\", \"К\", \"К\", \"К\"])"
      ]
    },
    {
      "cell_type": "markdown",
      "id": "c6ac139a",
      "metadata": {
        "id": "c6ac139a"
      },
      "source": [
        "---"
      ]
    },
    {
      "cell_type": "markdown",
      "id": "b368e426",
      "metadata": {
        "id": "b368e426"
      },
      "source": [
        "### 1.2 Entropy"
      ]
    },
    {
      "cell_type": "markdown",
      "id": "6eddcc02",
      "metadata": {
        "id": "6eddcc02"
      },
      "source": [
        "Энтропия измеряет степень неопределённости группы, и, конкретно в нашем случае, описывает количество информации, требуемое для описания распределения (distributon) в группе.  \n",
        "Формула (средней) энтропии:"
      ]
    },
    {
      "cell_type": "markdown",
      "id": "8ccc53a8",
      "metadata": {
        "id": "8ccc53a8"
      },
      "source": [
        "$$Entropy = - \\sum p_{j}\\log p_{j}$$"
      ]
    },
    {
      "cell_type": "markdown",
      "id": "8c230670",
      "metadata": {
        "id": "8c230670"
      },
      "source": [
        "как и в случае с критерием Gini, $p_{j}$ - это частота каждого класса в данной группе.  \n",
        "  \n",
        "В том же примере с шариками (группа из 20 шариков, 10 из которых - синие, 7 - зелёные, и 3 - красные), уровень энтропии будет равен:"
      ]
    },
    {
      "cell_type": "markdown",
      "id": "4d5ec318",
      "metadata": {
        "id": "4d5ec318"
      },
      "source": [
        "$$Entropy = -\\ (\\frac{10}{20} * \\log(\\frac{10}{20}) + \\frac{7}{20} * \\log(\\frac{7}{20}) + \\frac{3}{20} * \\log(\\frac{3}{20})) = - \\ (-0.347 - 0.367 -0.285) = 0.999$$"
      ]
    },
    {
      "cell_type": "markdown",
      "id": "2dd218c3",
      "metadata": {
        "id": "2dd218c3"
      },
      "source": [
        "Энтропия может принимать значения от 0 (абсолютно гомогенная группа, состоящая из одного класса) до бесконечности (максимальная неопределённость), хотя на практике максимальное значение ограничено логарифмической функцией и достигает величины в 20-30 единиц (можете попробовать запустить её со списком из миллиона уникальных значений)."
      ]
    },
    {
      "cell_type": "markdown",
      "id": "f1fa1e28",
      "metadata": {
        "id": "f1fa1e28"
      },
      "source": [
        "#### Задание: написать функцию, которая получает на вход список целых чисел, и вычисляет значение Энтропии"
      ]
    },
    {
      "cell_type": "code",
      "execution_count": null,
      "id": "4b914a98",
      "metadata": {
        "id": "4b914a98"
      },
      "outputs": [],
      "source": [
        "def entropy_score(items: Iterable[int]) -> float:\n",
        "    \"\"\"\n",
        "    Возвращает коэффициент энтропии для последовательности элементов.\n",
        "    \"\"\"\n",
        "    values = Counter(items)\n",
        "    n = len(items)\n",
        "    summ = 0\n",
        "\n",
        "    for val in values:\n",
        "        p_j = values[val] / n\n",
        "        summ += p_j * math.log(p_j)\n",
        "\n",
        "    return -summ"
      ]
    },
    {
      "cell_type": "code",
      "execution_count": null,
      "id": "tv2siJaX3D5I",
      "metadata": {
        "colab": {
          "base_uri": "https://localhost:8080/"
        },
        "id": "tv2siJaX3D5I",
        "outputId": "9e81ca62-d5cc-4a8f-dedd-a0ffce975b71"
      },
      "outputs": [
        {
          "data": {
            "text/plain": [
              "0.9985793315873921"
            ]
          },
          "execution_count": 70,
          "metadata": {},
          "output_type": "execute_result"
        }
      ],
      "source": [
        "entropy_score([\"C\", \"C\", \"C\", \"C\", \"C\", \"C\", \"C\", \"C\", \"C\", \"C\", \"З\", \"З\", \"З\", \"З\", \"З\", \"З\", \"З\", \"К\", \"К\", \"К\"])"
      ]
    },
    {
      "cell_type": "markdown",
      "id": "136b292b",
      "metadata": {
        "id": "136b292b"
      },
      "source": [
        "---"
      ]
    },
    {
      "cell_type": "markdown",
      "id": "407560ff",
      "metadata": {
        "id": "407560ff"
      },
      "source": [
        "### 1.3 Mean Squared Error (MSE)"
      ]
    },
    {
      "cell_type": "markdown",
      "id": "3cc1bf75",
      "metadata": {
        "id": "3cc1bf75"
      },
      "source": [
        "Среднеквадратичная ошибка (Mean Squared Error, MSE) - это метрика, используемая в задачах регрессии, для оценки разницы между прогнозируемыми и фактическими значениями.  \n",
        "  \n",
        "MSE измеряет среднеквадратичное отклонение прогнозируемых значений от фактических значений и вычисляется путем суммирования квадратов разностей между каждым прогнозируемым и фактическим значением, а затем деления на количество наблюдений:"
      ]
    },
    {
      "cell_type": "markdown",
      "id": "8a06ad24",
      "metadata": {
        "id": "8a06ad24"
      },
      "source": [
        "$$MSE = \\sum_{i=0}^{n} \\frac{(y^{'}_{i} - y_{i})^{2}}{n}$$"
      ]
    },
    {
      "cell_type": "markdown",
      "id": "8a78559c",
      "metadata": {
        "id": "8a78559c"
      },
      "source": [
        "где $y^{'}_{i}$ - это предсказанное значение для $i$-того элемента, $y_{i}$ - его реальное значение, $n$ - общее количество элементов.  \n",
        "  \n",
        "Очевидно, что в идеальном случае, когда все предсказания в точности равны реальным значениям, **MSE** будет равен нулю (сверху же данный показатель не ограничен)."
      ]
    },
    {
      "cell_type": "markdown",
      "id": "7080c9d6",
      "metadata": {
        "id": "7080c9d6"
      },
      "source": [
        "В рамках этого задания мы слегка изменим эту метрику, и вместо $y^{'}_{i}$ (отдельного предсказания для каждого элемента) будем испльзовать среднее значение всех элементов в группе - $\\hat{y}$:"
      ]
    },
    {
      "cell_type": "markdown",
      "id": "56259b00",
      "metadata": {
        "id": "56259b00"
      },
      "source": [
        "$$MSE = \\sum_{i=0}^{n} \\frac{(\\hat{y} - y_{i})^{2}}{n}$$"
      ]
    },
    {
      "cell_type": "markdown",
      "id": "42893756",
      "metadata": {
        "id": "42893756"
      },
      "source": [
        "Пример: дана группа чисел $[-0.1, -2.0 ,  1.0 ,  1.8,  0.8]$.\n",
        "  \n",
        "Среднее значение группы:\n",
        "\n",
        "$$\\hat{y} = \\frac{-0.1-2.0+1.0+1.8+0.8}{5} = 0.3$$"
      ]
    },
    {
      "cell_type": "markdown",
      "id": "2bc07286",
      "metadata": {
        "id": "2bc07286"
      },
      "source": [
        "Значит, среднеквадратичное отклонение будет равно:"
      ]
    },
    {
      "cell_type": "markdown",
      "id": "063b074b",
      "metadata": {
        "id": "063b074b"
      },
      "source": [
        "$$MSE = \\frac{(0.3 - (-0.1))^{2} + (0.3 - (-2.0))^{2} + (0.3 - 1.0)^{2} + (0.3 - 1.8)^{2} + (0.3 - 0.8)^{2}}{5} = 1.688$$"
      ]
    },
    {
      "cell_type": "markdown",
      "id": "99a5c3d2",
      "metadata": {
        "id": "99a5c3d2"
      },
      "source": [
        "#### Задание: написать функцию, которая получает на вход список чисел, и вычисляет среднеквадратичную ошибку:"
      ]
    },
    {
      "cell_type": "code",
      "execution_count": null,
      "id": "c2c1d385",
      "metadata": {
        "id": "c2c1d385"
      },
      "outputs": [],
      "source": [
        "def mse_score(items: Iterable[Union[int, float]]) -> float:\n",
        "    \"\"\"\n",
        "    Возвращает среднеквадратичную ошибку последовательности\n",
        "    (она же - несмещенная оценка дисперсии)\n",
        "    \"\"\"\n",
        "\n",
        "    n = len(items)\n",
        "    mean = sum(items) / n\n",
        "    summ = 0\n",
        "\n",
        "    for val in items:\n",
        "        summ += (val - mean)**2\n",
        "    \n",
        "    return summ / n"
      ]
    },
    {
      "cell_type": "code",
      "execution_count": null,
      "id": "ntiij6T544yW",
      "metadata": {
        "colab": {
          "base_uri": "https://localhost:8080/"
        },
        "id": "ntiij6T544yW",
        "outputId": "9d6b4695-da1e-415c-bd57-26eeb94a1f54"
      },
      "outputs": [
        {
          "data": {
            "text/plain": [
              "1.688"
            ]
          },
          "execution_count": 43,
          "metadata": {},
          "output_type": "execute_result"
        }
      ],
      "source": [
        "mse_score([-0.1, -2.0, 1.0, 1.8, 0.8])"
      ]
    },
    {
      "cell_type": "markdown",
      "id": "8a1939d3",
      "metadata": {
        "id": "8a1939d3"
      },
      "source": [
        "---"
      ]
    },
    {
      "cell_type": "markdown",
      "id": "9b335039",
      "metadata": {
        "id": "9b335039"
      },
      "source": [
        "### 1.4 Root Mean Squared Error (RMSE)"
      ]
    },
    {
      "cell_type": "markdown",
      "id": "690a7529",
      "metadata": {
        "id": "690a7529"
      },
      "source": [
        "Корень средней квадратичной ошибки (Root Mean Squared Error, RMSE) имеет преимущество в том, что представляет величину ошибки в единице прогнозируемого столбца, что упрощает процесс интерпретации.  \n",
        "  \n",
        "Если вы пытаетесь спрогнозировать сумму в долларах, корень средней квадратичной ошибки можно интерпретировать как величину ошибки в долларах.\n",
        "  \n",
        "Аналогично предыдущему примеру, в данном задании мы будем вместо прогнозируемых значений использовать среднее группы:"
      ]
    },
    {
      "cell_type": "markdown",
      "id": "978b76e5",
      "metadata": {
        "id": "978b76e5"
      },
      "source": [
        "$$RMSE = \\sqrt{\\sum_{i=0}^{n} \\frac{(y^{'}_{i} - y_{i})^{2}}{n}} \\longrightarrow RMSE = \\sqrt{\\sum_{i=0}^{n} \\frac{(\\hat{y} - y_{i})^{2}}{n}}$$"
      ]
    },
    {
      "cell_type": "markdown",
      "id": "f34aad3f",
      "metadata": {
        "id": "f34aad3f"
      },
      "source": [
        "#### Задание: написать функцию, которая получает на вход список чисел, и вычисляет корень среднеквадратичной ошибки:"
      ]
    },
    {
      "cell_type": "code",
      "execution_count": null,
      "id": "267cc565",
      "metadata": {
        "id": "267cc565"
      },
      "outputs": [],
      "source": [
        "def rmse_score(items: Iterable[Union[int, float]]) -> float:\n",
        "    \"\"\"\n",
        "    Возвращает корень среднеквадратичной ошибки \n",
        "    \"\"\"\n",
        "    return math.sqrt(mse_score(items))"
      ]
    },
    {
      "cell_type": "code",
      "execution_count": null,
      "id": "zK-R5nyn6JTp",
      "metadata": {
        "colab": {
          "base_uri": "https://localhost:8080/"
        },
        "id": "zK-R5nyn6JTp",
        "outputId": "52dd2aa0-b54c-4f8d-dc7d-48ec0796e6e5"
      },
      "outputs": [
        {
          "data": {
            "text/plain": [
              "1.2992305415129373"
            ]
          },
          "execution_count": 45,
          "metadata": {},
          "output_type": "execute_result"
        }
      ],
      "source": [
        "rmse_score([-0.1, -2.0, 1.0, 1.8, 0.8])"
      ]
    },
    {
      "cell_type": "markdown",
      "id": "c8c6ffd9",
      "metadata": {
        "id": "c8c6ffd9"
      },
      "source": [
        "---"
      ]
    },
    {
      "cell_type": "markdown",
      "id": "883cd76e",
      "metadata": {
        "id": "883cd76e"
      },
      "source": [
        "### 1.5 Mean Absolute Percentage Error (MAPE)"
      ]
    },
    {
      "cell_type": "markdown",
      "id": "e0ce7c65",
      "metadata": {
        "id": "e0ce7c65"
      },
      "source": [
        "Средняя процентная ошибка (МАРЕ) измеряет отклонение фактических значений от прогнозируемых значений в процентах.  \n",
        "  \n",
        "MAPE часто используется в бизнесе и экономике для оценки точности прогнозирования, особенно при прогнозировании спроса на товары или услуги.  \n",
        "  \n",
        "Преимущество данной метрики в том, что она позволяет сравнивать эффективность моделей, натренированных на данных различного масштаба.  \n",
        "  \n",
        "Формула для расчёта MAPE:"
      ]
    },
    {
      "cell_type": "markdown",
      "id": "7caa4061",
      "metadata": {
        "id": "7caa4061"
      },
      "source": [
        "$$MAPE = \\frac{100}{n} * \\sum{\\mid \\frac{y^{'}_{i} - y_{i}}{y_{i}} \\mid}$$"
      ]
    },
    {
      "cell_type": "markdown",
      "id": "6c2bda21",
      "metadata": {
        "id": "6c2bda21"
      },
      "source": [
        "Поскольку реальное значение $y_{i}$ может быть равен нулю, то для избежания деления на ноль в некоторых случаях в знаменатель добавляется ничтожно малое число $\\varepsilon$ (оно должно быть существенно ниже имеющихся реальных значений):"
      ]
    },
    {
      "cell_type": "markdown",
      "id": "4f561723",
      "metadata": {
        "id": "4f561723"
      },
      "source": [
        "$$MAPE = \\frac{100}{n} * \\sum{\\mid \\frac{y^{'}_{i} - y_{i}}{y_{i}} \\mid} \\ \\longrightarrow \\ MAPE = \\frac{100}{n} * \\sum{ \\frac{\\mid y^{'}_{i} - y_{i}\\mid}{\\mid y_{i} \\mid + \\varepsilon}}$$"
      ]
    },
    {
      "cell_type": "markdown",
      "id": "39dd1cf1",
      "metadata": {
        "id": "39dd1cf1"
      },
      "source": [
        "Другой способ избежать деление на ноль - это просто убрать из расчёта экземпляры, где реальное значение равно нулю (ибо для них применение этой метрики не имеет смысла)"
      ]
    },
    {
      "cell_type": "markdown",
      "id": "bdbb4f4f",
      "metadata": {
        "id": "bdbb4f4f"
      },
      "source": [
        "Аналогично предыдущему примеру, в данном задании мы будем вместо прогнозируемых значений использовать среднее группы:"
      ]
    },
    {
      "cell_type": "markdown",
      "id": "d17a92e7",
      "metadata": {
        "id": "d17a92e7"
      },
      "source": [
        "$$MAPE = \\frac{100}{n} * \\sum{ \\frac{\\mid \\hat{y} - y_{i}\\mid}{\\mid y_{i} \\mid + \\varepsilon}}$$"
      ]
    },
    {
      "cell_type": "markdown",
      "id": "805fad04",
      "metadata": {
        "id": "805fad04"
      },
      "source": [
        "#### Задание: написать функцию, которая получает на вход список чисел, и вычисляет MAPE:"
      ]
    },
    {
      "cell_type": "code",
      "execution_count": null,
      "id": "89c822b2",
      "metadata": {
        "id": "89c822b2"
      },
      "outputs": [],
      "source": [
        "def mape_score(items: Iterable[Union[int, float]]) -> float:\n",
        "    \"\"\"\n",
        "    Возвращает среднюю процентную ошибку\n",
        "    \"\"\"\n",
        "    new_items = []\n",
        "    \n",
        "    for val in items:\n",
        "        if val != 0 :\n",
        "            new_items.append(val)\n",
        "    \n",
        "    n = len(items)\n",
        "    mean = sum(items) / n\n",
        "    summ = 0\n",
        "    for val in new_items:\n",
        "        summ += abs(val - mean) / abs(val)\n",
        "    \n",
        "    return 100 * summ / n"
      ]
    },
    {
      "cell_type": "code",
      "execution_count": null,
      "id": "VeBTHUqA8TLA",
      "metadata": {
        "colab": {
          "base_uri": "https://localhost:8080/"
        },
        "id": "VeBTHUqA8TLA",
        "outputId": "61f34b98-7edf-4e5c-ad45-ec6077df508a"
      },
      "outputs": [
        {
          "data": {
            "text/plain": [
              "146.16666666666669"
            ]
          },
          "execution_count": 47,
          "metadata": {},
          "output_type": "execute_result"
        }
      ],
      "source": [
        "mape_score([-0.1, -2.0, 1.0, 1.8, 0.8])"
      ]
    },
    {
      "cell_type": "markdown",
      "id": "0fbfffe0",
      "metadata": {
        "id": "0fbfffe0"
      },
      "source": [
        "---"
      ]
    },
    {
      "cell_type": "markdown",
      "id": "26cd4602",
      "metadata": {
        "id": "26cd4602"
      },
      "source": [
        "# 2. Взвешенная оценка"
      ]
    },
    {
      "cell_type": "markdown",
      "id": "47d6d6d6",
      "metadata": {
        "id": "47d6d6d6"
      },
      "source": [
        "В некоторых ситуациях нам надо расчитать среднее взвешанное значение заданной метрики для нескольких групп. Слово *взвешенное* подразумевает, что вклад каждой группы в финальное значение пропорционален количеству элементов в ней.\n",
        "  \n",
        "Например: у нас есть две группы `A: [1, 1, 2, 1, 3, 2]` и `B: [3, 3, 2]`. Задача - расчитать взвешенное значение критерия Gini:"
      ]
    },
    {
      "cell_type": "markdown",
      "id": "83e1a708",
      "metadata": {
        "id": "83e1a708"
      },
      "source": [
        "$$Gini_{total} = \\frac{N_{A}}{N_{A} + N_{B}}Gini_{A} + \\frac{N_{B}}{N_{A} + N_{B}}Gini_{B} = \\frac{6}{9}*0.611 + \\frac{3}{9}*0.444 = 0.556$$"
      ]
    },
    {
      "cell_type": "markdown",
      "id": "05ef2508",
      "metadata": {
        "id": "05ef2508"
      },
      "source": [
        "#### Задание: написать функцию, которая получает на вход функцию метрики и несколько списоков чисел, и вычисляет взвешенное значение переданной метрики:"
      ]
    },
    {
      "cell_type": "code",
      "execution_count": null,
      "id": "0c5dbbe3",
      "metadata": {
        "id": "0c5dbbe3"
      },
      "outputs": [],
      "source": [
        "def weighted_metric_score(metric: Callable, *items: Iterable) -> float:\n",
        "    \"\"\"\n",
        "    Возвращает взвешенную метрику для списка последовательностей\n",
        "    Список самих метрик определен выше в виде функций\n",
        "    \"\"\"\n",
        "    N = 0\n",
        "    summ = 0\n",
        "\n",
        "    for item in items:\n",
        "        N += len(item)\n",
        "\n",
        "    for item in items:\n",
        "        n = len(item)\n",
        "        summ += metric(item) * n / N\n",
        "    \n",
        "    return summ"
      ]
    },
    {
      "cell_type": "code",
      "execution_count": null,
      "id": "D--XPM179mzn",
      "metadata": {
        "colab": {
          "base_uri": "https://localhost:8080/"
        },
        "id": "D--XPM179mzn",
        "outputId": "fe360af0-ef95-473a-97fc-a9946da80d79"
      },
      "outputs": [
        {
          "data": {
            "text/plain": [
              "0.0"
            ]
          },
          "execution_count": 49,
          "metadata": {},
          "output_type": "execute_result"
        }
      ],
      "source": [
        "weighted_metric_score(gini_score, [0,0,0,0], [1,1,1])"
      ]
    },
    {
      "cell_type": "markdown",
      "id": "5134330c",
      "metadata": {
        "id": "5134330c"
      },
      "source": [
        "---"
      ]
    },
    {
      "cell_type": "markdown",
      "id": "d8e25be8",
      "metadata": {
        "id": "d8e25be8"
      },
      "source": [
        "# 3. Разделенение группы"
      ]
    },
    {
      "cell_type": "markdown",
      "id": "402599c8",
      "metadata": {
        "id": "402599c8"
      },
      "source": [
        "### 3.1 Деление группы на две"
      ]
    },
    {
      "cell_type": "markdown",
      "id": "0a32aabc",
      "metadata": {
        "id": "0a32aabc"
      },
      "source": [
        "Легче всего описать это задание с вводных данных:  \n",
        "  \n",
        "Есть два списка: один - вспомогательный (`features, F`), состоящий из чисел, второй - основной (`targets, T`), при этом их элементы связаны попарно:"
      ]
    },
    {
      "cell_type": "markdown",
      "id": "ac901d10",
      "metadata": {
        "id": "ac901d10"
      },
      "source": [
        "$$F_{i} \\leftrightarrow T_{i}$$"
      ]
    },
    {
      "cell_type": "markdown",
      "id": "63dfdc65",
      "metadata": {
        "id": "63dfdc65"
      },
      "source": [
        "Нам даётся число из вспомогательной группы `F`. Наша задача - разделить основную и вспомогательную группы так на две подгруппы так, чтобы все элементы $\\color{red}{первой}$ вспомогательной подгруппы были бы меньше или равны данному числу, а все элемены $\\color{blue}{второй}$ вспомогательной подгруппы - больше этого числа.\n",
        "  \n",
        "Например: нам данны следующие основная и вспомогательная группы:"
      ]
    },
    {
      "cell_type": "markdown",
      "id": "e5723cfa",
      "metadata": {
        "id": "e5723cfa"
      },
      "source": [
        "$$\n",
        "T = [1, 1, 2, 2, 1, 1, 2, 1, 3, 1, 3, 4, 1]  \\\\\n",
        "F = [3, 1, 9, 9, 1, 5, 2, 1, 7, 1, 3, 4, 9]\n",
        "$$"
      ]
    },
    {
      "cell_type": "markdown",
      "id": "597fea22",
      "metadata": {
        "id": "597fea22"
      },
      "source": [
        "Допустим, из вспомогательного списка выбрано число `5`. Таким образом, эти списки будут разделены следующим образом:"
      ]
    },
    {
      "cell_type": "markdown",
      "id": "3251bcd4",
      "metadata": {
        "id": "3251bcd4"
      },
      "source": [
        "$$\n",
        "T = [\\color{red}{1}, \\color{red}{1}, \\color{blue}{2}, \\color{blue}{2}, \\color{red}{1}, \\color{red}{1}, \\color{red}{2}, \\color{red}{1}, \\color{blue}{2}, \\color{red}{1}, \\color{red}{3}, \\color{red}{4}, \\color{blue}{1}] \\rightarrow [\\color{red}{1,1,1,1,2,1,1,3,4}] \\ , \\ [\\color{blue}{2,2,3,1}] \\\\\n",
        "F = [\\color{red}{3}, \\color{red}{1}, \\color{blue}{9}, \\color{blue}{9}, \\color{red}{1}, \\color{red}{5}, \\color{red}{2}, \\color{red}{1}, \\color{blue}{7}, \\color{red}{1}, \\color{red}{3}, \\color{red}{4}, \\color{blue}{9}] \\rightarrow [\\color{red}{3,1,1,5,2,1,1,3,4}] \\ , \\ [\\color{blue}{9,9,7,9}]\n",
        "$$"
      ]
    },
    {
      "cell_type": "markdown",
      "id": "4e5ecc54",
      "metadata": {
        "id": "4e5ecc54"
      },
      "source": [
        "#### Задание: написать функцию, которая получает на вход основной список `targets`, вспомогательный список `features` и \"делитель\" `split_value` и возвращает результат разбиения основного списка `sub_targets_1`, `sub_targets_2`:"
      ]
    },
    {
      "cell_type": "code",
      "execution_count": null,
      "id": "3b814e84",
      "metadata": {
        "id": "3b814e84"
      },
      "outputs": [],
      "source": [
        "def split_target_by_feature(targets: Iterable, features: Iterable, split_value: Union[int, float]) -> Tuple[Iterable, Iterable]:\n",
        "    \"\"\"\n",
        "    Выполняет деление основной группы по целевому значению вспомогательной\n",
        "    \"\"\"\n",
        "    part_a, part_b = [], []\n",
        "\n",
        "    for i in range(len(targets)):\n",
        "        if features[i] <= split_value:\n",
        "            part_a.append(targets[i])\n",
        "        else:\n",
        "            part_b.append(targets[i])\n",
        "    \n",
        "    return part_a, part_b"
      ]
    },
    {
      "cell_type": "code",
      "execution_count": null,
      "id": "ht9C-mWVDbjp",
      "metadata": {
        "colab": {
          "base_uri": "https://localhost:8080/"
        },
        "id": "ht9C-mWVDbjp",
        "outputId": "fe78d93a-d0c2-4a59-a739-9c06a6eebb41"
      },
      "outputs": [
        {
          "data": {
            "text/plain": [
              "([1, 1, 1, 1, 2, 1, 1, 3, 4], [2, 2, 3, 1])"
            ]
          },
          "execution_count": 51,
          "metadata": {},
          "output_type": "execute_result"
        }
      ],
      "source": [
        "split_target_by_feature([1,1,2,2,1,1,2,1,3,1,3,4,1], [3,1,9,9,1,5,2,1,7,1,3,4,9], 5)"
      ]
    },
    {
      "cell_type": "markdown",
      "id": "5b4e1a87",
      "metadata": {
        "id": "5b4e1a87"
      },
      "source": [
        "---"
      ]
    },
    {
      "cell_type": "markdown",
      "id": "225beecf",
      "metadata": {
        "id": "225beecf"
      },
      "source": [
        "### 3.2 Поиск оптимального \"делителя\""
      ]
    },
    {
      "cell_type": "markdown",
      "id": "d9afccc0",
      "metadata": {
        "id": "d9afccc0"
      },
      "source": [
        "Следующий шаг - поиск оптимального \"делителя\", который позволит получить таке две подгруппы основного списка `targets`, взвешенная оценка которых для указанной метрики будет минимальна.  \n",
        "  \n",
        "Используя предыдущий пример, оценим вариант двух разбиений:  \n",
        "первый, когда \"делитель\" равен 5:"
      ]
    },
    {
      "cell_type": "markdown",
      "id": "9a75ae19",
      "metadata": {
        "id": "9a75ae19"
      },
      "source": [
        "$$\n",
        "T = [\\color{red}{1}, \\color{red}{1}, \\color{blue}{2}, \\color{blue}{2}, \\color{red}{1}, \\color{red}{1}, \\color{red}{2}, \\color{red}{1}, \\color{blue}{3}, \\color{red}{1}, \\color{red}{3}, \\color{red}{4}, \\color{blue}{1}] \\rightarrow [\\color{red}{1,1,1,1,2,1,1,3,4}] \\ , \\ [\\color{blue}{2,2,3,1}] \\\\\n",
        "F = [\\color{red}{3}, \\color{red}{1}, \\color{blue}{9}, \\color{blue}{9}, \\color{red}{1}, \\color{red}{5}, \\color{red}{2}, \\color{red}{1}, \\color{blue}{7}, \\color{red}{1}, \\color{red}{3}, \\color{red}{4}, \\color{blue}{9}] \\rightarrow [\\color{red}{3,1,1,5,2,1,1,3,4}] \\ , \\ [\\color{blue}{9,9,7,9}]\n",
        "$$"
      ]
    },
    {
      "cell_type": "markdown",
      "id": "2dfe04bd",
      "metadata": {
        "id": "2dfe04bd"
      },
      "source": [
        "второй - когда \"делитель\" равен 3:"
      ]
    },
    {
      "cell_type": "markdown",
      "id": "1e39f7ed",
      "metadata": {
        "id": "1e39f7ed"
      },
      "source": [
        "$$\n",
        "T = [\\color{red}{1}, \\color{red}{1}, \\color{blue}{2}, \\color{blue}{2}, \\color{red}{1}, \\color{blue}{1}, \\color{red}{2}, \\color{red}{1}, \\color{blue}{3}, \\color{red}{1}, \\color{red}{3}, \\color{blue}{4}, \\color{blue}{1}] \\rightarrow [\\color{red}{1,1,1,2,1,1,3}] \\ , \\ [\\color{blue}{2,2,1,3,1,4}] \\\\\n",
        "F = [\\color{red}{3}, \\color{red}{1}, \\color{blue}{9}, \\color{blue}{9}, \\color{red}{1}, \\color{blue}{5}, \\color{red}{2}, \\color{red}{1}, \\color{blue}{7}, \\color{red}{1}, \\color{red}{3}, \\color{blue}{4}, \\color{blue}{9}] \\rightarrow [\\color{red}{3,1,1,2,1,1,3}] \\ , \\ [\\color{blue}{9,9,5,7,9,4}]\n",
        "$$"
      ]
    },
    {
      "cell_type": "markdown",
      "id": "b5eaf921",
      "metadata": {
        "id": "b5eaf921"
      },
      "source": [
        "Допустим, что в качестве метрики выбрана этнропия.  \n",
        "  \n",
        "В таком случае, взвешенная оценка в первом варианте будет равна:"
      ]
    },
    {
      "cell_type": "markdown",
      "id": "f043fb17",
      "metadata": {
        "id": "f043fb17"
      },
      "source": [
        "$$\n",
        "Entropy_{total} = \\frac{9}{13} * Entropy([1,1,1,1,2,1,1,3,4]) + \\frac{4}{13} * Entropy([2,2,3,1]) = 0.694 + 0.320 = 1.014\n",
        "$$"
      ]
    },
    {
      "cell_type": "markdown",
      "id": "4fc286d7",
      "metadata": {
        "id": "4fc286d7"
      },
      "source": [
        "А во втором варианте:"
      ]
    },
    {
      "cell_type": "markdown",
      "id": "bad4331b",
      "metadata": {
        "id": "bad4331b"
      },
      "source": [
        "$$\n",
        "Entropy_{total} = \\frac{7}{13} * Entropy([1,1,1,2,1,1,3]) + \\frac{6}{13} * Entropy([2,2,1,3,1,4]) = 0.429 + 0.614 = 1.043\n",
        "$$"
      ]
    },
    {
      "cell_type": "markdown",
      "id": "d24d9cff",
      "metadata": {
        "id": "d24d9cff"
      },
      "source": [
        "Таким образом, `5` даёт меньшее значение взвешенной метрики по сравнению с `3`."
      ]
    },
    {
      "cell_type": "markdown",
      "id": "4451c04e",
      "metadata": {
        "id": "4451c04e"
      },
      "source": [
        "#### Задание: написать функцию, которая получает на вход функцию метрики `score_func`, основной список `targets`, вспомогательный список `features` и возвращает оптимальное значение \"делителя\":"
      ]
    },
    {
      "cell_type": "code",
      "execution_count": null,
      "id": "19305a54",
      "metadata": {
        "id": "19305a54"
      },
      "outputs": [],
      "source": [
        "def find_best_split_value(score_func: Callable, targets: Iterable, features: Iterable) -> Union[int, float]:\n",
        "    \"\"\"\n",
        "    Возвращает оптимальный делитель из множества значений вспомогательной последовательности\n",
        "    Критерий оптимальности - минимальное значение метрики (так как все вышеописанные метрики стремятся к нулю\n",
        "    для огомогенных последовательностей и при этом всегда не отрицательны)\n",
        "    \"\"\"\n",
        "\n",
        "    best_score = float(\"inf\")\n",
        "\n",
        "\n",
        "    for split_value in set(features):\n",
        "\n",
        "        cur_split = split_target_by_feature(targets, features, split_value)\n",
        "        cur_score = weighted_metric_score(score_func, cur_split[0], cur_split[1]) \n",
        "\n",
        "        #print(f\"cur splitter {split_value} give score {cur_score}\")\n",
        "        \n",
        "        if cur_score < best_score:\n",
        "            best_score = cur_score\n",
        "            cur_splitter = split_value\n",
        "    \n",
        "    return cur_splitter"
      ]
    },
    {
      "cell_type": "code",
      "execution_count": null,
      "id": "MwKhu4H3N3Wr",
      "metadata": {
        "colab": {
          "base_uri": "https://localhost:8080/"
        },
        "id": "MwKhu4H3N3Wr",
        "outputId": "ef5d55d6-9547-4134-af04-dfe6a7b720e8"
      },
      "outputs": [
        {
          "data": {
            "text/plain": [
              "1"
            ]
          },
          "execution_count": 53,
          "metadata": {},
          "output_type": "execute_result"
        }
      ],
      "source": [
        "find_best_split_value(entropy_score, [1,1,2,2,1,1,2,1,3,1,3,4,1], [3,1,9,9,1,5,2,1,7,1,3,4,9])"
      ]
    },
    {
      "cell_type": "markdown",
      "id": "b3e69ca1",
      "metadata": {
        "id": "b3e69ca1"
      },
      "source": [
        "---"
      ]
    },
    {
      "cell_type": "markdown",
      "id": "244a33d5",
      "metadata": {
        "id": "244a33d5"
      },
      "source": [
        "### 3.3 Выбор оптимального вспомогательного списка"
      ]
    },
    {
      "cell_type": "markdown",
      "id": "a4e4d6ab",
      "metadata": {
        "id": "a4e4d6ab"
      },
      "source": [
        "Расширим вводные данные: теперь помимо основного списка `targets`, нам даётся не один, а несколько вспомогательных списков `features` `F1`, `F2` ... `Fn`."
      ]
    },
    {
      "cell_type": "markdown",
      "id": "e4deee3f",
      "metadata": {
        "id": "e4deee3f"
      },
      "source": [
        "#### Задание: написать функцию, которая получает на вход функцию метрики `score_func`, основной список `targets`, группу вспомогательных списков`options` `F1`, `F2` ... `Fn` и возвращает индекс выбранного вспомогательного списка и оптимальное значение \"делителя\":"
      ]
    },
    {
      "cell_type": "code",
      "execution_count": null,
      "id": "2b262998",
      "metadata": {
        "id": "2b262998"
      },
      "outputs": [],
      "source": [
        "def find_best_split_value(score_func: Callable, targets: Iterable, options: List[Iterable]) -> Tuple[Iterable, Union[int, float]]:\n",
        "    \"\"\"\n",
        "    Используя локальную функцию find_best_split_value(), находит среди предложенных вспомогательных последовательностей.\n",
        "    Возвращает индекс данной последовательности и оптимальный делитель.\n",
        "    \"\"\"\n",
        "\n",
        "    def find_best_split_value(score_func: Callable, targets: Iterable, features: Iterable) ->  Tuple[Iterable, Union[int, float]]:\n",
        "        \"\"\"\n",
        "        Возвращает оптимальный делитель и скор по указанной метрике для входящей пары последовательностей\n",
        "        \"\"\"\n",
        "\n",
        "        best_score = float(\"inf\")\n",
        "\n",
        "\n",
        "        for split_value in set(features):\n",
        "\n",
        "            cur_split = split_target_by_feature(targets, features, split_value)\n",
        "            cur_score = weighted_metric_score(score_func, cur_split[0], cur_split[1]) \n",
        "            \n",
        "            if cur_score < best_score:\n",
        "                best_score = cur_score\n",
        "                cur_splitter = split_value\n",
        "        \n",
        "        return cur_splitter, best_score\n",
        "\n",
        "    best_score = float(\"inf\")\n",
        "\n",
        "    for cur_index, features in enumerate(options):\n",
        "        \n",
        "        cur_splitter, cur_best_score = find_best_split_value(score_func, targets, features)\n",
        "        \n",
        "        if cur_best_score < best_score:\n",
        "            best_score = cur_best_score\n",
        "            index = cur_index\n",
        "            splitter = cur_splitter\n",
        "\n",
        "    return index, splitter"
      ]
    },
    {
      "cell_type": "code",
      "execution_count": null,
      "id": "VUwTh7Zb1PgM",
      "metadata": {
        "colab": {
          "base_uri": "https://localhost:8080/"
        },
        "id": "VUwTh7Zb1PgM",
        "outputId": "7f9551df-fec9-4704-c5e7-4e5f66b8f350"
      },
      "outputs": [
        {
          "data": {
            "text/plain": [
              "(0, 1)"
            ]
          },
          "execution_count": 55,
          "metadata": {},
          "output_type": "execute_result"
        }
      ],
      "source": [
        "find_best_split_value(entropy_score, [1,1,2,2,1,1,2,1,3,1,3,4,1], [[3,1,9,9,1,5,2,1,7,1,3,4,9]])"
      ]
    },
    {
      "cell_type": "markdown",
      "id": "b747e383",
      "metadata": {
        "id": "b747e383"
      },
      "source": [
        "---"
      ]
    },
    {
      "cell_type": "markdown",
      "id": "d3e71841",
      "metadata": {
        "id": "d3e71841"
      },
      "source": [
        "# <center>Классы</center>"
      ]
    },
    {
      "cell_type": "markdown",
      "id": "64b35056",
      "metadata": {
        "id": "64b35056"
      },
      "source": [
        "# 4. Узел (Node)"
      ]
    },
    {
      "cell_type": "markdown",
      "id": "3be71ad2",
      "metadata": {
        "id": "3be71ad2"
      },
      "source": [
        "#### Задание: напишите класс `Node`\n",
        "  \n",
        "Он должен иметь следующие атрибуты:\n",
        "- **id**       : int - **уникальный** номер для каждого экземпляра этого класса\n",
        "- **values**   : Iterable - значения, хранимые в данном узле\n",
        "- **parent**   : Optional `Node`- \"родительский\" узел, из которого был создан данный экземпляр (по умолчанию = None)\n",
        "- **children** : Optional List `[Node]` - узлы, образованные из данного экземпляра (по умолчанию = None)  \n",
        "  \n",
        "Также он должен обладать следующими методами:\n",
        "- **is_root** -> bool : проверяет, является ли данный узел \"корневым\" (т.е. имеется у него \"родитель\" или нет)\n",
        "- **is_leaf** -> bool : проверяет, является ли данный узел терминальным (т.е. имеется у него \"дети\" или нет)"
      ]
    },
    {
      "cell_type": "code",
      "execution_count": null,
      "id": "e4165faf",
      "metadata": {
        "id": "e4165faf"
      },
      "outputs": [],
      "source": [
        "class Node:\n",
        "\n",
        "    COUNTER = 0\n",
        "\n",
        "    def __init__(self, values=0, parent=None, children=None):\n",
        "\n",
        "        self.id = Node.COUNTER\n",
        "        self.values = values\n",
        "        self.parent = parent\n",
        "        self.children = children\n",
        "\n",
        "        Node.COUNTER += 1\n",
        "    \n",
        "    def is_root(self):\n",
        "        return not(bool(self.parent))\n",
        "    \n",
        "    def is_leaf(self):\n",
        "        return not(bool(self.children))"
      ]
    },
    {
      "cell_type": "code",
      "execution_count": null,
      "id": "8xo96GCZ3ed5",
      "metadata": {
        "id": "8xo96GCZ3ed5"
      },
      "outputs": [],
      "source": [
        "A = Node(1)"
      ]
    },
    {
      "cell_type": "code",
      "execution_count": null,
      "id": "SHP11TsK3ngE",
      "metadata": {
        "id": "SHP11TsK3ngE"
      },
      "outputs": [],
      "source": [
        "B = Node(2, A)"
      ]
    },
    {
      "cell_type": "code",
      "execution_count": null,
      "id": "dL0PRCiq3rr5",
      "metadata": {
        "id": "dL0PRCiq3rr5"
      },
      "outputs": [],
      "source": [
        "A.children = B"
      ]
    },
    {
      "cell_type": "code",
      "execution_count": null,
      "id": "UKzOtIxP3unn",
      "metadata": {
        "colab": {
          "base_uri": "https://localhost:8080/"
        },
        "id": "UKzOtIxP3unn",
        "outputId": "18a17957-bfc3-40b5-b2b9-7ddc8a06f5c6"
      },
      "outputs": [
        {
          "data": {
            "text/plain": [
              "(0, 1)"
            ]
          },
          "execution_count": 60,
          "metadata": {},
          "output_type": "execute_result"
        }
      ],
      "source": [
        "A.id, B.id"
      ]
    },
    {
      "cell_type": "code",
      "execution_count": null,
      "id": "I6tSscd33xlR",
      "metadata": {
        "colab": {
          "base_uri": "https://localhost:8080/"
        },
        "id": "I6tSscd33xlR",
        "outputId": "ab88c9ab-1e68-4dbc-c705-b5d38733e94a"
      },
      "outputs": [
        {
          "data": {
            "text/plain": [
              "(True, False)"
            ]
          },
          "execution_count": 61,
          "metadata": {},
          "output_type": "execute_result"
        }
      ],
      "source": [
        "A.is_root(), A.is_leaf()"
      ]
    },
    {
      "cell_type": "code",
      "execution_count": null,
      "id": "Dz0jc0CB35Va",
      "metadata": {
        "colab": {
          "base_uri": "https://localhost:8080/"
        },
        "id": "Dz0jc0CB35Va",
        "outputId": "4fab3c1d-4a2f-4b11-ad8b-eafc7d10a33d"
      },
      "outputs": [
        {
          "data": {
            "text/plain": [
              "(False, True)"
            ]
          },
          "execution_count": 62,
          "metadata": {},
          "output_type": "execute_result"
        }
      ],
      "source": [
        "B.is_root(), B.is_leaf()"
      ]
    },
    {
      "cell_type": "markdown",
      "id": "3f3197ad",
      "metadata": {
        "id": "3f3197ad"
      },
      "source": [
        "---"
      ]
    },
    {
      "cell_type": "markdown",
      "id": "2c8d7245",
      "metadata": {
        "id": "2c8d7245"
      },
      "source": [
        "# 5. Условие (Condition) и Группа условий (Conditions Group)"
      ]
    },
    {
      "cell_type": "markdown",
      "id": "a47cc469",
      "metadata": {
        "id": "a47cc469"
      },
      "source": [
        "#### Задание: напишите классы `Condition` и `ConditionsGroup`\n",
        "\n",
        "**Condition** представляет собой описание следующего правила: `признак Х` - `меньше или равно | больше` - `значение`  \n",
        "  \n",
        "Таким образом, этот класс должен обладать соответствующими атрибутами:\n",
        "- **feature** : str|int\n",
        "- **greater** : bool\n",
        "- **value**   : int|float\n",
        "\n",
        "**ConditionsGroup** должен сохранять список разных условий и иметь атрибут **conditions**"
      ]
    },
    {
      "cell_type": "code",
      "execution_count": null,
      "id": "b2f07a8f",
      "metadata": {
        "id": "b2f07a8f"
      },
      "outputs": [],
      "source": [
        "class Condition:\n",
        "    ...\n",
        "\n",
        "class ConditionsGroup:\n",
        "    ..."
      ]
    },
    {
      "cell_type": "markdown",
      "id": "d24da80b",
      "metadata": {
        "id": "d24da80b"
      },
      "source": [
        "---"
      ]
    },
    {
      "cell_type": "markdown",
      "id": "db2b35eb",
      "metadata": {
        "id": "db2b35eb"
      },
      "source": [
        "<div class=\"alert alert-info\">\n",
        "    <center><strong>Задание на 10 баллов</strong></center>\n",
        "</div>"
      ]
    },
    {
      "cell_type": "markdown",
      "id": "c11fac06",
      "metadata": {
        "id": "c11fac06"
      },
      "source": [
        "Реализуйте операцию объединения экземпляров классов **Condition** и **ConditionsGroup** следующим образом:\n",
        "- Если объединяются два экземпляра класса **Condition** и у обоих одинаковые атрибуты `feature` и `greater`, то объединение должно возвращать новый экземпляр **Condition** с тем значением атрибута `value`, который соответсвует логике"
      ]
    },
    {
      "cell_type": "code",
      "execution_count": null,
      "id": "255e7503",
      "metadata": {
        "colab": {
          "base_uri": "https://localhost:8080/",
          "height": 130
        },
        "id": "255e7503",
        "outputId": "0aac458b-1fa3-46e3-93ba-adfac36f15bb"
      },
      "outputs": [
        {
          "ename": "SyntaxError",
          "evalue": "ignored",
          "output_type": "error",
          "traceback": [
            "\u001b[0;36m  File \u001b[0;32m\"<ipython-input-64-2f73689cea4f>\"\u001b[0;36m, line \u001b[0;32m4\u001b[0m\n\u001b[0;31m    c1 + c2 -> Condition(feature=\"рост\", greater=False, value=160)\u001b[0m\n\u001b[0m            ^\u001b[0m\n\u001b[0;31mSyntaxError\u001b[0m\u001b[0;31m:\u001b[0m invalid syntax\n"
          ]
        }
      ],
      "source": [
        "c1 = Condition(feature=\"рост\", greater=False, value=180)\n",
        "c2 = Condition(feature=\"рост\", greater=False, value=160)\n",
        "\n",
        "c1 + c2 -> Condition(feature=\"рост\", greater=False, value=160)"
      ]
    },
    {
      "cell_type": "markdown",
      "id": "2723174e",
      "metadata": {
        "id": "2723174e"
      },
      "source": [
        "- В любом другом случае должен возвращаться новый экземпляр **ConditionsGroup**, и, если при этом между элементами этого экземпляра возможно произвести объединение первого типа - то это нужно сделать (таким образом, не будет нескольких элементов с одинаковыми `feature` и `greater`)"
      ]
    },
    {
      "cell_type": "code",
      "execution_count": null,
      "id": "0e4cf646",
      "metadata": {
        "id": "0e4cf646"
      },
      "outputs": [],
      "source": [
        "c1 = Condition(feature=\"рост\", greater=False, value=180)\n",
        "c2 = Condition(feature=\"рост\", greater=True, value=160)\n",
        "\n",
        "cg_1 = c1 + c2\n",
        "cg_1 -> ConditionsGroup(Condition(feature=\"рост\", greater=False, value=180),\n",
        "                        Condition(feature=\"рост\", greater=True, value=160))"
      ]
    },
    {
      "cell_type": "markdown",
      "id": "ecc7f436",
      "metadata": {
        "id": "ecc7f436"
      },
      "source": [
        "---"
      ]
    },
    {
      "cell_type": "markdown",
      "id": "eaff3cde",
      "metadata": {
        "id": "eaff3cde"
      },
      "source": [
        "<center><h1>Удачи!</h1></center>"
      ]
    }
  ],
  "metadata": {
    "colab": {
      "provenance": []
    },
    "kernelspec": {
      "display_name": "Python 3 (ipykernel)",
      "language": "python",
      "name": "python3"
    },
    "language_info": {
      "codemirror_mode": {
        "name": "ipython",
        "version": 3
      },
      "file_extension": ".py",
      "mimetype": "text/x-python",
      "name": "python",
      "nbconvert_exporter": "python",
      "pygments_lexer": "ipython3",
      "version": "3.10.7"
    }
  },
  "nbformat": 4,
  "nbformat_minor": 5
}
