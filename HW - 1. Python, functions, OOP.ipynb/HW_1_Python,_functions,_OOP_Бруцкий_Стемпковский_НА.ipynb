{
  "cells": [
    {
      "cell_type": "code",
      "execution_count": null,
      "metadata": {
        "id": "88acce6c"
      },
      "outputs": [],
      "source": [
        "from typing import Tuple, Iterable, List, Dict, Callable, Any, Optional, Union\n",
        "from collections import Counter\n",
        "\n",
        "import math"
      ],
      "id": "88acce6c"
    },
    {
      "cell_type": "markdown",
      "metadata": {
        "id": "22a18afd"
      },
      "source": [
        "# <center>Функции</center>"
      ],
      "id": "22a18afd"
    },
    {
      "cell_type": "markdown",
      "metadata": {
        "id": "038813dc"
      },
      "source": [
        "# 1. Метрики"
      ],
      "id": "038813dc"
    },
    {
      "cell_type": "markdown",
      "metadata": {
        "id": "2bb5944d"
      },
      "source": [
        "Данное задание призвано как проверить навыки работы с функциями, так и ознакомить Вас с метриками, которые используются во время тренировки моделей Supervised Learning."
      ],
      "id": "2bb5944d"
    },
    {
      "cell_type": "markdown",
      "metadata": {
        "id": "b4169512"
      },
      "source": [
        "### 1.1 Gini score"
      ],
      "id": "b4169512"
    },
    {
      "cell_type": "markdown",
      "metadata": {
        "id": "4f29b9e4"
      },
      "source": [
        "Критерий Gini показывает, насколько однородным является выбранная группа, и расчитывается по следующей формуле:"
      ],
      "id": "4f29b9e4"
    },
    {
      "cell_type": "markdown",
      "metadata": {
        "id": "d7ad0dc6"
      },
      "source": [
        "$$Gini = 1 - \\sum p_{j}^{2}$$"
      ],
      "id": "d7ad0dc6"
    },
    {
      "cell_type": "markdown",
      "metadata": {
        "id": "d48970d1"
      },
      "source": [
        "где $p_{j}$ - это частота каждого класса в данной группе (или, иными словами, вероятность того, что случайно взятый экземпляр из этой группы принадлежит к данному классу).  \n",
        "  \n",
        "Например, у нас есть группа из 20 шариков, 10 из которых - синие, 7 - зелёные, и 3 - красные. В данном случае критерий Gini будет равен:"
      ],
      "id": "d48970d1"
    },
    {
      "cell_type": "markdown",
      "metadata": {
        "id": "ce9f2d50"
      },
      "source": [
        "$$Gini = 1 - ((\\frac{10}{20})^{2} + (\\frac{7}{20})^{2} + (\\frac{3}{20})^{2}) = 1 - 0.395 = 0.605$$"
      ],
      "id": "ce9f2d50"
    },
    {
      "cell_type": "markdown",
      "metadata": {
        "id": "d05689a0"
      },
      "source": [
        "Критерий Gini может принимать значения от 0 (абсолютно гомогенная группа, состоящая из одного класса) до 1 (максимальная неопределённость, множество классов с одинаковыми вероятностями выпадения)"
      ],
      "id": "d05689a0"
    },
    {
      "cell_type": "markdown",
      "metadata": {
        "id": "79412798"
      },
      "source": [
        "#### Задание: написать функцию, которая получает на вход список целых чисел, и вычисляет значение критерия Gini"
      ],
      "id": "79412798"
    },
    {
      "cell_type": "code",
      "execution_count": null,
      "metadata": {
        "id": "8f6a0a1e"
      },
      "outputs": [],
      "source": [
        "def gini_score(items: Iterable[int]) -> float:\n",
        "    \"\"\"\n",
        "    Возвращает коэффициент Джини для последовательности элементов.\n",
        "    \"\"\"\n",
        "    values = Counter(items)\n",
        "    n = len(items)\n",
        "    summ = 0\n",
        "\n",
        "    for val in values:\n",
        "        summ += (values[val] / n)**2\n",
        "\n",
        "    return 1 - summ"
      ],
      "id": "8f6a0a1e"
    },
    {
      "cell_type": "code",
      "execution_count": null,
      "metadata": {
        "colab": {
          "base_uri": "https://localhost:8080/"
        },
        "id": "WVwR5QMa2N8Y",
        "outputId": "28a2a0da-86d7-4766-fe8b-b6065a5201b8"
      },
      "outputs": [
        {
          "output_type": "execute_result",
          "data": {
            "text/plain": [
              "0.605"
            ]
          },
          "metadata": {},
          "execution_count": 67
        }
      ],
      "source": [
        "gini_score([0]*10 + [1]*7 + [2]*3)"
      ],
      "id": "WVwR5QMa2N8Y"
    },
    {
      "cell_type": "code",
      "source": [
        "gini_score([\"C\", \"C\", \"C\", \"C\", \"C\", \"C\", \"C\", \"C\", \"C\", \"C\", \"З\", \"З\", \"З\", \"З\", \"З\", \"З\", \"З\", \"К\", \"К\", \"К\"])"
      ],
      "metadata": {
        "colab": {
          "base_uri": "https://localhost:8080/"
        },
        "id": "3iEu7OPXBQQ2",
        "outputId": "65af29db-f0ea-4dba-ca82-506576b01603"
      },
      "id": "3iEu7OPXBQQ2",
      "execution_count": null,
      "outputs": [
        {
          "output_type": "execute_result",
          "data": {
            "text/plain": [
              "0.605"
            ]
          },
          "metadata": {},
          "execution_count": 68
        }
      ]
    },
    {
      "cell_type": "markdown",
      "metadata": {
        "id": "c6ac139a"
      },
      "source": [
        "---"
      ],
      "id": "c6ac139a"
    },
    {
      "cell_type": "markdown",
      "metadata": {
        "id": "b368e426"
      },
      "source": [
        "### 1.2 Entropy"
      ],
      "id": "b368e426"
    },
    {
      "cell_type": "markdown",
      "metadata": {
        "id": "6eddcc02"
      },
      "source": [
        "Энтропия измеряет степень неопределённости группы, и, конкретно в нашем случае, описывает количество информации, требуемое для описания распределения (distributon) в группе.  \n",
        "Формула (средней) энтропии:"
      ],
      "id": "6eddcc02"
    },
    {
      "cell_type": "markdown",
      "metadata": {
        "id": "8ccc53a8"
      },
      "source": [
        "$$Entropy = - \\sum p_{j}\\log p_{j}$$"
      ],
      "id": "8ccc53a8"
    },
    {
      "cell_type": "markdown",
      "metadata": {
        "id": "8c230670"
      },
      "source": [
        "как и в случае с критерием Gini, $p_{j}$ - это частота каждого класса в данной группе.  \n",
        "  \n",
        "В том же примере с шариками (группа из 20 шариков, 10 из которых - синие, 7 - зелёные, и 3 - красные), уровень энтропии будет равен:"
      ],
      "id": "8c230670"
    },
    {
      "cell_type": "markdown",
      "metadata": {
        "id": "4d5ec318"
      },
      "source": [
        "$$Entropy = -\\ (\\frac{10}{20} * \\log(\\frac{10}{20}) + \\frac{7}{20} * \\log(\\frac{7}{20}) + \\frac{3}{20} * \\log(\\frac{3}{20})) = - \\ (-0.347 - 0.367 -0.285) = 0.999$$"
      ],
      "id": "4d5ec318"
    },
    {
      "cell_type": "markdown",
      "metadata": {
        "id": "2dd218c3"
      },
      "source": [
        "Энтропия может принимать значения от 0 (абсолютно гомогенная группа, состоящая из одного класса) до бесконечности (максимальная неопределённость), хотя на практике максимальное значение ограничено логарифмической функцией и достигает величины в 20-30 единиц (можете попробовать запустить её со списком из миллиона уникальных значений)."
      ],
      "id": "2dd218c3"
    },
    {
      "cell_type": "markdown",
      "metadata": {
        "id": "f1fa1e28"
      },
      "source": [
        "#### Задание: написать функцию, которая получает на вход список целых чисел, и вычисляет значение Энтропии"
      ],
      "id": "f1fa1e28"
    },
    {
      "cell_type": "code",
      "execution_count": null,
      "metadata": {
        "id": "4b914a98"
      },
      "outputs": [],
      "source": [
        "def entropy_score(items: Iterable[int]) -> float:\n",
        "    \"\"\"\n",
        "    Возвращает коэффициент энтропии для последовательности элементов.\n",
        "    \"\"\"\n",
        "    values = Counter(items)\n",
        "    n = len(items)\n",
        "    summ = 0\n",
        "\n",
        "    for val in values:\n",
        "        p_j = values[val] / n\n",
        "        summ += p_j * math.log(p_j)\n",
        "\n",
        "    return -summ"
      ],
      "id": "4b914a98"
    },
    {
      "cell_type": "code",
      "execution_count": null,
      "metadata": {
        "colab": {
          "base_uri": "https://localhost:8080/"
        },
        "id": "tv2siJaX3D5I",
        "outputId": "9e81ca62-d5cc-4a8f-dedd-a0ffce975b71"
      },
      "outputs": [
        {
          "output_type": "execute_result",
          "data": {
            "text/plain": [
              "0.9985793315873921"
            ]
          },
          "metadata": {},
          "execution_count": 70
        }
      ],
      "source": [
        "entropy_score([\"C\", \"C\", \"C\", \"C\", \"C\", \"C\", \"C\", \"C\", \"C\", \"C\", \"З\", \"З\", \"З\", \"З\", \"З\", \"З\", \"З\", \"К\", \"К\", \"К\"])"
      ],
      "id": "tv2siJaX3D5I"
    },
    {
      "cell_type": "markdown",
      "metadata": {
        "id": "136b292b"
      },
      "source": [
        "---"
      ],
      "id": "136b292b"
    },
    {
      "cell_type": "markdown",
      "metadata": {
        "id": "407560ff"
      },
      "source": [
        "### 1.3 Mean Squared Error (MSE)"
      ],
      "id": "407560ff"
    },
    {
      "cell_type": "markdown",
      "metadata": {
        "id": "3cc1bf75"
      },
      "source": [
        "Среднеквадратичная ошибка (Mean Squared Error, MSE) - это метрика, используемая в задачах регрессии, для оценки разницы между прогнозируемыми и фактическими значениями.  \n",
        "  \n",
        "MSE измеряет среднеквадратичное отклонение прогнозируемых значений от фактических значений и вычисляется путем суммирования квадратов разностей между каждым прогнозируемым и фактическим значением, а затем деления на количество наблюдений:"
      ],
      "id": "3cc1bf75"
    },
    {
      "cell_type": "markdown",
      "metadata": {
        "id": "8a06ad24"
      },
      "source": [
        "$$MSE = \\sum_{i=0}^{n} \\frac{(y^{'}_{i} - y_{i})^{2}}{n}$$"
      ],
      "id": "8a06ad24"
    },
    {
      "cell_type": "markdown",
      "metadata": {
        "id": "8a78559c"
      },
      "source": [
        "где $y^{'}_{i}$ - это предсказанное значение для $i$-того элемента, $y_{i}$ - его реальное значение, $n$ - общее количество элементов.  \n",
        "  \n",
        "Очевидно, что в идеальном случае, когда все предсказания в точности равны реальным значениям, **MSE** будет равен нулю (сверху же данный показатель не ограничен)."
      ],
      "id": "8a78559c"
    },
    {
      "cell_type": "markdown",
      "metadata": {
        "id": "7080c9d6"
      },
      "source": [
        "В рамках этого задания мы слегка изменим эту метрику, и вместо $y^{'}_{i}$ (отдельного предсказания для каждого элемента) будем испльзовать среднее значение всех элементов в группе - $\\hat{y}$:"
      ],
      "id": "7080c9d6"
    },
    {
      "cell_type": "markdown",
      "metadata": {
        "id": "56259b00"
      },
      "source": [
        "$$MSE = \\sum_{i=0}^{n} \\frac{(\\hat{y} - y_{i})^{2}}{n}$$"
      ],
      "id": "56259b00"
    },
    {
      "cell_type": "markdown",
      "metadata": {
        "id": "42893756"
      },
      "source": [
        "Пример: дана группа чисел $[-0.1, -2.0 ,  1.0 ,  1.8,  0.8]$.\n",
        "  \n",
        "Среднее значение группы:\n",
        "\n",
        "$$\\hat{y} = \\frac{-0.1-2.0+1.0+1.8+0.8}{5} = 0.3$$"
      ],
      "id": "42893756"
    },
    {
      "cell_type": "markdown",
      "metadata": {
        "id": "2bc07286"
      },
      "source": [
        "Значит, среднеквадратичное отклонение будет равно:"
      ],
      "id": "2bc07286"
    },
    {
      "cell_type": "markdown",
      "metadata": {
        "id": "063b074b"
      },
      "source": [
        "$$MSE = \\frac{(0.3 - (-0.1))^{2} + (0.3 - (-2.0))^{2} + (0.3 - 1.0)^{2} + (0.3 - 1.8)^{2} + (0.3 - 0.8)^{2}}{5} = 1.688$$"
      ],
      "id": "063b074b"
    },
    {
      "cell_type": "markdown",
      "metadata": {
        "id": "99a5c3d2"
      },
      "source": [
        "#### Задание: написать функцию, которая получает на вход список чисел, и вычисляет среднеквадратичную ошибку:"
      ],
      "id": "99a5c3d2"
    },
    {
      "cell_type": "code",
      "execution_count": null,
      "metadata": {
        "id": "c2c1d385"
      },
      "outputs": [],
      "source": [
        "def mse_score(items: Iterable[Union[int, float]]) -> float:\n",
        "    \"\"\"\n",
        "    Возвращает среднеквадратичную ошибку последовательности\n",
        "    (она же - несмещенная оценка дисперсии)\n",
        "    \"\"\"\n",
        "\n",
        "    n = len(items)\n",
        "    mean = sum(items) / n\n",
        "    summ = 0\n",
        "\n",
        "    for val in items:\n",
        "        summ += (val - mean)**2\n",
        "    \n",
        "    return summ / n"
      ],
      "id": "c2c1d385"
    },
    {
      "cell_type": "code",
      "execution_count": null,
      "metadata": {
        "colab": {
          "base_uri": "https://localhost:8080/"
        },
        "id": "ntiij6T544yW",
        "outputId": "9d6b4695-da1e-415c-bd57-26eeb94a1f54"
      },
      "outputs": [
        {
          "output_type": "execute_result",
          "data": {
            "text/plain": [
              "1.688"
            ]
          },
          "metadata": {},
          "execution_count": 43
        }
      ],
      "source": [
        "mse_score([-0.1, -2.0, 1.0, 1.8, 0.8])"
      ],
      "id": "ntiij6T544yW"
    },
    {
      "cell_type": "markdown",
      "metadata": {
        "id": "8a1939d3"
      },
      "source": [
        "---"
      ],
      "id": "8a1939d3"
    },
    {
      "cell_type": "markdown",
      "metadata": {
        "id": "9b335039"
      },
      "source": [
        "### 1.4 Root Mean Squared Error (RMSE)"
      ],
      "id": "9b335039"
    },
    {
      "cell_type": "markdown",
      "metadata": {
        "id": "690a7529"
      },
      "source": [
        "Корень средней квадратичной ошибки (Root Mean Squared Error, RMSE) имеет преимущество в том, что представляет величину ошибки в единице прогнозируемого столбца, что упрощает процесс интерпретации.  \n",
        "  \n",
        "Если вы пытаетесь спрогнозировать сумму в долларах, корень средней квадратичной ошибки можно интерпретировать как величину ошибки в долларах.\n",
        "  \n",
        "Аналогично предыдущему примеру, в данном задании мы будем вместо прогнозируемых значений использовать среднее группы:"
      ],
      "id": "690a7529"
    },
    {
      "cell_type": "markdown",
      "metadata": {
        "id": "978b76e5"
      },
      "source": [
        "$$RMSE = \\sqrt{\\sum_{i=0}^{n} \\frac{(y^{'}_{i} - y_{i})^{2}}{n}} \\longrightarrow RMSE = \\sqrt{\\sum_{i=0}^{n} \\frac{(\\hat{y} - y_{i})^{2}}{n}}$$"
      ],
      "id": "978b76e5"
    },
    {
      "cell_type": "markdown",
      "metadata": {
        "id": "f34aad3f"
      },
      "source": [
        "#### Задание: написать функцию, которая получает на вход список чисел, и вычисляет корень среднеквадратичной ошибки:"
      ],
      "id": "f34aad3f"
    },
    {
      "cell_type": "code",
      "execution_count": null,
      "metadata": {
        "id": "267cc565"
      },
      "outputs": [],
      "source": [
        "def rmse_score(items: Iterable[Union[int, float]]) -> float:\n",
        "    \"\"\"\n",
        "    Возвращает корень среднеквадратичной ошибки \n",
        "    \"\"\"\n",
        "    return math.sqrt(mse_score(items))"
      ],
      "id": "267cc565"
    },
    {
      "cell_type": "code",
      "execution_count": null,
      "metadata": {
        "colab": {
          "base_uri": "https://localhost:8080/"
        },
        "id": "zK-R5nyn6JTp",
        "outputId": "52dd2aa0-b54c-4f8d-dc7d-48ec0796e6e5"
      },
      "outputs": [
        {
          "output_type": "execute_result",
          "data": {
            "text/plain": [
              "1.2992305415129373"
            ]
          },
          "metadata": {},
          "execution_count": 45
        }
      ],
      "source": [
        "rmse_score([-0.1, -2.0, 1.0, 1.8, 0.8])"
      ],
      "id": "zK-R5nyn6JTp"
    },
    {
      "cell_type": "markdown",
      "metadata": {
        "id": "c8c6ffd9"
      },
      "source": [
        "---"
      ],
      "id": "c8c6ffd9"
    },
    {
      "cell_type": "markdown",
      "metadata": {
        "id": "883cd76e"
      },
      "source": [
        "### 1.5 Mean Absolute Percentage Error (MAPE)"
      ],
      "id": "883cd76e"
    },
    {
      "cell_type": "markdown",
      "metadata": {
        "id": "e0ce7c65"
      },
      "source": [
        "Средняя процентная ошибка (МАРЕ) измеряет отклонение фактических значений от прогнозируемых значений в процентах.  \n",
        "  \n",
        "MAPE часто используется в бизнесе и экономике для оценки точности прогнозирования, особенно при прогнозировании спроса на товары или услуги.  \n",
        "  \n",
        "Преимущество данной метрики в том, что она позволяет сравнивать эффективность моделей, натренированных на данных различного масштаба.  \n",
        "  \n",
        "Формула для расчёта MAPE:"
      ],
      "id": "e0ce7c65"
    },
    {
      "cell_type": "markdown",
      "metadata": {
        "id": "7caa4061"
      },
      "source": [
        "$$MAPE = \\frac{100}{n} * \\sum{\\mid \\frac{y^{'}_{i} - y_{i}}{y_{i}} \\mid}$$"
      ],
      "id": "7caa4061"
    },
    {
      "cell_type": "markdown",
      "metadata": {
        "id": "6c2bda21"
      },
      "source": [
        "Поскольку реальное значение $y_{i}$ может быть равен нулю, то для избежания деления на ноль в некоторых случаях в знаменатель добавляется ничтожно малое число $\\varepsilon$ (оно должно быть существенно ниже имеющихся реальных значений):"
      ],
      "id": "6c2bda21"
    },
    {
      "cell_type": "markdown",
      "metadata": {
        "id": "4f561723"
      },
      "source": [
        "$$MAPE = \\frac{100}{n} * \\sum{\\mid \\frac{y^{'}_{i} - y_{i}}{y_{i}} \\mid} \\ \\longrightarrow \\ MAPE = \\frac{100}{n} * \\sum{ \\frac{\\mid y^{'}_{i} - y_{i}\\mid}{\\mid y_{i} \\mid + \\varepsilon}}$$"
      ],
      "id": "4f561723"
    },
    {
      "cell_type": "markdown",
      "metadata": {
        "id": "39dd1cf1"
      },
      "source": [
        "Другой способ избежать деление на ноль - это просто убрать из расчёта экземпляры, где реальное значение равно нулю (ибо для них применение этой метрики не имеет смысла)"
      ],
      "id": "39dd1cf1"
    },
    {
      "cell_type": "markdown",
      "metadata": {
        "id": "bdbb4f4f"
      },
      "source": [
        "Аналогично предыдущему примеру, в данном задании мы будем вместо прогнозируемых значений использовать среднее группы:"
      ],
      "id": "bdbb4f4f"
    },
    {
      "cell_type": "markdown",
      "metadata": {
        "id": "d17a92e7"
      },
      "source": [
        "$$MAPE = \\frac{100}{n} * \\sum{ \\frac{\\mid \\hat{y} - y_{i}\\mid}{\\mid y_{i} \\mid + \\varepsilon}}$$"
      ],
      "id": "d17a92e7"
    },
    {
      "cell_type": "markdown",
      "metadata": {
        "id": "805fad04"
      },
      "source": [
        "#### Задание: написать функцию, которая получает на вход список чисел, и вычисляет MAPE:"
      ],
      "id": "805fad04"
    },
    {
      "cell_type": "code",
      "execution_count": null,
      "metadata": {
        "id": "89c822b2"
      },
      "outputs": [],
      "source": [
        "def mape_score(items: Iterable[Union[int, float]]) -> float:\n",
        "    \"\"\"\n",
        "    Возвращает среднюю процентную ошибку\n",
        "    \"\"\"\n",
        "    new_items = []\n",
        "    \n",
        "    for val in items:\n",
        "        if val != 0 :\n",
        "            new_items.append(val)\n",
        "    \n",
        "    n = len(items)\n",
        "    mean = sum(items) / n\n",
        "    summ = 0\n",
        "    for val in new_items:\n",
        "        summ += abs(val - mean) / abs(val)\n",
        "    \n",
        "    return 100 * summ / n"
      ],
      "id": "89c822b2"
    },
    {
      "cell_type": "code",
      "execution_count": null,
      "metadata": {
        "colab": {
          "base_uri": "https://localhost:8080/"
        },
        "id": "VeBTHUqA8TLA",
        "outputId": "61f34b98-7edf-4e5c-ad45-ec6077df508a"
      },
      "outputs": [
        {
          "output_type": "execute_result",
          "data": {
            "text/plain": [
              "146.16666666666669"
            ]
          },
          "metadata": {},
          "execution_count": 47
        }
      ],
      "source": [
        "mape_score([-0.1, -2.0, 1.0, 1.8, 0.8])"
      ],
      "id": "VeBTHUqA8TLA"
    },
    {
      "cell_type": "markdown",
      "metadata": {
        "id": "0fbfffe0"
      },
      "source": [
        "---"
      ],
      "id": "0fbfffe0"
    },
    {
      "cell_type": "markdown",
      "metadata": {
        "id": "26cd4602"
      },
      "source": [
        "# 2. Взвешенная оценка"
      ],
      "id": "26cd4602"
    },
    {
      "cell_type": "markdown",
      "metadata": {
        "id": "47d6d6d6"
      },
      "source": [
        "В некоторых ситуациях нам надо расчитать среднее взвешанное значение заданной метрики для нескольких групп. Слово *взвешенное* подразумевает, что вклад каждой группы в финальное значение пропорционален количеству элементов в ней.\n",
        "  \n",
        "Например: у нас есть две группы `A: [1, 1, 2, 1, 3, 2]` и `B: [3, 3, 2]`. Задача - расчитать взвешенное значение критерия Gini:"
      ],
      "id": "47d6d6d6"
    },
    {
      "cell_type": "markdown",
      "metadata": {
        "id": "83e1a708"
      },
      "source": [
        "$$Gini_{total} = \\frac{N_{A}}{N_{A} + N_{B}}Gini_{A} + \\frac{N_{B}}{N_{A} + N_{B}}Gini_{B} = \\frac{6}{9}*0.611 + \\frac{3}{9}*0.444 = 0.556$$"
      ],
      "id": "83e1a708"
    },
    {
      "cell_type": "markdown",
      "metadata": {
        "id": "05ef2508"
      },
      "source": [
        "#### Задание: написать функцию, которая получает на вход функцию метрики и несколько списоков чисел, и вычисляет взвешенное значение переданной метрики:"
      ],
      "id": "05ef2508"
    },
    {
      "cell_type": "code",
      "execution_count": null,
      "metadata": {
        "id": "0c5dbbe3"
      },
      "outputs": [],
      "source": [
        "def weighted_metric_score(metric: Callable, *items: Iterable) -> float:\n",
        "    \"\"\"\n",
        "    Возвращает взвешенную метрику для списка последовательностей\n",
        "    Список самих метрик определен выше в виде функций\n",
        "    \"\"\"\n",
        "    N = 0\n",
        "    summ = 0\n",
        "\n",
        "    for item in items:\n",
        "        N += len(item)\n",
        "\n",
        "    for item in items:\n",
        "        n = len(item)\n",
        "        summ += metric(item) * n / N\n",
        "    \n",
        "    return summ"
      ],
      "id": "0c5dbbe3"
    },
    {
      "cell_type": "code",
      "execution_count": null,
      "metadata": {
        "colab": {
          "base_uri": "https://localhost:8080/"
        },
        "id": "D--XPM179mzn",
        "outputId": "fe360af0-ef95-473a-97fc-a9946da80d79"
      },
      "outputs": [
        {
          "output_type": "execute_result",
          "data": {
            "text/plain": [
              "0.0"
            ]
          },
          "metadata": {},
          "execution_count": 49
        }
      ],
      "source": [
        "weighted_metric_score(gini_score, [0,0,0,0], [1,1,1])"
      ],
      "id": "D--XPM179mzn"
    },
    {
      "cell_type": "markdown",
      "metadata": {
        "id": "5134330c"
      },
      "source": [
        "---"
      ],
      "id": "5134330c"
    },
    {
      "cell_type": "markdown",
      "metadata": {
        "id": "d8e25be8"
      },
      "source": [
        "# 3. Разделенение группы"
      ],
      "id": "d8e25be8"
    },
    {
      "cell_type": "markdown",
      "metadata": {
        "id": "402599c8"
      },
      "source": [
        "### 3.1 Деление группы на две"
      ],
      "id": "402599c8"
    },
    {
      "cell_type": "markdown",
      "metadata": {
        "id": "0a32aabc"
      },
      "source": [
        "Легче всего описать это задание с вводных данных:  \n",
        "  \n",
        "Есть два списка: один - вспомогательный (`features, F`), состоящий из чисел, второй - основной (`targets, T`), при этом их элементы связаны попарно:"
      ],
      "id": "0a32aabc"
    },
    {
      "cell_type": "markdown",
      "metadata": {
        "id": "ac901d10"
      },
      "source": [
        "$$F_{i} \\leftrightarrow T_{i}$$"
      ],
      "id": "ac901d10"
    },
    {
      "cell_type": "markdown",
      "metadata": {
        "id": "63dfdc65"
      },
      "source": [
        "Нам даётся число из вспомогательной группы `F`. Наша задача - разделить основную и вспомогательную группы так на две подгруппы так, чтобы все элементы $\\color{red}{первой}$ вспомогательной подгруппы были бы меньше или равны данному числу, а все элемены $\\color{blue}{второй}$ вспомогательной подгруппы - больше этого числа.\n",
        "  \n",
        "Например: нам данны следующие основная и вспомогательная группы:"
      ],
      "id": "63dfdc65"
    },
    {
      "cell_type": "markdown",
      "metadata": {
        "id": "e5723cfa"
      },
      "source": [
        "$$\n",
        "T = [1, 1, 2, 2, 1, 1, 2, 1, 3, 1, 3, 4, 1]  \\\\\n",
        "F = [3, 1, 9, 9, 1, 5, 2, 1, 7, 1, 3, 4, 9]\n",
        "$$"
      ],
      "id": "e5723cfa"
    },
    {
      "cell_type": "markdown",
      "metadata": {
        "id": "597fea22"
      },
      "source": [
        "Допустим, из вспомогательного списка выбрано число `5`. Таким образом, эти списки будут разделены следующим образом:"
      ],
      "id": "597fea22"
    },
    {
      "cell_type": "markdown",
      "metadata": {
        "id": "3251bcd4"
      },
      "source": [
        "$$\n",
        "T = [\\color{red}{1}, \\color{red}{1}, \\color{blue}{2}, \\color{blue}{2}, \\color{red}{1}, \\color{red}{1}, \\color{red}{2}, \\color{red}{1}, \\color{blue}{2}, \\color{red}{1}, \\color{red}{3}, \\color{red}{4}, \\color{blue}{1}] \\rightarrow [\\color{red}{1,1,1,1,2,1,1,3,4}] \\ , \\ [\\color{blue}{2,2,3,1}] \\\\\n",
        "F = [\\color{red}{3}, \\color{red}{1}, \\color{blue}{9}, \\color{blue}{9}, \\color{red}{1}, \\color{red}{5}, \\color{red}{2}, \\color{red}{1}, \\color{blue}{7}, \\color{red}{1}, \\color{red}{3}, \\color{red}{4}, \\color{blue}{9}] \\rightarrow [\\color{red}{3,1,1,5,2,1,1,3,4}] \\ , \\ [\\color{blue}{9,9,7,9}]\n",
        "$$"
      ],
      "id": "3251bcd4"
    },
    {
      "cell_type": "markdown",
      "metadata": {
        "id": "4e5ecc54"
      },
      "source": [
        "#### Задание: написать функцию, которая получает на вход основной список `targets`, вспомогательный список `features` и \"делитель\" `split_value` и возвращает результат разбиения основного списка `sub_targets_1`, `sub_targets_2`:"
      ],
      "id": "4e5ecc54"
    },
    {
      "cell_type": "code",
      "execution_count": null,
      "metadata": {
        "id": "3b814e84"
      },
      "outputs": [],
      "source": [
        "def split_target_by_feature(targets: Iterable, features: Iterable, split_value: Union[int, float]) -> Tuple[Iterable, Iterable]:\n",
        "    \"\"\"\n",
        "    Выполняет деление основной группы по целевому значению вспомогательной\n",
        "    \"\"\"\n",
        "    part_a, part_b = [], []\n",
        "\n",
        "    for i in range(len(targets)):\n",
        "        if features[i] <= split_value:\n",
        "            part_a.append(targets[i])\n",
        "        else:\n",
        "            part_b.append(targets[i])\n",
        "    \n",
        "    return part_a, part_b"
      ],
      "id": "3b814e84"
    },
    {
      "cell_type": "code",
      "source": [
        "split_target_by_feature([1,1,2,2,1,1,2,1,3,1,3,4,1], [3,1,9,9,1,5,2,1,7,1,3,4,9], 5)"
      ],
      "metadata": {
        "colab": {
          "base_uri": "https://localhost:8080/"
        },
        "id": "ht9C-mWVDbjp",
        "outputId": "fe78d93a-d0c2-4a59-a739-9c06a6eebb41"
      },
      "id": "ht9C-mWVDbjp",
      "execution_count": null,
      "outputs": [
        {
          "output_type": "execute_result",
          "data": {
            "text/plain": [
              "([1, 1, 1, 1, 2, 1, 1, 3, 4], [2, 2, 3, 1])"
            ]
          },
          "metadata": {},
          "execution_count": 51
        }
      ]
    },
    {
      "cell_type": "markdown",
      "metadata": {
        "id": "5b4e1a87"
      },
      "source": [
        "---"
      ],
      "id": "5b4e1a87"
    },
    {
      "cell_type": "markdown",
      "metadata": {
        "id": "225beecf"
      },
      "source": [
        "### 3.2 Поиск оптимального \"делителя\""
      ],
      "id": "225beecf"
    },
    {
      "cell_type": "markdown",
      "metadata": {
        "id": "d9afccc0"
      },
      "source": [
        "Следующий шаг - поиск оптимального \"делителя\", который позволит получить таке две подгруппы основного списка `targets`, взвешенная оценка которых для указанной метрики будет минимальна.  \n",
        "  \n",
        "Используя предыдущий пример, оценим вариант двух разбиений:  \n",
        "первый, когда \"делитель\" равен 5:"
      ],
      "id": "d9afccc0"
    },
    {
      "cell_type": "markdown",
      "metadata": {
        "id": "9a75ae19"
      },
      "source": [
        "$$\n",
        "T = [\\color{red}{1}, \\color{red}{1}, \\color{blue}{2}, \\color{blue}{2}, \\color{red}{1}, \\color{red}{1}, \\color{red}{2}, \\color{red}{1}, \\color{blue}{3}, \\color{red}{1}, \\color{red}{3}, \\color{red}{4}, \\color{blue}{1}] \\rightarrow [\\color{red}{1,1,1,1,2,1,1,3,4}] \\ , \\ [\\color{blue}{2,2,3,1}] \\\\\n",
        "F = [\\color{red}{3}, \\color{red}{1}, \\color{blue}{9}, \\color{blue}{9}, \\color{red}{1}, \\color{red}{5}, \\color{red}{2}, \\color{red}{1}, \\color{blue}{7}, \\color{red}{1}, \\color{red}{3}, \\color{red}{4}, \\color{blue}{9}] \\rightarrow [\\color{red}{3,1,1,5,2,1,1,3,4}] \\ , \\ [\\color{blue}{9,9,7,9}]\n",
        "$$"
      ],
      "id": "9a75ae19"
    },
    {
      "cell_type": "markdown",
      "metadata": {
        "id": "2dfe04bd"
      },
      "source": [
        "второй - когда \"делитель\" равен 3:"
      ],
      "id": "2dfe04bd"
    },
    {
      "cell_type": "markdown",
      "metadata": {
        "id": "1e39f7ed"
      },
      "source": [
        "$$\n",
        "T = [\\color{red}{1}, \\color{red}{1}, \\color{blue}{2}, \\color{blue}{2}, \\color{red}{1}, \\color{blue}{1}, \\color{red}{2}, \\color{red}{1}, \\color{blue}{3}, \\color{red}{1}, \\color{red}{3}, \\color{blue}{4}, \\color{blue}{1}] \\rightarrow [\\color{red}{1,1,1,2,1,1,3}] \\ , \\ [\\color{blue}{2,2,1,3,1,4}] \\\\\n",
        "F = [\\color{red}{3}, \\color{red}{1}, \\color{blue}{9}, \\color{blue}{9}, \\color{red}{1}, \\color{blue}{5}, \\color{red}{2}, \\color{red}{1}, \\color{blue}{7}, \\color{red}{1}, \\color{red}{3}, \\color{blue}{4}, \\color{blue}{9}] \\rightarrow [\\color{red}{3,1,1,2,1,1,3}] \\ , \\ [\\color{blue}{9,9,5,7,9,4}]\n",
        "$$"
      ],
      "id": "1e39f7ed"
    },
    {
      "cell_type": "markdown",
      "metadata": {
        "id": "b5eaf921"
      },
      "source": [
        "Допустим, что в качестве метрики выбрана этнропия.  \n",
        "  \n",
        "В таком случае, взвешенная оценка в первом варианте будет равна:"
      ],
      "id": "b5eaf921"
    },
    {
      "cell_type": "markdown",
      "metadata": {
        "id": "f043fb17"
      },
      "source": [
        "$$\n",
        "Entropy_{total} = \\frac{9}{13} * Entropy([1,1,1,1,2,1,1,3,4]) + \\frac{4}{13} * Entropy([2,2,3,1]) = 0.694 + 0.320 = 1.014\n",
        "$$"
      ],
      "id": "f043fb17"
    },
    {
      "cell_type": "markdown",
      "metadata": {
        "id": "4fc286d7"
      },
      "source": [
        "А во втором варианте:"
      ],
      "id": "4fc286d7"
    },
    {
      "cell_type": "markdown",
      "metadata": {
        "id": "bad4331b"
      },
      "source": [
        "$$\n",
        "Entropy_{total} = \\frac{7}{13} * Entropy([1,1,1,2,1,1,3]) + \\frac{6}{13} * Entropy([2,2,1,3,1,4]) = 0.429 + 0.614 = 1.043\n",
        "$$"
      ],
      "id": "bad4331b"
    },
    {
      "cell_type": "markdown",
      "metadata": {
        "id": "d24d9cff"
      },
      "source": [
        "Таким образом, `5` даёт меньшее значение взвешенной метрики по сравнению с `3`."
      ],
      "id": "d24d9cff"
    },
    {
      "cell_type": "markdown",
      "metadata": {
        "id": "4451c04e"
      },
      "source": [
        "#### Задание: написать функцию, которая получает на вход функцию метрики `score_func`, основной список `targets`, вспомогательный список `features` и возвращает оптимальное значение \"делителя\":"
      ],
      "id": "4451c04e"
    },
    {
      "cell_type": "code",
      "execution_count": null,
      "metadata": {
        "id": "19305a54"
      },
      "outputs": [],
      "source": [
        "def find_best_split_value(score_func: Callable, targets: Iterable, features: Iterable) -> Union[int, float]:\n",
        "    \"\"\"\n",
        "    Возвращает оптимальный делитель из множества значений вспомогательной последовательности\n",
        "    Критерий оптимальности - минимальное значение метрики (так как все вышеописанные метрики стремятся к нулю\n",
        "    для огомогенных последовательностей и при этом всегда не отрицательны)\n",
        "    \"\"\"\n",
        "\n",
        "    best_score = float(\"inf\")\n",
        "\n",
        "\n",
        "    for split_value in set(features):\n",
        "\n",
        "        cur_split = split_target_by_feature(targets, features, split_value)\n",
        "        cur_score = weighted_metric_score(score_func, cur_split[0], cur_split[1]) \n",
        "\n",
        "        #print(f\"cur splitter {split_value} give score {cur_score}\")\n",
        "        \n",
        "        if cur_score < best_score:\n",
        "            best_score = cur_score\n",
        "            cur_splitter = split_value\n",
        "    \n",
        "    return cur_splitter"
      ],
      "id": "19305a54"
    },
    {
      "cell_type": "code",
      "source": [
        "find_best_split_value(entropy_score, [1,1,2,2,1,1,2,1,3,1,3,4,1], [3,1,9,9,1,5,2,1,7,1,3,4,9])"
      ],
      "metadata": {
        "colab": {
          "base_uri": "https://localhost:8080/"
        },
        "id": "MwKhu4H3N3Wr",
        "outputId": "ef5d55d6-9547-4134-af04-dfe6a7b720e8"
      },
      "id": "MwKhu4H3N3Wr",
      "execution_count": null,
      "outputs": [
        {
          "output_type": "execute_result",
          "data": {
            "text/plain": [
              "1"
            ]
          },
          "metadata": {},
          "execution_count": 53
        }
      ]
    },
    {
      "cell_type": "markdown",
      "metadata": {
        "id": "b3e69ca1"
      },
      "source": [
        "---"
      ],
      "id": "b3e69ca1"
    },
    {
      "cell_type": "markdown",
      "metadata": {
        "id": "244a33d5"
      },
      "source": [
        "### 3.3 Выбор оптимального вспомогательного списка"
      ],
      "id": "244a33d5"
    },
    {
      "cell_type": "markdown",
      "metadata": {
        "id": "a4e4d6ab"
      },
      "source": [
        "Расширим вводные данные: теперь помимо основного списка `targets`, нам даётся не один, а несколько вспомогательных списков `features` `F1`, `F2` ... `Fn`."
      ],
      "id": "a4e4d6ab"
    },
    {
      "cell_type": "markdown",
      "metadata": {
        "id": "e4deee3f"
      },
      "source": [
        "#### Задание: написать функцию, которая получает на вход функцию метрики `score_func`, основной список `targets`, группу вспомогательных списков`options` `F1`, `F2` ... `Fn` и возвращает индекс выбранного вспомогательного списка и оптимальное значение \"делителя\":"
      ],
      "id": "e4deee3f"
    },
    {
      "cell_type": "code",
      "execution_count": null,
      "metadata": {
        "id": "2b262998"
      },
      "outputs": [],
      "source": [
        "def find_best_split_value(score_func: Callable, targets: Iterable, options: List[Iterable]) -> Tuple[Iterable, Union[int, float]]:\n",
        "    \"\"\"\n",
        "    Используя локальную функцию find_best_split_value(), находит среди предложенных вспомогательных последовательностей.\n",
        "    Возвращает индекс данной последовательности и оптимальный делитель.\n",
        "    \"\"\"\n",
        "\n",
        "    def find_best_split_value(score_func: Callable, targets: Iterable, features: Iterable) ->  Tuple[Iterable, Union[int, float]]:\n",
        "        \"\"\"\n",
        "        Возвращает оптимальный делитель и скор по указанной метрике для входящей пары последовательностей\n",
        "        \"\"\"\n",
        "\n",
        "        best_score = float(\"inf\")\n",
        "\n",
        "\n",
        "        for split_value in set(features):\n",
        "\n",
        "            cur_split = split_target_by_feature(targets, features, split_value)\n",
        "            cur_score = weighted_metric_score(score_func, cur_split[0], cur_split[1]) \n",
        "            \n",
        "            if cur_score < best_score:\n",
        "                best_score = cur_score\n",
        "                cur_splitter = split_value\n",
        "        \n",
        "        return cur_splitter, best_score\n",
        "\n",
        "    best_score = float(\"inf\")\n",
        "\n",
        "    for cur_index, features in enumerate(options):\n",
        "        \n",
        "        cur_splitter, cur_best_score = find_best_split_value(score_func, targets, features)\n",
        "        \n",
        "        if cur_best_score < best_score:\n",
        "            best_score = cur_best_score\n",
        "            index = cur_index\n",
        "            splitter = cur_splitter\n",
        "\n",
        "    return index, splitter"
      ],
      "id": "2b262998"
    },
    {
      "cell_type": "code",
      "source": [
        "find_best_split_value(entropy_score, [1,1,2,2,1,1,2,1,3,1,3,4,1], [[3,1,9,9,1,5,2,1,7,1,3,4,9]])"
      ],
      "metadata": {
        "colab": {
          "base_uri": "https://localhost:8080/"
        },
        "id": "VUwTh7Zb1PgM",
        "outputId": "7f9551df-fec9-4704-c5e7-4e5f66b8f350"
      },
      "id": "VUwTh7Zb1PgM",
      "execution_count": null,
      "outputs": [
        {
          "output_type": "execute_result",
          "data": {
            "text/plain": [
              "(0, 1)"
            ]
          },
          "metadata": {},
          "execution_count": 55
        }
      ]
    },
    {
      "cell_type": "markdown",
      "metadata": {
        "id": "b747e383"
      },
      "source": [
        "---"
      ],
      "id": "b747e383"
    },
    {
      "cell_type": "markdown",
      "metadata": {
        "id": "d3e71841"
      },
      "source": [
        "# <center>Классы</center>"
      ],
      "id": "d3e71841"
    },
    {
      "cell_type": "markdown",
      "metadata": {
        "id": "64b35056"
      },
      "source": [
        "# 4. Узел (Node)"
      ],
      "id": "64b35056"
    },
    {
      "cell_type": "markdown",
      "metadata": {
        "id": "3be71ad2"
      },
      "source": [
        "#### Задание: напишите класс `Node`\n",
        "  \n",
        "Он должен иметь следующие атрибуты:\n",
        "- **id**       : int - **уникальный** номер для каждого экземпляра этого класса\n",
        "- **values**   : Iterable - значения, хранимые в данном узле\n",
        "- **parent**   : Optional `Node`- \"родительский\" узел, из которого был создан данный экземпляр (по умолчанию = None)\n",
        "- **children** : Optional List `[Node]` - узлы, образованные из данного экземпляра (по умолчанию = None)  \n",
        "  \n",
        "Также он должен обладать следующими методами:\n",
        "- **is_root** -> bool : проверяет, является ли данный узел \"корневым\" (т.е. имеется у него \"родитель\" или нет)\n",
        "- **is_leaf** -> bool : проверяет, является ли данный узел терминальным (т.е. имеется у него \"дети\" или нет)"
      ],
      "id": "3be71ad2"
    },
    {
      "cell_type": "code",
      "execution_count": null,
      "metadata": {
        "id": "e4165faf"
      },
      "outputs": [],
      "source": [
        "class Node:\n",
        "\n",
        "    COUNTER = 0\n",
        "\n",
        "    def __init__(self, values=0, parent=None, children=None):\n",
        "\n",
        "        self.id = Node.COUNTER\n",
        "        self.values = values\n",
        "        self.parent = parent\n",
        "        self.children = children\n",
        "\n",
        "        Node.COUNTER += 1\n",
        "    \n",
        "    def is_root(self):\n",
        "        return not(bool(self.parent))\n",
        "    \n",
        "    def is_leaf(self):\n",
        "        return not(bool(self.children))"
      ],
      "id": "e4165faf"
    },
    {
      "cell_type": "code",
      "source": [
        "A = Node(1)"
      ],
      "metadata": {
        "id": "8xo96GCZ3ed5"
      },
      "id": "8xo96GCZ3ed5",
      "execution_count": null,
      "outputs": []
    },
    {
      "cell_type": "code",
      "source": [
        "B = Node(2, A)"
      ],
      "metadata": {
        "id": "SHP11TsK3ngE"
      },
      "id": "SHP11TsK3ngE",
      "execution_count": null,
      "outputs": []
    },
    {
      "cell_type": "code",
      "source": [
        "A.children = B"
      ],
      "metadata": {
        "id": "dL0PRCiq3rr5"
      },
      "id": "dL0PRCiq3rr5",
      "execution_count": null,
      "outputs": []
    },
    {
      "cell_type": "code",
      "source": [
        "A.id, B.id"
      ],
      "metadata": {
        "colab": {
          "base_uri": "https://localhost:8080/"
        },
        "id": "UKzOtIxP3unn",
        "outputId": "18a17957-bfc3-40b5-b2b9-7ddc8a06f5c6"
      },
      "id": "UKzOtIxP3unn",
      "execution_count": null,
      "outputs": [
        {
          "output_type": "execute_result",
          "data": {
            "text/plain": [
              "(0, 1)"
            ]
          },
          "metadata": {},
          "execution_count": 60
        }
      ]
    },
    {
      "cell_type": "code",
      "source": [
        "A.is_root(), A.is_leaf()"
      ],
      "metadata": {
        "colab": {
          "base_uri": "https://localhost:8080/"
        },
        "id": "I6tSscd33xlR",
        "outputId": "ab88c9ab-1e68-4dbc-c705-b5d38733e94a"
      },
      "id": "I6tSscd33xlR",
      "execution_count": null,
      "outputs": [
        {
          "output_type": "execute_result",
          "data": {
            "text/plain": [
              "(True, False)"
            ]
          },
          "metadata": {},
          "execution_count": 61
        }
      ]
    },
    {
      "cell_type": "code",
      "source": [
        "B.is_root(), B.is_leaf()"
      ],
      "metadata": {
        "colab": {
          "base_uri": "https://localhost:8080/"
        },
        "id": "Dz0jc0CB35Va",
        "outputId": "4fab3c1d-4a2f-4b11-ad8b-eafc7d10a33d"
      },
      "id": "Dz0jc0CB35Va",
      "execution_count": null,
      "outputs": [
        {
          "output_type": "execute_result",
          "data": {
            "text/plain": [
              "(False, True)"
            ]
          },
          "metadata": {},
          "execution_count": 62
        }
      ]
    },
    {
      "cell_type": "markdown",
      "metadata": {
        "id": "3f3197ad"
      },
      "source": [
        "---"
      ],
      "id": "3f3197ad"
    },
    {
      "cell_type": "markdown",
      "metadata": {
        "id": "2c8d7245"
      },
      "source": [
        "# 5. Условие (Condition) и Группа условий (Conditions Group)"
      ],
      "id": "2c8d7245"
    },
    {
      "cell_type": "markdown",
      "metadata": {
        "id": "a47cc469"
      },
      "source": [
        "#### Задание: напишите классы `Condition` и `ConditionsGroup`\n",
        "\n",
        "**Condition** представляет собой описание следующего правила: `признак Х` - `меньше или равно | больше` - `значение`  \n",
        "  \n",
        "Таким образом, этот класс должен обладать соответствующими атрибутами:\n",
        "- **feature** : str|int\n",
        "- **greater** : bool\n",
        "- **value**   : int|float\n",
        "\n",
        "**ConditionsGroup** должен сохранять список разных условий и иметь атрибут **conditions**"
      ],
      "id": "a47cc469"
    },
    {
      "cell_type": "code",
      "execution_count": null,
      "metadata": {
        "id": "b2f07a8f"
      },
      "outputs": [],
      "source": [
        "class Condition:\n",
        "    ...\n",
        "\n",
        "class ConditionsGroup:\n",
        "    ..."
      ],
      "id": "b2f07a8f"
    },
    {
      "cell_type": "markdown",
      "metadata": {
        "id": "d24da80b"
      },
      "source": [
        "---"
      ],
      "id": "d24da80b"
    },
    {
      "cell_type": "markdown",
      "metadata": {
        "id": "db2b35eb"
      },
      "source": [
        "<div class=\"alert alert-info\">\n",
        "    <center><strong>Задание на 10 баллов</strong></center>\n",
        "</div>"
      ],
      "id": "db2b35eb"
    },
    {
      "cell_type": "markdown",
      "metadata": {
        "id": "c11fac06"
      },
      "source": [
        "Реализуйте операцию объединения экземпляров классов **Condition** и **ConditionsGroup** следующим образом:\n",
        "- Если объединяются два экземпляра класса **Condition** и у обоих одинаковые атрибуты `feature` и `greater`, то объединение должно возвращать новый экземпляр **Condition** с тем значением атрибута `value`, который соответсвует логике"
      ],
      "id": "c11fac06"
    },
    {
      "cell_type": "code",
      "execution_count": null,
      "metadata": {
        "id": "255e7503",
        "colab": {
          "base_uri": "https://localhost:8080/",
          "height": 130
        },
        "outputId": "0aac458b-1fa3-46e3-93ba-adfac36f15bb"
      },
      "outputs": [
        {
          "output_type": "error",
          "ename": "SyntaxError",
          "evalue": "ignored",
          "traceback": [
            "\u001b[0;36m  File \u001b[0;32m\"<ipython-input-64-2f73689cea4f>\"\u001b[0;36m, line \u001b[0;32m4\u001b[0m\n\u001b[0;31m    c1 + c2 -> Condition(feature=\"рост\", greater=False, value=160)\u001b[0m\n\u001b[0m            ^\u001b[0m\n\u001b[0;31mSyntaxError\u001b[0m\u001b[0;31m:\u001b[0m invalid syntax\n"
          ]
        }
      ],
      "source": [
        "c1 = Condition(feature=\"рост\", greater=False, value=180)\n",
        "c2 = Condition(feature=\"рост\", greater=False, value=160)\n",
        "\n",
        "c1 + c2 -> Condition(feature=\"рост\", greater=False, value=160)"
      ],
      "id": "255e7503"
    },
    {
      "cell_type": "markdown",
      "metadata": {
        "id": "2723174e"
      },
      "source": [
        "- В любом другом случае должен возвращаться новый экземпляр **ConditionsGroup**, и, если при этом между элементами этого экземпляра возможно произвести объединение первого типа - то это нужно сделать (таким образом, не будет нескольких элементов с одинаковыми `feature` и `greater`)"
      ],
      "id": "2723174e"
    },
    {
      "cell_type": "code",
      "execution_count": null,
      "metadata": {
        "id": "0e4cf646"
      },
      "outputs": [],
      "source": [
        "c1 = Condition(feature=\"рост\", greater=False, value=180)\n",
        "c2 = Condition(feature=\"рост\", greater=True, value=160)\n",
        "\n",
        "cg_1 = c1 + c2\n",
        "cg_1 -> ConditionsGroup(Condition(feature=\"рост\", greater=False, value=180),\n",
        "                        Condition(feature=\"рост\", greater=True, value=160))"
      ],
      "id": "0e4cf646"
    },
    {
      "cell_type": "markdown",
      "metadata": {
        "id": "ecc7f436"
      },
      "source": [
        "---"
      ],
      "id": "ecc7f436"
    },
    {
      "cell_type": "markdown",
      "metadata": {
        "id": "eaff3cde"
      },
      "source": [
        "<center><h1>Удачи!</h1></center>"
      ],
      "id": "eaff3cde"
    }
  ],
  "metadata": {
    "colab": {
      "provenance": []
    },
    "kernelspec": {
      "display_name": "Python 3 (ipykernel)",
      "language": "python",
      "name": "python3"
    },
    "language_info": {
      "codemirror_mode": {
        "name": "ipython",
        "version": 3
      },
      "file_extension": ".py",
      "mimetype": "text/x-python",
      "name": "python",
      "nbconvert_exporter": "python",
      "pygments_lexer": "ipython3",
      "version": "3.9.15"
    }
  },
  "nbformat": 4,
  "nbformat_minor": 5
}